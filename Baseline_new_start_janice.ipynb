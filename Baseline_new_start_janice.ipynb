{
 "cells": [
  {
   "cell_type": "markdown",
   "metadata": {},
   "source": [
    "# Turtle Rescue Forecast Challenge\n"
   ]
  },
  {
   "cell_type": "markdown",
   "metadata": {},
   "source": [
    "* Link:\n",
    "[Turtle Rescue Forecast Challenge](https://zindi.africa/competitions/turtle-rescue-forecast-challenge/data)"
   ]
  },
  {
   "cell_type": "markdown",
   "metadata": {},
   "source": [
    "* Objective: The objective of this challenge is to forecast the number of turtles caught per week per capture site. This will help Local Ocean plan their staff schedules and budget."
   ]
  },
  {
   "cell_type": "markdown",
   "metadata": {},
   "source": [
    "| Variable             | Description                                                                                                                                               |\n",
    "|----------------------|-----------------------------------------------------------------------------------------------------------------------------------------------------------|\n",
    "| Rescue_ID            | It’s an individual bycatch incidence identity number. The numbers are consecutive, for each year e.g. 2018_RE_0732 means rescue number 732 in year 2018 | \n",
    "| Date_TimeCaught      | Date the turtle is captured e.g. 06/01/ |2018                                                                                                                |\n",
    "| Researcher           | Name of bycatch officer(s) involved with specific rescue                                                                                                   |\n",
    "| Capture Site         | Area where turtle was captured, as reported by the fisher.                                                                                                 |\n",
    "| Foraging Ground      | General area of ocean area where turtle was captured. The assumption is that the turtle was foraging where it was captured.                               |\n",
    "| Capture Method       | Fishing gear or method used by fishers to capture the turtle                                                                                               |\n",
    "| Fisher               | Name of the fisher who captured the turtle                                                                                                                 |\n",
    "| Landing_Site         | Section of beach where turtle is landed.                                                                                                                  |\n",
    "| Species              | Species of turtle (e.g. green turtle, hawksbill, loggerhead etc.)                                                                                          |\n",
    "| Tag_1                | Individual / unique number used to identify a turtle. Each turtle that is captured is tagged.                                                            |\n",
    "| Tag_2                | Second tag added to large turtles. Turtles with two tags: tag 1 is an odd number e.g. KEL0169 and tag 2 is even and consequent e.g. KEL0170                |\n",
    "| Lost_Tags            | Replaced tags. If a turtle has outgrown its tag, the tag is removed and replaced with a bigger one, with a different number                              |\n",
    "| T_Number             | It a number given to a turtle that has been taken to the rehabilitation facility (TRC) for treatment.                                                    |\n",
    "| CCL_cm               | Central Carapace Length (Biometric measurement). Measured in centimetres                                                                                  |\n",
    "| CCW_cm               | Central Carapace Width (Biometric measurement). Measured in centimetres                                                                                    |\n",
    "| Weight_Kg            | (Biometric measurement). Measured in Kgs                                                                                                                   |\n",
    "| Sex                  | Gender of the turtle.                                                                                                                                     |\n",
    "| Turtle Characteristics | Description of turtles (mostly unusual occurrences e.g. disease, injury, parasites etc. Usually as short textual description                               |\n",
    "| Status               | Indicates whether the turtle is released or admitted to TRC                                                                                                |\n",
    "| Release Site         | Site where the turtle is released                                                                                                                          |\n",
    "| Date_Release         | Date turtle is released                                                                                                                                    |\n",
    "| Release_Admiss_Notes | Additional information about release                                                                                                                      |\n",
    "| SpecialRemarks       | Additional info (General) about turtle                                                                                                                     |\n"
   ]
  },
  {
   "cell_type": "markdown",
   "metadata": {},
   "source": [
    "## Set-up and Import"
   ]
  },
  {
   "cell_type": "markdown",
   "metadata": {},
   "source": [
    "Terminal: \n",
    "'make setup'"
   ]
  },
  {
   "cell_type": "code",
   "execution_count": 69,
   "metadata": {},
   "outputs": [],
   "source": [
    "#!pip install ydata_profiling\n",
    "#!pip install missingno"
   ]
  },
  {
   "cell_type": "code",
   "execution_count": 70,
   "metadata": {},
   "outputs": [],
   "source": [
    "#!pip freeze > requirements.txt"
   ]
  },
  {
   "cell_type": "code",
   "execution_count": 71,
   "metadata": {},
   "outputs": [],
   "source": [
    "import pandas as pd\n",
    "import numpy as np\n",
    "import matplotlib.pyplot as plt\n",
    "import seaborn as sns\n",
    "import warnings\n",
    "warnings.filterwarnings('ignore')\n",
    "\n",
    "from ydata_profiling import ProfileReport\n",
    "\n",
    "import missingno as msno\n",
    "\n",
    "\n"
   ]
  },
  {
   "cell_type": "code",
   "execution_count": 72,
   "metadata": {},
   "outputs": [],
   "source": [
    "#! pip install ydata-profiling --upgrade"
   ]
  },
  {
   "cell_type": "markdown",
   "metadata": {},
   "source": [
    "## Table 1: capturesite_category"
   ]
  },
  {
   "cell_type": "code",
   "execution_count": 73,
   "metadata": {},
   "outputs": [
    {
     "data": {
      "text/html": [
       "<div>\n",
       "<style scoped>\n",
       "    .dataframe tbody tr th:only-of-type {\n",
       "        vertical-align: middle;\n",
       "    }\n",
       "\n",
       "    .dataframe tbody tr th {\n",
       "        vertical-align: top;\n",
       "    }\n",
       "\n",
       "    .dataframe thead th {\n",
       "        text-align: right;\n",
       "    }\n",
       "</style>\n",
       "<table border=\"1\" class=\"dataframe\">\n",
       "  <thead>\n",
       "    <tr style=\"text-align: right;\">\n",
       "      <th></th>\n",
       "      <th>CaptureSite</th>\n",
       "      <th>CaptureSiteCategory</th>\n",
       "      <th>Type</th>\n",
       "    </tr>\n",
       "  </thead>\n",
       "  <tbody>\n",
       "    <tr>\n",
       "      <th>0</th>\n",
       "      <td>CaptureSite_0</td>\n",
       "      <td>CaptureSiteCategory_2</td>\n",
       "      <td>Type_1</td>\n",
       "    </tr>\n",
       "    <tr>\n",
       "      <th>1</th>\n",
       "      <td>CaptureSite_1</td>\n",
       "      <td>CaptureSiteCategory_2</td>\n",
       "      <td>Type_1</td>\n",
       "    </tr>\n",
       "    <tr>\n",
       "      <th>2</th>\n",
       "      <td>CaptureSite_10</td>\n",
       "      <td>CaptureSiteCategory_2</td>\n",
       "      <td>Type_1</td>\n",
       "    </tr>\n",
       "    <tr>\n",
       "      <th>3</th>\n",
       "      <td>CaptureSite_11</td>\n",
       "      <td>CaptureSiteCategory_0</td>\n",
       "      <td>Type_0</td>\n",
       "    </tr>\n",
       "    <tr>\n",
       "      <th>4</th>\n",
       "      <td>CaptureSite_12</td>\n",
       "      <td>CaptureSiteCategory_2</td>\n",
       "      <td>Type_1</td>\n",
       "    </tr>\n",
       "  </tbody>\n",
       "</table>\n",
       "</div>"
      ],
      "text/plain": [
       "      CaptureSite    CaptureSiteCategory    Type\n",
       "0   CaptureSite_0  CaptureSiteCategory_2  Type_1\n",
       "1   CaptureSite_1  CaptureSiteCategory_2  Type_1\n",
       "2  CaptureSite_10  CaptureSiteCategory_2  Type_1\n",
       "3  CaptureSite_11  CaptureSiteCategory_0  Type_0\n",
       "4  CaptureSite_12  CaptureSiteCategory_2  Type_1"
      ]
     },
     "execution_count": 73,
     "metadata": {},
     "output_type": "execute_result"
    }
   ],
   "source": [
    "# Turtles dataset - CaptureSite_category.csv\n",
    "df_capturesite_category = pd.read_csv('./data/CaptureSite_category.csv')\n",
    "df_capturesite_category.head()"
   ]
  },
  {
   "cell_type": "code",
   "execution_count": 74,
   "metadata": {},
   "outputs": [
    {
     "data": {
      "text/plain": [
       "(29, 3)"
      ]
     },
     "execution_count": 74,
     "metadata": {},
     "output_type": "execute_result"
    }
   ],
   "source": [
    "df_capturesite_category.shape"
   ]
  },
  {
   "cell_type": "code",
   "execution_count": 75,
   "metadata": {},
   "outputs": [
    {
     "data": {
      "text/plain": [
       "array(['CaptureSite_0', 'CaptureSite_1', 'CaptureSite_10',\n",
       "       'CaptureSite_11', 'CaptureSite_12', 'CaptureSite_13',\n",
       "       'CaptureSite_14', 'CaptureSite_15', 'CaptureSite_16',\n",
       "       'CaptureSite_17', 'CaptureSite_18', 'CaptureSite_19',\n",
       "       'CaptureSite_2', 'CaptureSite_20', 'CaptureSite_21',\n",
       "       'CaptureSite_22', 'CaptureSite_23', 'CaptureSite_24',\n",
       "       'CaptureSite_25', 'CaptureSite_26', 'CaptureSite_27',\n",
       "       'CaptureSite_28', 'CaptureSite_3', 'CaptureSite_4',\n",
       "       'CaptureSite_5', 'CaptureSite_6', 'CaptureSite_7', 'CaptureSite_8',\n",
       "       'CaptureSite_9'], dtype=object)"
      ]
     },
     "execution_count": 75,
     "metadata": {},
     "output_type": "execute_result"
    }
   ],
   "source": [
    "# Different categories of CaptureSite\n",
    "df_capturesite_category['CaptureSite'].unique()\n"
   ]
  },
  {
   "cell_type": "code",
   "execution_count": 76,
   "metadata": {},
   "outputs": [
    {
     "name": "stdout",
     "output_type": "stream",
     "text": [
      "Classification of CaptureSite categories:  29\n"
     ]
    }
   ],
   "source": [
    "print('Classification of CaptureSite categories: ', len(df_capturesite_category['CaptureSite'].unique()))\n"
   ]
  },
  {
   "cell_type": "code",
   "execution_count": 77,
   "metadata": {},
   "outputs": [
    {
     "name": "stdout",
     "output_type": "stream",
     "text": [
      "<class 'pandas.core.frame.DataFrame'>\n",
      "RangeIndex: 29 entries, 0 to 28\n",
      "Data columns (total 3 columns):\n",
      " #   Column               Non-Null Count  Dtype \n",
      "---  ------               --------------  ----- \n",
      " 0   CaptureSite          29 non-null     object\n",
      " 1   CaptureSiteCategory  29 non-null     object\n",
      " 2   Type                 29 non-null     object\n",
      "dtypes: object(3)\n",
      "memory usage: 828.0+ bytes\n"
     ]
    }
   ],
   "source": [
    "df_capturesite_category.info()"
   ]
  },
  {
   "cell_type": "markdown",
   "metadata": {},
   "source": [
    "## Table 2: sample"
   ]
  },
  {
   "cell_type": "code",
   "execution_count": 78,
   "metadata": {},
   "outputs": [
    {
     "data": {
      "text/html": [
       "<div>\n",
       "<style scoped>\n",
       "    .dataframe tbody tr th:only-of-type {\n",
       "        vertical-align: middle;\n",
       "    }\n",
       "\n",
       "    .dataframe tbody tr th {\n",
       "        vertical-align: top;\n",
       "    }\n",
       "\n",
       "    .dataframe thead th {\n",
       "        text-align: right;\n",
       "    }\n",
       "</style>\n",
       "<table border=\"1\" class=\"dataframe\">\n",
       "  <thead>\n",
       "    <tr style=\"text-align: right;\">\n",
       "      <th></th>\n",
       "      <th>ID</th>\n",
       "      <th>Capture_Number</th>\n",
       "    </tr>\n",
       "  </thead>\n",
       "  <tbody>\n",
       "    <tr>\n",
       "      <th>0</th>\n",
       "      <td>CaptureSite_0_201901</td>\n",
       "      <td>7</td>\n",
       "    </tr>\n",
       "    <tr>\n",
       "      <th>1</th>\n",
       "      <td>CaptureSite_0_201902</td>\n",
       "      <td>1</td>\n",
       "    </tr>\n",
       "    <tr>\n",
       "      <th>2</th>\n",
       "      <td>CaptureSite_0_201903</td>\n",
       "      <td>5</td>\n",
       "    </tr>\n",
       "    <tr>\n",
       "      <th>3</th>\n",
       "      <td>CaptureSite_0_201904</td>\n",
       "      <td>2</td>\n",
       "    </tr>\n",
       "    <tr>\n",
       "      <th>4</th>\n",
       "      <td>CaptureSite_0_201905</td>\n",
       "      <td>3</td>\n",
       "    </tr>\n",
       "  </tbody>\n",
       "</table>\n",
       "</div>"
      ],
      "text/plain": [
       "                     ID  Capture_Number\n",
       "0  CaptureSite_0_201901               7\n",
       "1  CaptureSite_0_201902               1\n",
       "2  CaptureSite_0_201903               5\n",
       "3  CaptureSite_0_201904               2\n",
       "4  CaptureSite_0_201905               3"
      ]
     },
     "execution_count": 78,
     "metadata": {},
     "output_type": "execute_result"
    }
   ],
   "source": [
    "# Turtles dataset - Sample_sub.csv\n",
    "df_sample_sub = pd.read_csv('./data/Sample_sub.csv')\n",
    "df_sample_sub.head()"
   ]
  },
  {
   "cell_type": "code",
   "execution_count": 79,
   "metadata": {},
   "outputs": [
    {
     "name": "stdout",
     "output_type": "stream",
     "text": [
      "<class 'pandas.core.frame.DataFrame'>\n",
      "RangeIndex: 1276 entries, 0 to 1275\n",
      "Data columns (total 2 columns):\n",
      " #   Column          Non-Null Count  Dtype \n",
      "---  ------          --------------  ----- \n",
      " 0   ID              1276 non-null   object\n",
      " 1   Capture_Number  1276 non-null   int64 \n",
      "dtypes: int64(1), object(1)\n",
      "memory usage: 20.1+ KB\n"
     ]
    }
   ],
   "source": [
    "df_sample_sub.info()"
   ]
  },
  {
   "cell_type": "markdown",
   "metadata": {},
   "source": [
    "## Table 3: train"
   ]
  },
  {
   "cell_type": "code",
   "execution_count": 80,
   "metadata": {},
   "outputs": [
    {
     "data": {
      "text/html": [
       "<div>\n",
       "<style scoped>\n",
       "    .dataframe tbody tr th:only-of-type {\n",
       "        vertical-align: middle;\n",
       "    }\n",
       "\n",
       "    .dataframe tbody tr th {\n",
       "        vertical-align: top;\n",
       "    }\n",
       "\n",
       "    .dataframe thead th {\n",
       "        text-align: right;\n",
       "    }\n",
       "</style>\n",
       "<table border=\"1\" class=\"dataframe\">\n",
       "  <thead>\n",
       "    <tr style=\"text-align: right;\">\n",
       "      <th></th>\n",
       "      <th>Rescue_ID</th>\n",
       "      <th>Date_TimeCaught</th>\n",
       "      <th>Researcher</th>\n",
       "      <th>CaptureSite</th>\n",
       "      <th>ForagingGround</th>\n",
       "      <th>CaptureMethod</th>\n",
       "      <th>Fisher</th>\n",
       "      <th>LandingSite</th>\n",
       "      <th>Species</th>\n",
       "      <th>Tag_1</th>\n",
       "      <th>...</th>\n",
       "      <th>Lost_Tags</th>\n",
       "      <th>T_Number</th>\n",
       "      <th>CCL_cm</th>\n",
       "      <th>CCW_cm</th>\n",
       "      <th>Weight_Kg</th>\n",
       "      <th>Sex</th>\n",
       "      <th>TurtleCharacteristics</th>\n",
       "      <th>Status</th>\n",
       "      <th>ReleaseSite</th>\n",
       "      <th>Date_TimeRelease</th>\n",
       "    </tr>\n",
       "  </thead>\n",
       "  <tbody>\n",
       "    <tr>\n",
       "      <th>0</th>\n",
       "      <td>2000_RE_0060</td>\n",
       "      <td>2000-12-22</td>\n",
       "      <td>Researcher_25</td>\n",
       "      <td>CaptureSite_0</td>\n",
       "      <td>Ocean</td>\n",
       "      <td>Net</td>\n",
       "      <td>Fisher_1072</td>\n",
       "      <td>LandingSite_CaptureSiteCategory_2</td>\n",
       "      <td>Species_6</td>\n",
       "      <td>CC00147</td>\n",
       "      <td>...</td>\n",
       "      <td>NaN</td>\n",
       "      <td>NaN</td>\n",
       "      <td>64.70</td>\n",
       "      <td>62.60</td>\n",
       "      <td>NaN</td>\n",
       "      <td>Unknown</td>\n",
       "      <td>algae at rear of shell</td>\n",
       "      <td>Released</td>\n",
       "      <td>ReleaseSite_50</td>\n",
       "      <td>22/12/00</td>\n",
       "    </tr>\n",
       "    <tr>\n",
       "      <th>1</th>\n",
       "      <td>2001_RE_0187</td>\n",
       "      <td>2001-10-28</td>\n",
       "      <td>Researcher_6</td>\n",
       "      <td>CaptureSite_0</td>\n",
       "      <td>Ocean</td>\n",
       "      <td>Net</td>\n",
       "      <td>Fisher_520</td>\n",
       "      <td>LandingSite_CaptureSiteCategory_2</td>\n",
       "      <td>Species_6</td>\n",
       "      <td>W442</td>\n",
       "      <td>...</td>\n",
       "      <td>NaN</td>\n",
       "      <td>NaN</td>\n",
       "      <td>35.85</td>\n",
       "      <td>31.35</td>\n",
       "      <td>NaN</td>\n",
       "      <td>Unknown</td>\n",
       "      <td>multiple b's on front flippers&amp;  a lot of alga...</td>\n",
       "      <td>Released</td>\n",
       "      <td>ReleaseSite_62</td>\n",
       "      <td>28/10/01</td>\n",
       "    </tr>\n",
       "    <tr>\n",
       "      <th>2</th>\n",
       "      <td>2001_RE_0197</td>\n",
       "      <td>2001-11-01</td>\n",
       "      <td>Researcher_6</td>\n",
       "      <td>CaptureSite_0</td>\n",
       "      <td>Ocean</td>\n",
       "      <td>Net</td>\n",
       "      <td>Fisher_1669</td>\n",
       "      <td>LandingSite_CaptureSiteCategory_2</td>\n",
       "      <td>Species_5</td>\n",
       "      <td>KE0376</td>\n",
       "      <td>...</td>\n",
       "      <td>NaN</td>\n",
       "      <td>NaN</td>\n",
       "      <td>51.80</td>\n",
       "      <td>49.20</td>\n",
       "      <td>NaN</td>\n",
       "      <td>Unknown</td>\n",
       "      <td>clean</td>\n",
       "      <td>Released</td>\n",
       "      <td>ReleaseSite_50</td>\n",
       "      <td>01/11/01</td>\n",
       "    </tr>\n",
       "    <tr>\n",
       "      <th>3</th>\n",
       "      <td>2002_RE_0031</td>\n",
       "      <td>2002-03-11</td>\n",
       "      <td>Researcher_32</td>\n",
       "      <td>CaptureSite_0</td>\n",
       "      <td>Ocean</td>\n",
       "      <td>Net</td>\n",
       "      <td>Fisher_1798</td>\n",
       "      <td>LandingSite_CaptureSiteCategory_2</td>\n",
       "      <td>Species_6</td>\n",
       "      <td>CC00302</td>\n",
       "      <td>...</td>\n",
       "      <td>NaN</td>\n",
       "      <td>NaN</td>\n",
       "      <td>60.50</td>\n",
       "      <td>59.00</td>\n",
       "      <td>NaN</td>\n",
       "      <td>Unknown</td>\n",
       "      <td>1 b 3 CS+ calcerous algae at rear end of shell...</td>\n",
       "      <td>Released</td>\n",
       "      <td>ReleaseSite_50</td>\n",
       "      <td>11/03/02</td>\n",
       "    </tr>\n",
       "    <tr>\n",
       "      <th>4</th>\n",
       "      <td>2002_RE_0118</td>\n",
       "      <td>2002-08-08</td>\n",
       "      <td>Researcher_25</td>\n",
       "      <td>CaptureSite_0</td>\n",
       "      <td>Ocean</td>\n",
       "      <td>Beached</td>\n",
       "      <td>Fisher_1918</td>\n",
       "      <td>LandingSite_CaptureSiteCategory_2</td>\n",
       "      <td>Species_5</td>\n",
       "      <td>NotTagged_0113</td>\n",
       "      <td>...</td>\n",
       "      <td>NaN</td>\n",
       "      <td>NaN</td>\n",
       "      <td>34.70</td>\n",
       "      <td>33.00</td>\n",
       "      <td>NaN</td>\n",
       "      <td>Unknown</td>\n",
       "      <td>very lively+ right eye is hanging out + swolle...</td>\n",
       "      <td>Released</td>\n",
       "      <td>ReleaseSite_62</td>\n",
       "      <td>08/08/02</td>\n",
       "    </tr>\n",
       "  </tbody>\n",
       "</table>\n",
       "<p>5 rows × 21 columns</p>\n",
       "</div>"
      ],
      "text/plain": [
       "      Rescue_ID Date_TimeCaught     Researcher    CaptureSite ForagingGround   \n",
       "0  2000_RE_0060      2000-12-22  Researcher_25  CaptureSite_0          Ocean  \\\n",
       "1  2001_RE_0187      2001-10-28   Researcher_6  CaptureSite_0          Ocean   \n",
       "2  2001_RE_0197      2001-11-01   Researcher_6  CaptureSite_0          Ocean   \n",
       "3  2002_RE_0031      2002-03-11  Researcher_32  CaptureSite_0          Ocean   \n",
       "4  2002_RE_0118      2002-08-08  Researcher_25  CaptureSite_0          Ocean   \n",
       "\n",
       "  CaptureMethod       Fisher                        LandingSite    Species   \n",
       "0           Net  Fisher_1072  LandingSite_CaptureSiteCategory_2  Species_6  \\\n",
       "1           Net   Fisher_520  LandingSite_CaptureSiteCategory_2  Species_6   \n",
       "2           Net  Fisher_1669  LandingSite_CaptureSiteCategory_2  Species_5   \n",
       "3           Net  Fisher_1798  LandingSite_CaptureSiteCategory_2  Species_6   \n",
       "4       Beached  Fisher_1918  LandingSite_CaptureSiteCategory_2  Species_5   \n",
       "\n",
       "            Tag_1  ... Lost_Tags T_Number CCL_cm  CCW_cm  Weight_Kg      Sex   \n",
       "0         CC00147  ...       NaN      NaN  64.70   62.60        NaN  Unknown  \\\n",
       "1            W442  ...       NaN      NaN  35.85   31.35        NaN  Unknown   \n",
       "2          KE0376  ...       NaN      NaN  51.80   49.20        NaN  Unknown   \n",
       "3         CC00302  ...       NaN      NaN  60.50   59.00        NaN  Unknown   \n",
       "4  NotTagged_0113  ...       NaN      NaN  34.70   33.00        NaN  Unknown   \n",
       "\n",
       "                               TurtleCharacteristics    Status   \n",
       "0                             algae at rear of shell  Released  \\\n",
       "1  multiple b's on front flippers&  a lot of alga...  Released   \n",
       "2                                              clean  Released   \n",
       "3  1 b 3 CS+ calcerous algae at rear end of shell...  Released   \n",
       "4  very lively+ right eye is hanging out + swolle...  Released   \n",
       "\n",
       "      ReleaseSite Date_TimeRelease  \n",
       "0  ReleaseSite_50         22/12/00  \n",
       "1  ReleaseSite_62         28/10/01  \n",
       "2  ReleaseSite_50         01/11/01  \n",
       "3  ReleaseSite_50         11/03/02  \n",
       "4  ReleaseSite_62         08/08/02  \n",
       "\n",
       "[5 rows x 21 columns]"
      ]
     },
     "execution_count": 80,
     "metadata": {},
     "output_type": "execute_result"
    }
   ],
   "source": [
    "# Turtles dataset - train.csv\n",
    "df_train = pd.read_csv('./data/train.csv')\n",
    "df_train.head()"
   ]
  },
  {
   "cell_type": "code",
   "execution_count": 81,
   "metadata": {},
   "outputs": [
    {
     "data": {
      "text/html": [
       "<div>\n",
       "<style scoped>\n",
       "    .dataframe tbody tr th:only-of-type {\n",
       "        vertical-align: middle;\n",
       "    }\n",
       "\n",
       "    .dataframe tbody tr th {\n",
       "        vertical-align: top;\n",
       "    }\n",
       "\n",
       "    .dataframe thead th {\n",
       "        text-align: right;\n",
       "    }\n",
       "</style>\n",
       "<table border=\"1\" class=\"dataframe\">\n",
       "  <thead>\n",
       "    <tr style=\"text-align: right;\">\n",
       "      <th></th>\n",
       "      <th>Rescue_ID</th>\n",
       "      <th>Date_TimeCaught</th>\n",
       "      <th>Researcher</th>\n",
       "      <th>CaptureSite</th>\n",
       "      <th>ForagingGround</th>\n",
       "      <th>CaptureMethod</th>\n",
       "      <th>Fisher</th>\n",
       "      <th>LandingSite</th>\n",
       "      <th>Species</th>\n",
       "      <th>Tag_1</th>\n",
       "      <th>...</th>\n",
       "      <th>Lost_Tags</th>\n",
       "      <th>T_Number</th>\n",
       "      <th>CCL_cm</th>\n",
       "      <th>CCW_cm</th>\n",
       "      <th>Weight_Kg</th>\n",
       "      <th>Sex</th>\n",
       "      <th>TurtleCharacteristics</th>\n",
       "      <th>Status</th>\n",
       "      <th>ReleaseSite</th>\n",
       "      <th>Date_TimeRelease</th>\n",
       "    </tr>\n",
       "  </thead>\n",
       "  <tbody>\n",
       "    <tr>\n",
       "      <th>18057</th>\n",
       "      <td>2018_RE_1511</td>\n",
       "      <td>2018-12-18</td>\n",
       "      <td>Researcher_30</td>\n",
       "      <td>CaptureSite_9</td>\n",
       "      <td>Ocean</td>\n",
       "      <td>Net</td>\n",
       "      <td>Fisher_569</td>\n",
       "      <td>LandingSite_CaptureSiteCategory_1</td>\n",
       "      <td>Species_5</td>\n",
       "      <td>KES1828</td>\n",
       "      <td>...</td>\n",
       "      <td>NaN</td>\n",
       "      <td>NaN</td>\n",
       "      <td>57.13</td>\n",
       "      <td>50.57</td>\n",
       "      <td>21.09</td>\n",
       "      <td>Unknown</td>\n",
       "      <td>White calcareous algae on carapace</td>\n",
       "      <td>Released</td>\n",
       "      <td>ReleaseSite_68</td>\n",
       "      <td>18/12/18</td>\n",
       "    </tr>\n",
       "    <tr>\n",
       "      <th>18058</th>\n",
       "      <td>2018_RE_1514</td>\n",
       "      <td>2018-12-18</td>\n",
       "      <td>Researcher_30</td>\n",
       "      <td>CaptureSite_9</td>\n",
       "      <td>Ocean</td>\n",
       "      <td>Net</td>\n",
       "      <td>Fisher_125</td>\n",
       "      <td>LandingSite_CaptureSiteCategory_1</td>\n",
       "      <td>Species_6</td>\n",
       "      <td>KES0563</td>\n",
       "      <td>...</td>\n",
       "      <td>KES0416</td>\n",
       "      <td>NaN</td>\n",
       "      <td>42.07</td>\n",
       "      <td>38.37</td>\n",
       "      <td>9.02</td>\n",
       "      <td>Unknown</td>\n",
       "      <td>Calcareous + green algae on carapace\\nBarnacle...</td>\n",
       "      <td>Released</td>\n",
       "      <td>ReleaseSite_68</td>\n",
       "      <td>18/12/18</td>\n",
       "    </tr>\n",
       "    <tr>\n",
       "      <th>18059</th>\n",
       "      <td>2018_RE_1532</td>\n",
       "      <td>2018-12-24</td>\n",
       "      <td>Researcher_30</td>\n",
       "      <td>CaptureSite_9</td>\n",
       "      <td>Ocean</td>\n",
       "      <td>Net</td>\n",
       "      <td>Fisher_1343</td>\n",
       "      <td>LandingSite_CaptureSiteCategory_1</td>\n",
       "      <td>Species_5</td>\n",
       "      <td>KES1833</td>\n",
       "      <td>...</td>\n",
       "      <td>NaN</td>\n",
       "      <td>NaN</td>\n",
       "      <td>57.20</td>\n",
       "      <td>52.30</td>\n",
       "      <td>NaN</td>\n",
       "      <td>Unknown</td>\n",
       "      <td>Clean turtle</td>\n",
       "      <td>Released</td>\n",
       "      <td>ReleaseSite_68</td>\n",
       "      <td>24/12/18</td>\n",
       "    </tr>\n",
       "    <tr>\n",
       "      <th>18060</th>\n",
       "      <td>2018_RE_1533</td>\n",
       "      <td>2018-12-24</td>\n",
       "      <td>Researcher_30</td>\n",
       "      <td>CaptureSite_9</td>\n",
       "      <td>Ocean</td>\n",
       "      <td>Net</td>\n",
       "      <td>Fisher_1551</td>\n",
       "      <td>LandingSite_CaptureSiteCategory_1</td>\n",
       "      <td>Species_5</td>\n",
       "      <td>KES1831</td>\n",
       "      <td>...</td>\n",
       "      <td>NaN</td>\n",
       "      <td>NaN</td>\n",
       "      <td>51.90</td>\n",
       "      <td>48.50</td>\n",
       "      <td>NaN</td>\n",
       "      <td>Unknown</td>\n",
       "      <td>Green algae on carapace\\ntip of left supra mis...</td>\n",
       "      <td>Released</td>\n",
       "      <td>ReleaseSite_68</td>\n",
       "      <td>24/12/18</td>\n",
       "    </tr>\n",
       "    <tr>\n",
       "      <th>18061</th>\n",
       "      <td>2018_RE_1550</td>\n",
       "      <td>2018-12-28</td>\n",
       "      <td>Researcher_30</td>\n",
       "      <td>CaptureSite_9</td>\n",
       "      <td>Ocean</td>\n",
       "      <td>Net</td>\n",
       "      <td>Fisher_1551</td>\n",
       "      <td>LandingSite_CaptureSiteCategory_1</td>\n",
       "      <td>Species_6</td>\n",
       "      <td>KES1432</td>\n",
       "      <td>...</td>\n",
       "      <td>NaN</td>\n",
       "      <td>NaN</td>\n",
       "      <td>34.60</td>\n",
       "      <td>31.20</td>\n",
       "      <td>4.29</td>\n",
       "      <td>Unknown</td>\n",
       "      <td>Thick pink patches of calcareous algae on cara...</td>\n",
       "      <td>Released</td>\n",
       "      <td>ReleaseSite_37</td>\n",
       "      <td>28/12/18</td>\n",
       "    </tr>\n",
       "  </tbody>\n",
       "</table>\n",
       "<p>5 rows × 21 columns</p>\n",
       "</div>"
      ],
      "text/plain": [
       "          Rescue_ID Date_TimeCaught     Researcher    CaptureSite   \n",
       "18057  2018_RE_1511      2018-12-18  Researcher_30  CaptureSite_9  \\\n",
       "18058  2018_RE_1514      2018-12-18  Researcher_30  CaptureSite_9   \n",
       "18059  2018_RE_1532      2018-12-24  Researcher_30  CaptureSite_9   \n",
       "18060  2018_RE_1533      2018-12-24  Researcher_30  CaptureSite_9   \n",
       "18061  2018_RE_1550      2018-12-28  Researcher_30  CaptureSite_9   \n",
       "\n",
       "      ForagingGround CaptureMethod       Fisher   \n",
       "18057          Ocean           Net   Fisher_569  \\\n",
       "18058          Ocean           Net   Fisher_125   \n",
       "18059          Ocean           Net  Fisher_1343   \n",
       "18060          Ocean           Net  Fisher_1551   \n",
       "18061          Ocean           Net  Fisher_1551   \n",
       "\n",
       "                             LandingSite    Species    Tag_1  ... Lost_Tags   \n",
       "18057  LandingSite_CaptureSiteCategory_1  Species_5  KES1828  ...       NaN  \\\n",
       "18058  LandingSite_CaptureSiteCategory_1  Species_6  KES0563  ...   KES0416   \n",
       "18059  LandingSite_CaptureSiteCategory_1  Species_5  KES1833  ...       NaN   \n",
       "18060  LandingSite_CaptureSiteCategory_1  Species_5  KES1831  ...       NaN   \n",
       "18061  LandingSite_CaptureSiteCategory_1  Species_6  KES1432  ...       NaN   \n",
       "\n",
       "      T_Number CCL_cm  CCW_cm  Weight_Kg      Sex   \n",
       "18057      NaN  57.13   50.57      21.09  Unknown  \\\n",
       "18058      NaN  42.07   38.37       9.02  Unknown   \n",
       "18059      NaN  57.20   52.30        NaN  Unknown   \n",
       "18060      NaN  51.90   48.50        NaN  Unknown   \n",
       "18061      NaN  34.60   31.20       4.29  Unknown   \n",
       "\n",
       "                                   TurtleCharacteristics    Status   \n",
       "18057                 White calcareous algae on carapace  Released  \\\n",
       "18058  Calcareous + green algae on carapace\\nBarnacle...  Released   \n",
       "18059                                       Clean turtle  Released   \n",
       "18060  Green algae on carapace\\ntip of left supra mis...  Released   \n",
       "18061  Thick pink patches of calcareous algae on cara...  Released   \n",
       "\n",
       "          ReleaseSite Date_TimeRelease  \n",
       "18057  ReleaseSite_68         18/12/18  \n",
       "18058  ReleaseSite_68         18/12/18  \n",
       "18059  ReleaseSite_68         24/12/18  \n",
       "18060  ReleaseSite_68         24/12/18  \n",
       "18061  ReleaseSite_37         28/12/18  \n",
       "\n",
       "[5 rows x 21 columns]"
      ]
     },
     "execution_count": 81,
     "metadata": {},
     "output_type": "execute_result"
    }
   ],
   "source": [
    "df_train.tail()"
   ]
  },
  {
   "cell_type": "code",
   "execution_count": 82,
   "metadata": {},
   "outputs": [
    {
     "name": "stdout",
     "output_type": "stream",
     "text": [
      "<class 'pandas.core.frame.DataFrame'>\n",
      "RangeIndex: 18062 entries, 0 to 18061\n",
      "Data columns (total 21 columns):\n",
      " #   Column                 Non-Null Count  Dtype  \n",
      "---  ------                 --------------  -----  \n",
      " 0   Rescue_ID              18062 non-null  object \n",
      " 1   Date_TimeCaught        18062 non-null  object \n",
      " 2   Researcher             18062 non-null  object \n",
      " 3   CaptureSite            18062 non-null  object \n",
      " 4   ForagingGround         18062 non-null  object \n",
      " 5   CaptureMethod          18062 non-null  object \n",
      " 6   Fisher                 18062 non-null  object \n",
      " 7   LandingSite            18062 non-null  object \n",
      " 8   Species                18062 non-null  object \n",
      " 9   Tag_1                  17937 non-null  object \n",
      " 10  Tag_2                  4911 non-null   object \n",
      " 11  Lost_Tags              925 non-null    object \n",
      " 12  T_Number               38 non-null     object \n",
      " 13  CCL_cm                 18038 non-null  float64\n",
      " 14  CCW_cm                 18035 non-null  float64\n",
      " 15  Weight_Kg              12653 non-null  float64\n",
      " 16  Sex                    13732 non-null  object \n",
      " 17  TurtleCharacteristics  18010 non-null  object \n",
      " 18  Status                 14429 non-null  object \n",
      " 19  ReleaseSite            17987 non-null  object \n",
      " 20  Date_TimeRelease       11954 non-null  object \n",
      "dtypes: float64(3), object(18)\n",
      "memory usage: 2.9+ MB\n"
     ]
    }
   ],
   "source": [
    "df_train.info()"
   ]
  },
  {
   "cell_type": "markdown",
   "metadata": {},
   "source": [
    "## Preprocessing"
   ]
  },
  {
   "cell_type": "code",
   "execution_count": 83,
   "metadata": {},
   "outputs": [
    {
     "data": {
      "text/html": [
       "<div>\n",
       "<style scoped>\n",
       "    .dataframe tbody tr th:only-of-type {\n",
       "        vertical-align: middle;\n",
       "    }\n",
       "\n",
       "    .dataframe tbody tr th {\n",
       "        vertical-align: top;\n",
       "    }\n",
       "\n",
       "    .dataframe thead th {\n",
       "        text-align: right;\n",
       "    }\n",
       "</style>\n",
       "<table border=\"1\" class=\"dataframe\">\n",
       "  <thead>\n",
       "    <tr style=\"text-align: right;\">\n",
       "      <th></th>\n",
       "      <th>Rescue_ID</th>\n",
       "      <th>Date_TimeCaught</th>\n",
       "      <th>Researcher</th>\n",
       "      <th>CaptureSite</th>\n",
       "      <th>ForagingGround</th>\n",
       "      <th>CaptureMethod</th>\n",
       "      <th>Fisher</th>\n",
       "      <th>LandingSite</th>\n",
       "      <th>Species</th>\n",
       "      <th>Tag_1</th>\n",
       "      <th>...</th>\n",
       "      <th>CCL_cm</th>\n",
       "      <th>CCW_cm</th>\n",
       "      <th>Weight_Kg</th>\n",
       "      <th>Sex</th>\n",
       "      <th>TurtleCharacteristics</th>\n",
       "      <th>Status</th>\n",
       "      <th>ReleaseSite</th>\n",
       "      <th>Date_TimeRelease</th>\n",
       "      <th>CaptureSiteCategory</th>\n",
       "      <th>Type</th>\n",
       "    </tr>\n",
       "  </thead>\n",
       "  <tbody>\n",
       "    <tr>\n",
       "      <th>0</th>\n",
       "      <td>2000_RE_0060</td>\n",
       "      <td>2000-12-22</td>\n",
       "      <td>Researcher_25</td>\n",
       "      <td>CaptureSite_0</td>\n",
       "      <td>Ocean</td>\n",
       "      <td>Net</td>\n",
       "      <td>Fisher_1072</td>\n",
       "      <td>LandingSite_CaptureSiteCategory_2</td>\n",
       "      <td>Species_6</td>\n",
       "      <td>CC00147</td>\n",
       "      <td>...</td>\n",
       "      <td>64.70</td>\n",
       "      <td>62.60</td>\n",
       "      <td>NaN</td>\n",
       "      <td>Unknown</td>\n",
       "      <td>algae at rear of shell</td>\n",
       "      <td>Released</td>\n",
       "      <td>ReleaseSite_50</td>\n",
       "      <td>22/12/00</td>\n",
       "      <td>CaptureSiteCategory_2</td>\n",
       "      <td>Type_1</td>\n",
       "    </tr>\n",
       "    <tr>\n",
       "      <th>1</th>\n",
       "      <td>2001_RE_0187</td>\n",
       "      <td>2001-10-28</td>\n",
       "      <td>Researcher_6</td>\n",
       "      <td>CaptureSite_0</td>\n",
       "      <td>Ocean</td>\n",
       "      <td>Net</td>\n",
       "      <td>Fisher_520</td>\n",
       "      <td>LandingSite_CaptureSiteCategory_2</td>\n",
       "      <td>Species_6</td>\n",
       "      <td>W442</td>\n",
       "      <td>...</td>\n",
       "      <td>35.85</td>\n",
       "      <td>31.35</td>\n",
       "      <td>NaN</td>\n",
       "      <td>Unknown</td>\n",
       "      <td>multiple b's on front flippers&amp;  a lot of alga...</td>\n",
       "      <td>Released</td>\n",
       "      <td>ReleaseSite_62</td>\n",
       "      <td>28/10/01</td>\n",
       "      <td>CaptureSiteCategory_2</td>\n",
       "      <td>Type_1</td>\n",
       "    </tr>\n",
       "    <tr>\n",
       "      <th>2</th>\n",
       "      <td>2001_RE_0197</td>\n",
       "      <td>2001-11-01</td>\n",
       "      <td>Researcher_6</td>\n",
       "      <td>CaptureSite_0</td>\n",
       "      <td>Ocean</td>\n",
       "      <td>Net</td>\n",
       "      <td>Fisher_1669</td>\n",
       "      <td>LandingSite_CaptureSiteCategory_2</td>\n",
       "      <td>Species_5</td>\n",
       "      <td>KE0376</td>\n",
       "      <td>...</td>\n",
       "      <td>51.80</td>\n",
       "      <td>49.20</td>\n",
       "      <td>NaN</td>\n",
       "      <td>Unknown</td>\n",
       "      <td>clean</td>\n",
       "      <td>Released</td>\n",
       "      <td>ReleaseSite_50</td>\n",
       "      <td>01/11/01</td>\n",
       "      <td>CaptureSiteCategory_2</td>\n",
       "      <td>Type_1</td>\n",
       "    </tr>\n",
       "    <tr>\n",
       "      <th>3</th>\n",
       "      <td>2002_RE_0031</td>\n",
       "      <td>2002-03-11</td>\n",
       "      <td>Researcher_32</td>\n",
       "      <td>CaptureSite_0</td>\n",
       "      <td>Ocean</td>\n",
       "      <td>Net</td>\n",
       "      <td>Fisher_1798</td>\n",
       "      <td>LandingSite_CaptureSiteCategory_2</td>\n",
       "      <td>Species_6</td>\n",
       "      <td>CC00302</td>\n",
       "      <td>...</td>\n",
       "      <td>60.50</td>\n",
       "      <td>59.00</td>\n",
       "      <td>NaN</td>\n",
       "      <td>Unknown</td>\n",
       "      <td>1 b 3 CS+ calcerous algae at rear end of shell...</td>\n",
       "      <td>Released</td>\n",
       "      <td>ReleaseSite_50</td>\n",
       "      <td>11/03/02</td>\n",
       "      <td>CaptureSiteCategory_2</td>\n",
       "      <td>Type_1</td>\n",
       "    </tr>\n",
       "    <tr>\n",
       "      <th>4</th>\n",
       "      <td>2002_RE_0118</td>\n",
       "      <td>2002-08-08</td>\n",
       "      <td>Researcher_25</td>\n",
       "      <td>CaptureSite_0</td>\n",
       "      <td>Ocean</td>\n",
       "      <td>Beached</td>\n",
       "      <td>Fisher_1918</td>\n",
       "      <td>LandingSite_CaptureSiteCategory_2</td>\n",
       "      <td>Species_5</td>\n",
       "      <td>NotTagged_0113</td>\n",
       "      <td>...</td>\n",
       "      <td>34.70</td>\n",
       "      <td>33.00</td>\n",
       "      <td>NaN</td>\n",
       "      <td>Unknown</td>\n",
       "      <td>very lively+ right eye is hanging out + swolle...</td>\n",
       "      <td>Released</td>\n",
       "      <td>ReleaseSite_62</td>\n",
       "      <td>08/08/02</td>\n",
       "      <td>CaptureSiteCategory_2</td>\n",
       "      <td>Type_1</td>\n",
       "    </tr>\n",
       "  </tbody>\n",
       "</table>\n",
       "<p>5 rows × 23 columns</p>\n",
       "</div>"
      ],
      "text/plain": [
       "      Rescue_ID Date_TimeCaught     Researcher    CaptureSite ForagingGround   \n",
       "0  2000_RE_0060      2000-12-22  Researcher_25  CaptureSite_0          Ocean  \\\n",
       "1  2001_RE_0187      2001-10-28   Researcher_6  CaptureSite_0          Ocean   \n",
       "2  2001_RE_0197      2001-11-01   Researcher_6  CaptureSite_0          Ocean   \n",
       "3  2002_RE_0031      2002-03-11  Researcher_32  CaptureSite_0          Ocean   \n",
       "4  2002_RE_0118      2002-08-08  Researcher_25  CaptureSite_0          Ocean   \n",
       "\n",
       "  CaptureMethod       Fisher                        LandingSite    Species   \n",
       "0           Net  Fisher_1072  LandingSite_CaptureSiteCategory_2  Species_6  \\\n",
       "1           Net   Fisher_520  LandingSite_CaptureSiteCategory_2  Species_6   \n",
       "2           Net  Fisher_1669  LandingSite_CaptureSiteCategory_2  Species_5   \n",
       "3           Net  Fisher_1798  LandingSite_CaptureSiteCategory_2  Species_6   \n",
       "4       Beached  Fisher_1918  LandingSite_CaptureSiteCategory_2  Species_5   \n",
       "\n",
       "            Tag_1  ... CCL_cm CCW_cm Weight_Kg      Sex   \n",
       "0         CC00147  ...  64.70  62.60       NaN  Unknown  \\\n",
       "1            W442  ...  35.85  31.35       NaN  Unknown   \n",
       "2          KE0376  ...  51.80  49.20       NaN  Unknown   \n",
       "3         CC00302  ...  60.50  59.00       NaN  Unknown   \n",
       "4  NotTagged_0113  ...  34.70  33.00       NaN  Unknown   \n",
       "\n",
       "                               TurtleCharacteristics    Status   \n",
       "0                             algae at rear of shell  Released  \\\n",
       "1  multiple b's on front flippers&  a lot of alga...  Released   \n",
       "2                                              clean  Released   \n",
       "3  1 b 3 CS+ calcerous algae at rear end of shell...  Released   \n",
       "4  very lively+ right eye is hanging out + swolle...  Released   \n",
       "\n",
       "      ReleaseSite Date_TimeRelease    CaptureSiteCategory    Type  \n",
       "0  ReleaseSite_50         22/12/00  CaptureSiteCategory_2  Type_1  \n",
       "1  ReleaseSite_62         28/10/01  CaptureSiteCategory_2  Type_1  \n",
       "2  ReleaseSite_50         01/11/01  CaptureSiteCategory_2  Type_1  \n",
       "3  ReleaseSite_50         11/03/02  CaptureSiteCategory_2  Type_1  \n",
       "4  ReleaseSite_62         08/08/02  CaptureSiteCategory_2  Type_1  \n",
       "\n",
       "[5 rows x 23 columns]"
      ]
     },
     "execution_count": 83,
     "metadata": {},
     "output_type": "execute_result"
    }
   ],
   "source": [
    "# Merge table df_train and df_capturesite_categoryn on 'CaptureSite'\n",
    "\n",
    "df_train = pd.merge(df_train, df_capturesite_category, on='CaptureSite', how='left')\n",
    "df_train.head()"
   ]
  },
  {
   "cell_type": "code",
   "execution_count": 84,
   "metadata": {},
   "outputs": [
    {
     "data": {
      "text/plain": [
       "<Axes: >"
      ]
     },
     "execution_count": 84,
     "metadata": {},
     "output_type": "execute_result"
    },
    {
     "data": {
      "image/png": "[encoded data removed]",
      "text/plain": [
       "<Figure size 2500x1000 with 2 Axes>"
      ]
     },
     "metadata": {},
     "output_type": "display_data"
    }
   ],
   "source": [
    "msno.matrix(df_train)"
   ]
  },
  {
   "cell_type": "markdown",
   "metadata": {},
   "source": [
    "## Dropping columns with too many missing values: t_number, tag2, lost_tags"
   ]
  },
  {
   "cell_type": "code",
   "execution_count": 85,
   "metadata": {},
   "outputs": [
    {
     "data": {
      "text/html": [
       "<div>\n",
       "<style scoped>\n",
       "    .dataframe tbody tr th:only-of-type {\n",
       "        vertical-align: middle;\n",
       "    }\n",
       "\n",
       "    .dataframe tbody tr th {\n",
       "        vertical-align: top;\n",
       "    }\n",
       "\n",
       "    .dataframe thead th {\n",
       "        text-align: right;\n",
       "    }\n",
       "</style>\n",
       "<table border=\"1\" class=\"dataframe\">\n",
       "  <thead>\n",
       "    <tr style=\"text-align: right;\">\n",
       "      <th></th>\n",
       "      <th>Rescue_ID</th>\n",
       "      <th>Date_TimeCaught</th>\n",
       "      <th>Researcher</th>\n",
       "      <th>CaptureSite</th>\n",
       "      <th>ForagingGround</th>\n",
       "      <th>CaptureMethod</th>\n",
       "      <th>Fisher</th>\n",
       "      <th>LandingSite</th>\n",
       "      <th>Species</th>\n",
       "      <th>Tag_1</th>\n",
       "      <th>CCL_cm</th>\n",
       "      <th>CCW_cm</th>\n",
       "      <th>Weight_Kg</th>\n",
       "      <th>Sex</th>\n",
       "      <th>TurtleCharacteristics</th>\n",
       "      <th>Status</th>\n",
       "      <th>ReleaseSite</th>\n",
       "      <th>Date_TimeRelease</th>\n",
       "      <th>CaptureSiteCategory</th>\n",
       "      <th>Type</th>\n",
       "    </tr>\n",
       "  </thead>\n",
       "  <tbody>\n",
       "    <tr>\n",
       "      <th>0</th>\n",
       "      <td>2000_RE_0060</td>\n",
       "      <td>2000-12-22</td>\n",
       "      <td>Researcher_25</td>\n",
       "      <td>CaptureSite_0</td>\n",
       "      <td>Ocean</td>\n",
       "      <td>Net</td>\n",
       "      <td>Fisher_1072</td>\n",
       "      <td>LandingSite_CaptureSiteCategory_2</td>\n",
       "      <td>Species_6</td>\n",
       "      <td>CC00147</td>\n",
       "      <td>64.70</td>\n",
       "      <td>62.60</td>\n",
       "      <td>NaN</td>\n",
       "      <td>Unknown</td>\n",
       "      <td>algae at rear of shell</td>\n",
       "      <td>Released</td>\n",
       "      <td>ReleaseSite_50</td>\n",
       "      <td>22/12/00</td>\n",
       "      <td>CaptureSiteCategory_2</td>\n",
       "      <td>Type_1</td>\n",
       "    </tr>\n",
       "    <tr>\n",
       "      <th>1</th>\n",
       "      <td>2001_RE_0187</td>\n",
       "      <td>2001-10-28</td>\n",
       "      <td>Researcher_6</td>\n",
       "      <td>CaptureSite_0</td>\n",
       "      <td>Ocean</td>\n",
       "      <td>Net</td>\n",
       "      <td>Fisher_520</td>\n",
       "      <td>LandingSite_CaptureSiteCategory_2</td>\n",
       "      <td>Species_6</td>\n",
       "      <td>W442</td>\n",
       "      <td>35.85</td>\n",
       "      <td>31.35</td>\n",
       "      <td>NaN</td>\n",
       "      <td>Unknown</td>\n",
       "      <td>multiple b's on front flippers&amp;  a lot of alga...</td>\n",
       "      <td>Released</td>\n",
       "      <td>ReleaseSite_62</td>\n",
       "      <td>28/10/01</td>\n",
       "      <td>CaptureSiteCategory_2</td>\n",
       "      <td>Type_1</td>\n",
       "    </tr>\n",
       "    <tr>\n",
       "      <th>2</th>\n",
       "      <td>2001_RE_0197</td>\n",
       "      <td>2001-11-01</td>\n",
       "      <td>Researcher_6</td>\n",
       "      <td>CaptureSite_0</td>\n",
       "      <td>Ocean</td>\n",
       "      <td>Net</td>\n",
       "      <td>Fisher_1669</td>\n",
       "      <td>LandingSite_CaptureSiteCategory_2</td>\n",
       "      <td>Species_5</td>\n",
       "      <td>KE0376</td>\n",
       "      <td>51.80</td>\n",
       "      <td>49.20</td>\n",
       "      <td>NaN</td>\n",
       "      <td>Unknown</td>\n",
       "      <td>clean</td>\n",
       "      <td>Released</td>\n",
       "      <td>ReleaseSite_50</td>\n",
       "      <td>01/11/01</td>\n",
       "      <td>CaptureSiteCategory_2</td>\n",
       "      <td>Type_1</td>\n",
       "    </tr>\n",
       "    <tr>\n",
       "      <th>3</th>\n",
       "      <td>2002_RE_0031</td>\n",
       "      <td>2002-03-11</td>\n",
       "      <td>Researcher_32</td>\n",
       "      <td>CaptureSite_0</td>\n",
       "      <td>Ocean</td>\n",
       "      <td>Net</td>\n",
       "      <td>Fisher_1798</td>\n",
       "      <td>LandingSite_CaptureSiteCategory_2</td>\n",
       "      <td>Species_6</td>\n",
       "      <td>CC00302</td>\n",
       "      <td>60.50</td>\n",
       "      <td>59.00</td>\n",
       "      <td>NaN</td>\n",
       "      <td>Unknown</td>\n",
       "      <td>1 b 3 CS+ calcerous algae at rear end of shell...</td>\n",
       "      <td>Released</td>\n",
       "      <td>ReleaseSite_50</td>\n",
       "      <td>11/03/02</td>\n",
       "      <td>CaptureSiteCategory_2</td>\n",
       "      <td>Type_1</td>\n",
       "    </tr>\n",
       "    <tr>\n",
       "      <th>4</th>\n",
       "      <td>2002_RE_0118</td>\n",
       "      <td>2002-08-08</td>\n",
       "      <td>Researcher_25</td>\n",
       "      <td>CaptureSite_0</td>\n",
       "      <td>Ocean</td>\n",
       "      <td>Beached</td>\n",
       "      <td>Fisher_1918</td>\n",
       "      <td>LandingSite_CaptureSiteCategory_2</td>\n",
       "      <td>Species_5</td>\n",
       "      <td>NotTagged_0113</td>\n",
       "      <td>34.70</td>\n",
       "      <td>33.00</td>\n",
       "      <td>NaN</td>\n",
       "      <td>Unknown</td>\n",
       "      <td>very lively+ right eye is hanging out + swolle...</td>\n",
       "      <td>Released</td>\n",
       "      <td>ReleaseSite_62</td>\n",
       "      <td>08/08/02</td>\n",
       "      <td>CaptureSiteCategory_2</td>\n",
       "      <td>Type_1</td>\n",
       "    </tr>\n",
       "  </tbody>\n",
       "</table>\n",
       "</div>"
      ],
      "text/plain": [
       "      Rescue_ID Date_TimeCaught     Researcher    CaptureSite ForagingGround   \n",
       "0  2000_RE_0060      2000-12-22  Researcher_25  CaptureSite_0          Ocean  \\\n",
       "1  2001_RE_0187      2001-10-28   Researcher_6  CaptureSite_0          Ocean   \n",
       "2  2001_RE_0197      2001-11-01   Researcher_6  CaptureSite_0          Ocean   \n",
       "3  2002_RE_0031      2002-03-11  Researcher_32  CaptureSite_0          Ocean   \n",
       "4  2002_RE_0118      2002-08-08  Researcher_25  CaptureSite_0          Ocean   \n",
       "\n",
       "  CaptureMethod       Fisher                        LandingSite    Species   \n",
       "0           Net  Fisher_1072  LandingSite_CaptureSiteCategory_2  Species_6  \\\n",
       "1           Net   Fisher_520  LandingSite_CaptureSiteCategory_2  Species_6   \n",
       "2           Net  Fisher_1669  LandingSite_CaptureSiteCategory_2  Species_5   \n",
       "3           Net  Fisher_1798  LandingSite_CaptureSiteCategory_2  Species_6   \n",
       "4       Beached  Fisher_1918  LandingSite_CaptureSiteCategory_2  Species_5   \n",
       "\n",
       "            Tag_1  CCL_cm  CCW_cm  Weight_Kg      Sex   \n",
       "0         CC00147   64.70   62.60        NaN  Unknown  \\\n",
       "1            W442   35.85   31.35        NaN  Unknown   \n",
       "2          KE0376   51.80   49.20        NaN  Unknown   \n",
       "3         CC00302   60.50   59.00        NaN  Unknown   \n",
       "4  NotTagged_0113   34.70   33.00        NaN  Unknown   \n",
       "\n",
       "                               TurtleCharacteristics    Status   \n",
       "0                             algae at rear of shell  Released  \\\n",
       "1  multiple b's on front flippers&  a lot of alga...  Released   \n",
       "2                                              clean  Released   \n",
       "3  1 b 3 CS+ calcerous algae at rear end of shell...  Released   \n",
       "4  very lively+ right eye is hanging out + swolle...  Released   \n",
       "\n",
       "      ReleaseSite Date_TimeRelease    CaptureSiteCategory    Type  \n",
       "0  ReleaseSite_50         22/12/00  CaptureSiteCategory_2  Type_1  \n",
       "1  ReleaseSite_62         28/10/01  CaptureSiteCategory_2  Type_1  \n",
       "2  ReleaseSite_50         01/11/01  CaptureSiteCategory_2  Type_1  \n",
       "3  ReleaseSite_50         11/03/02  CaptureSiteCategory_2  Type_1  \n",
       "4  ReleaseSite_62         08/08/02  CaptureSiteCategory_2  Type_1  "
      ]
     },
     "execution_count": 85,
     "metadata": {},
     "output_type": "execute_result"
    }
   ],
   "source": [
    "# Drop columns 'CaptureSite' and 'CaptureSite_category'\n",
    "df_train = df_train.drop(['T_Number', 'Lost_Tags', 'Tag_2'], axis=1)\n",
    "df_train.head()"
   ]
  },
  {
   "cell_type": "markdown",
   "metadata": {},
   "source": [
    "## Transform date to datetime format"
   ]
  },
  {
   "cell_type": "code",
   "execution_count": 86,
   "metadata": {},
   "outputs": [
    {
     "data": {
      "text/html": [
       "<div>\n",
       "<style scoped>\n",
       "    .dataframe tbody tr th:only-of-type {\n",
       "        vertical-align: middle;\n",
       "    }\n",
       "\n",
       "    .dataframe tbody tr th {\n",
       "        vertical-align: top;\n",
       "    }\n",
       "\n",
       "    .dataframe thead th {\n",
       "        text-align: right;\n",
       "    }\n",
       "</style>\n",
       "<table border=\"1\" class=\"dataframe\">\n",
       "  <thead>\n",
       "    <tr style=\"text-align: right;\">\n",
       "      <th></th>\n",
       "      <th>Rescue_ID</th>\n",
       "      <th>Date_TimeCaught</th>\n",
       "      <th>Researcher</th>\n",
       "      <th>CaptureSite</th>\n",
       "      <th>ForagingGround</th>\n",
       "      <th>CaptureMethod</th>\n",
       "      <th>Fisher</th>\n",
       "      <th>LandingSite</th>\n",
       "      <th>Species</th>\n",
       "      <th>Tag_1</th>\n",
       "      <th>...</th>\n",
       "      <th>Sex</th>\n",
       "      <th>TurtleCharacteristics</th>\n",
       "      <th>Status</th>\n",
       "      <th>ReleaseSite</th>\n",
       "      <th>Date_TimeRelease</th>\n",
       "      <th>CaptureSiteCategory</th>\n",
       "      <th>Type</th>\n",
       "      <th>year</th>\n",
       "      <th>week_of_year</th>\n",
       "      <th>year_woy</th>\n",
       "    </tr>\n",
       "  </thead>\n",
       "  <tbody>\n",
       "    <tr>\n",
       "      <th>0</th>\n",
       "      <td>2000_RE_0060</td>\n",
       "      <td>2000-12-22</td>\n",
       "      <td>Researcher_25</td>\n",
       "      <td>CaptureSite_0</td>\n",
       "      <td>Ocean</td>\n",
       "      <td>Net</td>\n",
       "      <td>Fisher_1072</td>\n",
       "      <td>LandingSite_CaptureSiteCategory_2</td>\n",
       "      <td>Species_6</td>\n",
       "      <td>CC00147</td>\n",
       "      <td>...</td>\n",
       "      <td>Unknown</td>\n",
       "      <td>algae at rear of shell</td>\n",
       "      <td>Released</td>\n",
       "      <td>ReleaseSite_50</td>\n",
       "      <td>22/12/00</td>\n",
       "      <td>CaptureSiteCategory_2</td>\n",
       "      <td>Type_1</td>\n",
       "      <td>2000</td>\n",
       "      <td>51</td>\n",
       "      <td>200051</td>\n",
       "    </tr>\n",
       "    <tr>\n",
       "      <th>1</th>\n",
       "      <td>2001_RE_0187</td>\n",
       "      <td>2001-10-28</td>\n",
       "      <td>Researcher_6</td>\n",
       "      <td>CaptureSite_0</td>\n",
       "      <td>Ocean</td>\n",
       "      <td>Net</td>\n",
       "      <td>Fisher_520</td>\n",
       "      <td>LandingSite_CaptureSiteCategory_2</td>\n",
       "      <td>Species_6</td>\n",
       "      <td>W442</td>\n",
       "      <td>...</td>\n",
       "      <td>Unknown</td>\n",
       "      <td>multiple b's on front flippers&amp;  a lot of alga...</td>\n",
       "      <td>Released</td>\n",
       "      <td>ReleaseSite_62</td>\n",
       "      <td>28/10/01</td>\n",
       "      <td>CaptureSiteCategory_2</td>\n",
       "      <td>Type_1</td>\n",
       "      <td>2001</td>\n",
       "      <td>43</td>\n",
       "      <td>200143</td>\n",
       "    </tr>\n",
       "    <tr>\n",
       "      <th>2</th>\n",
       "      <td>2001_RE_0197</td>\n",
       "      <td>2001-11-01</td>\n",
       "      <td>Researcher_6</td>\n",
       "      <td>CaptureSite_0</td>\n",
       "      <td>Ocean</td>\n",
       "      <td>Net</td>\n",
       "      <td>Fisher_1669</td>\n",
       "      <td>LandingSite_CaptureSiteCategory_2</td>\n",
       "      <td>Species_5</td>\n",
       "      <td>KE0376</td>\n",
       "      <td>...</td>\n",
       "      <td>Unknown</td>\n",
       "      <td>clean</td>\n",
       "      <td>Released</td>\n",
       "      <td>ReleaseSite_50</td>\n",
       "      <td>01/11/01</td>\n",
       "      <td>CaptureSiteCategory_2</td>\n",
       "      <td>Type_1</td>\n",
       "      <td>2001</td>\n",
       "      <td>44</td>\n",
       "      <td>200144</td>\n",
       "    </tr>\n",
       "    <tr>\n",
       "      <th>3</th>\n",
       "      <td>2002_RE_0031</td>\n",
       "      <td>2002-03-11</td>\n",
       "      <td>Researcher_32</td>\n",
       "      <td>CaptureSite_0</td>\n",
       "      <td>Ocean</td>\n",
       "      <td>Net</td>\n",
       "      <td>Fisher_1798</td>\n",
       "      <td>LandingSite_CaptureSiteCategory_2</td>\n",
       "      <td>Species_6</td>\n",
       "      <td>CC00302</td>\n",
       "      <td>...</td>\n",
       "      <td>Unknown</td>\n",
       "      <td>1 b 3 CS+ calcerous algae at rear end of shell...</td>\n",
       "      <td>Released</td>\n",
       "      <td>ReleaseSite_50</td>\n",
       "      <td>11/03/02</td>\n",
       "      <td>CaptureSiteCategory_2</td>\n",
       "      <td>Type_1</td>\n",
       "      <td>2002</td>\n",
       "      <td>11</td>\n",
       "      <td>200211</td>\n",
       "    </tr>\n",
       "    <tr>\n",
       "      <th>4</th>\n",
       "      <td>2002_RE_0118</td>\n",
       "      <td>2002-08-08</td>\n",
       "      <td>Researcher_25</td>\n",
       "      <td>CaptureSite_0</td>\n",
       "      <td>Ocean</td>\n",
       "      <td>Beached</td>\n",
       "      <td>Fisher_1918</td>\n",
       "      <td>LandingSite_CaptureSiteCategory_2</td>\n",
       "      <td>Species_5</td>\n",
       "      <td>NotTagged_0113</td>\n",
       "      <td>...</td>\n",
       "      <td>Unknown</td>\n",
       "      <td>very lively+ right eye is hanging out + swolle...</td>\n",
       "      <td>Released</td>\n",
       "      <td>ReleaseSite_62</td>\n",
       "      <td>08/08/02</td>\n",
       "      <td>CaptureSiteCategory_2</td>\n",
       "      <td>Type_1</td>\n",
       "      <td>2002</td>\n",
       "      <td>32</td>\n",
       "      <td>200232</td>\n",
       "    </tr>\n",
       "  </tbody>\n",
       "</table>\n",
       "<p>5 rows × 23 columns</p>\n",
       "</div>"
      ],
      "text/plain": [
       "      Rescue_ID Date_TimeCaught     Researcher    CaptureSite ForagingGround   \n",
       "0  2000_RE_0060      2000-12-22  Researcher_25  CaptureSite_0          Ocean  \\\n",
       "1  2001_RE_0187      2001-10-28   Researcher_6  CaptureSite_0          Ocean   \n",
       "2  2001_RE_0197      2001-11-01   Researcher_6  CaptureSite_0          Ocean   \n",
       "3  2002_RE_0031      2002-03-11  Researcher_32  CaptureSite_0          Ocean   \n",
       "4  2002_RE_0118      2002-08-08  Researcher_25  CaptureSite_0          Ocean   \n",
       "\n",
       "  CaptureMethod       Fisher                        LandingSite    Species   \n",
       "0           Net  Fisher_1072  LandingSite_CaptureSiteCategory_2  Species_6  \\\n",
       "1           Net   Fisher_520  LandingSite_CaptureSiteCategory_2  Species_6   \n",
       "2           Net  Fisher_1669  LandingSite_CaptureSiteCategory_2  Species_5   \n",
       "3           Net  Fisher_1798  LandingSite_CaptureSiteCategory_2  Species_6   \n",
       "4       Beached  Fisher_1918  LandingSite_CaptureSiteCategory_2  Species_5   \n",
       "\n",
       "            Tag_1  ...      Sex   \n",
       "0         CC00147  ...  Unknown  \\\n",
       "1            W442  ...  Unknown   \n",
       "2          KE0376  ...  Unknown   \n",
       "3         CC00302  ...  Unknown   \n",
       "4  NotTagged_0113  ...  Unknown   \n",
       "\n",
       "                               TurtleCharacteristics    Status   \n",
       "0                             algae at rear of shell  Released  \\\n",
       "1  multiple b's on front flippers&  a lot of alga...  Released   \n",
       "2                                              clean  Released   \n",
       "3  1 b 3 CS+ calcerous algae at rear end of shell...  Released   \n",
       "4  very lively+ right eye is hanging out + swolle...  Released   \n",
       "\n",
       "      ReleaseSite Date_TimeRelease    CaptureSiteCategory    Type  year   \n",
       "0  ReleaseSite_50         22/12/00  CaptureSiteCategory_2  Type_1  2000  \\\n",
       "1  ReleaseSite_62         28/10/01  CaptureSiteCategory_2  Type_1  2001   \n",
       "2  ReleaseSite_50         01/11/01  CaptureSiteCategory_2  Type_1  2001   \n",
       "3  ReleaseSite_50         11/03/02  CaptureSiteCategory_2  Type_1  2002   \n",
       "4  ReleaseSite_62         08/08/02  CaptureSiteCategory_2  Type_1  2002   \n",
       "\n",
       "  week_of_year year_woy  \n",
       "0           51   200051  \n",
       "1           43   200143  \n",
       "2           44   200144  \n",
       "3           11   200211  \n",
       "4           32   200232  \n",
       "\n",
       "[5 rows x 23 columns]"
      ]
     },
     "execution_count": 86,
     "metadata": {},
     "output_type": "execute_result"
    }
   ],
   "source": [
    "# Transform 'Date_TimeCaught' column to datetime format\n",
    "df_train['Date_TimeCaught'] = pd.to_datetime(df_train['Date_TimeCaught'])\n",
    "\n",
    "#create new columns for year and week of year, year_woy (year and week of year combined)\n",
    "df_train[\"year\"]=df_train.Date_TimeCaught.dt.year\n",
    "df_train[\"week_of_year\"]=df_train.Date_TimeCaught.dt.isocalendar().week\n",
    "df_train[\"year_woy\"]=df_train.year*100+df_train.week_of_year\n",
    "\n",
    "df_train.head()"
   ]
  },
  {
   "cell_type": "code",
   "execution_count": 87,
   "metadata": {},
   "outputs": [
    {
     "name": "stdout",
     "output_type": "stream",
     "text": [
      "<class 'pandas.core.frame.DataFrame'>\n",
      "RangeIndex: 18062 entries, 0 to 18061\n",
      "Data columns (total 23 columns):\n",
      " #   Column                 Non-Null Count  Dtype         \n",
      "---  ------                 --------------  -----         \n",
      " 0   Rescue_ID              18062 non-null  object        \n",
      " 1   Date_TimeCaught        18062 non-null  datetime64[ns]\n",
      " 2   Researcher             18062 non-null  object        \n",
      " 3   CaptureSite            18062 non-null  object        \n",
      " 4   ForagingGround         18062 non-null  object        \n",
      " 5   CaptureMethod          18062 non-null  object        \n",
      " 6   Fisher                 18062 non-null  object        \n",
      " 7   LandingSite            18062 non-null  object        \n",
      " 8   Species                18062 non-null  object        \n",
      " 9   Tag_1                  17937 non-null  object        \n",
      " 10  CCL_cm                 18038 non-null  float64       \n",
      " 11  CCW_cm                 18035 non-null  float64       \n",
      " 12  Weight_Kg              12653 non-null  float64       \n",
      " 13  Sex                    13732 non-null  object        \n",
      " 14  TurtleCharacteristics  18010 non-null  object        \n",
      " 15  Status                 14429 non-null  object        \n",
      " 16  ReleaseSite            17987 non-null  object        \n",
      " 17  Date_TimeRelease       11954 non-null  object        \n",
      " 18  CaptureSiteCategory    18062 non-null  object        \n",
      " 19  Type                   18062 non-null  object        \n",
      " 20  year                   18062 non-null  int32         \n",
      " 21  week_of_year           18062 non-null  UInt32        \n",
      " 22  year_woy               18062 non-null  Int64         \n",
      "dtypes: Int64(1), UInt32(1), datetime64[ns](1), float64(3), int32(1), object(16)\n",
      "memory usage: 3.1+ MB\n"
     ]
    }
   ],
   "source": [
    "df_train.info()"
   ]
  },
  {
   "cell_type": "markdown",
   "metadata": {},
   "source": [
    "## separate srtings_numbers ??"
   ]
  },
  {
   "cell_type": "markdown",
   "metadata": {},
   "source": [
    "## Group by week and capturesite"
   ]
  },
  {
   "cell_type": "code",
   "execution_count": 88,
   "metadata": {},
   "outputs": [
    {
     "data": {
      "text/html": [
       "<div>\n",
       "<style scoped>\n",
       "    .dataframe tbody tr th:only-of-type {\n",
       "        vertical-align: middle;\n",
       "    }\n",
       "\n",
       "    .dataframe tbody tr th {\n",
       "        vertical-align: top;\n",
       "    }\n",
       "\n",
       "    .dataframe thead th {\n",
       "        text-align: right;\n",
       "    }\n",
       "</style>\n",
       "<table border=\"1\" class=\"dataframe\">\n",
       "  <thead>\n",
       "    <tr style=\"text-align: right;\">\n",
       "      <th></th>\n",
       "      <th>Rescue_ID</th>\n",
       "      <th>Date_TimeCaught</th>\n",
       "      <th>Researcher</th>\n",
       "      <th>CaptureSite</th>\n",
       "      <th>ForagingGround</th>\n",
       "      <th>CaptureMethod</th>\n",
       "      <th>Fisher</th>\n",
       "      <th>LandingSite</th>\n",
       "      <th>Species</th>\n",
       "      <th>Tag_1</th>\n",
       "      <th>...</th>\n",
       "      <th>Sex</th>\n",
       "      <th>TurtleCharacteristics</th>\n",
       "      <th>Status</th>\n",
       "      <th>ReleaseSite</th>\n",
       "      <th>Date_TimeRelease</th>\n",
       "      <th>CaptureSiteCategory</th>\n",
       "      <th>Type</th>\n",
       "      <th>year</th>\n",
       "      <th>week_of_year</th>\n",
       "      <th>year_woy</th>\n",
       "    </tr>\n",
       "  </thead>\n",
       "  <tbody>\n",
       "    <tr>\n",
       "      <th>0</th>\n",
       "      <td>2000_RE_0060</td>\n",
       "      <td>2000-12-22</td>\n",
       "      <td>Researcher_25</td>\n",
       "      <td>CaptureSite_0</td>\n",
       "      <td>Ocean</td>\n",
       "      <td>Net</td>\n",
       "      <td>Fisher_1072</td>\n",
       "      <td>LandingSite_CaptureSiteCategory_2</td>\n",
       "      <td>Species_6</td>\n",
       "      <td>CC00147</td>\n",
       "      <td>...</td>\n",
       "      <td>Unknown</td>\n",
       "      <td>algae at rear of shell</td>\n",
       "      <td>Released</td>\n",
       "      <td>ReleaseSite_50</td>\n",
       "      <td>22/12/00</td>\n",
       "      <td>CaptureSiteCategory_2</td>\n",
       "      <td>Type_1</td>\n",
       "      <td>2000</td>\n",
       "      <td>51</td>\n",
       "      <td>200051</td>\n",
       "    </tr>\n",
       "    <tr>\n",
       "      <th>1</th>\n",
       "      <td>2001_RE_0187</td>\n",
       "      <td>2001-10-28</td>\n",
       "      <td>Researcher_6</td>\n",
       "      <td>CaptureSite_0</td>\n",
       "      <td>Ocean</td>\n",
       "      <td>Net</td>\n",
       "      <td>Fisher_520</td>\n",
       "      <td>LandingSite_CaptureSiteCategory_2</td>\n",
       "      <td>Species_6</td>\n",
       "      <td>W442</td>\n",
       "      <td>...</td>\n",
       "      <td>Unknown</td>\n",
       "      <td>multiple b's on front flippers&amp;  a lot of alga...</td>\n",
       "      <td>Released</td>\n",
       "      <td>ReleaseSite_62</td>\n",
       "      <td>28/10/01</td>\n",
       "      <td>CaptureSiteCategory_2</td>\n",
       "      <td>Type_1</td>\n",
       "      <td>2001</td>\n",
       "      <td>43</td>\n",
       "      <td>200143</td>\n",
       "    </tr>\n",
       "    <tr>\n",
       "      <th>2</th>\n",
       "      <td>2001_RE_0197</td>\n",
       "      <td>2001-11-01</td>\n",
       "      <td>Researcher_6</td>\n",
       "      <td>CaptureSite_0</td>\n",
       "      <td>Ocean</td>\n",
       "      <td>Net</td>\n",
       "      <td>Fisher_1669</td>\n",
       "      <td>LandingSite_CaptureSiteCategory_2</td>\n",
       "      <td>Species_5</td>\n",
       "      <td>KE0376</td>\n",
       "      <td>...</td>\n",
       "      <td>Unknown</td>\n",
       "      <td>clean</td>\n",
       "      <td>Released</td>\n",
       "      <td>ReleaseSite_50</td>\n",
       "      <td>01/11/01</td>\n",
       "      <td>CaptureSiteCategory_2</td>\n",
       "      <td>Type_1</td>\n",
       "      <td>2001</td>\n",
       "      <td>44</td>\n",
       "      <td>200144</td>\n",
       "    </tr>\n",
       "    <tr>\n",
       "      <th>3</th>\n",
       "      <td>2002_RE_0031</td>\n",
       "      <td>2002-03-11</td>\n",
       "      <td>Researcher_32</td>\n",
       "      <td>CaptureSite_0</td>\n",
       "      <td>Ocean</td>\n",
       "      <td>Net</td>\n",
       "      <td>Fisher_1798</td>\n",
       "      <td>LandingSite_CaptureSiteCategory_2</td>\n",
       "      <td>Species_6</td>\n",
       "      <td>CC00302</td>\n",
       "      <td>...</td>\n",
       "      <td>Unknown</td>\n",
       "      <td>1 b 3 CS+ calcerous algae at rear end of shell...</td>\n",
       "      <td>Released</td>\n",
       "      <td>ReleaseSite_50</td>\n",
       "      <td>11/03/02</td>\n",
       "      <td>CaptureSiteCategory_2</td>\n",
       "      <td>Type_1</td>\n",
       "      <td>2002</td>\n",
       "      <td>11</td>\n",
       "      <td>200211</td>\n",
       "    </tr>\n",
       "    <tr>\n",
       "      <th>4</th>\n",
       "      <td>2002_RE_0118</td>\n",
       "      <td>2002-08-08</td>\n",
       "      <td>Researcher_25</td>\n",
       "      <td>CaptureSite_0</td>\n",
       "      <td>Ocean</td>\n",
       "      <td>Beached</td>\n",
       "      <td>Fisher_1918</td>\n",
       "      <td>LandingSite_CaptureSiteCategory_2</td>\n",
       "      <td>Species_5</td>\n",
       "      <td>NotTagged_0113</td>\n",
       "      <td>...</td>\n",
       "      <td>Unknown</td>\n",
       "      <td>very lively+ right eye is hanging out + swolle...</td>\n",
       "      <td>Released</td>\n",
       "      <td>ReleaseSite_62</td>\n",
       "      <td>08/08/02</td>\n",
       "      <td>CaptureSiteCategory_2</td>\n",
       "      <td>Type_1</td>\n",
       "      <td>2002</td>\n",
       "      <td>32</td>\n",
       "      <td>200232</td>\n",
       "    </tr>\n",
       "  </tbody>\n",
       "</table>\n",
       "<p>5 rows × 23 columns</p>\n",
       "</div>"
      ],
      "text/plain": [
       "      Rescue_ID Date_TimeCaught     Researcher    CaptureSite ForagingGround   \n",
       "0  2000_RE_0060      2000-12-22  Researcher_25  CaptureSite_0          Ocean  \\\n",
       "1  2001_RE_0187      2001-10-28   Researcher_6  CaptureSite_0          Ocean   \n",
       "2  2001_RE_0197      2001-11-01   Researcher_6  CaptureSite_0          Ocean   \n",
       "3  2002_RE_0031      2002-03-11  Researcher_32  CaptureSite_0          Ocean   \n",
       "4  2002_RE_0118      2002-08-08  Researcher_25  CaptureSite_0          Ocean   \n",
       "\n",
       "  CaptureMethod       Fisher                        LandingSite    Species   \n",
       "0           Net  Fisher_1072  LandingSite_CaptureSiteCategory_2  Species_6  \\\n",
       "1           Net   Fisher_520  LandingSite_CaptureSiteCategory_2  Species_6   \n",
       "2           Net  Fisher_1669  LandingSite_CaptureSiteCategory_2  Species_5   \n",
       "3           Net  Fisher_1798  LandingSite_CaptureSiteCategory_2  Species_6   \n",
       "4       Beached  Fisher_1918  LandingSite_CaptureSiteCategory_2  Species_5   \n",
       "\n",
       "            Tag_1  ...      Sex   \n",
       "0         CC00147  ...  Unknown  \\\n",
       "1            W442  ...  Unknown   \n",
       "2          KE0376  ...  Unknown   \n",
       "3         CC00302  ...  Unknown   \n",
       "4  NotTagged_0113  ...  Unknown   \n",
       "\n",
       "                               TurtleCharacteristics    Status   \n",
       "0                             algae at rear of shell  Released  \\\n",
       "1  multiple b's on front flippers&  a lot of alga...  Released   \n",
       "2                                              clean  Released   \n",
       "3  1 b 3 CS+ calcerous algae at rear end of shell...  Released   \n",
       "4  very lively+ right eye is hanging out + swolle...  Released   \n",
       "\n",
       "      ReleaseSite Date_TimeRelease    CaptureSiteCategory    Type  year   \n",
       "0  ReleaseSite_50         22/12/00  CaptureSiteCategory_2  Type_1  2000  \\\n",
       "1  ReleaseSite_62         28/10/01  CaptureSiteCategory_2  Type_1  2001   \n",
       "2  ReleaseSite_50         01/11/01  CaptureSiteCategory_2  Type_1  2001   \n",
       "3  ReleaseSite_50         11/03/02  CaptureSiteCategory_2  Type_1  2002   \n",
       "4  ReleaseSite_62         08/08/02  CaptureSiteCategory_2  Type_1  2002   \n",
       "\n",
       "  week_of_year year_woy  \n",
       "0           51   200051  \n",
       "1           43   200143  \n",
       "2           44   200144  \n",
       "3           11   200211  \n",
       "4           32   200232  \n",
       "\n",
       "[5 rows x 23 columns]"
      ]
     },
     "execution_count": 88,
     "metadata": {},
     "output_type": "execute_result"
    }
   ],
   "source": [
    "# groupby year/ capture site  \n",
    "df_train.groupby(['year_woy', 'CaptureSite'])\n",
    "df_train.head()"
   ]
  },
  {
   "cell_type": "markdown",
   "metadata": {},
   "source": [
    "## Define the target"
   ]
  },
  {
   "cell_type": "code",
   "execution_count": 89,
   "metadata": {},
   "outputs": [
    {
     "data": {
      "text/html": [
       "<div>\n",
       "<style scoped>\n",
       "    .dataframe tbody tr th:only-of-type {\n",
       "        vertical-align: middle;\n",
       "    }\n",
       "\n",
       "    .dataframe tbody tr th {\n",
       "        vertical-align: top;\n",
       "    }\n",
       "\n",
       "    .dataframe thead th {\n",
       "        text-align: right;\n",
       "    }\n",
       "</style>\n",
       "<table border=\"1\" class=\"dataframe\">\n",
       "  <thead>\n",
       "    <tr style=\"text-align: right;\">\n",
       "      <th></th>\n",
       "      <th>Rescue_ID</th>\n",
       "      <th>Date_TimeCaught</th>\n",
       "      <th>Researcher</th>\n",
       "      <th>CaptureSite</th>\n",
       "      <th>ForagingGround</th>\n",
       "      <th>CaptureMethod</th>\n",
       "      <th>Fisher</th>\n",
       "      <th>LandingSite</th>\n",
       "      <th>Species</th>\n",
       "      <th>Tag_1</th>\n",
       "      <th>...</th>\n",
       "      <th>Sex</th>\n",
       "      <th>TurtleCharacteristics</th>\n",
       "      <th>Status</th>\n",
       "      <th>ReleaseSite</th>\n",
       "      <th>Date_TimeRelease</th>\n",
       "      <th>CaptureSiteCategory</th>\n",
       "      <th>Type</th>\n",
       "      <th>year</th>\n",
       "      <th>week_of_year</th>\n",
       "      <th>year_woy</th>\n",
       "    </tr>\n",
       "  </thead>\n",
       "  <tbody>\n",
       "    <tr>\n",
       "      <th>0</th>\n",
       "      <td>2000_RE_0060</td>\n",
       "      <td>2000-12-22</td>\n",
       "      <td>Researcher_25</td>\n",
       "      <td>CaptureSite_0</td>\n",
       "      <td>Ocean</td>\n",
       "      <td>Net</td>\n",
       "      <td>Fisher_1072</td>\n",
       "      <td>LandingSite_CaptureSiteCategory_2</td>\n",
       "      <td>Species_6</td>\n",
       "      <td>CC00147</td>\n",
       "      <td>...</td>\n",
       "      <td>Unknown</td>\n",
       "      <td>algae at rear of shell</td>\n",
       "      <td>Released</td>\n",
       "      <td>ReleaseSite_50</td>\n",
       "      <td>22/12/00</td>\n",
       "      <td>CaptureSiteCategory_2</td>\n",
       "      <td>Type_1</td>\n",
       "      <td>2000</td>\n",
       "      <td>51</td>\n",
       "      <td>200051</td>\n",
       "    </tr>\n",
       "    <tr>\n",
       "      <th>1</th>\n",
       "      <td>2001_RE_0187</td>\n",
       "      <td>2001-10-28</td>\n",
       "      <td>Researcher_6</td>\n",
       "      <td>CaptureSite_0</td>\n",
       "      <td>Ocean</td>\n",
       "      <td>Net</td>\n",
       "      <td>Fisher_520</td>\n",
       "      <td>LandingSite_CaptureSiteCategory_2</td>\n",
       "      <td>Species_6</td>\n",
       "      <td>W442</td>\n",
       "      <td>...</td>\n",
       "      <td>Unknown</td>\n",
       "      <td>multiple b's on front flippers&amp;  a lot of alga...</td>\n",
       "      <td>Released</td>\n",
       "      <td>ReleaseSite_62</td>\n",
       "      <td>28/10/01</td>\n",
       "      <td>CaptureSiteCategory_2</td>\n",
       "      <td>Type_1</td>\n",
       "      <td>2001</td>\n",
       "      <td>43</td>\n",
       "      <td>200143</td>\n",
       "    </tr>\n",
       "    <tr>\n",
       "      <th>2</th>\n",
       "      <td>2001_RE_0197</td>\n",
       "      <td>2001-11-01</td>\n",
       "      <td>Researcher_6</td>\n",
       "      <td>CaptureSite_0</td>\n",
       "      <td>Ocean</td>\n",
       "      <td>Net</td>\n",
       "      <td>Fisher_1669</td>\n",
       "      <td>LandingSite_CaptureSiteCategory_2</td>\n",
       "      <td>Species_5</td>\n",
       "      <td>KE0376</td>\n",
       "      <td>...</td>\n",
       "      <td>Unknown</td>\n",
       "      <td>clean</td>\n",
       "      <td>Released</td>\n",
       "      <td>ReleaseSite_50</td>\n",
       "      <td>01/11/01</td>\n",
       "      <td>CaptureSiteCategory_2</td>\n",
       "      <td>Type_1</td>\n",
       "      <td>2001</td>\n",
       "      <td>44</td>\n",
       "      <td>200144</td>\n",
       "    </tr>\n",
       "    <tr>\n",
       "      <th>3</th>\n",
       "      <td>2002_RE_0031</td>\n",
       "      <td>2002-03-11</td>\n",
       "      <td>Researcher_32</td>\n",
       "      <td>CaptureSite_0</td>\n",
       "      <td>Ocean</td>\n",
       "      <td>Net</td>\n",
       "      <td>Fisher_1798</td>\n",
       "      <td>LandingSite_CaptureSiteCategory_2</td>\n",
       "      <td>Species_6</td>\n",
       "      <td>CC00302</td>\n",
       "      <td>...</td>\n",
       "      <td>Unknown</td>\n",
       "      <td>1 b 3 CS+ calcerous algae at rear end of shell...</td>\n",
       "      <td>Released</td>\n",
       "      <td>ReleaseSite_50</td>\n",
       "      <td>11/03/02</td>\n",
       "      <td>CaptureSiteCategory_2</td>\n",
       "      <td>Type_1</td>\n",
       "      <td>2002</td>\n",
       "      <td>11</td>\n",
       "      <td>200211</td>\n",
       "    </tr>\n",
       "    <tr>\n",
       "      <th>4</th>\n",
       "      <td>2002_RE_0118</td>\n",
       "      <td>2002-08-08</td>\n",
       "      <td>Researcher_25</td>\n",
       "      <td>CaptureSite_0</td>\n",
       "      <td>Ocean</td>\n",
       "      <td>Beached</td>\n",
       "      <td>Fisher_1918</td>\n",
       "      <td>LandingSite_CaptureSiteCategory_2</td>\n",
       "      <td>Species_5</td>\n",
       "      <td>NotTagged_0113</td>\n",
       "      <td>...</td>\n",
       "      <td>Unknown</td>\n",
       "      <td>very lively+ right eye is hanging out + swolle...</td>\n",
       "      <td>Released</td>\n",
       "      <td>ReleaseSite_62</td>\n",
       "      <td>08/08/02</td>\n",
       "      <td>CaptureSiteCategory_2</td>\n",
       "      <td>Type_1</td>\n",
       "      <td>2002</td>\n",
       "      <td>32</td>\n",
       "      <td>200232</td>\n",
       "    </tr>\n",
       "  </tbody>\n",
       "</table>\n",
       "<p>5 rows × 23 columns</p>\n",
       "</div>"
      ],
      "text/plain": [
       "      Rescue_ID Date_TimeCaught     Researcher    CaptureSite ForagingGround   \n",
       "0  2000_RE_0060      2000-12-22  Researcher_25  CaptureSite_0          Ocean  \\\n",
       "1  2001_RE_0187      2001-10-28   Researcher_6  CaptureSite_0          Ocean   \n",
       "2  2001_RE_0197      2001-11-01   Researcher_6  CaptureSite_0          Ocean   \n",
       "3  2002_RE_0031      2002-03-11  Researcher_32  CaptureSite_0          Ocean   \n",
       "4  2002_RE_0118      2002-08-08  Researcher_25  CaptureSite_0          Ocean   \n",
       "\n",
       "  CaptureMethod       Fisher                        LandingSite    Species   \n",
       "0           Net  Fisher_1072  LandingSite_CaptureSiteCategory_2  Species_6  \\\n",
       "1           Net   Fisher_520  LandingSite_CaptureSiteCategory_2  Species_6   \n",
       "2           Net  Fisher_1669  LandingSite_CaptureSiteCategory_2  Species_5   \n",
       "3           Net  Fisher_1798  LandingSite_CaptureSiteCategory_2  Species_6   \n",
       "4       Beached  Fisher_1918  LandingSite_CaptureSiteCategory_2  Species_5   \n",
       "\n",
       "            Tag_1  ...      Sex   \n",
       "0         CC00147  ...  Unknown  \\\n",
       "1            W442  ...  Unknown   \n",
       "2          KE0376  ...  Unknown   \n",
       "3         CC00302  ...  Unknown   \n",
       "4  NotTagged_0113  ...  Unknown   \n",
       "\n",
       "                               TurtleCharacteristics    Status   \n",
       "0                             algae at rear of shell  Released  \\\n",
       "1  multiple b's on front flippers&  a lot of alga...  Released   \n",
       "2                                              clean  Released   \n",
       "3  1 b 3 CS+ calcerous algae at rear end of shell...  Released   \n",
       "4  very lively+ right eye is hanging out + swolle...  Released   \n",
       "\n",
       "      ReleaseSite Date_TimeRelease    CaptureSiteCategory    Type  year   \n",
       "0  ReleaseSite_50         22/12/00  CaptureSiteCategory_2  Type_1  2000  \\\n",
       "1  ReleaseSite_62         28/10/01  CaptureSiteCategory_2  Type_1  2001   \n",
       "2  ReleaseSite_50         01/11/01  CaptureSiteCategory_2  Type_1  2001   \n",
       "3  ReleaseSite_50         11/03/02  CaptureSiteCategory_2  Type_1  2002   \n",
       "4  ReleaseSite_62         08/08/02  CaptureSiteCategory_2  Type_1  2002   \n",
       "\n",
       "  week_of_year year_woy  \n",
       "0           51   200051  \n",
       "1           43   200143  \n",
       "2           44   200144  \n",
       "3           11   200211  \n",
       "4           32   200232  \n",
       "\n",
       "[5 rows x 23 columns]"
      ]
     },
     "execution_count": 89,
     "metadata": {},
     "output_type": "execute_result"
    }
   ],
   "source": [
    "# Grouping and counting\n",
    "Target=df_train.groupby([\"year_woy\",\"CaptureSite\"]).CaptureSite.count().rename(\"Number_Turtles\").reset_index()\n",
    "\n",
    "df_train.head()\n"
   ]
  },
  {
   "cell_type": "code",
   "execution_count": 90,
   "metadata": {},
   "outputs": [
    {
     "data": {
      "text/html": [
       "<div>\n",
       "<style scoped>\n",
       "    .dataframe tbody tr th:only-of-type {\n",
       "        vertical-align: middle;\n",
       "    }\n",
       "\n",
       "    .dataframe tbody tr th {\n",
       "        vertical-align: top;\n",
       "    }\n",
       "\n",
       "    .dataframe thead th {\n",
       "        text-align: right;\n",
       "    }\n",
       "</style>\n",
       "<table border=\"1\" class=\"dataframe\">\n",
       "  <thead>\n",
       "    <tr style=\"text-align: right;\">\n",
       "      <th></th>\n",
       "      <th>year_woy</th>\n",
       "      <th>CaptureSite</th>\n",
       "      <th>Number_Turtles</th>\n",
       "    </tr>\n",
       "  </thead>\n",
       "  <tbody>\n",
       "    <tr>\n",
       "      <th>0</th>\n",
       "      <td>199816</td>\n",
       "      <td>CaptureSite_27</td>\n",
       "      <td>1</td>\n",
       "    </tr>\n",
       "    <tr>\n",
       "      <th>1</th>\n",
       "      <td>199828</td>\n",
       "      <td>CaptureSite_11</td>\n",
       "      <td>1</td>\n",
       "    </tr>\n",
       "    <tr>\n",
       "      <th>2</th>\n",
       "      <td>199832</td>\n",
       "      <td>CaptureSite_11</td>\n",
       "      <td>1</td>\n",
       "    </tr>\n",
       "    <tr>\n",
       "      <th>3</th>\n",
       "      <td>199832</td>\n",
       "      <td>CaptureSite_27</td>\n",
       "      <td>1</td>\n",
       "    </tr>\n",
       "    <tr>\n",
       "      <th>4</th>\n",
       "      <td>199839</td>\n",
       "      <td>CaptureSite_11</td>\n",
       "      <td>2</td>\n",
       "    </tr>\n",
       "  </tbody>\n",
       "</table>\n",
       "</div>"
      ],
      "text/plain": [
       "   year_woy     CaptureSite  Number_Turtles\n",
       "0    199816  CaptureSite_27               1\n",
       "1    199828  CaptureSite_11               1\n",
       "2    199832  CaptureSite_11               1\n",
       "3    199832  CaptureSite_27               1\n",
       "4    199839  CaptureSite_11               2"
      ]
     },
     "execution_count": 90,
     "metadata": {},
     "output_type": "execute_result"
    }
   ],
   "source": [
    "Target.head()"
   ]
  },
  {
   "cell_type": "code",
   "execution_count": 91,
   "metadata": {},
   "outputs": [
    {
     "data": {
      "text/html": [
       "<div>\n",
       "<style scoped>\n",
       "    .dataframe tbody tr th:only-of-type {\n",
       "        vertical-align: middle;\n",
       "    }\n",
       "\n",
       "    .dataframe tbody tr th {\n",
       "        vertical-align: top;\n",
       "    }\n",
       "\n",
       "    .dataframe thead th {\n",
       "        text-align: right;\n",
       "    }\n",
       "</style>\n",
       "<table border=\"1\" class=\"dataframe\">\n",
       "  <thead>\n",
       "    <tr style=\"text-align: right;\">\n",
       "      <th></th>\n",
       "      <th>Rescue_ID</th>\n",
       "      <th>Date_TimeCaught</th>\n",
       "      <th>Researcher</th>\n",
       "      <th>CaptureSite</th>\n",
       "      <th>ForagingGround</th>\n",
       "      <th>CaptureMethod</th>\n",
       "      <th>Fisher</th>\n",
       "      <th>LandingSite</th>\n",
       "      <th>Species</th>\n",
       "      <th>Tag_1</th>\n",
       "      <th>...</th>\n",
       "      <th>TurtleCharacteristics</th>\n",
       "      <th>Status</th>\n",
       "      <th>ReleaseSite</th>\n",
       "      <th>Date_TimeRelease</th>\n",
       "      <th>CaptureSiteCategory</th>\n",
       "      <th>Type</th>\n",
       "      <th>year</th>\n",
       "      <th>week_of_year</th>\n",
       "      <th>year_woy</th>\n",
       "      <th>Number_Turtles</th>\n",
       "    </tr>\n",
       "  </thead>\n",
       "  <tbody>\n",
       "    <tr>\n",
       "      <th>0</th>\n",
       "      <td>2000_RE_0060</td>\n",
       "      <td>2000-12-22</td>\n",
       "      <td>Researcher_25</td>\n",
       "      <td>CaptureSite_0</td>\n",
       "      <td>Ocean</td>\n",
       "      <td>Net</td>\n",
       "      <td>Fisher_1072</td>\n",
       "      <td>LandingSite_CaptureSiteCategory_2</td>\n",
       "      <td>Species_6</td>\n",
       "      <td>CC00147</td>\n",
       "      <td>...</td>\n",
       "      <td>algae at rear of shell</td>\n",
       "      <td>Released</td>\n",
       "      <td>ReleaseSite_50</td>\n",
       "      <td>22/12/00</td>\n",
       "      <td>CaptureSiteCategory_2</td>\n",
       "      <td>Type_1</td>\n",
       "      <td>2000</td>\n",
       "      <td>51</td>\n",
       "      <td>200051</td>\n",
       "      <td>1</td>\n",
       "    </tr>\n",
       "    <tr>\n",
       "      <th>1</th>\n",
       "      <td>2001_RE_0187</td>\n",
       "      <td>2001-10-28</td>\n",
       "      <td>Researcher_6</td>\n",
       "      <td>CaptureSite_0</td>\n",
       "      <td>Ocean</td>\n",
       "      <td>Net</td>\n",
       "      <td>Fisher_520</td>\n",
       "      <td>LandingSite_CaptureSiteCategory_2</td>\n",
       "      <td>Species_6</td>\n",
       "      <td>W442</td>\n",
       "      <td>...</td>\n",
       "      <td>multiple b's on front flippers&amp;  a lot of alga...</td>\n",
       "      <td>Released</td>\n",
       "      <td>ReleaseSite_62</td>\n",
       "      <td>28/10/01</td>\n",
       "      <td>CaptureSiteCategory_2</td>\n",
       "      <td>Type_1</td>\n",
       "      <td>2001</td>\n",
       "      <td>43</td>\n",
       "      <td>200143</td>\n",
       "      <td>1</td>\n",
       "    </tr>\n",
       "    <tr>\n",
       "      <th>2</th>\n",
       "      <td>2001_RE_0197</td>\n",
       "      <td>2001-11-01</td>\n",
       "      <td>Researcher_6</td>\n",
       "      <td>CaptureSite_0</td>\n",
       "      <td>Ocean</td>\n",
       "      <td>Net</td>\n",
       "      <td>Fisher_1669</td>\n",
       "      <td>LandingSite_CaptureSiteCategory_2</td>\n",
       "      <td>Species_5</td>\n",
       "      <td>KE0376</td>\n",
       "      <td>...</td>\n",
       "      <td>clean</td>\n",
       "      <td>Released</td>\n",
       "      <td>ReleaseSite_50</td>\n",
       "      <td>01/11/01</td>\n",
       "      <td>CaptureSiteCategory_2</td>\n",
       "      <td>Type_1</td>\n",
       "      <td>2001</td>\n",
       "      <td>44</td>\n",
       "      <td>200144</td>\n",
       "      <td>1</td>\n",
       "    </tr>\n",
       "    <tr>\n",
       "      <th>3</th>\n",
       "      <td>2002_RE_0031</td>\n",
       "      <td>2002-03-11</td>\n",
       "      <td>Researcher_32</td>\n",
       "      <td>CaptureSite_0</td>\n",
       "      <td>Ocean</td>\n",
       "      <td>Net</td>\n",
       "      <td>Fisher_1798</td>\n",
       "      <td>LandingSite_CaptureSiteCategory_2</td>\n",
       "      <td>Species_6</td>\n",
       "      <td>CC00302</td>\n",
       "      <td>...</td>\n",
       "      <td>1 b 3 CS+ calcerous algae at rear end of shell...</td>\n",
       "      <td>Released</td>\n",
       "      <td>ReleaseSite_50</td>\n",
       "      <td>11/03/02</td>\n",
       "      <td>CaptureSiteCategory_2</td>\n",
       "      <td>Type_1</td>\n",
       "      <td>2002</td>\n",
       "      <td>11</td>\n",
       "      <td>200211</td>\n",
       "      <td>1</td>\n",
       "    </tr>\n",
       "    <tr>\n",
       "      <th>4</th>\n",
       "      <td>2002_RE_0118</td>\n",
       "      <td>2002-08-08</td>\n",
       "      <td>Researcher_25</td>\n",
       "      <td>CaptureSite_0</td>\n",
       "      <td>Ocean</td>\n",
       "      <td>Beached</td>\n",
       "      <td>Fisher_1918</td>\n",
       "      <td>LandingSite_CaptureSiteCategory_2</td>\n",
       "      <td>Species_5</td>\n",
       "      <td>NotTagged_0113</td>\n",
       "      <td>...</td>\n",
       "      <td>very lively+ right eye is hanging out + swolle...</td>\n",
       "      <td>Released</td>\n",
       "      <td>ReleaseSite_62</td>\n",
       "      <td>08/08/02</td>\n",
       "      <td>CaptureSiteCategory_2</td>\n",
       "      <td>Type_1</td>\n",
       "      <td>2002</td>\n",
       "      <td>32</td>\n",
       "      <td>200232</td>\n",
       "      <td>2</td>\n",
       "    </tr>\n",
       "  </tbody>\n",
       "</table>\n",
       "<p>5 rows × 24 columns</p>\n",
       "</div>"
      ],
      "text/plain": [
       "      Rescue_ID Date_TimeCaught     Researcher    CaptureSite ForagingGround   \n",
       "0  2000_RE_0060      2000-12-22  Researcher_25  CaptureSite_0          Ocean  \\\n",
       "1  2001_RE_0187      2001-10-28   Researcher_6  CaptureSite_0          Ocean   \n",
       "2  2001_RE_0197      2001-11-01   Researcher_6  CaptureSite_0          Ocean   \n",
       "3  2002_RE_0031      2002-03-11  Researcher_32  CaptureSite_0          Ocean   \n",
       "4  2002_RE_0118      2002-08-08  Researcher_25  CaptureSite_0          Ocean   \n",
       "\n",
       "  CaptureMethod       Fisher                        LandingSite    Species   \n",
       "0           Net  Fisher_1072  LandingSite_CaptureSiteCategory_2  Species_6  \\\n",
       "1           Net   Fisher_520  LandingSite_CaptureSiteCategory_2  Species_6   \n",
       "2           Net  Fisher_1669  LandingSite_CaptureSiteCategory_2  Species_5   \n",
       "3           Net  Fisher_1798  LandingSite_CaptureSiteCategory_2  Species_6   \n",
       "4       Beached  Fisher_1918  LandingSite_CaptureSiteCategory_2  Species_5   \n",
       "\n",
       "            Tag_1  ...                              TurtleCharacteristics   \n",
       "0         CC00147  ...                             algae at rear of shell  \\\n",
       "1            W442  ...  multiple b's on front flippers&  a lot of alga...   \n",
       "2          KE0376  ...                                              clean   \n",
       "3         CC00302  ...  1 b 3 CS+ calcerous algae at rear end of shell...   \n",
       "4  NotTagged_0113  ...  very lively+ right eye is hanging out + swolle...   \n",
       "\n",
       "     Status     ReleaseSite Date_TimeRelease    CaptureSiteCategory    Type   \n",
       "0  Released  ReleaseSite_50         22/12/00  CaptureSiteCategory_2  Type_1  \\\n",
       "1  Released  ReleaseSite_62         28/10/01  CaptureSiteCategory_2  Type_1   \n",
       "2  Released  ReleaseSite_50         01/11/01  CaptureSiteCategory_2  Type_1   \n",
       "3  Released  ReleaseSite_50         11/03/02  CaptureSiteCategory_2  Type_1   \n",
       "4  Released  ReleaseSite_62         08/08/02  CaptureSiteCategory_2  Type_1   \n",
       "\n",
       "   year week_of_year year_woy Number_Turtles  \n",
       "0  2000           51   200051              1  \n",
       "1  2001           43   200143              1  \n",
       "2  2001           44   200144              1  \n",
       "3  2002           11   200211              1  \n",
       "4  2002           32   200232              2  \n",
       "\n",
       "[5 rows x 24 columns]"
      ]
     },
     "execution_count": 91,
     "metadata": {},
     "output_type": "execute_result"
    }
   ],
   "source": [
    "# Merge table df_train and df_capturesite_categoryn on 'CaptureSite'\n",
    "\n",
    "df_train_final = pd.merge(df_train, Target, on=['year_woy', 'CaptureSite'], how='left')\n",
    "df_train_final.head()"
   ]
  },
  {
   "cell_type": "code",
   "execution_count": 92,
   "metadata": {},
   "outputs": [
    {
     "data": {
      "text/plain": [
       "Index(['Rescue_ID', 'Date_TimeCaught', 'Researcher', 'CaptureSite',\n",
       "       'ForagingGround', 'CaptureMethod', 'Fisher', 'LandingSite', 'Species',\n",
       "       'Tag_1', 'CCL_cm', 'CCW_cm', 'Weight_Kg', 'Sex',\n",
       "       'TurtleCharacteristics', 'Status', 'ReleaseSite', 'Date_TimeRelease',\n",
       "       'CaptureSiteCategory', 'Type', 'year', 'week_of_year', 'year_woy',\n",
       "       'Number_Turtles'],\n",
       "      dtype='object')"
      ]
     },
     "execution_count": 92,
     "metadata": {},
     "output_type": "execute_result"
    }
   ],
   "source": [
    "df_train_final.columns"
   ]
  },
  {
   "cell_type": "code",
   "execution_count": 93,
   "metadata": {},
   "outputs": [
    {
     "data": {
      "text/plain": [
       "(18062, 24)"
      ]
     },
     "execution_count": 93,
     "metadata": {},
     "output_type": "execute_result"
    }
   ],
   "source": [
    "df_train_final.shape"
   ]
  },
  {
   "cell_type": "code",
   "execution_count": 94,
   "metadata": {},
   "outputs": [
    {
     "data": {
      "text/plain": [
       "<Axes: >"
      ]
     },
     "execution_count": 94,
     "metadata": {},
     "output_type": "execute_result"
    },
    {
     "data": {
      "image/png": "[encoded data removed]",
      "text/plain": [
       "<Figure size 2500x1000 with 2 Axes>"
      ]
     },
     "metadata": {},
     "output_type": "display_data"
    }
   ],
   "source": [
    "msno.matrix(df_train_final)"
   ]
  },
  {
   "cell_type": "markdown",
   "metadata": {},
   "source": [
    "#### dropping columns with too many unique values before one hot encoding\n",
    "**! I dropped Date_TimeCaught because RandomForestRegressor cannot deal with datetime format !**"
   ]
  },
  {
   "cell_type": "code",
   "execution_count": 95,
   "metadata": {},
   "outputs": [],
   "source": [
    "#dropping unneccesary columns \n",
    "df_final = df_train_final.drop(['Rescue_ID', 'Researcher', 'Fisher','Tag_1','TurtleCharacteristics', 'ReleaseSite', 'Date_TimeRelease', 'Date_TimeCaught'], axis=1)"
   ]
  },
  {
   "cell_type": "code",
   "execution_count": 96,
   "metadata": {},
   "outputs": [
    {
     "data": {
      "text/html": [
       "<div>\n",
       "<style scoped>\n",
       "    .dataframe tbody tr th:only-of-type {\n",
       "        vertical-align: middle;\n",
       "    }\n",
       "\n",
       "    .dataframe tbody tr th {\n",
       "        vertical-align: top;\n",
       "    }\n",
       "\n",
       "    .dataframe thead th {\n",
       "        text-align: right;\n",
       "    }\n",
       "</style>\n",
       "<table border=\"1\" class=\"dataframe\">\n",
       "  <thead>\n",
       "    <tr style=\"text-align: right;\">\n",
       "      <th></th>\n",
       "      <th>CaptureSite</th>\n",
       "      <th>ForagingGround</th>\n",
       "      <th>CaptureMethod</th>\n",
       "      <th>LandingSite</th>\n",
       "      <th>Species</th>\n",
       "      <th>CCL_cm</th>\n",
       "      <th>CCW_cm</th>\n",
       "      <th>Weight_Kg</th>\n",
       "      <th>Sex</th>\n",
       "      <th>Status</th>\n",
       "      <th>CaptureSiteCategory</th>\n",
       "      <th>Type</th>\n",
       "      <th>year</th>\n",
       "      <th>week_of_year</th>\n",
       "      <th>year_woy</th>\n",
       "      <th>Number_Turtles</th>\n",
       "    </tr>\n",
       "  </thead>\n",
       "  <tbody>\n",
       "    <tr>\n",
       "      <th>0</th>\n",
       "      <td>CaptureSite_0</td>\n",
       "      <td>Ocean</td>\n",
       "      <td>Net</td>\n",
       "      <td>LandingSite_CaptureSiteCategory_2</td>\n",
       "      <td>Species_6</td>\n",
       "      <td>64.70</td>\n",
       "      <td>62.60</td>\n",
       "      <td>NaN</td>\n",
       "      <td>Unknown</td>\n",
       "      <td>Released</td>\n",
       "      <td>CaptureSiteCategory_2</td>\n",
       "      <td>Type_1</td>\n",
       "      <td>2000</td>\n",
       "      <td>51</td>\n",
       "      <td>200051</td>\n",
       "      <td>1</td>\n",
       "    </tr>\n",
       "    <tr>\n",
       "      <th>1</th>\n",
       "      <td>CaptureSite_0</td>\n",
       "      <td>Ocean</td>\n",
       "      <td>Net</td>\n",
       "      <td>LandingSite_CaptureSiteCategory_2</td>\n",
       "      <td>Species_6</td>\n",
       "      <td>35.85</td>\n",
       "      <td>31.35</td>\n",
       "      <td>NaN</td>\n",
       "      <td>Unknown</td>\n",
       "      <td>Released</td>\n",
       "      <td>CaptureSiteCategory_2</td>\n",
       "      <td>Type_1</td>\n",
       "      <td>2001</td>\n",
       "      <td>43</td>\n",
       "      <td>200143</td>\n",
       "      <td>1</td>\n",
       "    </tr>\n",
       "    <tr>\n",
       "      <th>2</th>\n",
       "      <td>CaptureSite_0</td>\n",
       "      <td>Ocean</td>\n",
       "      <td>Net</td>\n",
       "      <td>LandingSite_CaptureSiteCategory_2</td>\n",
       "      <td>Species_5</td>\n",
       "      <td>51.80</td>\n",
       "      <td>49.20</td>\n",
       "      <td>NaN</td>\n",
       "      <td>Unknown</td>\n",
       "      <td>Released</td>\n",
       "      <td>CaptureSiteCategory_2</td>\n",
       "      <td>Type_1</td>\n",
       "      <td>2001</td>\n",
       "      <td>44</td>\n",
       "      <td>200144</td>\n",
       "      <td>1</td>\n",
       "    </tr>\n",
       "    <tr>\n",
       "      <th>3</th>\n",
       "      <td>CaptureSite_0</td>\n",
       "      <td>Ocean</td>\n",
       "      <td>Net</td>\n",
       "      <td>LandingSite_CaptureSiteCategory_2</td>\n",
       "      <td>Species_6</td>\n",
       "      <td>60.50</td>\n",
       "      <td>59.00</td>\n",
       "      <td>NaN</td>\n",
       "      <td>Unknown</td>\n",
       "      <td>Released</td>\n",
       "      <td>CaptureSiteCategory_2</td>\n",
       "      <td>Type_1</td>\n",
       "      <td>2002</td>\n",
       "      <td>11</td>\n",
       "      <td>200211</td>\n",
       "      <td>1</td>\n",
       "    </tr>\n",
       "    <tr>\n",
       "      <th>4</th>\n",
       "      <td>CaptureSite_0</td>\n",
       "      <td>Ocean</td>\n",
       "      <td>Beached</td>\n",
       "      <td>LandingSite_CaptureSiteCategory_2</td>\n",
       "      <td>Species_5</td>\n",
       "      <td>34.70</td>\n",
       "      <td>33.00</td>\n",
       "      <td>NaN</td>\n",
       "      <td>Unknown</td>\n",
       "      <td>Released</td>\n",
       "      <td>CaptureSiteCategory_2</td>\n",
       "      <td>Type_1</td>\n",
       "      <td>2002</td>\n",
       "      <td>32</td>\n",
       "      <td>200232</td>\n",
       "      <td>2</td>\n",
       "    </tr>\n",
       "  </tbody>\n",
       "</table>\n",
       "</div>"
      ],
      "text/plain": [
       "     CaptureSite ForagingGround CaptureMethod   \n",
       "0  CaptureSite_0          Ocean           Net  \\\n",
       "1  CaptureSite_0          Ocean           Net   \n",
       "2  CaptureSite_0          Ocean           Net   \n",
       "3  CaptureSite_0          Ocean           Net   \n",
       "4  CaptureSite_0          Ocean       Beached   \n",
       "\n",
       "                         LandingSite    Species  CCL_cm  CCW_cm  Weight_Kg   \n",
       "0  LandingSite_CaptureSiteCategory_2  Species_6   64.70   62.60        NaN  \\\n",
       "1  LandingSite_CaptureSiteCategory_2  Species_6   35.85   31.35        NaN   \n",
       "2  LandingSite_CaptureSiteCategory_2  Species_5   51.80   49.20        NaN   \n",
       "3  LandingSite_CaptureSiteCategory_2  Species_6   60.50   59.00        NaN   \n",
       "4  LandingSite_CaptureSiteCategory_2  Species_5   34.70   33.00        NaN   \n",
       "\n",
       "       Sex    Status    CaptureSiteCategory    Type  year  week_of_year   \n",
       "0  Unknown  Released  CaptureSiteCategory_2  Type_1  2000            51  \\\n",
       "1  Unknown  Released  CaptureSiteCategory_2  Type_1  2001            43   \n",
       "2  Unknown  Released  CaptureSiteCategory_2  Type_1  2001            44   \n",
       "3  Unknown  Released  CaptureSiteCategory_2  Type_1  2002            11   \n",
       "4  Unknown  Released  CaptureSiteCategory_2  Type_1  2002            32   \n",
       "\n",
       "   year_woy  Number_Turtles  \n",
       "0    200051               1  \n",
       "1    200143               1  \n",
       "2    200144               1  \n",
       "3    200211               1  \n",
       "4    200232               2  "
      ]
     },
     "execution_count": 96,
     "metadata": {},
     "output_type": "execute_result"
    }
   ],
   "source": [
    "df_final.head()"
   ]
  },
  {
   "cell_type": "code",
   "execution_count": 97,
   "metadata": {},
   "outputs": [
    {
     "data": {
      "text/plain": [
       "CaptureSite             object\n",
       "ForagingGround          object\n",
       "CaptureMethod           object\n",
       "LandingSite             object\n",
       "Species                 object\n",
       "CCL_cm                 float64\n",
       "CCW_cm                 float64\n",
       "Weight_Kg              float64\n",
       "Sex                     object\n",
       "Status                  object\n",
       "CaptureSiteCategory     object\n",
       "Type                    object\n",
       "year                     int32\n",
       "week_of_year            UInt32\n",
       "year_woy                 Int64\n",
       "Number_Turtles           int64\n",
       "dtype: object"
      ]
     },
     "execution_count": 97,
     "metadata": {},
     "output_type": "execute_result"
    }
   ],
   "source": [
    "df_final.dtypes\n"
   ]
  },
  {
   "cell_type": "markdown",
   "metadata": {},
   "source": [
    "## Split train-test"
   ]
  },
  {
   "cell_type": "code",
   "execution_count": 98,
   "metadata": {},
   "outputs": [],
   "source": [
    "from sklearn.model_selection import train_test_split\n",
    "from sklearn.linear_model import LinearRegression\n",
    "from sklearn.linear_model import LogisticRegression\n",
    "from sklearn.metrics import confusion_matrix, classification_report, accuracy_score\n",
    "\n",
    "\n",
    "from sklearn.metrics import f1_score\n",
    "from sklearn.preprocessing import StandardScaler\n",
    "from sklearn.model_selection import cross_val_score\n",
    "from sklearn.model_selection import GridSearchCV, RandomizedSearchCV"
   ]
  },
  {
   "cell_type": "code",
   "execution_count": 99,
   "metadata": {},
   "outputs": [
    {
     "data": {
      "text/plain": [
       "\"# Getting non-numerical features\\nfeatures_not_numerical = ['Rescue_ID', 'Date_TimeCaught', 'Researcher', 'CaptureSite',\\n       'ForagingGround', 'CaptureMethod', 'Fisher', 'LandingSite', 'Species',\\n       'Tag_1', 'Sex',\\n       'TurtleCharacteristics', 'Status', 'ReleaseSite', 'Date_TimeRelease',\\n       'CaptureSiteCategory', 'Type', 'year', 'week_of_year', 'year_woy']\""
      ]
     },
     "execution_count": 99,
     "metadata": {},
     "output_type": "execute_result"
    }
   ],
   "source": [
    "\"\"\"# Getting non-numerical features\n",
    "features_not_numerical = ['Rescue_ID', 'Date_TimeCaught', 'Researcher', 'CaptureSite',\n",
    "       'ForagingGround', 'CaptureMethod', 'Fisher', 'LandingSite', 'Species',\n",
    "       'Tag_1', 'Sex',\n",
    "       'TurtleCharacteristics', 'Status', 'ReleaseSite', 'Date_TimeRelease',\n",
    "       'CaptureSiteCategory', 'Type', 'year', 'week_of_year', 'year_woy']\"\"\""
   ]
  },
  {
   "cell_type": "code",
   "execution_count": 100,
   "metadata": {},
   "outputs": [],
   "source": [
    "# Define features and target\n",
    "X = df_final.drop(['Number_Turtles'], axis=1)\n",
    "\n",
    "y = df_final['Number_Turtles']"
   ]
  },
  {
   "cell_type": "code",
   "execution_count": 101,
   "metadata": {},
   "outputs": [],
   "source": [
    "# Splitting the data into training and testing data\n",
    "X_train, X_test, y_train, y_test = train_test_split(X, y, test_size=0.20, random_state=42)"
   ]
  },
  {
   "cell_type": "markdown",
   "metadata": {},
   "source": [
    "## Fill missing values - Nan\n",
    "for our RandomForestRegressor we need to fill the missing values\n",
    "Missing Value Imputation: missing value imputation separately for both X_train and X_test"
   ]
  },
  {
   "cell_type": "markdown",
   "metadata": {},
   "source": [
    "### X_train filling in missing values\n"
   ]
  },
  {
   "cell_type": "code",
   "execution_count": 102,
   "metadata": {},
   "outputs": [
    {
     "data": {
      "text/plain": [
       "CaptureSite               0\n",
       "ForagingGround            0\n",
       "CaptureMethod             0\n",
       "LandingSite               0\n",
       "Species                   0\n",
       "CCL_cm                   20\n",
       "CCW_cm                   22\n",
       "Weight_Kg              4318\n",
       "Sex                    3503\n",
       "Status                 2939\n",
       "CaptureSiteCategory       0\n",
       "Type                      0\n",
       "year                      0\n",
       "week_of_year              0\n",
       "year_woy                  0\n",
       "dtype: int64"
      ]
     },
     "execution_count": 102,
     "metadata": {},
     "output_type": "execute_result"
    }
   ],
   "source": [
    "#checking isnull values\n",
    "X_train.isnull().sum()"
   ]
  },
  {
   "cell_type": "code",
   "execution_count": 103,
   "metadata": {},
   "outputs": [
    {
     "data": {
      "text/plain": [
       "count    10131.000000\n",
       "mean         9.833175\n",
       "std          9.770500\n",
       "min          0.020000\n",
       "25%          5.000000\n",
       "50%          7.460000\n",
       "75%         10.740000\n",
       "max        140.000000\n",
       "Name: Weight_Kg, dtype: float64"
      ]
     },
     "execution_count": 103,
     "metadata": {},
     "output_type": "execute_result"
    }
   ],
   "source": [
    "X_train.Weight_Kg.describe()"
   ]
  },
  {
   "cell_type": "code",
   "execution_count": 104,
   "metadata": {},
   "outputs": [],
   "source": [
    "#we have an outlier, so lets use the median to fill the missing values\n",
    "X_train.Weight_Kg.fillna(X_train.Weight_Kg.median(), inplace=True)"
   ]
  },
  {
   "cell_type": "code",
   "execution_count": 105,
   "metadata": {},
   "outputs": [
    {
     "data": {
      "text/plain": [
       "Sex\n",
       "Unknown         10826\n",
       "Female             85\n",
       "Male               33\n",
       "Not_Recorded        2\n",
       "Name: count, dtype: int64"
      ]
     },
     "execution_count": 105,
     "metadata": {},
     "output_type": "execute_result"
    }
   ],
   "source": [
    "X_train.Sex.value_counts()"
   ]
  },
  {
   "cell_type": "code",
   "execution_count": 106,
   "metadata": {},
   "outputs": [],
   "source": [
    "#fill missing values of Sex with Unknown\n",
    "X_train.Sex.fillna('Unknown', inplace=True)"
   ]
  },
  {
   "cell_type": "code",
   "execution_count": 107,
   "metadata": {},
   "outputs": [
    {
     "data": {
      "text/plain": [
       "Status\n",
       "Released                                    10858\n",
       "Admitted                                      226\n",
       "Not_Recorded                                   20\n",
       " green algae on carapace                        7\n",
       " no other major characteristics                 6\n",
       "                                            ...  \n",
       " notch btw 9/10RMS & on 11RMS & 9LMS            1\n",
       " green algae on rear carapace                   1\n",
       " light flaking on shell& sm b on L supra        1\n",
       " small Bs on shoulder and 3rd CS                1\n",
       " tip of supras damaged                          1\n",
       "Name: count, Length: 361, dtype: int64"
      ]
     },
     "execution_count": 107,
     "metadata": {},
     "output_type": "execute_result"
    }
   ],
   "source": [
    "X_train.Status.value_counts()"
   ]
  },
  {
   "cell_type": "code",
   "execution_count": 108,
   "metadata": {},
   "outputs": [],
   "source": [
    "X_train.Status.fillna('Not_Recorded', inplace=True)"
   ]
  },
  {
   "cell_type": "code",
   "execution_count": 109,
   "metadata": {},
   "outputs": [
    {
     "name": "stdout",
     "output_type": "stream",
     "text": [
      "Species\n",
      "Species_0    45.00\n",
      "Species_1    60.55\n",
      "Species_2    44.80\n",
      "Species_3    38.50\n",
      "Species_4    84.30\n",
      "Species_5    43.90\n",
      "Species_6    35.70\n",
      "Species_7    54.70\n",
      "Name: CCL_cm, dtype: float64\n",
      "Species\n",
      "Species_0    44.50\n",
      "Species_1    43.25\n",
      "Species_2    44.40\n",
      "Species_3    35.80\n",
      "Species_4    79.10\n",
      "Species_5    41.80\n",
      "Species_6    33.20\n",
      "Species_7    57.30\n",
      "Name: CCW_cm, dtype: float64\n"
     ]
    }
   ],
   "source": [
    "# how to fill in for CCL_cm and CCW_cm? check median by species?\n",
    "print(X_train.groupby('Species').CCL_cm.median())\n",
    "print(X_train.groupby('Species').CCW_cm.median())"
   ]
  },
  {
   "cell_type": "code",
   "execution_count": 110,
   "metadata": {},
   "outputs": [],
   "source": [
    "#then fill in missing values with median per species\n",
    "X_train.CCL_cm.fillna(X_train.groupby('Species').CCL_cm.transform('median'), inplace=True)\n",
    "X_train.CCW_cm.fillna(X_train.groupby('Species').CCW_cm.transform('median'), inplace=True)"
   ]
  },
  {
   "cell_type": "code",
   "execution_count": 111,
   "metadata": {},
   "outputs": [
    {
     "data": {
      "text/plain": [
       "<Axes: >"
      ]
     },
     "execution_count": 111,
     "metadata": {},
     "output_type": "execute_result"
    },
    {
     "data": {
      "image/png": "[encoded data removed]",
      "text/plain": [
       "<Figure size 2500x1000 with 2 Axes>"
      ]
     },
     "metadata": {},
     "output_type": "display_data"
    }
   ],
   "source": [
    "msno.matrix(X_train)"
   ]
  },
  {
   "cell_type": "markdown",
   "metadata": {},
   "source": [
    "### X_test filling in missing values"
   ]
  },
  {
   "cell_type": "code",
   "execution_count": 112,
   "metadata": {},
   "outputs": [],
   "source": [
    "#we have an outlier, so lets use the median to fill the missing values\n",
    "X_test.Weight_Kg.fillna(X_test.Weight_Kg.median(), inplace=True)\n",
    "#fill missing values of Sex with Unknown\n",
    "X_test.Sex.fillna('Unknown', inplace=True)\n",
    "X_test.Status.fillna('Not_Recorded', inplace=True)\n",
    "#then fill in missing values with median per species\n",
    "X_test.CCL_cm.fillna(X_test.groupby('Species').CCL_cm.transform('median'), inplace=True)\n",
    "X_test.CCW_cm.fillna(X_test.groupby('Species').CCW_cm.transform('median'), inplace=True)"
   ]
  },
  {
   "cell_type": "markdown",
   "metadata": {},
   "source": [
    "## Get dummies"
   ]
  },
  {
   "cell_type": "code",
   "execution_count": 113,
   "metadata": {},
   "outputs": [],
   "source": [
    "from sklearn.compose import ColumnTransformer\n",
    "from sklearn.preprocessing import OneHotEncoder, StandardScaler\n",
    "from sklearn.pipeline import Pipeline"
   ]
  },
  {
   "cell_type": "code",
   "execution_count": 114,
   "metadata": {},
   "outputs": [
    {
     "data": {
      "text/plain": [
       "\"feature_transformer = ColumnTransformer([\\n    ('one_hot_encoding', OneHotEncoder(sparse = False, handle_unknown = 'ignore'), features_not_numerical),\\n    ('Standard_Scaler', StandardScaler(), ['CCL_cm', 'CCW_cm', 'Weight_Kg']), \\n], remainder='drop')\\n\\nx_train_trans = feature_transformer.fit_transform(X_train)\\nx_test_trans = feature_transformer.transform(X_test)\""
      ]
     },
     "execution_count": 114,
     "metadata": {},
     "output_type": "execute_result"
    }
   ],
   "source": [
    "\"\"\"feature_transformer = ColumnTransformer([\n",
    "    ('one_hot_encoding', OneHotEncoder(sparse = False, handle_unknown = 'ignore'), features_not_numerical),\n",
    "    ('Standard_Scaler', StandardScaler(), ['CCL_cm', 'CCW_cm', 'Weight_Kg']), \n",
    "], remainder='drop')\n",
    "\n",
    "x_train_trans = feature_transformer.fit_transform(X_train)\n",
    "x_test_trans = feature_transformer.transform(X_test)\"\"\""
   ]
  },
  {
   "cell_type": "code",
   "execution_count": 115,
   "metadata": {},
   "outputs": [],
   "source": [
    "# List of non-numeric columns to one-hot encode\n",
    "features_not_numerical = ['CaptureSite', 'ForagingGround', 'CaptureMethod', 'LandingSite', 'Species', 'Sex', 'Status',\n",
    "                          'CaptureSiteCategory', 'Type', 'year', 'week_of_year', 'year_woy']\n",
    "\n",
    "# Create a ColumnTransformer\n",
    "feature_transformer = ColumnTransformer([\n",
    "    ('one_hot_encoding', OneHotEncoder(sparse=False, handle_unknown='ignore'), features_not_numerical),\n",
    "    ('Standard_Scaler', StandardScaler(), ['CCL_cm', 'CCW_cm', 'Weight_Kg']),\n",
    "], remainder='drop') # Use 'drop' for the remainder parameter to drop the non-numeric columns after encoding\n",
    "\n",
    "# Create a pipeline to apply the transformation\n",
    "pipeline = Pipeline([\n",
    "    ('preprocessor', feature_transformer),\n",
    "])\n",
    "\n",
    "# Fit and transform the training data\n",
    "x_train_trans = pipeline.fit_transform(X_train)\n",
    "\n",
    "# Transform the test data using the same transformation\n",
    "x_test_trans = pipeline.transform(X_test)\n"
   ]
  },
  {
   "cell_type": "code",
   "execution_count": 116,
   "metadata": {},
   "outputs": [
    {
     "data": {
      "text/plain": [
       "(14449, 1498)"
      ]
     },
     "execution_count": 116,
     "metadata": {},
     "output_type": "execute_result"
    }
   ],
   "source": [
    "x_train_trans.shape\n"
   ]
  },
  {
   "cell_type": "markdown",
   "metadata": {},
   "source": [
    "# Baseline Model: DummyRegressor"
   ]
  },
  {
   "cell_type": "code",
   "execution_count": 117,
   "metadata": {},
   "outputs": [
    {
     "name": "stdout",
     "output_type": "stream",
     "text": [
      "Dummy Regressor root mean squared error: 3.82\n"
     ]
    }
   ],
   "source": [
    "#Baseline model on One-Hot encoded data\n",
    "from sklearn.dummy import DummyRegressor\n",
    "from sklearn.metrics import mean_squared_error\n",
    "\n",
    "dummy_mean = DummyRegressor(strategy='mean')\n",
    "dummy_mean.fit(x_train_trans, y_train)\n",
    "y_pred1 = dummy_mean.predict(x_test_trans)\n",
    "\n",
    "print('Dummy Regressor root mean squared error: {:.2f}'.format(mean_squared_error(y_test, y_pred1, squared=False)))"
   ]
  },
  {
   "cell_type": "code",
   "execution_count": 118,
   "metadata": {},
   "outputs": [
    {
     "data": {
      "image/png": "[encoded data removed]",
      "text/plain": [
       "<Figure size 1170x827 with 1 Axes>"
      ]
     },
     "metadata": {},
     "output_type": "display_data"
    }
   ],
   "source": [
    "#vizualize baseline model: DummyRegressor\n",
    "\n",
    "sns.set_theme(style=\"whitegrid\")\n",
    "sns.set(rc={'figure.figsize':(11.7,8.27)})\n",
    "sns.set(font_scale=1.5)\n",
    "\n",
    "sns.scatterplot(x=y_test, y=y_pred1, color='blue')\n",
    "plt.xlabel('Actual Number of Turtles')\n",
    "plt.ylabel('Predicted Number of Turtles')\n",
    "plt.title('Dummy Regressor')\n",
    "plt.show()\n"
   ]
  },
  {
   "cell_type": "markdown",
   "metadata": {},
   "source": [
    "# Model 1: Random Forest"
   ]
  },
  {
   "cell_type": "code",
   "execution_count": 129,
   "metadata": {},
   "outputs": [
    {
     "name": "stdout",
     "output_type": "stream",
     "text": [
      "Random Forest Regressor Root Mean Squared Error: 0.67\n"
     ]
    }
   ],
   "source": [
    "from sklearn.ensemble import RandomForestRegressor\n",
    "from sklearn.metrics import mean_squared_error\n",
    "\n",
    "# Create and train the Random Forest Regressor\n",
    "random_forest_regressor = RandomForestRegressor(random_state=42)  # You can adjust hyperparameters here\n",
    "random_forest_regressor.fit(x_train_trans, y_train)\n",
    "\n",
    "# Make predictions on the test set\n",
    "y_pred_rf = random_forest_regressor.predict(x_test_trans)\n",
    "\n",
    "# Evaluate the model using Mean Squared Error (MSE)\n",
    "mse_rf = mean_squared_error(y_test, y_pred_rf)\n",
    "print('Random Forest Regressor Root Mean Squared Error: {:.2f}'.format(mse_rf, squared=False))\n",
    "\n"
   ]
  },
  {
   "cell_type": "markdown",
   "metadata": {},
   "source": [
    "#### feature importance"
   ]
  },
  {
   "cell_type": "code",
   "execution_count": 120,
   "metadata": {},
   "outputs": [
    {
     "data": {
      "text/html": [
       "<div>\n",
       "<style scoped>\n",
       "    .dataframe tbody tr th:only-of-type {\n",
       "        vertical-align: middle;\n",
       "    }\n",
       "\n",
       "    .dataframe tbody tr th {\n",
       "        vertical-align: top;\n",
       "    }\n",
       "\n",
       "    .dataframe thead th {\n",
       "        text-align: right;\n",
       "    }\n",
       "</style>\n",
       "<table border=\"1\" class=\"dataframe\">\n",
       "  <thead>\n",
       "    <tr style=\"text-align: right;\">\n",
       "      <th></th>\n",
       "      <th>feature</th>\n",
       "      <th>importance</th>\n",
       "    </tr>\n",
       "  </thead>\n",
       "  <tbody>\n",
       "    <tr>\n",
       "      <th>966</th>\n",
       "      <td>Feature_967</td>\n",
       "      <td>0.090500</td>\n",
       "    </tr>\n",
       "    <tr>\n",
       "      <th>18</th>\n",
       "      <td>Feature_19</td>\n",
       "      <td>0.083926</td>\n",
       "    </tr>\n",
       "    <tr>\n",
       "      <th>7</th>\n",
       "      <td>Feature_8</td>\n",
       "      <td>0.061194</td>\n",
       "    </tr>\n",
       "    <tr>\n",
       "      <th>28</th>\n",
       "      <td>Feature_29</td>\n",
       "      <td>0.054151</td>\n",
       "    </tr>\n",
       "    <tr>\n",
       "      <th>970</th>\n",
       "      <td>Feature_971</td>\n",
       "      <td>0.045916</td>\n",
       "    </tr>\n",
       "    <tr>\n",
       "      <th>1188</th>\n",
       "      <td>Feature_1189</td>\n",
       "      <td>0.024919</td>\n",
       "    </tr>\n",
       "    <tr>\n",
       "      <th>974</th>\n",
       "      <td>Feature_975</td>\n",
       "      <td>0.019795</td>\n",
       "    </tr>\n",
       "    <tr>\n",
       "      <th>1120</th>\n",
       "      <td>Feature_1121</td>\n",
       "      <td>0.019250</td>\n",
       "    </tr>\n",
       "    <tr>\n",
       "      <th>967</th>\n",
       "      <td>Feature_968</td>\n",
       "      <td>0.018684</td>\n",
       "    </tr>\n",
       "    <tr>\n",
       "      <th>20</th>\n",
       "      <td>Feature_21</td>\n",
       "      <td>0.015067</td>\n",
       "    </tr>\n",
       "  </tbody>\n",
       "</table>\n",
       "</div>"
      ],
      "text/plain": [
       "           feature  importance\n",
       "966    Feature_967    0.090500\n",
       "18      Feature_19    0.083926\n",
       "7        Feature_8    0.061194\n",
       "28      Feature_29    0.054151\n",
       "970    Feature_971    0.045916\n",
       "1188  Feature_1189    0.024919\n",
       "974    Feature_975    0.019795\n",
       "1120  Feature_1121    0.019250\n",
       "967    Feature_968    0.018684\n",
       "20      Feature_21    0.015067"
      ]
     },
     "execution_count": 120,
     "metadata": {},
     "output_type": "execute_result"
    }
   ],
   "source": [
    "# Convert the NumPy array to a pandas DataFrame with feature names\n",
    "x_train_trans_df = pd.DataFrame(x_train_trans, columns=features)\n",
    "\n",
    "# Now you can access the columns attribute\n",
    "features = list(x_train_trans_df.columns)\n",
    "\n",
    "# Continue with your feature importance calculation\n",
    "fi = pd.DataFrame({'feature': features,\n",
    "                   'importance': random_forest_regressor.feature_importances_}).\\\n",
    "                    sort_values('importance', ascending=False)\n",
    "fi.head(10)\n"
   ]
  },
  {
   "cell_type": "markdown",
   "metadata": {},
   "source": [
    "#### hyperparameter tuning with RandomizedSearchCV"
   ]
  },
  {
   "cell_type": "code",
   "execution_count": 122,
   "metadata": {},
   "outputs": [],
   "source": [
    "#define RSEED\n",
    "RSEED = 42"
   ]
  },
  {
   "cell_type": "code",
   "execution_count": 130,
   "metadata": {},
   "outputs": [
    {
     "name": "stdout",
     "output_type": "stream",
     "text": [
      "Fitting 3 folds for each of 20 candidates, totalling 60 fits\n"
     ]
    },
    {
     "name": "stderr",
     "output_type": "stream",
     "text": [
      "/Users/janicepelzer/Documents/neuefische/day28-Ninja-Turtles/.venv/lib/python3.11/site-packages/sklearn/ensemble/_forest.py:413: FutureWarning: `max_features='auto'` has been deprecated in 1.1 and will be removed in 1.3. To keep the past behaviour, explicitly set `max_features=1.0` or remove this parameter as it is also the default value for RandomForestRegressors and ExtraTreesRegressors.\n",
      "  warn(\n",
      "/Users/janicepelzer/Documents/neuefische/day28-Ninja-Turtles/.venv/lib/python3.11/site-packages/sklearn/ensemble/_forest.py:413: FutureWarning: `max_features='auto'` has been deprecated in 1.1 and will be removed in 1.3. To keep the past behaviour, explicitly set `max_features=1.0` or remove this parameter as it is also the default value for RandomForestRegressors and ExtraTreesRegressors.\n",
      "  warn(\n",
      "/Users/janicepelzer/Documents/neuefische/day28-Ninja-Turtles/.venv/lib/python3.11/site-packages/sklearn/ensemble/_forest.py:413: FutureWarning: `max_features='auto'` has been deprecated in 1.1 and will be removed in 1.3. To keep the past behaviour, explicitly set `max_features=1.0` or remove this parameter as it is also the default value for RandomForestRegressors and ExtraTreesRegressors.\n",
      "  warn(\n",
      "/Users/janicepelzer/Documents/neuefische/day28-Ninja-Turtles/.venv/lib/python3.11/site-packages/sklearn/ensemble/_forest.py:413: FutureWarning: `max_features='auto'` has been deprecated in 1.1 and will be removed in 1.3. To keep the past behaviour, explicitly set `max_features=1.0` or remove this parameter as it is also the default value for RandomForestRegressors and ExtraTreesRegressors.\n",
      "  warn(\n",
      "/Users/janicepelzer/Documents/neuefische/day28-Ninja-Turtles/.venv/lib/python3.11/site-packages/sklearn/ensemble/_forest.py:413: FutureWarning: `max_features='auto'` has been deprecated in 1.1 and will be removed in 1.3. To keep the past behaviour, explicitly set `max_features=1.0` or remove this parameter as it is also the default value for RandomForestRegressors and ExtraTreesRegressors.\n",
      "  warn(\n",
      "/Users/janicepelzer/Documents/neuefische/day28-Ninja-Turtles/.venv/lib/python3.11/site-packages/sklearn/ensemble/_forest.py:413: FutureWarning: `max_features='auto'` has been deprecated in 1.1 and will be removed in 1.3. To keep the past behaviour, explicitly set `max_features=1.0` or remove this parameter as it is also the default value for RandomForestRegressors and ExtraTreesRegressors.\n",
      "  warn(\n",
      "/Users/janicepelzer/Documents/neuefische/day28-Ninja-Turtles/.venv/lib/python3.11/site-packages/sklearn/ensemble/_forest.py:413: FutureWarning: `max_features='auto'` has been deprecated in 1.1 and will be removed in 1.3. To keep the past behaviour, explicitly set `max_features=1.0` or remove this parameter as it is also the default value for RandomForestRegressors and ExtraTreesRegressors.\n",
      "  warn(\n",
      "/Users/janicepelzer/Documents/neuefische/day28-Ninja-Turtles/.venv/lib/python3.11/site-packages/sklearn/ensemble/_forest.py:413: FutureWarning: `max_features='auto'` has been deprecated in 1.1 and will be removed in 1.3. To keep the past behaviour, explicitly set `max_features=1.0` or remove this parameter as it is also the default value for RandomForestRegressors and ExtraTreesRegressors.\n",
      "  warn(\n",
      "/Users/janicepelzer/Documents/neuefische/day28-Ninja-Turtles/.venv/lib/python3.11/site-packages/sklearn/ensemble/_forest.py:413: FutureWarning: `max_features='auto'` has been deprecated in 1.1 and will be removed in 1.3. To keep the past behaviour, explicitly set `max_features=1.0` or remove this parameter as it is also the default value for RandomForestRegressors and ExtraTreesRegressors.\n",
      "  warn(\n"
     ]
    },
    {
     "name": "stdout",
     "output_type": "stream",
     "text": [
      "{'n_estimators': 196, 'min_samples_split': 10, 'max_leaf_nodes': 49, 'max_features': 0.7, 'max_depth': 17, 'bootstrap': True}\n"
     ]
    }
   ],
   "source": [
    "from sklearn.model_selection import RandomizedSearchCV\n",
    "\n",
    "# Hyperparameter grid\n",
    "param_grid = {\n",
    "    'n_estimators': np.linspace(10, 200).astype(int),\n",
    "    'max_depth': [None] + list(np.linspace(3, 20).astype(int)),\n",
    "    'max_features': ['auto', 'sqrt', None] + list(np.arange(0.5, 1, 0.1)),\n",
    "    'max_leaf_nodes': [None] + list(np.linspace(10, 50, 500).astype(int)),\n",
    "    'min_samples_split': [2, 5, 10],\n",
    "    'bootstrap': [True, False]\n",
    "}\n",
    "\n",
    "# Estimator for use in random search\n",
    "estimator = RandomForestRegressor(random_state = RSEED)\n",
    "\n",
    "# Create the random search model\n",
    "rs = RandomizedSearchCV(estimator, param_grid, n_jobs = -1, \n",
    "                        scoring = 'neg_mean_squared_error', cv = 3, \n",
    "                        n_iter = 20, verbose = 1, random_state=RSEED)\n",
    "\n",
    "# Fit \n",
    "rs.fit(x_train_trans, y_train)\n",
    "print(rs.best_params_)"
   ]
  },
  {
   "cell_type": "code",
   "execution_count": 125,
   "metadata": {},
   "outputs": [],
   "source": [
    "best_model = rs.best_estimator_"
   ]
  },
  {
   "cell_type": "code",
   "execution_count": 126,
   "metadata": {},
   "outputs": [
    {
     "name": "stdout",
     "output_type": "stream",
     "text": [
      "Average number of nodes 35\n",
      "Average maximum depth 9\n"
     ]
    }
   ],
   "source": [
    "n_nodes = []\n",
    "max_depths = []\n",
    "\n",
    "for ind_tree in best_model.estimators_:\n",
    "    n_nodes.append(ind_tree.tree_.node_count)\n",
    "    max_depths.append(ind_tree.tree_.max_depth)\n",
    "    \n",
    "print(f'Average number of nodes {int(np.mean(n_nodes))}')\n",
    "print(f'Average maximum depth {int(np.mean(max_depths))}')\n"
   ]
  },
  {
   "cell_type": "code",
   "execution_count": 131,
   "metadata": {},
   "outputs": [
    {
     "name": "stdout",
     "output_type": "stream",
     "text": [
      "Random Forest Regressor after hyperparameter tuning RMSE:: 2.85\n"
     ]
    }
   ],
   "source": [
    "y_pred_test_rs = best_model.predict(x_test_trans)\n",
    "print(\"Random Forest Regressor after hyperparameter tuning RMSE::\", round(np.sqrt(mean_squared_error(y_test, y_pred_test_rs,)), 3))"
   ]
  },
  {
   "cell_type": "markdown",
   "metadata": {},
   "source": [
    "### next models: \n",
    "* Linear Regression\n",
    "* Ridge and Lasso\n",
    "* KNN neares neighbors\n"
   ]
  },
  {
   "cell_type": "markdown",
   "metadata": {},
   "source": [
    "# Model: Linear Regression (won't use, bad RMSE)"
   ]
  },
  {
   "cell_type": "code",
   "execution_count": 132,
   "metadata": {},
   "outputs": [
    {
     "name": "stdout",
     "output_type": "stream",
     "text": [
      "Linear Regression RMSE: 984957622061.265\n"
     ]
    }
   ],
   "source": [
    "#train model\n",
    "linreg = LinearRegression()\n",
    "linreg.fit(x_train_trans, y_train)\n",
    "y_pred3 = linreg.predict(x_test_trans)\n",
    "#print('Linear Regression root mean squared error: {:.2f}'.format(mean_squared_error(y_test, y_pred3, squared=False)))\n",
    "print(\"Linear Regression RMSE:\", round(np.sqrt(mean_squared_error(y_test, y_pred3)), 3))"
   ]
  },
  {
   "cell_type": "markdown",
   "metadata": {},
   "source": [
    "# Model: Logistic Regression (use or not use?)"
   ]
  },
  {
   "cell_type": "code",
   "execution_count": null,
   "metadata": {},
   "outputs": [
    {
     "name": "stdout",
     "output_type": "stream",
     "text": [
      "Logistic Regression root mean squared error: 2.64\n"
     ]
    }
   ],
   "source": [
    "#train model\n",
    "logreg = LogisticRegression()\n",
    "logreg.fit(x_train_trans, y_train)\n",
    "y_pred4 = logreg.predict(x_test_trans)\n",
    "print('Logistic Regression root mean squared error: {:.2f}'.format(mean_squared_error(y_test, y_pred4, squared=False)))"
   ]
  },
  {
   "cell_type": "markdown",
   "metadata": {},
   "source": [
    "# Model 2: Ridege Regression"
   ]
  },
  {
   "cell_type": "code",
   "execution_count": null,
   "metadata": {},
   "outputs": [],
   "source": []
  },
  {
   "cell_type": "markdown",
   "metadata": {},
   "source": [
    "# Model 3: Lasso Regression"
   ]
  },
  {
   "cell_type": "code",
   "execution_count": null,
   "metadata": {},
   "outputs": [],
   "source": []
  },
  {
   "cell_type": "markdown",
   "metadata": {},
   "source": [
    "# Model 4: KNN nearest neighbors"
   ]
  },
  {
   "cell_type": "code",
   "execution_count": null,
   "metadata": {},
   "outputs": [
    {
     "name": "stdout",
     "output_type": "stream",
     "text": [
      "Logistic Regression root mean squared error: 2.30\n"
     ]
    }
   ],
   "source": [
    "# KNNRegressor\n",
    "from sklearn.neighbors import KNeighborsRegressor\n",
    "\n",
    "# Create and train the KNN Regressor\n",
    "knn_regressor = KNeighborsRegressor(n_neighbors=5)  # You can adjust hyperparameters here\n",
    "knn_regressor.fit(x_train_trans, y_train)\n",
    "knn_y_pred = knn_regressor.predict(x_test_trans)\n",
    "\n",
    "print('Logistic Regression root mean squared error: {:.2f}'.format(mean_squared_error(y_test, knn_y_pred, squared=False)))"
   ]
  },
  {
   "cell_type": "code",
   "execution_count": null,
   "metadata": {},
   "outputs": [
    {
     "name": "stdout",
     "output_type": "stream",
     "text": [
      "Fitting 3 folds for each of 28 candidates, totalling 84 fits\n",
      "Best hyperparameters: {'metric': 'manhattan', 'n_neighbors': 5, 'weights': 'distance'}\n",
      "Best score: 0.7135538971562578\n",
      "Best estimator: KNeighborsRegressor(metric='manhattan', weights='distance')\n",
      "Best index: 17\n",
      "Scorer function: <function _passthrough_scorer at 0x147c47560>\n",
      "Number of folds: 3\n",
      "Refit time: 0.07711100578308105\n"
     ]
    },
    {
     "ename": "AttributeError",
     "evalue": "'KNeighborsRegressor' object has no attribute 'classes_'",
     "output_type": "error",
     "traceback": [
      "\u001b[0;31m---------------------------------------------------------------------------\u001b[0m",
      "\u001b[0;31mAttributeError\u001b[0m                            Traceback (most recent call last)",
      "Cell \u001b[0;32mIn[57], line 31\u001b[0m\n\u001b[1;32m     29\u001b[0m \u001b[39mprint\u001b[39m(\u001b[39m'\u001b[39m\u001b[39mNumber of folds:\u001b[39m\u001b[39m'\u001b[39m, gs\u001b[39m.\u001b[39mn_splits_)\n\u001b[1;32m     30\u001b[0m \u001b[39mprint\u001b[39m(\u001b[39m'\u001b[39m\u001b[39mRefit time:\u001b[39m\u001b[39m'\u001b[39m, gs\u001b[39m.\u001b[39mrefit_time_)\n\u001b[0;32m---> 31\u001b[0m \u001b[39mprint\u001b[39m(\u001b[39m'\u001b[39m\u001b[39mClasses:\u001b[39m\u001b[39m'\u001b[39m, gs\u001b[39m.\u001b[39;49mclasses_)\n\u001b[1;32m     32\u001b[0m \u001b[39mprint\u001b[39m(\u001b[39m'\u001b[39m\u001b[39mNumber of output features:\u001b[39m\u001b[39m'\u001b[39m, gs\u001b[39m.\u001b[39mn_features_out_)\n\u001b[1;32m     33\u001b[0m \u001b[39mprint\u001b[39m(\u001b[39m'\u001b[39m\u001b[39mNumber of samples:\u001b[39m\u001b[39m'\u001b[39m, gs\u001b[39m.\u001b[39mn_samples_fit_)\n",
      "File \u001b[0;32m~/Documents/neuefische/day28-Ninja-Turtles/.venv/lib/python3.11/site-packages/sklearn/model_selection/_search.py:639\u001b[0m, in \u001b[0;36mBaseSearchCV.classes_\u001b[0;34m(self)\u001b[0m\n\u001b[1;32m    633\u001b[0m \u001b[39m@property\u001b[39m\n\u001b[1;32m    634\u001b[0m \u001b[39mdef\u001b[39;00m \u001b[39mclasses_\u001b[39m(\u001b[39mself\u001b[39m):\n\u001b[1;32m    635\u001b[0m \u001b[39m    \u001b[39m\u001b[39m\"\"\"Class labels.\u001b[39;00m\n\u001b[1;32m    636\u001b[0m \n\u001b[1;32m    637\u001b[0m \u001b[39m    Only available when `refit=True` and the estimator is a classifier.\u001b[39;00m\n\u001b[1;32m    638\u001b[0m \u001b[39m    \"\"\"\u001b[39;00m\n\u001b[0;32m--> 639\u001b[0m     _estimator_has(\u001b[39m\"\u001b[39;49m\u001b[39mclasses_\u001b[39;49m\u001b[39m\"\u001b[39;49m)(\u001b[39mself\u001b[39;49m)\n\u001b[1;32m    640\u001b[0m     \u001b[39mreturn\u001b[39;00m \u001b[39mself\u001b[39m\u001b[39m.\u001b[39mbest_estimator_\u001b[39m.\u001b[39mclasses_\n",
      "File \u001b[0;32m~/Documents/neuefische/day28-Ninja-Turtles/.venv/lib/python3.11/site-packages/sklearn/model_selection/_search.py:362\u001b[0m, in \u001b[0;36m_estimator_has.<locals>.check\u001b[0;34m(self)\u001b[0m\n\u001b[1;32m    359\u001b[0m _check_refit(\u001b[39mself\u001b[39m, attr)\n\u001b[1;32m    360\u001b[0m \u001b[39mif\u001b[39;00m \u001b[39mhasattr\u001b[39m(\u001b[39mself\u001b[39m, \u001b[39m\"\u001b[39m\u001b[39mbest_estimator_\u001b[39m\u001b[39m\"\u001b[39m):\n\u001b[1;32m    361\u001b[0m     \u001b[39m# raise an AttributeError if `attr` does not exist\u001b[39;00m\n\u001b[0;32m--> 362\u001b[0m     \u001b[39mgetattr\u001b[39;49m(\u001b[39mself\u001b[39;49m\u001b[39m.\u001b[39;49mbest_estimator_, attr)\n\u001b[1;32m    363\u001b[0m     \u001b[39mreturn\u001b[39;00m \u001b[39mTrue\u001b[39;00m\n\u001b[1;32m    364\u001b[0m \u001b[39m# raise an AttributeError if `attr` does not exist\u001b[39;00m\n",
      "\u001b[0;31mAttributeError\u001b[0m: 'KNeighborsRegressor' object has no attribute 'classes_'"
     ]
    }
   ],
   "source": [
    "#Hyperparameter tuning in KNNRegressor\n",
    "from sklearn.model_selection import GridSearchCV\n",
    "\n",
    "# Create a dictionary of hyperparameters to search\n",
    "grid_params = {\n",
    "    'n_neighbors': [3, 5, 7, 9, 11, 13, 15],\n",
    "    'weights': ['uniform', 'distance'],\n",
    "    'metric': ['euclidean', 'manhattan']\n",
    "}\n",
    "\n",
    "# Create a grid search object   \n",
    "gs = GridSearchCV(\n",
    "    KNeighborsRegressor(),  # The model to optimize\n",
    "    grid_params,  # The hyperparameter space\n",
    "    verbose=1,  # Verbosity: how much information to display\n",
    "    cv=3,  # Number of cross-validation folds\n",
    "    n_jobs=-1  # Number of parallel jobs (-1 means \"all processors\")\n",
    ")\n",
    "\n",
    "# Fit the model\n",
    "gs.fit(x_train_trans, y_train)\n",
    "\n",
    "# Get the best hyperparameters\n",
    "print('Best hyperparameters:', gs.best_params_)\n",
    "print('Best score:', gs.best_score_)\n",
    "print('Best estimator:', gs.best_estimator_)\n",
    "print('Best index:', gs.best_index_)\n",
    "print('Scorer function:', gs.scorer_)\n",
    "print('Number of folds:', gs.n_splits_)\n"
   ]
  },
  {
   "cell_type": "code",
   "execution_count": null,
   "metadata": {},
   "outputs": [],
   "source": [
    "# fir knn model with best parameters\n",
    "knn_best_params = gs.best_params_"
   ]
  },
  {
   "cell_type": "markdown",
   "metadata": {},
   "source": [
    "# Comparison of all models"
   ]
  }
 ],
 "metadata": {
  "kernelspec": {
   "display_name": "Python 3",
   "language": "python",
   "name": "python3"
  },
  "language_info": {
   "codemirror_mode": {
    "name": "ipython",
    "version": 3
   },
   "file_extension": ".py",
   "mimetype": "text/x-python",
   "name": "python",
   "nbconvert_exporter": "python",
   "pygments_lexer": "ipython3",
   "version": "3.11.3"
  }
 },
 "nbformat": 4,
 "nbformat_minor": 4
}
