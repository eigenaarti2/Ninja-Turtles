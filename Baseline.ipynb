{
 "cells": [
  {
   "cell_type": "markdown",
   "metadata": {},
   "source": [
    "# Turtle Rescue Forecast Challenge\n"
   ]
  },
  {
   "cell_type": "markdown",
   "metadata": {},
   "source": [
    "* Link:\n",
    "[Turtle Rescue Forecast Challenge](https://zindi.africa/competitions/turtle-rescue-forecast-challenge/data)"
   ]
  },
  {
   "cell_type": "markdown",
   "metadata": {},
   "source": [
    "* Objective: The objective of this challenge is to forecast the number of turtles caught per week per capture site. This will help Local Ocean plan their staff schedules and budget."
   ]
  },
  {
   "cell_type": "markdown",
   "metadata": {},
   "source": [
    "| Variable             | Description                                                                                                                                               |\n",
    "|----------------------|-----------------------------------------------------------------------------------------------------------------------------------------------------------|\n",
    "| Rescue_ID            | It’s an individual bycatch incidence identity number. The numbers are consecutive, for each year e.g. 2018_RE_0732 means rescue number 732 in year 2018 | \n",
    "| Date_TimeCaught      | Date the turtle is captured e.g. 06/01/ |2018                                                                                                                |\n",
    "| Researcher           | Name of bycatch officer(s) involved with specific rescue                                                                                                   |\n",
    "| Capture Site         | Area where turtle was captured, as reported by the fisher.                                                                                                 |\n",
    "| Foraging Ground      | General area of ocean area where turtle was captured. The assumption is that the turtle was foraging where it was captured.                               |\n",
    "| Capture Method       | Fishing gear or method used by fishers to capture the turtle                                                                                               |\n",
    "| Fisher               | Name of the fisher who captured the turtle                                                                                                                 |\n",
    "| Landing_Site         | Section of beach where turtle is landed.                                                                                                                  |\n",
    "| Species              | Species of turtle (e.g. green turtle, hawksbill, loggerhead etc.)                                                                                          |\n",
    "| Tag_1                | Individual / unique number used to identify a turtle. Each turtle that is captured is tagged.                                                            |\n",
    "| Tag_2                | Second tag added to large turtles. Turtles with two tags: tag 1 is an odd number e.g. KEL0169 and tag 2 is even and consequent e.g. KEL0170                |\n",
    "| Lost_Tags            | Replaced tags. If a turtle has outgrown its tag, the tag is removed and replaced with a bigger one, with a different number                              |\n",
    "| T_Number             | It a number given to a turtle that has been taken to the rehabilitation facility (TRC) for treatment.                                                    |\n",
    "| CCL_cm               | Central Carapace Length (Biometric measurement). Measured in centimetres                                                                                  |\n",
    "| CCW_cm               | Central Carapace Width (Biometric measurement). Measured in centimetres                                                                                    |\n",
    "| Weight_Kg            | (Biometric measurement). Measured in Kgs                                                                                                                   |\n",
    "| Sex                  | Gender of the turtle.                                                                                                                                     |\n",
    "| Turtle Characteristics | Description of turtles (mostly unusual occurrences e.g. disease, injury, parasites etc. Usually as short textual description                               |\n",
    "| Status               | Indicates whether the turtle is released or admitted to TRC                                                                                                |\n",
    "| Release Site         | Site where the turtle is released                                                                                                                          |\n",
    "| Date_Release         | Date turtle is released                                                                                                                                    |\n",
    "| Release_Admiss_Notes | Additional information about release                                                                                                                      |\n",
    "| SpecialRemarks       | Additional info (General) about turtle                                                                                                                     |\n"
   ]
  },
  {
   "cell_type": "markdown",
   "metadata": {},
   "source": [
    "Actions to take:\n",
    "\n",
    "Date_TimeRelease: we don't need it, because it is not relevant to our target, too many missing values\n",
    "\n",
    "datetime_caught\n",
    "datetime_release\n",
    "capturesite\n",
    "foraging\n",
    "landing site\n",
    "capture number- target variable(?)\n",
    "rescue id\n",
    "\n",
    " 0   Rescue_ID              18062 non-null  object  nonnumerical, probably we won't use it, \n",
    " 1   Date_TimeCaught        18062 non-null  object  date time, we will use it, changed to date format, no missing values, skewed to the right, (done)\n",
    " 2   Researcher             18062 non-null  object  nonnumerical, inbalecd more researcher 20, probably we don't need it, \n",
    " 3   CaptureSite            18062 non-null  object  categorical, inbalanced, high correlation, much more from 'other values', probably drop 'other values', normalize\n",
    " 4   ForagingGround         18062 non-null  object  categorical, high correlation, inbalanced, much more from Creek, normalize\n",
    " 5   CaptureMethod          18062 non-null  object  categorical, inbalanced, much more from 'net', probably we don't need it\n",
    " 6   Fisher                 18062 non-null  object  categorical, probably we don't need it\n",
    " 7   LandingSite            18062 non-null  object  categorical, high correlation,  much more of '8469', inbalanced \n",
    " 8   Species                18062 non-null  object  categorical, inbalanced, more of 5, probably we don't need it\n",
    " 9   Tag_1                  17937 non-null  object  nonnumerical, don't need\n",
    " 10  Tag_2                  4911 non-null   object  categorical, missing values, \n",
    " 11  Lost_Tags              925 non-null    object  nonnumerical, missing values (?), \n",
    " 12  T_Number               38 non-null     object  \n",
    " 13  CCL_cm                 18038 non-null  float64\n",
    " 14  CCW_cm                 18035 non-null  float64\n",
    " 15  Weight_Kg              12653 non-null  float64\n",
    " 16  Sex                    13732 non-null  object \n",
    " 17  TurtleCharacteristics  18010 non-null  object \n",
    " 18  Status                 14429 non-null  object \n",
    " 19  ReleaseSite            17987 non-null  object \n",
    " 20  Date_TimeRelease       11954 non-null  object"
   ]
  },
  {
   "cell_type": "markdown",
   "metadata": {},
   "source": [
    "## Set-up and Import"
   ]
  },
  {
   "cell_type": "markdown",
   "metadata": {},
   "source": [
    "Terminal: \n",
    "'make setup'"
   ]
  },
  {
   "cell_type": "code",
   "execution_count": 2,
   "metadata": {},
   "outputs": [],
   "source": [
    "import pandas as pd\n",
    "import numpy as np\n",
    "import warnings\n",
    "warnings.filterwarnings('ignore')\n",
    "\n",
    "from ydata_profiling import ProfileReport\n",
    "\n",
    "import missingno as msno\n",
    "\n"
   ]
  },
  {
   "cell_type": "code",
   "execution_count": 3,
   "metadata": {},
   "outputs": [],
   "source": [
    "#! pip install ydata-profiling --upgrade"
   ]
  },
  {
   "cell_type": "code",
   "execution_count": 4,
   "metadata": {},
   "outputs": [
    {
     "data": {
      "text/html": [
       "<div>\n",
       "<style scoped>\n",
       "    .dataframe tbody tr th:only-of-type {\n",
       "        vertical-align: middle;\n",
       "    }\n",
       "\n",
       "    .dataframe tbody tr th {\n",
       "        vertical-align: top;\n",
       "    }\n",
       "\n",
       "    .dataframe thead th {\n",
       "        text-align: right;\n",
       "    }\n",
       "</style>\n",
       "<table border=\"1\" class=\"dataframe\">\n",
       "  <thead>\n",
       "    <tr style=\"text-align: right;\">\n",
       "      <th></th>\n",
       "      <th>CaptureSite</th>\n",
       "      <th>CaptureSiteCategory</th>\n",
       "      <th>Type</th>\n",
       "    </tr>\n",
       "  </thead>\n",
       "  <tbody>\n",
       "    <tr>\n",
       "      <th>0</th>\n",
       "      <td>CaptureSite_0</td>\n",
       "      <td>CaptureSiteCategory_2</td>\n",
       "      <td>Type_1</td>\n",
       "    </tr>\n",
       "    <tr>\n",
       "      <th>1</th>\n",
       "      <td>CaptureSite_1</td>\n",
       "      <td>CaptureSiteCategory_2</td>\n",
       "      <td>Type_1</td>\n",
       "    </tr>\n",
       "    <tr>\n",
       "      <th>2</th>\n",
       "      <td>CaptureSite_10</td>\n",
       "      <td>CaptureSiteCategory_2</td>\n",
       "      <td>Type_1</td>\n",
       "    </tr>\n",
       "    <tr>\n",
       "      <th>3</th>\n",
       "      <td>CaptureSite_11</td>\n",
       "      <td>CaptureSiteCategory_0</td>\n",
       "      <td>Type_0</td>\n",
       "    </tr>\n",
       "    <tr>\n",
       "      <th>4</th>\n",
       "      <td>CaptureSite_12</td>\n",
       "      <td>CaptureSiteCategory_2</td>\n",
       "      <td>Type_1</td>\n",
       "    </tr>\n",
       "  </tbody>\n",
       "</table>\n",
       "</div>"
      ],
      "text/plain": [
       "      CaptureSite    CaptureSiteCategory    Type\n",
       "0   CaptureSite_0  CaptureSiteCategory_2  Type_1\n",
       "1   CaptureSite_1  CaptureSiteCategory_2  Type_1\n",
       "2  CaptureSite_10  CaptureSiteCategory_2  Type_1\n",
       "3  CaptureSite_11  CaptureSiteCategory_0  Type_0\n",
       "4  CaptureSite_12  CaptureSiteCategory_2  Type_1"
      ]
     },
     "execution_count": 4,
     "metadata": {},
     "output_type": "execute_result"
    }
   ],
   "source": [
    "# Turtles dataset - CaptureSite_category.csv\n",
    "df_capturesite_category = pd.read_csv('./data/CaptureSite_category.csv')\n",
    "df_capturesite_category.head()"
   ]
  },
  {
   "cell_type": "code",
   "execution_count": 5,
   "metadata": {},
   "outputs": [
    {
     "data": {
      "text/plain": [
       "array(['CaptureSite_0', 'CaptureSite_1', 'CaptureSite_10',\n",
       "       'CaptureSite_11', 'CaptureSite_12', 'CaptureSite_13',\n",
       "       'CaptureSite_14', 'CaptureSite_15', 'CaptureSite_16',\n",
       "       'CaptureSite_17', 'CaptureSite_18', 'CaptureSite_19',\n",
       "       'CaptureSite_2', 'CaptureSite_20', 'CaptureSite_21',\n",
       "       'CaptureSite_22', 'CaptureSite_23', 'CaptureSite_24',\n",
       "       'CaptureSite_25', 'CaptureSite_26', 'CaptureSite_27',\n",
       "       'CaptureSite_28', 'CaptureSite_3', 'CaptureSite_4',\n",
       "       'CaptureSite_5', 'CaptureSite_6', 'CaptureSite_7', 'CaptureSite_8',\n",
       "       'CaptureSite_9'], dtype=object)"
      ]
     },
     "execution_count": 5,
     "metadata": {},
     "output_type": "execute_result"
    }
   ],
   "source": [
    "# Different categories of CaptureSite\n",
    "df_capturesite_category['CaptureSite'].unique()\n"
   ]
  },
  {
   "cell_type": "code",
   "execution_count": 6,
   "metadata": {},
   "outputs": [
    {
     "name": "stdout",
     "output_type": "stream",
     "text": [
      "Classification of CaptureSite categories:  29\n"
     ]
    }
   ],
   "source": [
    "print('Classification of CaptureSite categories: ', len(df_capturesite_category['CaptureSite'].unique()))\n"
   ]
  },
  {
   "cell_type": "code",
   "execution_count": 7,
   "metadata": {},
   "outputs": [
    {
     "name": "stdout",
     "output_type": "stream",
     "text": [
      "<class 'pandas.core.frame.DataFrame'>\n",
      "RangeIndex: 29 entries, 0 to 28\n",
      "Data columns (total 3 columns):\n",
      " #   Column               Non-Null Count  Dtype \n",
      "---  ------               --------------  ----- \n",
      " 0   CaptureSite          29 non-null     object\n",
      " 1   CaptureSiteCategory  29 non-null     object\n",
      " 2   Type                 29 non-null     object\n",
      "dtypes: object(3)\n",
      "memory usage: 828.0+ bytes\n"
     ]
    }
   ],
   "source": [
    "df_capturesite_category.info()"
   ]
  },
  {
   "cell_type": "code",
   "execution_count": 8,
   "metadata": {},
   "outputs": [
    {
     "data": {
      "text/html": [
       "<div>\n",
       "<style scoped>\n",
       "    .dataframe tbody tr th:only-of-type {\n",
       "        vertical-align: middle;\n",
       "    }\n",
       "\n",
       "    .dataframe tbody tr th {\n",
       "        vertical-align: top;\n",
       "    }\n",
       "\n",
       "    .dataframe thead th {\n",
       "        text-align: right;\n",
       "    }\n",
       "</style>\n",
       "<table border=\"1\" class=\"dataframe\">\n",
       "  <thead>\n",
       "    <tr style=\"text-align: right;\">\n",
       "      <th></th>\n",
       "      <th>ID</th>\n",
       "      <th>Capture_Number</th>\n",
       "    </tr>\n",
       "  </thead>\n",
       "  <tbody>\n",
       "    <tr>\n",
       "      <th>0</th>\n",
       "      <td>CaptureSite_0_201901</td>\n",
       "      <td>7</td>\n",
       "    </tr>\n",
       "    <tr>\n",
       "      <th>1</th>\n",
       "      <td>CaptureSite_0_201902</td>\n",
       "      <td>1</td>\n",
       "    </tr>\n",
       "    <tr>\n",
       "      <th>2</th>\n",
       "      <td>CaptureSite_0_201903</td>\n",
       "      <td>5</td>\n",
       "    </tr>\n",
       "    <tr>\n",
       "      <th>3</th>\n",
       "      <td>CaptureSite_0_201904</td>\n",
       "      <td>2</td>\n",
       "    </tr>\n",
       "    <tr>\n",
       "      <th>4</th>\n",
       "      <td>CaptureSite_0_201905</td>\n",
       "      <td>3</td>\n",
       "    </tr>\n",
       "  </tbody>\n",
       "</table>\n",
       "</div>"
      ],
      "text/plain": [
       "                     ID  Capture_Number\n",
       "0  CaptureSite_0_201901               7\n",
       "1  CaptureSite_0_201902               1\n",
       "2  CaptureSite_0_201903               5\n",
       "3  CaptureSite_0_201904               2\n",
       "4  CaptureSite_0_201905               3"
      ]
     },
     "execution_count": 8,
     "metadata": {},
     "output_type": "execute_result"
    }
   ],
   "source": [
    "# Turtles dataset - Sample_sub.csv\n",
    "df_sample_sub = pd.read_csv('./data/Sample_sub.csv')\n",
    "df_sample_sub.head()"
   ]
  },
  {
   "cell_type": "markdown",
   "metadata": {},
   "source": [
    "what is capture_number? how many captured turtles?"
   ]
  },
  {
   "cell_type": "code",
   "execution_count": 9,
   "metadata": {},
   "outputs": [
    {
     "name": "stdout",
     "output_type": "stream",
     "text": [
      "<class 'pandas.core.frame.DataFrame'>\n",
      "RangeIndex: 1276 entries, 0 to 1275\n",
      "Data columns (total 2 columns):\n",
      " #   Column          Non-Null Count  Dtype \n",
      "---  ------          --------------  ----- \n",
      " 0   ID              1276 non-null   object\n",
      " 1   Capture_Number  1276 non-null   int64 \n",
      "dtypes: int64(1), object(1)\n",
      "memory usage: 20.1+ KB\n"
     ]
    }
   ],
   "source": [
    "df_sample_sub.info()"
   ]
  },
  {
   "cell_type": "code",
   "execution_count": 10,
   "metadata": {},
   "outputs": [
    {
     "data": {
      "text/html": [
       "<div>\n",
       "<style scoped>\n",
       "    .dataframe tbody tr th:only-of-type {\n",
       "        vertical-align: middle;\n",
       "    }\n",
       "\n",
       "    .dataframe tbody tr th {\n",
       "        vertical-align: top;\n",
       "    }\n",
       "\n",
       "    .dataframe thead th {\n",
       "        text-align: right;\n",
       "    }\n",
       "</style>\n",
       "<table border=\"1\" class=\"dataframe\">\n",
       "  <thead>\n",
       "    <tr style=\"text-align: right;\">\n",
       "      <th></th>\n",
       "      <th>Rescue_ID</th>\n",
       "      <th>Date_TimeCaught</th>\n",
       "      <th>Researcher</th>\n",
       "      <th>CaptureSite</th>\n",
       "      <th>ForagingGround</th>\n",
       "      <th>CaptureMethod</th>\n",
       "      <th>Fisher</th>\n",
       "      <th>LandingSite</th>\n",
       "      <th>Species</th>\n",
       "      <th>Tag_1</th>\n",
       "      <th>...</th>\n",
       "      <th>Lost_Tags</th>\n",
       "      <th>T_Number</th>\n",
       "      <th>CCL_cm</th>\n",
       "      <th>CCW_cm</th>\n",
       "      <th>Weight_Kg</th>\n",
       "      <th>Sex</th>\n",
       "      <th>TurtleCharacteristics</th>\n",
       "      <th>Status</th>\n",
       "      <th>ReleaseSite</th>\n",
       "      <th>Date_TimeRelease</th>\n",
       "    </tr>\n",
       "  </thead>\n",
       "  <tbody>\n",
       "    <tr>\n",
       "      <th>0</th>\n",
       "      <td>2000_RE_0060</td>\n",
       "      <td>2000-12-22</td>\n",
       "      <td>Researcher_25</td>\n",
       "      <td>CaptureSite_0</td>\n",
       "      <td>Ocean</td>\n",
       "      <td>Net</td>\n",
       "      <td>Fisher_1072</td>\n",
       "      <td>LandingSite_CaptureSiteCategory_2</td>\n",
       "      <td>Species_6</td>\n",
       "      <td>CC00147</td>\n",
       "      <td>...</td>\n",
       "      <td>NaN</td>\n",
       "      <td>NaN</td>\n",
       "      <td>64.70</td>\n",
       "      <td>62.60</td>\n",
       "      <td>NaN</td>\n",
       "      <td>Unknown</td>\n",
       "      <td>algae at rear of shell</td>\n",
       "      <td>Released</td>\n",
       "      <td>ReleaseSite_50</td>\n",
       "      <td>22/12/00</td>\n",
       "    </tr>\n",
       "    <tr>\n",
       "      <th>1</th>\n",
       "      <td>2001_RE_0187</td>\n",
       "      <td>2001-10-28</td>\n",
       "      <td>Researcher_6</td>\n",
       "      <td>CaptureSite_0</td>\n",
       "      <td>Ocean</td>\n",
       "      <td>Net</td>\n",
       "      <td>Fisher_520</td>\n",
       "      <td>LandingSite_CaptureSiteCategory_2</td>\n",
       "      <td>Species_6</td>\n",
       "      <td>W442</td>\n",
       "      <td>...</td>\n",
       "      <td>NaN</td>\n",
       "      <td>NaN</td>\n",
       "      <td>35.85</td>\n",
       "      <td>31.35</td>\n",
       "      <td>NaN</td>\n",
       "      <td>Unknown</td>\n",
       "      <td>multiple b's on front flippers&amp;  a lot of alga...</td>\n",
       "      <td>Released</td>\n",
       "      <td>ReleaseSite_62</td>\n",
       "      <td>28/10/01</td>\n",
       "    </tr>\n",
       "    <tr>\n",
       "      <th>2</th>\n",
       "      <td>2001_RE_0197</td>\n",
       "      <td>2001-11-01</td>\n",
       "      <td>Researcher_6</td>\n",
       "      <td>CaptureSite_0</td>\n",
       "      <td>Ocean</td>\n",
       "      <td>Net</td>\n",
       "      <td>Fisher_1669</td>\n",
       "      <td>LandingSite_CaptureSiteCategory_2</td>\n",
       "      <td>Species_5</td>\n",
       "      <td>KE0376</td>\n",
       "      <td>...</td>\n",
       "      <td>NaN</td>\n",
       "      <td>NaN</td>\n",
       "      <td>51.80</td>\n",
       "      <td>49.20</td>\n",
       "      <td>NaN</td>\n",
       "      <td>Unknown</td>\n",
       "      <td>clean</td>\n",
       "      <td>Released</td>\n",
       "      <td>ReleaseSite_50</td>\n",
       "      <td>01/11/01</td>\n",
       "    </tr>\n",
       "    <tr>\n",
       "      <th>3</th>\n",
       "      <td>2002_RE_0031</td>\n",
       "      <td>2002-03-11</td>\n",
       "      <td>Researcher_32</td>\n",
       "      <td>CaptureSite_0</td>\n",
       "      <td>Ocean</td>\n",
       "      <td>Net</td>\n",
       "      <td>Fisher_1798</td>\n",
       "      <td>LandingSite_CaptureSiteCategory_2</td>\n",
       "      <td>Species_6</td>\n",
       "      <td>CC00302</td>\n",
       "      <td>...</td>\n",
       "      <td>NaN</td>\n",
       "      <td>NaN</td>\n",
       "      <td>60.50</td>\n",
       "      <td>59.00</td>\n",
       "      <td>NaN</td>\n",
       "      <td>Unknown</td>\n",
       "      <td>1 b 3 CS+ calcerous algae at rear end of shell...</td>\n",
       "      <td>Released</td>\n",
       "      <td>ReleaseSite_50</td>\n",
       "      <td>11/03/02</td>\n",
       "    </tr>\n",
       "    <tr>\n",
       "      <th>4</th>\n",
       "      <td>2002_RE_0118</td>\n",
       "      <td>2002-08-08</td>\n",
       "      <td>Researcher_25</td>\n",
       "      <td>CaptureSite_0</td>\n",
       "      <td>Ocean</td>\n",
       "      <td>Beached</td>\n",
       "      <td>Fisher_1918</td>\n",
       "      <td>LandingSite_CaptureSiteCategory_2</td>\n",
       "      <td>Species_5</td>\n",
       "      <td>NotTagged_0113</td>\n",
       "      <td>...</td>\n",
       "      <td>NaN</td>\n",
       "      <td>NaN</td>\n",
       "      <td>34.70</td>\n",
       "      <td>33.00</td>\n",
       "      <td>NaN</td>\n",
       "      <td>Unknown</td>\n",
       "      <td>very lively+ right eye is hanging out + swolle...</td>\n",
       "      <td>Released</td>\n",
       "      <td>ReleaseSite_62</td>\n",
       "      <td>08/08/02</td>\n",
       "    </tr>\n",
       "  </tbody>\n",
       "</table>\n",
       "<p>5 rows × 21 columns</p>\n",
       "</div>"
      ],
      "text/plain": [
       "      Rescue_ID Date_TimeCaught     Researcher    CaptureSite ForagingGround   \n",
       "0  2000_RE_0060      2000-12-22  Researcher_25  CaptureSite_0          Ocean  \\\n",
       "1  2001_RE_0187      2001-10-28   Researcher_6  CaptureSite_0          Ocean   \n",
       "2  2001_RE_0197      2001-11-01   Researcher_6  CaptureSite_0          Ocean   \n",
       "3  2002_RE_0031      2002-03-11  Researcher_32  CaptureSite_0          Ocean   \n",
       "4  2002_RE_0118      2002-08-08  Researcher_25  CaptureSite_0          Ocean   \n",
       "\n",
       "  CaptureMethod       Fisher                        LandingSite    Species   \n",
       "0           Net  Fisher_1072  LandingSite_CaptureSiteCategory_2  Species_6  \\\n",
       "1           Net   Fisher_520  LandingSite_CaptureSiteCategory_2  Species_6   \n",
       "2           Net  Fisher_1669  LandingSite_CaptureSiteCategory_2  Species_5   \n",
       "3           Net  Fisher_1798  LandingSite_CaptureSiteCategory_2  Species_6   \n",
       "4       Beached  Fisher_1918  LandingSite_CaptureSiteCategory_2  Species_5   \n",
       "\n",
       "            Tag_1  ... Lost_Tags T_Number CCL_cm  CCW_cm  Weight_Kg      Sex   \n",
       "0         CC00147  ...       NaN      NaN  64.70   62.60        NaN  Unknown  \\\n",
       "1            W442  ...       NaN      NaN  35.85   31.35        NaN  Unknown   \n",
       "2          KE0376  ...       NaN      NaN  51.80   49.20        NaN  Unknown   \n",
       "3         CC00302  ...       NaN      NaN  60.50   59.00        NaN  Unknown   \n",
       "4  NotTagged_0113  ...       NaN      NaN  34.70   33.00        NaN  Unknown   \n",
       "\n",
       "                               TurtleCharacteristics    Status   \n",
       "0                             algae at rear of shell  Released  \\\n",
       "1  multiple b's on front flippers&  a lot of alga...  Released   \n",
       "2                                              clean  Released   \n",
       "3  1 b 3 CS+ calcerous algae at rear end of shell...  Released   \n",
       "4  very lively+ right eye is hanging out + swolle...  Released   \n",
       "\n",
       "      ReleaseSite Date_TimeRelease  \n",
       "0  ReleaseSite_50         22/12/00  \n",
       "1  ReleaseSite_62         28/10/01  \n",
       "2  ReleaseSite_50         01/11/01  \n",
       "3  ReleaseSite_50         11/03/02  \n",
       "4  ReleaseSite_62         08/08/02  \n",
       "\n",
       "[5 rows x 21 columns]"
      ]
     },
     "execution_count": 10,
     "metadata": {},
     "output_type": "execute_result"
    }
   ],
   "source": [
    "# Turtles dataset - train.csv\n",
    "df_train = pd.read_csv('./data/train.csv')\n",
    "df_train.head()"
   ]
  },
  {
   "cell_type": "code",
   "execution_count": 11,
   "metadata": {},
   "outputs": [
    {
     "data": {
      "text/html": [
       "<div>\n",
       "<style scoped>\n",
       "    .dataframe tbody tr th:only-of-type {\n",
       "        vertical-align: middle;\n",
       "    }\n",
       "\n",
       "    .dataframe tbody tr th {\n",
       "        vertical-align: top;\n",
       "    }\n",
       "\n",
       "    .dataframe thead th {\n",
       "        text-align: right;\n",
       "    }\n",
       "</style>\n",
       "<table border=\"1\" class=\"dataframe\">\n",
       "  <thead>\n",
       "    <tr style=\"text-align: right;\">\n",
       "      <th></th>\n",
       "      <th>Rescue_ID</th>\n",
       "      <th>Date_TimeCaught</th>\n",
       "      <th>Researcher</th>\n",
       "      <th>CaptureSite</th>\n",
       "      <th>ForagingGround</th>\n",
       "      <th>CaptureMethod</th>\n",
       "      <th>Fisher</th>\n",
       "      <th>LandingSite</th>\n",
       "      <th>Species</th>\n",
       "      <th>Tag_1</th>\n",
       "      <th>...</th>\n",
       "      <th>Lost_Tags</th>\n",
       "      <th>T_Number</th>\n",
       "      <th>CCL_cm</th>\n",
       "      <th>CCW_cm</th>\n",
       "      <th>Weight_Kg</th>\n",
       "      <th>Sex</th>\n",
       "      <th>TurtleCharacteristics</th>\n",
       "      <th>Status</th>\n",
       "      <th>ReleaseSite</th>\n",
       "      <th>Date_TimeRelease</th>\n",
       "    </tr>\n",
       "  </thead>\n",
       "  <tbody>\n",
       "    <tr>\n",
       "      <th>18057</th>\n",
       "      <td>2018_RE_1511</td>\n",
       "      <td>2018-12-18</td>\n",
       "      <td>Researcher_30</td>\n",
       "      <td>CaptureSite_9</td>\n",
       "      <td>Ocean</td>\n",
       "      <td>Net</td>\n",
       "      <td>Fisher_569</td>\n",
       "      <td>LandingSite_CaptureSiteCategory_1</td>\n",
       "      <td>Species_5</td>\n",
       "      <td>KES1828</td>\n",
       "      <td>...</td>\n",
       "      <td>NaN</td>\n",
       "      <td>NaN</td>\n",
       "      <td>57.13</td>\n",
       "      <td>50.57</td>\n",
       "      <td>21.09</td>\n",
       "      <td>Unknown</td>\n",
       "      <td>White calcareous algae on carapace</td>\n",
       "      <td>Released</td>\n",
       "      <td>ReleaseSite_68</td>\n",
       "      <td>18/12/18</td>\n",
       "    </tr>\n",
       "    <tr>\n",
       "      <th>18058</th>\n",
       "      <td>2018_RE_1514</td>\n",
       "      <td>2018-12-18</td>\n",
       "      <td>Researcher_30</td>\n",
       "      <td>CaptureSite_9</td>\n",
       "      <td>Ocean</td>\n",
       "      <td>Net</td>\n",
       "      <td>Fisher_125</td>\n",
       "      <td>LandingSite_CaptureSiteCategory_1</td>\n",
       "      <td>Species_6</td>\n",
       "      <td>KES0563</td>\n",
       "      <td>...</td>\n",
       "      <td>KES0416</td>\n",
       "      <td>NaN</td>\n",
       "      <td>42.07</td>\n",
       "      <td>38.37</td>\n",
       "      <td>9.02</td>\n",
       "      <td>Unknown</td>\n",
       "      <td>Calcareous + green algae on carapace\\nBarnacle...</td>\n",
       "      <td>Released</td>\n",
       "      <td>ReleaseSite_68</td>\n",
       "      <td>18/12/18</td>\n",
       "    </tr>\n",
       "    <tr>\n",
       "      <th>18059</th>\n",
       "      <td>2018_RE_1532</td>\n",
       "      <td>2018-12-24</td>\n",
       "      <td>Researcher_30</td>\n",
       "      <td>CaptureSite_9</td>\n",
       "      <td>Ocean</td>\n",
       "      <td>Net</td>\n",
       "      <td>Fisher_1343</td>\n",
       "      <td>LandingSite_CaptureSiteCategory_1</td>\n",
       "      <td>Species_5</td>\n",
       "      <td>KES1833</td>\n",
       "      <td>...</td>\n",
       "      <td>NaN</td>\n",
       "      <td>NaN</td>\n",
       "      <td>57.20</td>\n",
       "      <td>52.30</td>\n",
       "      <td>NaN</td>\n",
       "      <td>Unknown</td>\n",
       "      <td>Clean turtle</td>\n",
       "      <td>Released</td>\n",
       "      <td>ReleaseSite_68</td>\n",
       "      <td>24/12/18</td>\n",
       "    </tr>\n",
       "    <tr>\n",
       "      <th>18060</th>\n",
       "      <td>2018_RE_1533</td>\n",
       "      <td>2018-12-24</td>\n",
       "      <td>Researcher_30</td>\n",
       "      <td>CaptureSite_9</td>\n",
       "      <td>Ocean</td>\n",
       "      <td>Net</td>\n",
       "      <td>Fisher_1551</td>\n",
       "      <td>LandingSite_CaptureSiteCategory_1</td>\n",
       "      <td>Species_5</td>\n",
       "      <td>KES1831</td>\n",
       "      <td>...</td>\n",
       "      <td>NaN</td>\n",
       "      <td>NaN</td>\n",
       "      <td>51.90</td>\n",
       "      <td>48.50</td>\n",
       "      <td>NaN</td>\n",
       "      <td>Unknown</td>\n",
       "      <td>Green algae on carapace\\ntip of left supra mis...</td>\n",
       "      <td>Released</td>\n",
       "      <td>ReleaseSite_68</td>\n",
       "      <td>24/12/18</td>\n",
       "    </tr>\n",
       "    <tr>\n",
       "      <th>18061</th>\n",
       "      <td>2018_RE_1550</td>\n",
       "      <td>2018-12-28</td>\n",
       "      <td>Researcher_30</td>\n",
       "      <td>CaptureSite_9</td>\n",
       "      <td>Ocean</td>\n",
       "      <td>Net</td>\n",
       "      <td>Fisher_1551</td>\n",
       "      <td>LandingSite_CaptureSiteCategory_1</td>\n",
       "      <td>Species_6</td>\n",
       "      <td>KES1432</td>\n",
       "      <td>...</td>\n",
       "      <td>NaN</td>\n",
       "      <td>NaN</td>\n",
       "      <td>34.60</td>\n",
       "      <td>31.20</td>\n",
       "      <td>4.29</td>\n",
       "      <td>Unknown</td>\n",
       "      <td>Thick pink patches of calcareous algae on cara...</td>\n",
       "      <td>Released</td>\n",
       "      <td>ReleaseSite_37</td>\n",
       "      <td>28/12/18</td>\n",
       "    </tr>\n",
       "  </tbody>\n",
       "</table>\n",
       "<p>5 rows × 21 columns</p>\n",
       "</div>"
      ],
      "text/plain": [
       "          Rescue_ID Date_TimeCaught     Researcher    CaptureSite   \n",
       "18057  2018_RE_1511      2018-12-18  Researcher_30  CaptureSite_9  \\\n",
       "18058  2018_RE_1514      2018-12-18  Researcher_30  CaptureSite_9   \n",
       "18059  2018_RE_1532      2018-12-24  Researcher_30  CaptureSite_9   \n",
       "18060  2018_RE_1533      2018-12-24  Researcher_30  CaptureSite_9   \n",
       "18061  2018_RE_1550      2018-12-28  Researcher_30  CaptureSite_9   \n",
       "\n",
       "      ForagingGround CaptureMethod       Fisher   \n",
       "18057          Ocean           Net   Fisher_569  \\\n",
       "18058          Ocean           Net   Fisher_125   \n",
       "18059          Ocean           Net  Fisher_1343   \n",
       "18060          Ocean           Net  Fisher_1551   \n",
       "18061          Ocean           Net  Fisher_1551   \n",
       "\n",
       "                             LandingSite    Species    Tag_1  ... Lost_Tags   \n",
       "18057  LandingSite_CaptureSiteCategory_1  Species_5  KES1828  ...       NaN  \\\n",
       "18058  LandingSite_CaptureSiteCategory_1  Species_6  KES0563  ...   KES0416   \n",
       "18059  LandingSite_CaptureSiteCategory_1  Species_5  KES1833  ...       NaN   \n",
       "18060  LandingSite_CaptureSiteCategory_1  Species_5  KES1831  ...       NaN   \n",
       "18061  LandingSite_CaptureSiteCategory_1  Species_6  KES1432  ...       NaN   \n",
       "\n",
       "      T_Number CCL_cm  CCW_cm  Weight_Kg      Sex   \n",
       "18057      NaN  57.13   50.57      21.09  Unknown  \\\n",
       "18058      NaN  42.07   38.37       9.02  Unknown   \n",
       "18059      NaN  57.20   52.30        NaN  Unknown   \n",
       "18060      NaN  51.90   48.50        NaN  Unknown   \n",
       "18061      NaN  34.60   31.20       4.29  Unknown   \n",
       "\n",
       "                                   TurtleCharacteristics    Status   \n",
       "18057                 White calcareous algae on carapace  Released  \\\n",
       "18058  Calcareous + green algae on carapace\\nBarnacle...  Released   \n",
       "18059                                       Clean turtle  Released   \n",
       "18060  Green algae on carapace\\ntip of left supra mis...  Released   \n",
       "18061  Thick pink patches of calcareous algae on cara...  Released   \n",
       "\n",
       "          ReleaseSite Date_TimeRelease  \n",
       "18057  ReleaseSite_68         18/12/18  \n",
       "18058  ReleaseSite_68         18/12/18  \n",
       "18059  ReleaseSite_68         24/12/18  \n",
       "18060  ReleaseSite_68         24/12/18  \n",
       "18061  ReleaseSite_37         28/12/18  \n",
       "\n",
       "[5 rows x 21 columns]"
      ]
     },
     "execution_count": 11,
     "metadata": {},
     "output_type": "execute_result"
    }
   ],
   "source": [
    "df_train.tail()"
   ]
  },
  {
   "cell_type": "code",
   "execution_count": 12,
   "metadata": {},
   "outputs": [
    {
     "name": "stdout",
     "output_type": "stream",
     "text": [
      "<class 'pandas.core.frame.DataFrame'>\n",
      "RangeIndex: 18062 entries, 0 to 18061\n",
      "Data columns (total 21 columns):\n",
      " #   Column                 Non-Null Count  Dtype  \n",
      "---  ------                 --------------  -----  \n",
      " 0   Rescue_ID              18062 non-null  object \n",
      " 1   Date_TimeCaught        18062 non-null  object \n",
      " 2   Researcher             18062 non-null  object \n",
      " 3   CaptureSite            18062 non-null  object \n",
      " 4   ForagingGround         18062 non-null  object \n",
      " 5   CaptureMethod          18062 non-null  object \n",
      " 6   Fisher                 18062 non-null  object \n",
      " 7   LandingSite            18062 non-null  object \n",
      " 8   Species                18062 non-null  object \n",
      " 9   Tag_1                  17937 non-null  object \n",
      " 10  Tag_2                  4911 non-null   object \n",
      " 11  Lost_Tags              925 non-null    object \n",
      " 12  T_Number               38 non-null     object \n",
      " 13  CCL_cm                 18038 non-null  float64\n",
      " 14  CCW_cm                 18035 non-null  float64\n",
      " 15  Weight_Kg              12653 non-null  float64\n",
      " 16  Sex                    13732 non-null  object \n",
      " 17  TurtleCharacteristics  18010 non-null  object \n",
      " 18  Status                 14429 non-null  object \n",
      " 19  ReleaseSite            17987 non-null  object \n",
      " 20  Date_TimeRelease       11954 non-null  object \n",
      "dtypes: float64(3), object(18)\n",
      "memory usage: 2.9+ MB\n"
     ]
    }
   ],
   "source": [
    "df_train.info()"
   ]
  },
  {
   "cell_type": "markdown",
   "metadata": {},
   "source": [
    "## Preprocessing"
   ]
  },
  {
   "cell_type": "code",
   "execution_count": 13,
   "metadata": {},
   "outputs": [],
   "source": [
    "# make a profile report of all data\n",
    "#profile = ProfileReport(df_train, minimal=False)\n",
    "#profile.to_file(\"./data/output.html\")"
   ]
  },
  {
   "cell_type": "markdown",
   "metadata": {},
   "source": [
    "### Converting important columns to datetime\n",
    "\n"
   ]
  },
  {
   "cell_type": "code",
   "execution_count": 14,
   "metadata": {},
   "outputs": [
    {
     "data": {
      "text/plain": [
       "0           2022-12-00\n",
       "1           2028-10-01\n",
       "2           2001-11-01\n",
       "3           2011-03-02\n",
       "4           2008-08-02\n",
       "5           2010-08-02\n",
       "6           2021-10-02\n",
       "7           2021-10-02\n",
       "8           2022-10-02\n",
       "9                20nan\n",
       "10    20ReleaseSite_50\n",
       "11               20nan\n",
       "12               20nan\n",
       "13          20Released\n",
       "14    20ReleaseSite_50\n",
       "15    20ReleaseSite_62\n",
       "16               20nan\n",
       "17               20nan\n",
       "18               20nan\n",
       "19               20nan\n",
       "20               20nan\n",
       "21               20nan\n",
       "22               20nan\n",
       "23               20nan\n",
       "24               20nan\n",
       "25               20nan\n",
       "26               20nan\n",
       "27               20nan\n",
       "28               20nan\n",
       "29               20nan\n",
       "Name: Date_TimeRelease, dtype: object"
      ]
     },
     "execution_count": 14,
     "metadata": {},
     "output_type": "execute_result"
    }
   ],
   "source": [
    "# Transform 'Date_TimeRelease' column to datetime format\n",
    "df_train_date = df_train.copy()\n",
    "\n",
    "# Transform 'Date_TimeRelease' column to string format\n",
    "df_train_date['Date_TimeRelease'] = df_train_date['Date_TimeRelease'].astype(str)\n",
    "\n",
    "# Replace / on date columns \n",
    "df_train_date['Date_TimeRelease'] = df_train_date['Date_TimeRelease'].str.replace('/', '-')\n",
    "\n",
    "# Add '20' in years \n",
    "\n",
    "for i in range(len(df_train_date['Date_TimeRelease'])):\n",
    "    d = df_train_date['Date_TimeRelease'][i]\n",
    "    df_train_date['Date_TimeRelease'][i] = df_train_date['Date_TimeRelease'][i].replace(d, '20'+d)\n",
    " \n",
    "\n",
    "df_train_date['Date_TimeRelease'].head(30)\n"
   ]
  },
  {
   "cell_type": "code",
   "execution_count": 15,
   "metadata": {},
   "outputs": [],
   "source": [
    "# Transform 'Date_TimeCaught' column to datetime format\n",
    "df_train_date['Date_TimeCaught'] = pd.to_datetime(df_train_date['Date_TimeCaught'])\n",
    "\n",
    "#create new columns for year and week of year, year_woy (year and week of year combined)\n",
    "df_train_date[\"year\"]=df_train_date.Date_TimeCaught.dt.year\n",
    "df_train_date[\"week_of_year\"]=df_train_date.Date_TimeCaught.dt.isocalendar().week\n",
    "df_train_date[\"year_woy\"]=df_train_date.year*100+df_train_date.week_of_year"
   ]
  },
  {
   "cell_type": "code",
   "execution_count": 16,
   "metadata": {},
   "outputs": [
    {
     "data": {
      "text/html": [
       "<div>\n",
       "<style scoped>\n",
       "    .dataframe tbody tr th:only-of-type {\n",
       "        vertical-align: middle;\n",
       "    }\n",
       "\n",
       "    .dataframe tbody tr th {\n",
       "        vertical-align: top;\n",
       "    }\n",
       "\n",
       "    .dataframe thead th {\n",
       "        text-align: right;\n",
       "    }\n",
       "</style>\n",
       "<table border=\"1\" class=\"dataframe\">\n",
       "  <thead>\n",
       "    <tr style=\"text-align: right;\">\n",
       "      <th></th>\n",
       "      <th>Rescue_ID</th>\n",
       "      <th>Date_TimeCaught</th>\n",
       "      <th>Researcher</th>\n",
       "      <th>CaptureSite</th>\n",
       "      <th>ForagingGround</th>\n",
       "      <th>CaptureMethod</th>\n",
       "      <th>Fisher</th>\n",
       "      <th>LandingSite</th>\n",
       "      <th>Species</th>\n",
       "      <th>Tag_1</th>\n",
       "      <th>...</th>\n",
       "      <th>CCW_cm</th>\n",
       "      <th>Weight_Kg</th>\n",
       "      <th>Sex</th>\n",
       "      <th>TurtleCharacteristics</th>\n",
       "      <th>Status</th>\n",
       "      <th>ReleaseSite</th>\n",
       "      <th>Date_TimeRelease</th>\n",
       "      <th>year</th>\n",
       "      <th>week_of_year</th>\n",
       "      <th>year_woy</th>\n",
       "    </tr>\n",
       "  </thead>\n",
       "  <tbody>\n",
       "    <tr>\n",
       "      <th>0</th>\n",
       "      <td>2000_RE_0060</td>\n",
       "      <td>2000-12-22</td>\n",
       "      <td>Researcher_25</td>\n",
       "      <td>CaptureSite_0</td>\n",
       "      <td>Ocean</td>\n",
       "      <td>Net</td>\n",
       "      <td>Fisher_1072</td>\n",
       "      <td>LandingSite_CaptureSiteCategory_2</td>\n",
       "      <td>Species_6</td>\n",
       "      <td>CC00147</td>\n",
       "      <td>...</td>\n",
       "      <td>62.60</td>\n",
       "      <td>NaN</td>\n",
       "      <td>Unknown</td>\n",
       "      <td>algae at rear of shell</td>\n",
       "      <td>Released</td>\n",
       "      <td>ReleaseSite_50</td>\n",
       "      <td>2022-12-00</td>\n",
       "      <td>2000</td>\n",
       "      <td>51</td>\n",
       "      <td>200051</td>\n",
       "    </tr>\n",
       "    <tr>\n",
       "      <th>1</th>\n",
       "      <td>2001_RE_0187</td>\n",
       "      <td>2001-10-28</td>\n",
       "      <td>Researcher_6</td>\n",
       "      <td>CaptureSite_0</td>\n",
       "      <td>Ocean</td>\n",
       "      <td>Net</td>\n",
       "      <td>Fisher_520</td>\n",
       "      <td>LandingSite_CaptureSiteCategory_2</td>\n",
       "      <td>Species_6</td>\n",
       "      <td>W442</td>\n",
       "      <td>...</td>\n",
       "      <td>31.35</td>\n",
       "      <td>NaN</td>\n",
       "      <td>Unknown</td>\n",
       "      <td>multiple b's on front flippers&amp;  a lot of alga...</td>\n",
       "      <td>Released</td>\n",
       "      <td>ReleaseSite_62</td>\n",
       "      <td>2028-10-01</td>\n",
       "      <td>2001</td>\n",
       "      <td>43</td>\n",
       "      <td>200143</td>\n",
       "    </tr>\n",
       "    <tr>\n",
       "      <th>2</th>\n",
       "      <td>2001_RE_0197</td>\n",
       "      <td>2001-11-01</td>\n",
       "      <td>Researcher_6</td>\n",
       "      <td>CaptureSite_0</td>\n",
       "      <td>Ocean</td>\n",
       "      <td>Net</td>\n",
       "      <td>Fisher_1669</td>\n",
       "      <td>LandingSite_CaptureSiteCategory_2</td>\n",
       "      <td>Species_5</td>\n",
       "      <td>KE0376</td>\n",
       "      <td>...</td>\n",
       "      <td>49.20</td>\n",
       "      <td>NaN</td>\n",
       "      <td>Unknown</td>\n",
       "      <td>clean</td>\n",
       "      <td>Released</td>\n",
       "      <td>ReleaseSite_50</td>\n",
       "      <td>2001-11-01</td>\n",
       "      <td>2001</td>\n",
       "      <td>44</td>\n",
       "      <td>200144</td>\n",
       "    </tr>\n",
       "    <tr>\n",
       "      <th>3</th>\n",
       "      <td>2002_RE_0031</td>\n",
       "      <td>2002-03-11</td>\n",
       "      <td>Researcher_32</td>\n",
       "      <td>CaptureSite_0</td>\n",
       "      <td>Ocean</td>\n",
       "      <td>Net</td>\n",
       "      <td>Fisher_1798</td>\n",
       "      <td>LandingSite_CaptureSiteCategory_2</td>\n",
       "      <td>Species_6</td>\n",
       "      <td>CC00302</td>\n",
       "      <td>...</td>\n",
       "      <td>59.00</td>\n",
       "      <td>NaN</td>\n",
       "      <td>Unknown</td>\n",
       "      <td>1 b 3 CS+ calcerous algae at rear end of shell...</td>\n",
       "      <td>Released</td>\n",
       "      <td>ReleaseSite_50</td>\n",
       "      <td>2011-03-02</td>\n",
       "      <td>2002</td>\n",
       "      <td>11</td>\n",
       "      <td>200211</td>\n",
       "    </tr>\n",
       "    <tr>\n",
       "      <th>4</th>\n",
       "      <td>2002_RE_0118</td>\n",
       "      <td>2002-08-08</td>\n",
       "      <td>Researcher_25</td>\n",
       "      <td>CaptureSite_0</td>\n",
       "      <td>Ocean</td>\n",
       "      <td>Beached</td>\n",
       "      <td>Fisher_1918</td>\n",
       "      <td>LandingSite_CaptureSiteCategory_2</td>\n",
       "      <td>Species_5</td>\n",
       "      <td>NotTagged_0113</td>\n",
       "      <td>...</td>\n",
       "      <td>33.00</td>\n",
       "      <td>NaN</td>\n",
       "      <td>Unknown</td>\n",
       "      <td>very lively+ right eye is hanging out + swolle...</td>\n",
       "      <td>Released</td>\n",
       "      <td>ReleaseSite_62</td>\n",
       "      <td>2008-08-02</td>\n",
       "      <td>2002</td>\n",
       "      <td>32</td>\n",
       "      <td>200232</td>\n",
       "    </tr>\n",
       "  </tbody>\n",
       "</table>\n",
       "<p>5 rows × 24 columns</p>\n",
       "</div>"
      ],
      "text/plain": [
       "      Rescue_ID Date_TimeCaught     Researcher    CaptureSite ForagingGround   \n",
       "0  2000_RE_0060      2000-12-22  Researcher_25  CaptureSite_0          Ocean  \\\n",
       "1  2001_RE_0187      2001-10-28   Researcher_6  CaptureSite_0          Ocean   \n",
       "2  2001_RE_0197      2001-11-01   Researcher_6  CaptureSite_0          Ocean   \n",
       "3  2002_RE_0031      2002-03-11  Researcher_32  CaptureSite_0          Ocean   \n",
       "4  2002_RE_0118      2002-08-08  Researcher_25  CaptureSite_0          Ocean   \n",
       "\n",
       "  CaptureMethod       Fisher                        LandingSite    Species   \n",
       "0           Net  Fisher_1072  LandingSite_CaptureSiteCategory_2  Species_6  \\\n",
       "1           Net   Fisher_520  LandingSite_CaptureSiteCategory_2  Species_6   \n",
       "2           Net  Fisher_1669  LandingSite_CaptureSiteCategory_2  Species_5   \n",
       "3           Net  Fisher_1798  LandingSite_CaptureSiteCategory_2  Species_6   \n",
       "4       Beached  Fisher_1918  LandingSite_CaptureSiteCategory_2  Species_5   \n",
       "\n",
       "            Tag_1  ... CCW_cm Weight_Kg      Sex   \n",
       "0         CC00147  ...  62.60       NaN  Unknown  \\\n",
       "1            W442  ...  31.35       NaN  Unknown   \n",
       "2          KE0376  ...  49.20       NaN  Unknown   \n",
       "3         CC00302  ...  59.00       NaN  Unknown   \n",
       "4  NotTagged_0113  ...  33.00       NaN  Unknown   \n",
       "\n",
       "                               TurtleCharacteristics    Status   \n",
       "0                             algae at rear of shell  Released  \\\n",
       "1  multiple b's on front flippers&  a lot of alga...  Released   \n",
       "2                                              clean  Released   \n",
       "3  1 b 3 CS+ calcerous algae at rear end of shell...  Released   \n",
       "4  very lively+ right eye is hanging out + swolle...  Released   \n",
       "\n",
       "      ReleaseSite Date_TimeRelease  year week_of_year year_woy  \n",
       "0  ReleaseSite_50       2022-12-00  2000           51   200051  \n",
       "1  ReleaseSite_62       2028-10-01  2001           43   200143  \n",
       "2  ReleaseSite_50       2001-11-01  2001           44   200144  \n",
       "3  ReleaseSite_50       2011-03-02  2002           11   200211  \n",
       "4  ReleaseSite_62       2008-08-02  2002           32   200232  \n",
       "\n",
       "[5 rows x 24 columns]"
      ]
     },
     "execution_count": 16,
     "metadata": {},
     "output_type": "execute_result"
    }
   ],
   "source": [
    "df_train_date.head()"
   ]
  },
  {
   "cell_type": "code",
   "execution_count": 17,
   "metadata": {},
   "outputs": [],
   "source": [
    "# reset index?\n",
    "df_train_date.reset_index(drop=True, inplace=True)\n"
   ]
  },
  {
   "cell_type": "code",
   "execution_count": 18,
   "metadata": {},
   "outputs": [
    {
     "data": {
      "text/html": [
       "<div>\n",
       "<style scoped>\n",
       "    .dataframe tbody tr th:only-of-type {\n",
       "        vertical-align: middle;\n",
       "    }\n",
       "\n",
       "    .dataframe tbody tr th {\n",
       "        vertical-align: top;\n",
       "    }\n",
       "\n",
       "    .dataframe thead th {\n",
       "        text-align: right;\n",
       "    }\n",
       "</style>\n",
       "<table border=\"1\" class=\"dataframe\">\n",
       "  <thead>\n",
       "    <tr style=\"text-align: right;\">\n",
       "      <th></th>\n",
       "      <th>Rescue_ID</th>\n",
       "      <th>Date_TimeCaught</th>\n",
       "      <th>Researcher</th>\n",
       "      <th>CaptureSite</th>\n",
       "      <th>ForagingGround</th>\n",
       "      <th>CaptureMethod</th>\n",
       "      <th>Fisher</th>\n",
       "      <th>LandingSite</th>\n",
       "      <th>Species</th>\n",
       "      <th>Tag_1</th>\n",
       "      <th>...</th>\n",
       "      <th>CCW_cm</th>\n",
       "      <th>Weight_Kg</th>\n",
       "      <th>Sex</th>\n",
       "      <th>TurtleCharacteristics</th>\n",
       "      <th>Status</th>\n",
       "      <th>ReleaseSite</th>\n",
       "      <th>Date_TimeRelease</th>\n",
       "      <th>year</th>\n",
       "      <th>week_of_year</th>\n",
       "      <th>year_woy</th>\n",
       "    </tr>\n",
       "  </thead>\n",
       "  <tbody>\n",
       "    <tr>\n",
       "      <th>0</th>\n",
       "      <td>2000_RE_0060</td>\n",
       "      <td>2000-12-22</td>\n",
       "      <td>Researcher_25</td>\n",
       "      <td>CaptureSite_0</td>\n",
       "      <td>Ocean</td>\n",
       "      <td>Net</td>\n",
       "      <td>Fisher_1072</td>\n",
       "      <td>LandingSite_CaptureSiteCategory_2</td>\n",
       "      <td>Species_6</td>\n",
       "      <td>CC00147</td>\n",
       "      <td>...</td>\n",
       "      <td>62.60</td>\n",
       "      <td>NaN</td>\n",
       "      <td>Unknown</td>\n",
       "      <td>algae at rear of shell</td>\n",
       "      <td>Released</td>\n",
       "      <td>ReleaseSite_50</td>\n",
       "      <td>2022-12-00</td>\n",
       "      <td>2000</td>\n",
       "      <td>51</td>\n",
       "      <td>200051</td>\n",
       "    </tr>\n",
       "    <tr>\n",
       "      <th>1</th>\n",
       "      <td>2001_RE_0187</td>\n",
       "      <td>2001-10-28</td>\n",
       "      <td>Researcher_6</td>\n",
       "      <td>CaptureSite_0</td>\n",
       "      <td>Ocean</td>\n",
       "      <td>Net</td>\n",
       "      <td>Fisher_520</td>\n",
       "      <td>LandingSite_CaptureSiteCategory_2</td>\n",
       "      <td>Species_6</td>\n",
       "      <td>W442</td>\n",
       "      <td>...</td>\n",
       "      <td>31.35</td>\n",
       "      <td>NaN</td>\n",
       "      <td>Unknown</td>\n",
       "      <td>multiple b's on front flippers&amp;  a lot of alga...</td>\n",
       "      <td>Released</td>\n",
       "      <td>ReleaseSite_62</td>\n",
       "      <td>2028-10-01</td>\n",
       "      <td>2001</td>\n",
       "      <td>43</td>\n",
       "      <td>200143</td>\n",
       "    </tr>\n",
       "    <tr>\n",
       "      <th>2</th>\n",
       "      <td>2001_RE_0197</td>\n",
       "      <td>2001-11-01</td>\n",
       "      <td>Researcher_6</td>\n",
       "      <td>CaptureSite_0</td>\n",
       "      <td>Ocean</td>\n",
       "      <td>Net</td>\n",
       "      <td>Fisher_1669</td>\n",
       "      <td>LandingSite_CaptureSiteCategory_2</td>\n",
       "      <td>Species_5</td>\n",
       "      <td>KE0376</td>\n",
       "      <td>...</td>\n",
       "      <td>49.20</td>\n",
       "      <td>NaN</td>\n",
       "      <td>Unknown</td>\n",
       "      <td>clean</td>\n",
       "      <td>Released</td>\n",
       "      <td>ReleaseSite_50</td>\n",
       "      <td>2001-11-01</td>\n",
       "      <td>2001</td>\n",
       "      <td>44</td>\n",
       "      <td>200144</td>\n",
       "    </tr>\n",
       "    <tr>\n",
       "      <th>3</th>\n",
       "      <td>2002_RE_0031</td>\n",
       "      <td>2002-03-11</td>\n",
       "      <td>Researcher_32</td>\n",
       "      <td>CaptureSite_0</td>\n",
       "      <td>Ocean</td>\n",
       "      <td>Net</td>\n",
       "      <td>Fisher_1798</td>\n",
       "      <td>LandingSite_CaptureSiteCategory_2</td>\n",
       "      <td>Species_6</td>\n",
       "      <td>CC00302</td>\n",
       "      <td>...</td>\n",
       "      <td>59.00</td>\n",
       "      <td>NaN</td>\n",
       "      <td>Unknown</td>\n",
       "      <td>1 b 3 CS+ calcerous algae at rear end of shell...</td>\n",
       "      <td>Released</td>\n",
       "      <td>ReleaseSite_50</td>\n",
       "      <td>2011-03-02</td>\n",
       "      <td>2002</td>\n",
       "      <td>11</td>\n",
       "      <td>200211</td>\n",
       "    </tr>\n",
       "    <tr>\n",
       "      <th>4</th>\n",
       "      <td>2002_RE_0118</td>\n",
       "      <td>2002-08-08</td>\n",
       "      <td>Researcher_25</td>\n",
       "      <td>CaptureSite_0</td>\n",
       "      <td>Ocean</td>\n",
       "      <td>Beached</td>\n",
       "      <td>Fisher_1918</td>\n",
       "      <td>LandingSite_CaptureSiteCategory_2</td>\n",
       "      <td>Species_5</td>\n",
       "      <td>NotTagged_0113</td>\n",
       "      <td>...</td>\n",
       "      <td>33.00</td>\n",
       "      <td>NaN</td>\n",
       "      <td>Unknown</td>\n",
       "      <td>very lively+ right eye is hanging out + swolle...</td>\n",
       "      <td>Released</td>\n",
       "      <td>ReleaseSite_62</td>\n",
       "      <td>2008-08-02</td>\n",
       "      <td>2002</td>\n",
       "      <td>32</td>\n",
       "      <td>200232</td>\n",
       "    </tr>\n",
       "  </tbody>\n",
       "</table>\n",
       "<p>5 rows × 24 columns</p>\n",
       "</div>"
      ],
      "text/plain": [
       "      Rescue_ID Date_TimeCaught     Researcher    CaptureSite ForagingGround   \n",
       "0  2000_RE_0060      2000-12-22  Researcher_25  CaptureSite_0          Ocean  \\\n",
       "1  2001_RE_0187      2001-10-28   Researcher_6  CaptureSite_0          Ocean   \n",
       "2  2001_RE_0197      2001-11-01   Researcher_6  CaptureSite_0          Ocean   \n",
       "3  2002_RE_0031      2002-03-11  Researcher_32  CaptureSite_0          Ocean   \n",
       "4  2002_RE_0118      2002-08-08  Researcher_25  CaptureSite_0          Ocean   \n",
       "\n",
       "  CaptureMethod       Fisher                        LandingSite    Species   \n",
       "0           Net  Fisher_1072  LandingSite_CaptureSiteCategory_2  Species_6  \\\n",
       "1           Net   Fisher_520  LandingSite_CaptureSiteCategory_2  Species_6   \n",
       "2           Net  Fisher_1669  LandingSite_CaptureSiteCategory_2  Species_5   \n",
       "3           Net  Fisher_1798  LandingSite_CaptureSiteCategory_2  Species_6   \n",
       "4       Beached  Fisher_1918  LandingSite_CaptureSiteCategory_2  Species_5   \n",
       "\n",
       "            Tag_1  ... CCW_cm Weight_Kg      Sex   \n",
       "0         CC00147  ...  62.60       NaN  Unknown  \\\n",
       "1            W442  ...  31.35       NaN  Unknown   \n",
       "2          KE0376  ...  49.20       NaN  Unknown   \n",
       "3         CC00302  ...  59.00       NaN  Unknown   \n",
       "4  NotTagged_0113  ...  33.00       NaN  Unknown   \n",
       "\n",
       "                               TurtleCharacteristics    Status   \n",
       "0                             algae at rear of shell  Released  \\\n",
       "1  multiple b's on front flippers&  a lot of alga...  Released   \n",
       "2                                              clean  Released   \n",
       "3  1 b 3 CS+ calcerous algae at rear end of shell...  Released   \n",
       "4  very lively+ right eye is hanging out + swolle...  Released   \n",
       "\n",
       "      ReleaseSite Date_TimeRelease  year week_of_year year_woy  \n",
       "0  ReleaseSite_50       2022-12-00  2000           51   200051  \n",
       "1  ReleaseSite_62       2028-10-01  2001           43   200143  \n",
       "2  ReleaseSite_50       2001-11-01  2001           44   200144  \n",
       "3  ReleaseSite_50       2011-03-02  2002           11   200211  \n",
       "4  ReleaseSite_62       2008-08-02  2002           32   200232  \n",
       "\n",
       "[5 rows x 24 columns]"
      ]
     },
     "execution_count": 18,
     "metadata": {},
     "output_type": "execute_result"
    }
   ],
   "source": [
    "df_train_date.head()"
   ]
  },
  {
   "cell_type": "markdown",
   "metadata": {},
   "source": [
    "checking out other columns:"
   ]
  },
  {
   "cell_type": "code",
   "execution_count": 19,
   "metadata": {},
   "outputs": [
    {
     "data": {
      "text/plain": [
       "ForagingGround\n",
       "Creek    11408\n",
       "Ocean     6651\n",
       "creek        3\n",
       "Name: count, dtype: int64"
      ]
     },
     "execution_count": 19,
     "metadata": {},
     "output_type": "execute_result"
    }
   ],
   "source": [
    "df_train_date['ForagingGround'].value_counts()"
   ]
  },
  {
   "cell_type": "code",
   "execution_count": 20,
   "metadata": {},
   "outputs": [
    {
     "data": {
      "text/plain": [
       "ForagingGround\n",
       "Creek    11411\n",
       "Ocean     6651\n",
       "Name: count, dtype: int64"
      ]
     },
     "execution_count": 20,
     "metadata": {},
     "output_type": "execute_result"
    }
   ],
   "source": [
    "# Foraging ground has Creek and creek, replace creek with Creek\n",
    "df_train_date['ForagingGround'] = df_train_date['ForagingGround'].str.replace('creek', 'Creek')\n",
    "df_train_date['ForagingGround'].value_counts()"
   ]
  },
  {
   "cell_type": "markdown",
   "metadata": {},
   "source": [
    "### Checking for duplicates"
   ]
  },
  {
   "cell_type": "code",
   "execution_count": 21,
   "metadata": {},
   "outputs": [
    {
     "data": {
      "text/plain": [
       "(False, False, False)"
      ]
     },
     "execution_count": 21,
     "metadata": {},
     "output_type": "execute_result"
    }
   ],
   "source": [
    "# Check for duplicates\n",
    "df_train_date.duplicated().any(), df_capturesite_category.duplicated().any(), df_sample_sub.duplicated().any()"
   ]
  },
  {
   "cell_type": "markdown",
   "metadata": {},
   "source": [
    "good, no duplicates! :)"
   ]
  },
  {
   "cell_type": "markdown",
   "metadata": {},
   "source": [
    "### Checking missing values"
   ]
  },
  {
   "cell_type": "code",
   "execution_count": 22,
   "metadata": {},
   "outputs": [
    {
     "data": {
      "text/plain": [
       "(True, False, False)"
      ]
     },
     "execution_count": 22,
     "metadata": {},
     "output_type": "execute_result"
    }
   ],
   "source": [
    "# Check for missing values: overview\n",
    "df_train_date.isnull().sum().any(), df_capturesite_category.isnull().sum().any(), df_sample_sub.isnull().sum().any()"
   ]
  },
  {
   "cell_type": "code",
   "execution_count": 23,
   "metadata": {},
   "outputs": [
    {
     "data": {
      "text/plain": [
       "Rescue_ID                    0\n",
       "Date_TimeCaught              0\n",
       "Researcher                   0\n",
       "CaptureSite                  0\n",
       "ForagingGround               0\n",
       "CaptureMethod                0\n",
       "Fisher                       0\n",
       "LandingSite                  0\n",
       "Species                      0\n",
       "Tag_1                      125\n",
       "Tag_2                    13151\n",
       "Lost_Tags                17137\n",
       "T_Number                 18024\n",
       "CCL_cm                      24\n",
       "CCW_cm                      27\n",
       "Weight_Kg                 5409\n",
       "Sex                       4330\n",
       "TurtleCharacteristics       52\n",
       "Status                    3633\n",
       "ReleaseSite                 75\n",
       "Date_TimeRelease             0\n",
       "year                         0\n",
       "week_of_year                 0\n",
       "year_woy                     0\n",
       "dtype: int64"
      ]
     },
     "execution_count": 23,
     "metadata": {},
     "output_type": "execute_result"
    }
   ],
   "source": [
    "# closer look into df_train_date\n",
    "df_train_date.isna().sum()"
   ]
  },
  {
   "cell_type": "code",
   "execution_count": 24,
   "metadata": {},
   "outputs": [
    {
     "data": {
      "text/plain": [
       "<Axes: >"
      ]
     },
     "execution_count": 24,
     "metadata": {},
     "output_type": "execute_result"
    },
    {
     "data": {
      "image/png": "[encoded data removed]",
      "text/plain": [
       "<Figure size 2500x1000 with 3 Axes>"
      ]
     },
     "metadata": {},
     "output_type": "display_data"
    }
   ],
   "source": [
    "# plotting percentage of missing values per column\n",
    "msno.bar(df_train_date)"
   ]
  },
  {
   "cell_type": "code",
   "execution_count": 25,
   "metadata": {},
   "outputs": [
    {
     "data": {
      "text/plain": [
       "<Axes: >"
      ]
     },
     "execution_count": 25,
     "metadata": {},
     "output_type": "execute_result"
    },
    {
     "data": {
      "image/png": "[encoded data removed]",
      "text/plain": [
       "<Figure size 2500x1000 with 2 Axes>"
      ]
     },
     "metadata": {},
     "output_type": "display_data"
    }
   ],
   "source": [
    "msno.matrix(df_train_date)"
   ]
  },
  {
   "cell_type": "markdown",
   "metadata": {},
   "source": [
    "We can see that we have a lot of missing values in columns. How important are these for our objective? Which ones can we drop?\n",
    "- Colum T_Number has only 38 non-null values, so we can drop it\n",
    "- Colum Lost_Tags has only 925 non-null values, so we can drop it\n",
    "- Colum Tag_2 has only 4911 non-null values, so we can drop it\n"
   ]
  },
  {
   "cell_type": "code",
   "execution_count": 26,
   "metadata": {},
   "outputs": [],
   "source": [
    "# dropping columns \n",
    "df_train_date = df_train_date.drop(['T_Number', 'Lost_Tags', 'Tag_2'], axis=1)"
   ]
  },
  {
   "cell_type": "markdown",
   "metadata": {},
   "source": [
    "### Filling missing values"
   ]
  },
  {
   "cell_type": "code",
   "execution_count": 27,
   "metadata": {},
   "outputs": [
    {
     "data": {
      "text/plain": [
       "count    12653.000000\n",
       "mean         9.850731\n",
       "std          9.737378\n",
       "min          0.020000\n",
       "25%          5.000000\n",
       "50%          7.500000\n",
       "75%         10.800000\n",
       "max        140.000000\n",
       "Name: Weight_Kg, dtype: float64"
      ]
     },
     "execution_count": 27,
     "metadata": {},
     "output_type": "execute_result"
    }
   ],
   "source": [
    "df_train_date.Weight_Kg.describe()"
   ]
  },
  {
   "cell_type": "code",
   "execution_count": 28,
   "metadata": {},
   "outputs": [],
   "source": [
    "#we have an outlier, so lets use the median to fill the missing values\n",
    "df_train_date.Weight_Kg.fillna(df_train_date.Weight_Kg.median(), inplace=True)"
   ]
  },
  {
   "cell_type": "code",
   "execution_count": 29,
   "metadata": {},
   "outputs": [
    {
     "data": {
      "text/plain": [
       "Sex\n",
       "Unknown         13578\n",
       "Female            113\n",
       "Male               39\n",
       "Not_Recorded        2\n",
       "Name: count, dtype: int64"
      ]
     },
     "execution_count": 29,
     "metadata": {},
     "output_type": "execute_result"
    }
   ],
   "source": [
    "df_train_date.Sex.value_counts()"
   ]
  },
  {
   "cell_type": "code",
   "execution_count": 30,
   "metadata": {},
   "outputs": [
    {
     "data": {
      "text/plain": [
       "Sex\n",
       "Unknown         17908\n",
       "Female            113\n",
       "Male               39\n",
       "Not_Recorded        2\n",
       "Name: count, dtype: int64"
      ]
     },
     "execution_count": 30,
     "metadata": {},
     "output_type": "execute_result"
    }
   ],
   "source": [
    "#fill missing values of Sex with Unknown\n",
    "df_train_date.Sex.fillna('Unknown', inplace=True)\n",
    "df_train_date.Sex.value_counts()"
   ]
  },
  {
   "cell_type": "code",
   "execution_count": 31,
   "metadata": {},
   "outputs": [
    {
     "data": {
      "text/plain": [
       "Status\n",
       "Released                                          13610\n",
       "Admitted                                            292\n",
       "Not_Recorded                                         28\n",
       " shell is beginning to flake                          7\n",
       " green algae on carapace                              7\n",
       "                                                  ...  \n",
       " barnacles on plastron (removed)                      1\n",
       " notches on RMS                                       1\n",
       " small barnacles around neck and rear flippers        1\n",
       " 5 RLS                                                1\n",
       " barnacles on plastron                                1\n",
       "Name: count, Length: 439, dtype: int64"
      ]
     },
     "execution_count": 31,
     "metadata": {},
     "output_type": "execute_result"
    }
   ],
   "source": [
    "df_train_date['Status'].value_counts()"
   ]
  },
  {
   "cell_type": "code",
   "execution_count": 32,
   "metadata": {},
   "outputs": [],
   "source": [
    "df_train_date.Status.fillna('Not_Recorded', inplace=True)"
   ]
  },
  {
   "cell_type": "code",
   "execution_count": 33,
   "metadata": {},
   "outputs": [],
   "source": [
    "df_train_date.ReleaseSite.fillna('Unknown', inplace=True)"
   ]
  },
  {
   "cell_type": "code",
   "execution_count": 34,
   "metadata": {},
   "outputs": [],
   "source": [
    "df_train_date.TurtleCharacteristics.fillna('Unknown', inplace=True)"
   ]
  },
  {
   "cell_type": "code",
   "execution_count": 35,
   "metadata": {},
   "outputs": [
    {
     "data": {
      "text/plain": [
       "Tag_1                    125\n",
       "CCW_cm                    27\n",
       "CCL_cm                    24\n",
       "week_of_year               0\n",
       "year                       0\n",
       "Date_TimeRelease           0\n",
       "ReleaseSite                0\n",
       "Status                     0\n",
       "TurtleCharacteristics      0\n",
       "Sex                        0\n",
       "Weight_Kg                  0\n",
       "Rescue_ID                  0\n",
       "Date_TimeCaught            0\n",
       "Species                    0\n",
       "LandingSite                0\n",
       "Fisher                     0\n",
       "CaptureMethod              0\n",
       "ForagingGround             0\n",
       "CaptureSite                0\n",
       "Researcher                 0\n",
       "year_woy                   0\n",
       "dtype: int64"
      ]
     },
     "execution_count": 35,
     "metadata": {},
     "output_type": "execute_result"
    }
   ],
   "source": [
    "df_train_date.isna().sum().sort_values(ascending=False)"
   ]
  },
  {
   "cell_type": "code",
   "execution_count": 36,
   "metadata": {},
   "outputs": [
    {
     "data": {
      "text/plain": [
       "Tag_1\n",
       "KES1306    116\n",
       "4858        90\n",
       "KE6133      81\n",
       "KE8098      81\n",
       "KE7799      75\n",
       "          ... \n",
       "KE7211       1\n",
       "KE7014       1\n",
       "KE7007       1\n",
       "KE6535       1\n",
       "KES1833      1\n",
       "Name: count, Length: 8235, dtype: int64"
      ]
     },
     "execution_count": 36,
     "metadata": {},
     "output_type": "execute_result"
    }
   ],
   "source": [
    "df_train_date.Tag_1.value_counts()"
   ]
  },
  {
   "cell_type": "code",
   "execution_count": 37,
   "metadata": {},
   "outputs": [],
   "source": [
    "# how to fill in missing values for Tag_1? answer: use the most frequent value? or use the most frequent value per year?\n",
    "df_train_date.Tag_1.fillna('NotTagged', inplace=True)"
   ]
  },
  {
   "cell_type": "code",
   "execution_count": 38,
   "metadata": {},
   "outputs": [
    {
     "name": "stdout",
     "output_type": "stream",
     "text": [
      "Species\n",
      "Species_0    48.50\n",
      "Species_1    60.55\n",
      "Species_2    43.85\n",
      "Species_3    38.50\n",
      "Species_4    85.10\n",
      "Species_5    43.90\n",
      "Species_6    35.70\n",
      "Species_7    52.10\n",
      "Name: CCL_cm, dtype: float64\n",
      "Species\n",
      "Species_0    45.20\n",
      "Species_1    43.25\n",
      "Species_2    43.55\n",
      "Species_3    35.80\n",
      "Species_4    78.95\n",
      "Species_5    41.80\n",
      "Species_6    33.20\n",
      "Species_7    54.90\n",
      "Name: CCW_cm, dtype: float64\n"
     ]
    }
   ],
   "source": [
    "# how to fill in for CCL_cm and CCW_cm? check median by species?\n",
    "print(df_train_date.groupby('Species').CCL_cm.median())\n",
    "\n",
    "print(df_train_date.groupby('Species').CCW_cm.median())\n"
   ]
  },
  {
   "cell_type": "code",
   "execution_count": 39,
   "metadata": {},
   "outputs": [],
   "source": [
    "#then fill in missing values with median per species\n",
    "df_train_date.CCL_cm.fillna(df_train_date.groupby('Species').CCL_cm.transform('median'), inplace=True)\n",
    "df_train_date.CCW_cm.fillna(df_train_date.groupby('Species').CCW_cm.transform('median'), inplace=True)"
   ]
  },
  {
   "cell_type": "code",
   "execution_count": 40,
   "metadata": {},
   "outputs": [
    {
     "data": {
      "text/plain": [
       "<Axes: >"
      ]
     },
     "execution_count": 40,
     "metadata": {},
     "output_type": "execute_result"
    },
    {
     "data": {
      "image/png": "[encoded data removed]",
      "text/plain": [
       "<Figure size 2500x1000 with 2 Axes>"
      ]
     },
     "metadata": {},
     "output_type": "display_data"
    }
   ],
   "source": [
    "msno.matrix(df_train_date)"
   ]
  },
  {
   "cell_type": "code",
   "execution_count": 41,
   "metadata": {},
   "outputs": [],
   "source": [
    "# profile?"
   ]
  },
  {
   "cell_type": "markdown",
   "metadata": {},
   "source": [
    "### Combining our cleaned tables together for modeling"
   ]
  },
  {
   "cell_type": "code",
   "execution_count": 42,
   "metadata": {},
   "outputs": [
    {
     "data": {
      "text/html": [
       "<div>\n",
       "<style scoped>\n",
       "    .dataframe tbody tr th:only-of-type {\n",
       "        vertical-align: middle;\n",
       "    }\n",
       "\n",
       "    .dataframe tbody tr th {\n",
       "        vertical-align: top;\n",
       "    }\n",
       "\n",
       "    .dataframe thead th {\n",
       "        text-align: right;\n",
       "    }\n",
       "</style>\n",
       "<table border=\"1\" class=\"dataframe\">\n",
       "  <thead>\n",
       "    <tr style=\"text-align: right;\">\n",
       "      <th></th>\n",
       "      <th>Rescue_ID</th>\n",
       "      <th>Date_TimeCaught</th>\n",
       "      <th>Researcher</th>\n",
       "      <th>CaptureSite</th>\n",
       "      <th>ForagingGround</th>\n",
       "      <th>CaptureMethod</th>\n",
       "      <th>Fisher</th>\n",
       "      <th>LandingSite</th>\n",
       "      <th>Species</th>\n",
       "      <th>Tag_1</th>\n",
       "      <th>...</th>\n",
       "      <th>CCW_cm</th>\n",
       "      <th>Weight_Kg</th>\n",
       "      <th>Sex</th>\n",
       "      <th>TurtleCharacteristics</th>\n",
       "      <th>Status</th>\n",
       "      <th>ReleaseSite</th>\n",
       "      <th>Date_TimeRelease</th>\n",
       "      <th>year</th>\n",
       "      <th>week_of_year</th>\n",
       "      <th>year_woy</th>\n",
       "    </tr>\n",
       "  </thead>\n",
       "  <tbody>\n",
       "    <tr>\n",
       "      <th>0</th>\n",
       "      <td>2000_RE_0060</td>\n",
       "      <td>2000-12-22</td>\n",
       "      <td>Researcher_25</td>\n",
       "      <td>CaptureSite_0</td>\n",
       "      <td>Ocean</td>\n",
       "      <td>Net</td>\n",
       "      <td>Fisher_1072</td>\n",
       "      <td>LandingSite_CaptureSiteCategory_2</td>\n",
       "      <td>Species_6</td>\n",
       "      <td>CC00147</td>\n",
       "      <td>...</td>\n",
       "      <td>62.60</td>\n",
       "      <td>7.5</td>\n",
       "      <td>Unknown</td>\n",
       "      <td>algae at rear of shell</td>\n",
       "      <td>Released</td>\n",
       "      <td>ReleaseSite_50</td>\n",
       "      <td>2022-12-00</td>\n",
       "      <td>2000</td>\n",
       "      <td>51</td>\n",
       "      <td>200051</td>\n",
       "    </tr>\n",
       "    <tr>\n",
       "      <th>1</th>\n",
       "      <td>2001_RE_0187</td>\n",
       "      <td>2001-10-28</td>\n",
       "      <td>Researcher_6</td>\n",
       "      <td>CaptureSite_0</td>\n",
       "      <td>Ocean</td>\n",
       "      <td>Net</td>\n",
       "      <td>Fisher_520</td>\n",
       "      <td>LandingSite_CaptureSiteCategory_2</td>\n",
       "      <td>Species_6</td>\n",
       "      <td>W442</td>\n",
       "      <td>...</td>\n",
       "      <td>31.35</td>\n",
       "      <td>7.5</td>\n",
       "      <td>Unknown</td>\n",
       "      <td>multiple b's on front flippers&amp;  a lot of alga...</td>\n",
       "      <td>Released</td>\n",
       "      <td>ReleaseSite_62</td>\n",
       "      <td>2028-10-01</td>\n",
       "      <td>2001</td>\n",
       "      <td>43</td>\n",
       "      <td>200143</td>\n",
       "    </tr>\n",
       "    <tr>\n",
       "      <th>2</th>\n",
       "      <td>2001_RE_0197</td>\n",
       "      <td>2001-11-01</td>\n",
       "      <td>Researcher_6</td>\n",
       "      <td>CaptureSite_0</td>\n",
       "      <td>Ocean</td>\n",
       "      <td>Net</td>\n",
       "      <td>Fisher_1669</td>\n",
       "      <td>LandingSite_CaptureSiteCategory_2</td>\n",
       "      <td>Species_5</td>\n",
       "      <td>KE0376</td>\n",
       "      <td>...</td>\n",
       "      <td>49.20</td>\n",
       "      <td>7.5</td>\n",
       "      <td>Unknown</td>\n",
       "      <td>clean</td>\n",
       "      <td>Released</td>\n",
       "      <td>ReleaseSite_50</td>\n",
       "      <td>2001-11-01</td>\n",
       "      <td>2001</td>\n",
       "      <td>44</td>\n",
       "      <td>200144</td>\n",
       "    </tr>\n",
       "    <tr>\n",
       "      <th>3</th>\n",
       "      <td>2002_RE_0031</td>\n",
       "      <td>2002-03-11</td>\n",
       "      <td>Researcher_32</td>\n",
       "      <td>CaptureSite_0</td>\n",
       "      <td>Ocean</td>\n",
       "      <td>Net</td>\n",
       "      <td>Fisher_1798</td>\n",
       "      <td>LandingSite_CaptureSiteCategory_2</td>\n",
       "      <td>Species_6</td>\n",
       "      <td>CC00302</td>\n",
       "      <td>...</td>\n",
       "      <td>59.00</td>\n",
       "      <td>7.5</td>\n",
       "      <td>Unknown</td>\n",
       "      <td>1 b 3 CS+ calcerous algae at rear end of shell...</td>\n",
       "      <td>Released</td>\n",
       "      <td>ReleaseSite_50</td>\n",
       "      <td>2011-03-02</td>\n",
       "      <td>2002</td>\n",
       "      <td>11</td>\n",
       "      <td>200211</td>\n",
       "    </tr>\n",
       "    <tr>\n",
       "      <th>4</th>\n",
       "      <td>2002_RE_0118</td>\n",
       "      <td>2002-08-08</td>\n",
       "      <td>Researcher_25</td>\n",
       "      <td>CaptureSite_0</td>\n",
       "      <td>Ocean</td>\n",
       "      <td>Beached</td>\n",
       "      <td>Fisher_1918</td>\n",
       "      <td>LandingSite_CaptureSiteCategory_2</td>\n",
       "      <td>Species_5</td>\n",
       "      <td>NotTagged_0113</td>\n",
       "      <td>...</td>\n",
       "      <td>33.00</td>\n",
       "      <td>7.5</td>\n",
       "      <td>Unknown</td>\n",
       "      <td>very lively+ right eye is hanging out + swolle...</td>\n",
       "      <td>Released</td>\n",
       "      <td>ReleaseSite_62</td>\n",
       "      <td>2008-08-02</td>\n",
       "      <td>2002</td>\n",
       "      <td>32</td>\n",
       "      <td>200232</td>\n",
       "    </tr>\n",
       "  </tbody>\n",
       "</table>\n",
       "<p>5 rows × 21 columns</p>\n",
       "</div>"
      ],
      "text/plain": [
       "      Rescue_ID Date_TimeCaught     Researcher    CaptureSite ForagingGround   \n",
       "0  2000_RE_0060      2000-12-22  Researcher_25  CaptureSite_0          Ocean  \\\n",
       "1  2001_RE_0187      2001-10-28   Researcher_6  CaptureSite_0          Ocean   \n",
       "2  2001_RE_0197      2001-11-01   Researcher_6  CaptureSite_0          Ocean   \n",
       "3  2002_RE_0031      2002-03-11  Researcher_32  CaptureSite_0          Ocean   \n",
       "4  2002_RE_0118      2002-08-08  Researcher_25  CaptureSite_0          Ocean   \n",
       "\n",
       "  CaptureMethod       Fisher                        LandingSite    Species   \n",
       "0           Net  Fisher_1072  LandingSite_CaptureSiteCategory_2  Species_6  \\\n",
       "1           Net   Fisher_520  LandingSite_CaptureSiteCategory_2  Species_6   \n",
       "2           Net  Fisher_1669  LandingSite_CaptureSiteCategory_2  Species_5   \n",
       "3           Net  Fisher_1798  LandingSite_CaptureSiteCategory_2  Species_6   \n",
       "4       Beached  Fisher_1918  LandingSite_CaptureSiteCategory_2  Species_5   \n",
       "\n",
       "            Tag_1  ...  CCW_cm  Weight_Kg      Sex   \n",
       "0         CC00147  ...   62.60        7.5  Unknown  \\\n",
       "1            W442  ...   31.35        7.5  Unknown   \n",
       "2          KE0376  ...   49.20        7.5  Unknown   \n",
       "3         CC00302  ...   59.00        7.5  Unknown   \n",
       "4  NotTagged_0113  ...   33.00        7.5  Unknown   \n",
       "\n",
       "                               TurtleCharacteristics    Status   \n",
       "0                             algae at rear of shell  Released  \\\n",
       "1  multiple b's on front flippers&  a lot of alga...  Released   \n",
       "2                                              clean  Released   \n",
       "3  1 b 3 CS+ calcerous algae at rear end of shell...  Released   \n",
       "4  very lively+ right eye is hanging out + swolle...  Released   \n",
       "\n",
       "      ReleaseSite Date_TimeRelease  year  week_of_year  year_woy  \n",
       "0  ReleaseSite_50       2022-12-00  2000            51    200051  \n",
       "1  ReleaseSite_62       2028-10-01  2001            43    200143  \n",
       "2  ReleaseSite_50       2001-11-01  2001            44    200144  \n",
       "3  ReleaseSite_50       2011-03-02  2002            11    200211  \n",
       "4  ReleaseSite_62       2008-08-02  2002            32    200232  \n",
       "\n",
       "[5 rows x 21 columns]"
      ]
     },
     "execution_count": 42,
     "metadata": {},
     "output_type": "execute_result"
    }
   ],
   "source": [
    "df_train_date.head()"
   ]
  },
  {
   "cell_type": "code",
   "execution_count": 43,
   "metadata": {},
   "outputs": [],
   "source": [
    "df = df_train_date.copy()"
   ]
  },
  {
   "cell_type": "code",
   "execution_count": 44,
   "metadata": {},
   "outputs": [
    {
     "data": {
      "text/html": [
       "<div>\n",
       "<style scoped>\n",
       "    .dataframe tbody tr th:only-of-type {\n",
       "        vertical-align: middle;\n",
       "    }\n",
       "\n",
       "    .dataframe tbody tr th {\n",
       "        vertical-align: top;\n",
       "    }\n",
       "\n",
       "    .dataframe thead th {\n",
       "        text-align: right;\n",
       "    }\n",
       "</style>\n",
       "<table border=\"1\" class=\"dataframe\">\n",
       "  <thead>\n",
       "    <tr style=\"text-align: right;\">\n",
       "      <th></th>\n",
       "      <th>Rescue_ID</th>\n",
       "      <th>Date_TimeCaught</th>\n",
       "      <th>Researcher</th>\n",
       "      <th>CaptureSite</th>\n",
       "      <th>ForagingGround</th>\n",
       "      <th>CaptureMethod</th>\n",
       "      <th>Fisher</th>\n",
       "      <th>LandingSite</th>\n",
       "      <th>Species</th>\n",
       "      <th>Tag_1</th>\n",
       "      <th>...</th>\n",
       "      <th>CCW_cm</th>\n",
       "      <th>Weight_Kg</th>\n",
       "      <th>Sex</th>\n",
       "      <th>TurtleCharacteristics</th>\n",
       "      <th>Status</th>\n",
       "      <th>ReleaseSite</th>\n",
       "      <th>Date_TimeRelease</th>\n",
       "      <th>year</th>\n",
       "      <th>week_of_year</th>\n",
       "      <th>year_woy</th>\n",
       "    </tr>\n",
       "  </thead>\n",
       "  <tbody>\n",
       "    <tr>\n",
       "      <th>0</th>\n",
       "      <td>2000_RE_0060</td>\n",
       "      <td>2000-12-22</td>\n",
       "      <td>Researcher_25</td>\n",
       "      <td>CaptureSite_0</td>\n",
       "      <td>Ocean</td>\n",
       "      <td>Net</td>\n",
       "      <td>Fisher_1072</td>\n",
       "      <td>LandingSite_CaptureSiteCategory_2</td>\n",
       "      <td>Species_6</td>\n",
       "      <td>CC00147</td>\n",
       "      <td>...</td>\n",
       "      <td>62.60</td>\n",
       "      <td>7.5</td>\n",
       "      <td>Unknown</td>\n",
       "      <td>algae at rear of shell</td>\n",
       "      <td>Released</td>\n",
       "      <td>ReleaseSite_50</td>\n",
       "      <td>2022-12-00</td>\n",
       "      <td>2000</td>\n",
       "      <td>51</td>\n",
       "      <td>200051</td>\n",
       "    </tr>\n",
       "    <tr>\n",
       "      <th>1</th>\n",
       "      <td>2001_RE_0187</td>\n",
       "      <td>2001-10-28</td>\n",
       "      <td>Researcher_6</td>\n",
       "      <td>CaptureSite_0</td>\n",
       "      <td>Ocean</td>\n",
       "      <td>Net</td>\n",
       "      <td>Fisher_520</td>\n",
       "      <td>LandingSite_CaptureSiteCategory_2</td>\n",
       "      <td>Species_6</td>\n",
       "      <td>W442</td>\n",
       "      <td>...</td>\n",
       "      <td>31.35</td>\n",
       "      <td>7.5</td>\n",
       "      <td>Unknown</td>\n",
       "      <td>multiple b's on front flippers&amp;  a lot of alga...</td>\n",
       "      <td>Released</td>\n",
       "      <td>ReleaseSite_62</td>\n",
       "      <td>2028-10-01</td>\n",
       "      <td>2001</td>\n",
       "      <td>43</td>\n",
       "      <td>200143</td>\n",
       "    </tr>\n",
       "    <tr>\n",
       "      <th>2</th>\n",
       "      <td>2001_RE_0197</td>\n",
       "      <td>2001-11-01</td>\n",
       "      <td>Researcher_6</td>\n",
       "      <td>CaptureSite_0</td>\n",
       "      <td>Ocean</td>\n",
       "      <td>Net</td>\n",
       "      <td>Fisher_1669</td>\n",
       "      <td>LandingSite_CaptureSiteCategory_2</td>\n",
       "      <td>Species_5</td>\n",
       "      <td>KE0376</td>\n",
       "      <td>...</td>\n",
       "      <td>49.20</td>\n",
       "      <td>7.5</td>\n",
       "      <td>Unknown</td>\n",
       "      <td>clean</td>\n",
       "      <td>Released</td>\n",
       "      <td>ReleaseSite_50</td>\n",
       "      <td>2001-11-01</td>\n",
       "      <td>2001</td>\n",
       "      <td>44</td>\n",
       "      <td>200144</td>\n",
       "    </tr>\n",
       "    <tr>\n",
       "      <th>3</th>\n",
       "      <td>2002_RE_0031</td>\n",
       "      <td>2002-03-11</td>\n",
       "      <td>Researcher_32</td>\n",
       "      <td>CaptureSite_0</td>\n",
       "      <td>Ocean</td>\n",
       "      <td>Net</td>\n",
       "      <td>Fisher_1798</td>\n",
       "      <td>LandingSite_CaptureSiteCategory_2</td>\n",
       "      <td>Species_6</td>\n",
       "      <td>CC00302</td>\n",
       "      <td>...</td>\n",
       "      <td>59.00</td>\n",
       "      <td>7.5</td>\n",
       "      <td>Unknown</td>\n",
       "      <td>1 b 3 CS+ calcerous algae at rear end of shell...</td>\n",
       "      <td>Released</td>\n",
       "      <td>ReleaseSite_50</td>\n",
       "      <td>2011-03-02</td>\n",
       "      <td>2002</td>\n",
       "      <td>11</td>\n",
       "      <td>200211</td>\n",
       "    </tr>\n",
       "    <tr>\n",
       "      <th>4</th>\n",
       "      <td>2002_RE_0118</td>\n",
       "      <td>2002-08-08</td>\n",
       "      <td>Researcher_25</td>\n",
       "      <td>CaptureSite_0</td>\n",
       "      <td>Ocean</td>\n",
       "      <td>Beached</td>\n",
       "      <td>Fisher_1918</td>\n",
       "      <td>LandingSite_CaptureSiteCategory_2</td>\n",
       "      <td>Species_5</td>\n",
       "      <td>NotTagged_0113</td>\n",
       "      <td>...</td>\n",
       "      <td>33.00</td>\n",
       "      <td>7.5</td>\n",
       "      <td>Unknown</td>\n",
       "      <td>very lively+ right eye is hanging out + swolle...</td>\n",
       "      <td>Released</td>\n",
       "      <td>ReleaseSite_62</td>\n",
       "      <td>2008-08-02</td>\n",
       "      <td>2002</td>\n",
       "      <td>32</td>\n",
       "      <td>200232</td>\n",
       "    </tr>\n",
       "  </tbody>\n",
       "</table>\n",
       "<p>5 rows × 21 columns</p>\n",
       "</div>"
      ],
      "text/plain": [
       "      Rescue_ID Date_TimeCaught     Researcher    CaptureSite ForagingGround   \n",
       "0  2000_RE_0060      2000-12-22  Researcher_25  CaptureSite_0          Ocean  \\\n",
       "1  2001_RE_0187      2001-10-28   Researcher_6  CaptureSite_0          Ocean   \n",
       "2  2001_RE_0197      2001-11-01   Researcher_6  CaptureSite_0          Ocean   \n",
       "3  2002_RE_0031      2002-03-11  Researcher_32  CaptureSite_0          Ocean   \n",
       "4  2002_RE_0118      2002-08-08  Researcher_25  CaptureSite_0          Ocean   \n",
       "\n",
       "  CaptureMethod       Fisher                        LandingSite    Species   \n",
       "0           Net  Fisher_1072  LandingSite_CaptureSiteCategory_2  Species_6  \\\n",
       "1           Net   Fisher_520  LandingSite_CaptureSiteCategory_2  Species_6   \n",
       "2           Net  Fisher_1669  LandingSite_CaptureSiteCategory_2  Species_5   \n",
       "3           Net  Fisher_1798  LandingSite_CaptureSiteCategory_2  Species_6   \n",
       "4       Beached  Fisher_1918  LandingSite_CaptureSiteCategory_2  Species_5   \n",
       "\n",
       "            Tag_1  ...  CCW_cm  Weight_Kg      Sex   \n",
       "0         CC00147  ...   62.60        7.5  Unknown  \\\n",
       "1            W442  ...   31.35        7.5  Unknown   \n",
       "2          KE0376  ...   49.20        7.5  Unknown   \n",
       "3         CC00302  ...   59.00        7.5  Unknown   \n",
       "4  NotTagged_0113  ...   33.00        7.5  Unknown   \n",
       "\n",
       "                               TurtleCharacteristics    Status   \n",
       "0                             algae at rear of shell  Released  \\\n",
       "1  multiple b's on front flippers&  a lot of alga...  Released   \n",
       "2                                              clean  Released   \n",
       "3  1 b 3 CS+ calcerous algae at rear end of shell...  Released   \n",
       "4  very lively+ right eye is hanging out + swolle...  Released   \n",
       "\n",
       "      ReleaseSite Date_TimeRelease  year  week_of_year  year_woy  \n",
       "0  ReleaseSite_50       2022-12-00  2000            51    200051  \n",
       "1  ReleaseSite_62       2028-10-01  2001            43    200143  \n",
       "2  ReleaseSite_50       2001-11-01  2001            44    200144  \n",
       "3  ReleaseSite_50       2011-03-02  2002            11    200211  \n",
       "4  ReleaseSite_62       2008-08-02  2002            32    200232  \n",
       "\n",
       "[5 rows x 21 columns]"
      ]
     },
     "execution_count": 44,
     "metadata": {},
     "output_type": "execute_result"
    }
   ],
   "source": [
    "# groupby year/ capture site  \n",
    "df.groupby(['year', 'week_of_year', 'CaptureSite', 'LandingSite']) \n",
    "\n",
    "df.head()\n"
   ]
  },
  {
   "cell_type": "code",
   "execution_count": 45,
   "metadata": {},
   "outputs": [
    {
     "data": {
      "text/plain": [
       "Index(['Rescue_ID', 'Date_TimeCaught', 'Researcher', 'CaptureSite',\n",
       "       'ForagingGround', 'CaptureMethod', 'Fisher', 'LandingSite', 'Species',\n",
       "       'Tag_1', 'CCL_cm', 'CCW_cm', 'Weight_Kg', 'Sex',\n",
       "       'TurtleCharacteristics', 'Status', 'ReleaseSite', 'Date_TimeRelease',\n",
       "       'year', 'week_of_year', 'year_woy'],\n",
       "      dtype='object')"
      ]
     },
     "execution_count": 45,
     "metadata": {},
     "output_type": "execute_result"
    }
   ],
   "source": [
    "df.columns"
   ]
  },
  {
   "cell_type": "code",
   "execution_count": 46,
   "metadata": {},
   "outputs": [
    {
     "data": {
      "text/plain": [
       "pandas.core.frame.DataFrame"
      ]
     },
     "execution_count": 46,
     "metadata": {},
     "output_type": "execute_result"
    }
   ],
   "source": [
    "# check if it is dataframe\n",
    "type(df)"
   ]
  },
  {
   "cell_type": "code",
   "execution_count": 47,
   "metadata": {},
   "outputs": [],
   "source": [
    "df.drop(['Rescue_ID', 'Researcher', 'CaptureMethod', 'Fisher', 'Species',\n",
    "       'Tag_1', 'CCL_cm', 'CCW_cm', 'Weight_Kg', 'Sex',\n",
    "       'TurtleCharacteristics', 'ReleaseSite', 'Date_TimeRelease'], axis=1, inplace=True)"
   ]
  },
  {
   "cell_type": "code",
   "execution_count": 48,
   "metadata": {},
   "outputs": [
    {
     "data": {
      "text/html": [
       "<div>\n",
       "<style scoped>\n",
       "    .dataframe tbody tr th:only-of-type {\n",
       "        vertical-align: middle;\n",
       "    }\n",
       "\n",
       "    .dataframe tbody tr th {\n",
       "        vertical-align: top;\n",
       "    }\n",
       "\n",
       "    .dataframe thead th {\n",
       "        text-align: right;\n",
       "    }\n",
       "</style>\n",
       "<table border=\"1\" class=\"dataframe\">\n",
       "  <thead>\n",
       "    <tr style=\"text-align: right;\">\n",
       "      <th></th>\n",
       "      <th>Date_TimeCaught</th>\n",
       "      <th>CaptureSite</th>\n",
       "      <th>ForagingGround</th>\n",
       "      <th>LandingSite</th>\n",
       "      <th>Status</th>\n",
       "      <th>year</th>\n",
       "      <th>week_of_year</th>\n",
       "      <th>year_woy</th>\n",
       "    </tr>\n",
       "  </thead>\n",
       "  <tbody>\n",
       "    <tr>\n",
       "      <th>0</th>\n",
       "      <td>2000-12-22</td>\n",
       "      <td>CaptureSite_0</td>\n",
       "      <td>Ocean</td>\n",
       "      <td>LandingSite_CaptureSiteCategory_2</td>\n",
       "      <td>Released</td>\n",
       "      <td>2000</td>\n",
       "      <td>51</td>\n",
       "      <td>200051</td>\n",
       "    </tr>\n",
       "    <tr>\n",
       "      <th>1</th>\n",
       "      <td>2001-10-28</td>\n",
       "      <td>CaptureSite_0</td>\n",
       "      <td>Ocean</td>\n",
       "      <td>LandingSite_CaptureSiteCategory_2</td>\n",
       "      <td>Released</td>\n",
       "      <td>2001</td>\n",
       "      <td>43</td>\n",
       "      <td>200143</td>\n",
       "    </tr>\n",
       "    <tr>\n",
       "      <th>2</th>\n",
       "      <td>2001-11-01</td>\n",
       "      <td>CaptureSite_0</td>\n",
       "      <td>Ocean</td>\n",
       "      <td>LandingSite_CaptureSiteCategory_2</td>\n",
       "      <td>Released</td>\n",
       "      <td>2001</td>\n",
       "      <td>44</td>\n",
       "      <td>200144</td>\n",
       "    </tr>\n",
       "    <tr>\n",
       "      <th>3</th>\n",
       "      <td>2002-03-11</td>\n",
       "      <td>CaptureSite_0</td>\n",
       "      <td>Ocean</td>\n",
       "      <td>LandingSite_CaptureSiteCategory_2</td>\n",
       "      <td>Released</td>\n",
       "      <td>2002</td>\n",
       "      <td>11</td>\n",
       "      <td>200211</td>\n",
       "    </tr>\n",
       "    <tr>\n",
       "      <th>4</th>\n",
       "      <td>2002-08-08</td>\n",
       "      <td>CaptureSite_0</td>\n",
       "      <td>Ocean</td>\n",
       "      <td>LandingSite_CaptureSiteCategory_2</td>\n",
       "      <td>Released</td>\n",
       "      <td>2002</td>\n",
       "      <td>32</td>\n",
       "      <td>200232</td>\n",
       "    </tr>\n",
       "  </tbody>\n",
       "</table>\n",
       "</div>"
      ],
      "text/plain": [
       "  Date_TimeCaught    CaptureSite ForagingGround   \n",
       "0      2000-12-22  CaptureSite_0          Ocean  \\\n",
       "1      2001-10-28  CaptureSite_0          Ocean   \n",
       "2      2001-11-01  CaptureSite_0          Ocean   \n",
       "3      2002-03-11  CaptureSite_0          Ocean   \n",
       "4      2002-08-08  CaptureSite_0          Ocean   \n",
       "\n",
       "                         LandingSite    Status  year  week_of_year  year_woy  \n",
       "0  LandingSite_CaptureSiteCategory_2  Released  2000            51    200051  \n",
       "1  LandingSite_CaptureSiteCategory_2  Released  2001            43    200143  \n",
       "2  LandingSite_CaptureSiteCategory_2  Released  2001            44    200144  \n",
       "3  LandingSite_CaptureSiteCategory_2  Released  2002            11    200211  \n",
       "4  LandingSite_CaptureSiteCategory_2  Released  2002            32    200232  "
      ]
     },
     "execution_count": 48,
     "metadata": {},
     "output_type": "execute_result"
    }
   ],
   "source": [
    "df.head()\n"
   ]
  },
  {
   "cell_type": "markdown",
   "metadata": {},
   "source": [
    "Reminder: objective: we want to find Number of Turtlers per week per Capture site"
   ]
  },
  {
   "cell_type": "code",
   "execution_count": 64,
   "metadata": {},
   "outputs": [
    {
     "data": {
      "text/html": [
       "<div>\n",
       "<style scoped>\n",
       "    .dataframe tbody tr th:only-of-type {\n",
       "        vertical-align: middle;\n",
       "    }\n",
       "\n",
       "    .dataframe tbody tr th {\n",
       "        vertical-align: top;\n",
       "    }\n",
       "\n",
       "    .dataframe thead th {\n",
       "        text-align: right;\n",
       "    }\n",
       "</style>\n",
       "<table border=\"1\" class=\"dataframe\">\n",
       "  <thead>\n",
       "    <tr style=\"text-align: right;\">\n",
       "      <th></th>\n",
       "      <th></th>\n",
       "      <th></th>\n",
       "      <th></th>\n",
       "      <th>Date_TimeCaught</th>\n",
       "      <th>ForagingGround</th>\n",
       "      <th>LandingSite</th>\n",
       "      <th>Status</th>\n",
       "    </tr>\n",
       "    <tr>\n",
       "      <th>year_woy</th>\n",
       "      <th>year</th>\n",
       "      <th>week_of_year</th>\n",
       "      <th>CaptureSite</th>\n",
       "      <th></th>\n",
       "      <th></th>\n",
       "      <th></th>\n",
       "      <th></th>\n",
       "    </tr>\n",
       "  </thead>\n",
       "  <tbody>\n",
       "    <tr>\n",
       "      <th>199816</th>\n",
       "      <th>1998</th>\n",
       "      <th>16</th>\n",
       "      <th>CaptureSite_27</th>\n",
       "      <td>1</td>\n",
       "      <td>1</td>\n",
       "      <td>1</td>\n",
       "      <td>1</td>\n",
       "    </tr>\n",
       "    <tr>\n",
       "      <th>199828</th>\n",
       "      <th>1998</th>\n",
       "      <th>28</th>\n",
       "      <th>CaptureSite_11</th>\n",
       "      <td>1</td>\n",
       "      <td>1</td>\n",
       "      <td>1</td>\n",
       "      <td>1</td>\n",
       "    </tr>\n",
       "    <tr>\n",
       "      <th rowspan=\"2\" valign=\"top\">199832</th>\n",
       "      <th rowspan=\"2\" valign=\"top\">1998</th>\n",
       "      <th rowspan=\"2\" valign=\"top\">32</th>\n",
       "      <th>CaptureSite_11</th>\n",
       "      <td>1</td>\n",
       "      <td>1</td>\n",
       "      <td>1</td>\n",
       "      <td>1</td>\n",
       "    </tr>\n",
       "    <tr>\n",
       "      <th>CaptureSite_27</th>\n",
       "      <td>1</td>\n",
       "      <td>1</td>\n",
       "      <td>1</td>\n",
       "      <td>1</td>\n",
       "    </tr>\n",
       "    <tr>\n",
       "      <th>199839</th>\n",
       "      <th>1998</th>\n",
       "      <th>39</th>\n",
       "      <th>CaptureSite_11</th>\n",
       "      <td>2</td>\n",
       "      <td>2</td>\n",
       "      <td>2</td>\n",
       "      <td>2</td>\n",
       "    </tr>\n",
       "    <tr>\n",
       "      <th>...</th>\n",
       "      <th>...</th>\n",
       "      <th>...</th>\n",
       "      <th>...</th>\n",
       "      <td>...</td>\n",
       "      <td>...</td>\n",
       "      <td>...</td>\n",
       "      <td>...</td>\n",
       "    </tr>\n",
       "    <tr>\n",
       "      <th rowspan=\"5\" valign=\"top\">201852</th>\n",
       "      <th rowspan=\"5\" valign=\"top\">2018</th>\n",
       "      <th rowspan=\"5\" valign=\"top\">52</th>\n",
       "      <th>CaptureSite_23</th>\n",
       "      <td>1</td>\n",
       "      <td>1</td>\n",
       "      <td>1</td>\n",
       "      <td>1</td>\n",
       "    </tr>\n",
       "    <tr>\n",
       "      <th>CaptureSite_25</th>\n",
       "      <td>4</td>\n",
       "      <td>4</td>\n",
       "      <td>4</td>\n",
       "      <td>4</td>\n",
       "    </tr>\n",
       "    <tr>\n",
       "      <th>CaptureSite_3</th>\n",
       "      <td>1</td>\n",
       "      <td>1</td>\n",
       "      <td>1</td>\n",
       "      <td>1</td>\n",
       "    </tr>\n",
       "    <tr>\n",
       "      <th>CaptureSite_7</th>\n",
       "      <td>1</td>\n",
       "      <td>1</td>\n",
       "      <td>1</td>\n",
       "      <td>1</td>\n",
       "    </tr>\n",
       "    <tr>\n",
       "      <th>CaptureSite_9</th>\n",
       "      <td>3</td>\n",
       "      <td>3</td>\n",
       "      <td>3</td>\n",
       "      <td>3</td>\n",
       "    </tr>\n",
       "  </tbody>\n",
       "</table>\n",
       "<p>7957 rows × 4 columns</p>\n",
       "</div>"
      ],
      "text/plain": [
       "                                           Date_TimeCaught  ForagingGround   \n",
       "year_woy year week_of_year CaptureSite                                       \n",
       "199816   1998 16           CaptureSite_27                1               1  \\\n",
       "199828   1998 28           CaptureSite_11                1               1   \n",
       "199832   1998 32           CaptureSite_11                1               1   \n",
       "                           CaptureSite_27                1               1   \n",
       "199839   1998 39           CaptureSite_11                2               2   \n",
       "...                                                    ...             ...   \n",
       "201852   2018 52           CaptureSite_23                1               1   \n",
       "                           CaptureSite_25                4               4   \n",
       "                           CaptureSite_3                 1               1   \n",
       "                           CaptureSite_7                 1               1   \n",
       "                           CaptureSite_9                 3               3   \n",
       "\n",
       "                                           LandingSite  Status  \n",
       "year_woy year week_of_year CaptureSite                          \n",
       "199816   1998 16           CaptureSite_27            1       1  \n",
       "199828   1998 28           CaptureSite_11            1       1  \n",
       "199832   1998 32           CaptureSite_11            1       1  \n",
       "                           CaptureSite_27            1       1  \n",
       "199839   1998 39           CaptureSite_11            2       2  \n",
       "...                                                ...     ...  \n",
       "201852   2018 52           CaptureSite_23            1       1  \n",
       "                           CaptureSite_25            4       4  \n",
       "                           CaptureSite_3             1       1  \n",
       "                           CaptureSite_7             1       1  \n",
       "                           CaptureSite_9             3       3  \n",
       "\n",
       "[7957 rows x 4 columns]"
      ]
     },
     "execution_count": 64,
     "metadata": {},
     "output_type": "execute_result"
    }
   ],
   "source": [
    "# we have to create a target column: Number_Turtles per week per capturesite\n",
    "df.groupby(['year_woy', 'year', 'week_of_year', 'CaptureSite']).count()\n"
   ]
  },
  {
   "cell_type": "code",
   "execution_count": 65,
   "metadata": {},
   "outputs": [
    {
     "name": "stdout",
     "output_type": "stream",
     "text": [
      "      year_woy  year  week_of_year     CaptureSite  Number_Turtles\n",
      "0       199816  1998            16  CaptureSite_27               1\n",
      "1       199828  1998            28  CaptureSite_11               1\n",
      "2       199832  1998            32  CaptureSite_11               1\n",
      "3       199832  1998            32  CaptureSite_27               1\n",
      "4       199839  1998            39  CaptureSite_11               2\n",
      "...        ...   ...           ...             ...             ...\n",
      "7952    201852  2018            52  CaptureSite_23               1\n",
      "7953    201852  2018            52  CaptureSite_25               4\n",
      "7954    201852  2018            52   CaptureSite_3               1\n",
      "7955    201852  2018            52   CaptureSite_7               1\n",
      "7956    201852  2018            52   CaptureSite_9               3\n",
      "\n",
      "[7957 rows x 5 columns]\n"
     ]
    }
   ],
   "source": [
    "#define target column\n",
    "df_target = df.groupby(['year_woy', 'year', 'week_of_year','CaptureSite']).count()\n",
    "df_target['Number_Turtles'] = df_target['Date_TimeCaught']\n",
    "df_target.drop(['Date_TimeCaught', 'ForagingGround', 'LandingSite', 'Status'], axis=1, inplace=True)\n",
    "\n",
    "# Resetting the index to bring 'Category' back as a column\n",
    "df_target = df_target.reset_index()\n",
    "\n",
    "print(df_target)\n"
   ]
  },
  {
   "cell_type": "code",
   "execution_count": 66,
   "metadata": {},
   "outputs": [
    {
     "data": {
      "text/html": [
       "<div>\n",
       "<style scoped>\n",
       "    .dataframe tbody tr th:only-of-type {\n",
       "        vertical-align: middle;\n",
       "    }\n",
       "\n",
       "    .dataframe tbody tr th {\n",
       "        vertical-align: top;\n",
       "    }\n",
       "\n",
       "    .dataframe thead th {\n",
       "        text-align: right;\n",
       "    }\n",
       "</style>\n",
       "<table border=\"1\" class=\"dataframe\">\n",
       "  <thead>\n",
       "    <tr style=\"text-align: right;\">\n",
       "      <th></th>\n",
       "      <th>year_woy</th>\n",
       "      <th>year</th>\n",
       "      <th>week_of_year</th>\n",
       "      <th>CaptureSite</th>\n",
       "      <th>Number_Turtles</th>\n",
       "    </tr>\n",
       "  </thead>\n",
       "  <tbody>\n",
       "    <tr>\n",
       "      <th>0</th>\n",
       "      <td>199816</td>\n",
       "      <td>1998</td>\n",
       "      <td>16</td>\n",
       "      <td>CaptureSite_27</td>\n",
       "      <td>1</td>\n",
       "    </tr>\n",
       "    <tr>\n",
       "      <th>1</th>\n",
       "      <td>199828</td>\n",
       "      <td>1998</td>\n",
       "      <td>28</td>\n",
       "      <td>CaptureSite_11</td>\n",
       "      <td>1</td>\n",
       "    </tr>\n",
       "    <tr>\n",
       "      <th>2</th>\n",
       "      <td>199832</td>\n",
       "      <td>1998</td>\n",
       "      <td>32</td>\n",
       "      <td>CaptureSite_11</td>\n",
       "      <td>1</td>\n",
       "    </tr>\n",
       "    <tr>\n",
       "      <th>3</th>\n",
       "      <td>199832</td>\n",
       "      <td>1998</td>\n",
       "      <td>32</td>\n",
       "      <td>CaptureSite_27</td>\n",
       "      <td>1</td>\n",
       "    </tr>\n",
       "    <tr>\n",
       "      <th>4</th>\n",
       "      <td>199839</td>\n",
       "      <td>1998</td>\n",
       "      <td>39</td>\n",
       "      <td>CaptureSite_11</td>\n",
       "      <td>2</td>\n",
       "    </tr>\n",
       "  </tbody>\n",
       "</table>\n",
       "</div>"
      ],
      "text/plain": [
       "   year_woy  year  week_of_year     CaptureSite  Number_Turtles\n",
       "0    199816  1998            16  CaptureSite_27               1\n",
       "1    199828  1998            28  CaptureSite_11               1\n",
       "2    199832  1998            32  CaptureSite_11               1\n",
       "3    199832  1998            32  CaptureSite_27               1\n",
       "4    199839  1998            39  CaptureSite_11               2"
      ]
     },
     "execution_count": 66,
     "metadata": {},
     "output_type": "execute_result"
    }
   ],
   "source": [
    "## this is our final table fro modelling!\n",
    "df_target.head()"
   ]
  },
  {
   "cell_type": "code",
   "execution_count": 67,
   "metadata": {},
   "outputs": [
    {
     "data": {
      "text/plain": [
       "year_woy           Int64\n",
       "year               int32\n",
       "week_of_year      UInt32\n",
       "CaptureSite       object\n",
       "Number_Turtles     int64\n",
       "dtype: object"
      ]
     },
     "execution_count": 67,
     "metadata": {},
     "output_type": "execute_result"
    }
   ],
   "source": [
    "df_target.dtypes"
   ]
  },
  {
   "cell_type": "code",
   "execution_count": 68,
   "metadata": {},
   "outputs": [
    {
     "data": {
      "text/plain": [
       "0       CaptureSite_27\n",
       "1       CaptureSite_11\n",
       "2       CaptureSite_11\n",
       "3       CaptureSite_27\n",
       "4       CaptureSite_11\n",
       "             ...      \n",
       "7952    CaptureSite_23\n",
       "7953    CaptureSite_25\n",
       "7954     CaptureSite_3\n",
       "7955     CaptureSite_7\n",
       "7956     CaptureSite_9\n",
       "Name: CaptureSite, Length: 7957, dtype: object"
      ]
     },
     "execution_count": 68,
     "metadata": {},
     "output_type": "execute_result"
    }
   ],
   "source": [
    "df_target.CaptureSite.astype('str')\n"
   ]
  },
  {
   "cell_type": "code",
   "execution_count": 69,
   "metadata": {},
   "outputs": [],
   "source": [
    "df_target[\"CaptureSite\"] = df_target[\"CaptureSite\"].str.split(pat = \"_\", expand=True)[1]"
   ]
  },
  {
   "cell_type": "code",
   "execution_count": 70,
   "metadata": {},
   "outputs": [],
   "source": [
    "df_target.CaptureSite = df_target.CaptureSite.astype('int')"
   ]
  },
  {
   "cell_type": "code",
   "execution_count": 71,
   "metadata": {},
   "outputs": [
    {
     "data": {
      "text/plain": [
       "year_woy           Int64\n",
       "year               int32\n",
       "week_of_year      UInt32\n",
       "CaptureSite        int64\n",
       "Number_Turtles     int64\n",
       "dtype: object"
      ]
     },
     "execution_count": 71,
     "metadata": {},
     "output_type": "execute_result"
    }
   ],
   "source": [
    "df_target.dtypes"
   ]
  },
  {
   "cell_type": "code",
   "execution_count": 72,
   "metadata": {},
   "outputs": [
    {
     "data": {
      "text/html": [
       "<div>\n",
       "<style scoped>\n",
       "    .dataframe tbody tr th:only-of-type {\n",
       "        vertical-align: middle;\n",
       "    }\n",
       "\n",
       "    .dataframe tbody tr th {\n",
       "        vertical-align: top;\n",
       "    }\n",
       "\n",
       "    .dataframe thead th {\n",
       "        text-align: right;\n",
       "    }\n",
       "</style>\n",
       "<table border=\"1\" class=\"dataframe\">\n",
       "  <thead>\n",
       "    <tr style=\"text-align: right;\">\n",
       "      <th></th>\n",
       "      <th>year_woy</th>\n",
       "      <th>year</th>\n",
       "      <th>week_of_year</th>\n",
       "      <th>CaptureSite</th>\n",
       "      <th>Number_Turtles</th>\n",
       "    </tr>\n",
       "  </thead>\n",
       "  <tbody>\n",
       "    <tr>\n",
       "      <th>0</th>\n",
       "      <td>199816</td>\n",
       "      <td>1998</td>\n",
       "      <td>16</td>\n",
       "      <td>27</td>\n",
       "      <td>1</td>\n",
       "    </tr>\n",
       "    <tr>\n",
       "      <th>1</th>\n",
       "      <td>199828</td>\n",
       "      <td>1998</td>\n",
       "      <td>28</td>\n",
       "      <td>11</td>\n",
       "      <td>1</td>\n",
       "    </tr>\n",
       "    <tr>\n",
       "      <th>2</th>\n",
       "      <td>199832</td>\n",
       "      <td>1998</td>\n",
       "      <td>32</td>\n",
       "      <td>11</td>\n",
       "      <td>1</td>\n",
       "    </tr>\n",
       "    <tr>\n",
       "      <th>3</th>\n",
       "      <td>199832</td>\n",
       "      <td>1998</td>\n",
       "      <td>32</td>\n",
       "      <td>27</td>\n",
       "      <td>1</td>\n",
       "    </tr>\n",
       "    <tr>\n",
       "      <th>4</th>\n",
       "      <td>199839</td>\n",
       "      <td>1998</td>\n",
       "      <td>39</td>\n",
       "      <td>11</td>\n",
       "      <td>2</td>\n",
       "    </tr>\n",
       "  </tbody>\n",
       "</table>\n",
       "</div>"
      ],
      "text/plain": [
       "   year_woy  year  week_of_year  CaptureSite  Number_Turtles\n",
       "0    199816  1998            16           27               1\n",
       "1    199828  1998            28           11               1\n",
       "2    199832  1998            32           11               1\n",
       "3    199832  1998            32           27               1\n",
       "4    199839  1998            39           11               2"
      ]
     },
     "execution_count": 72,
     "metadata": {},
     "output_type": "execute_result"
    }
   ],
   "source": [
    "df_target.head()"
   ]
  },
  {
   "cell_type": "code",
   "execution_count": null,
   "metadata": {},
   "outputs": [],
   "source": [
    "# transform those categories and types to numerical values\n",
    "#df_target[\"year_woy\"] = df_target[\"year_woy\"].str.split(pat = \"_\", expand=True)[1]\n"
   ]
  },
  {
   "cell_type": "code",
   "execution_count": null,
   "metadata": {},
   "outputs": [
    {
     "name": "stdout",
     "output_type": "stream",
     "text": [
      "<class 'pandas.core.frame.DataFrame'>\n",
      "RangeIndex: 7957 entries, 0 to 7956\n",
      "Data columns (total 3 columns):\n",
      " #   Column          Non-Null Count  Dtype \n",
      "---  ------          --------------  ----- \n",
      " 0   year_woy        7957 non-null   Int64 \n",
      " 1   Number_Turtles  7957 non-null   int64 \n",
      " 2   CaptureSite     7957 non-null   object\n",
      "dtypes: Int64(1), int64(1), object(1)\n",
      "memory usage: 194.4+ KB\n"
     ]
    }
   ],
   "source": [
    "df_target.info()"
   ]
  },
  {
   "cell_type": "markdown",
   "metadata": {},
   "source": [
    "### Visualization"
   ]
  },
  {
   "cell_type": "code",
   "execution_count": null,
   "metadata": {},
   "outputs": [
    {
     "data": {
      "image/png": "[encoded data removed]",
      "text/plain": [
       "<Figure size 1000x600 with 1 Axes>"
      ]
     },
     "metadata": {},
     "output_type": "display_data"
    }
   ],
   "source": [
    "#plot the count correlation between Number_Turtles and CaptureSite\n",
    "import seaborn as sns\n",
    "import matplotlib.pyplot as plt\n",
    "\n",
    "# Assuming df_target is your DataFrame and 'CaptureSite' is a column in it\n",
    "sns.set(style=\"whitegrid\")\n",
    "plt.figure(figsize=(10, 6))\n",
    "\n",
    "plot = sns.countplot(x=df_target['CaptureSite'], data=df_target)\n",
    "\n",
    "# Set x-axis tick labels\n",
    "plot.set_xticklabels(plot.get_xticklabels(), rotation=90, ha=\"right\")\n",
    "\n",
    "# Add labels and a title\n",
    "plot.set_xlabel('Capture Site')\n",
    "plot.set_ylabel('Number of Turtles')\n",
    "plot.set_title('Number of Turtles per Capture Site')\n",
    "\n",
    "# Rotate the entire plot by 90 degrees\n",
    "#plt.gca().invert_yaxis()  # Invert the y-axis to make the plot read from top to bottom\n",
    "#plt.tight_layout()  # Adjust layout\n",
    "\n",
    "plt.show()\n"
   ]
  },
  {
   "cell_type": "code",
   "execution_count": null,
   "metadata": {},
   "outputs": [
    {
     "data": {
      "image/png": "[encoded data removed]",
      "text/plain": [
       "<Figure size 1000x600 with 1 Axes>"
      ]
     },
     "metadata": {},
     "output_type": "display_data"
    }
   ],
   "source": [
    "#plot the count correlation between Number_Turtles and CaptureSite\n",
    "import seaborn as sns\n",
    "import matplotlib.pyplot as plt\n",
    "\n",
    "# Assuming df_target is your DataFrame and 'CaptureSite' is a column in it\n",
    "sns.set(style=\"whitegrid\")\n",
    "plt.figure(figsize=(10, 6))\n",
    "\n",
    "plot = sns.countplot(df_target)\n",
    "# Calculate the count of each category\n",
    "#value_counts = df_target.value_counts() #value counts counts the number of occurences of each value in the column\n",
    "#print(value_counts)\n",
    "\n",
    "# Set the count values as x-axis tick labels\n",
    "plot.set_xticklabels(plot.get_xticklabels(), rotation=90, ha=\"right\") \n",
    "\n",
    "# Add labels and a title\n",
    "plot.set_xlabel('Week of Year')\n",
    "plot.set_ylabel('Number of Turtles')\n",
    "plot.set_title('Countplot with Count on X-axis')\n",
    "\n",
    "\n",
    "plt.show()"
   ]
  },
  {
   "cell_type": "code",
   "execution_count": null,
   "metadata": {},
   "outputs": [],
   "source": [
    "# make a histogram in "
   ]
  },
  {
   "cell_type": "code",
   "execution_count": null,
   "metadata": {},
   "outputs": [],
   "source": [
    "# convert capturesite to string"
   ]
  },
  {
   "cell_type": "markdown",
   "metadata": {},
   "source": [
    "---"
   ]
  },
  {
   "cell_type": "markdown",
   "metadata": {},
   "source": [
    "## Splitting data for testing "
   ]
  },
  {
   "cell_type": "code",
   "execution_count": null,
   "metadata": {},
   "outputs": [],
   "source": [
    "#Logistic regression\n",
    "from sklearn.model_selection import train_test_split\n",
    "from sklearn.linear_model import LinearRegression\n",
    "from sklearn.linear_model import LogisticRegression\n",
    "from sklearn.metrics import confusion_matrix, classification_report, accuracy_score\n",
    "from sklearn.preprocessing import StandardScaler\n",
    "from sklearn.model_selection import cross_val_score\n",
    "from sklearn.model_selection import GridSearchCV, RandomizedSearchCV"
   ]
  },
  {
   "cell_type": "code",
   "execution_count": null,
   "metadata": {},
   "outputs": [],
   "source": [
    "X = df_target.drop(['Number_Turtles'], axis=1)\n",
    "Y = df_target['Number_Turtles']"
   ]
  },
  {
   "cell_type": "code",
   "execution_count": null,
   "metadata": {},
   "outputs": [],
   "source": [
    "\n",
    "\n",
    "X_train, X_test, y_train, y_test = train_test_split(X, Y, test_size=0.20, random_state=42)"
   ]
  },
  {
   "cell_type": "code",
   "execution_count": null,
   "metadata": {},
   "outputs": [
    {
     "name": "stdout",
     "output_type": "stream",
     "text": [
      "<class 'pandas.core.frame.DataFrame'>\n",
      "Index: 6365 entries, 2389 to 7270\n",
      "Data columns (total 2 columns):\n",
      " #   Column       Non-Null Count  Dtype \n",
      "---  ------       --------------  ----- \n",
      " 0   year_woy     6365 non-null   Int64 \n",
      " 1   CaptureSite  6365 non-null   object\n",
      "dtypes: Int64(1), object(1)\n",
      "memory usage: 155.4+ KB\n"
     ]
    }
   ],
   "source": [
    "X_train.info()"
   ]
  },
  {
   "cell_type": "markdown",
   "metadata": {},
   "source": [
    "## Training the Baseline model: DummyRegressor"
   ]
  },
  {
   "cell_type": "code",
   "execution_count": null,
   "metadata": {},
   "outputs": [],
   "source": [
    "## in order to exemplify how the predict will work.. we will save the y_train\n",
    "#X_test.to_csv(\"data/X_test.csv\")\n",
    "#y_test.to_csv(\"data/y_test.csv\")"
   ]
  },
  {
   "cell_type": "code",
   "execution_count": null,
   "metadata": {},
   "outputs": [],
   "source": [
    "from sklearn.dummy import DummyRegressor\n",
    "from sklearn.metrics import mean_squared_error\n",
    "\n",
    "dummy_mean = DummyRegressor(strategy='mean')\n",
    "dummy_mean.fit(X_train, y_train)\n",
    "y_pred = dummy_mean.predict(X_test)\n",
    "print('Dummy mean squared error: {:.2f}'.format(mean_squared_error(y_test, y_pred)))\n"
   ]
  },
  {
   "cell_type": "markdown",
   "metadata": {},
   "source": [
    "## Training mode: Linear Regression"
   ]
  },
  {
   "cell_type": "code",
   "execution_count": null,
   "metadata": {},
   "outputs": [
    {
     "ename": "NameError",
     "evalue": "name 'logistic_regression' is not defined",
     "output_type": "error",
     "traceback": [
      "\u001b[0;31m---------------------------------------------------------------------------\u001b[0m",
      "\u001b[0;31mNameError\u001b[0m                                 Traceback (most recent call last)",
      "Cell \u001b[0;32mIn[64], line 4\u001b[0m\n\u001b[1;32m      2\u001b[0m linreg \u001b[39m=\u001b[39m LogisticRegression()\n\u001b[1;32m      3\u001b[0m linreg\u001b[39m.\u001b[39mfit(X_train, y_train)\n\u001b[0;32m----> 4\u001b[0m y_pred \u001b[39m=\u001b[39m logistic_regression\u001b[39m.\u001b[39mpredict(X_test)\n",
      "\u001b[0;31mNameError\u001b[0m: name 'logistic_regression' is not defined"
     ]
    }
   ],
   "source": [
    "#train model\n",
    "linreg = LogisticRegression()\n",
    "linreg.fit(X_train, y_train)\n",
    "y_pred = logistic_regression.predict(X_test)"
   ]
  },
  {
   "cell_type": "code",
   "execution_count": null,
   "metadata": {},
   "outputs": [
    {
     "name": "stdout",
     "output_type": "stream",
     "text": [
      "6.701014816713759e-28\n"
     ]
    }
   ],
   "source": [
    "from sklearn.metrics import mean_squared_error\n",
    "y_train_pred = reg.predict(X_train)\n",
    "mse = mean_squared_error(y_train, y_train_pred)\n",
    "print(mse)"
   ]
  },
  {
   "cell_type": "code",
   "execution_count": null,
   "metadata": {},
   "outputs": [
    {
     "name": "stdout",
     "output_type": "stream",
     "text": [
      "2.08680004794465e-27\n"
     ]
    }
   ],
   "source": [
    "y_test_pred = reg.predict(X_test)\n",
    "mse = mean_squared_error(y_test, y_test_pred)\n",
    "print(mse)"
   ]
  }
 ],
 "metadata": {
  "kernelspec": {
   "display_name": "Python 3",
   "language": "python",
   "name": "python3"
  },
  "language_info": {
   "codemirror_mode": {
    "name": "ipython",
    "version": 3
   },
   "file_extension": ".py",
   "mimetype": "text/x-python",
   "name": "python",
   "nbconvert_exporter": "python",
   "pygments_lexer": "ipython3",
   "version": "3.11.3"
  }
 },
 "nbformat": 4,
 "nbformat_minor": 4
}
