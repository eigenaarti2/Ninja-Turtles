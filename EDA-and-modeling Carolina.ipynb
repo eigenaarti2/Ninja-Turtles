{
 "cells": [
  {
   "cell_type": "markdown",
   "metadata": {},
   "source": [
    "# Turtle Rescue Forecast Challenge\n"
   ]
  },
  {
   "cell_type": "markdown",
   "metadata": {},
   "source": [
    "* Link:\n",
    "[Turtle Rescue Forecast Challenge](https://zindi.africa/competitions/turtle-rescue-forecast-challenge/data)"
   ]
  },
  {
   "cell_type": "markdown",
   "metadata": {},
   "source": [
    "* Objective: The objective of this challenge is to forecast the number of turtles caught per week per capture site. This will help Local Ocean plan their staff schedules and budget."
   ]
  },
  {
   "cell_type": "markdown",
   "metadata": {},
   "source": [
    "Actions to take:"
   ]
  },
  {
   "cell_type": "markdown",
   "metadata": {},
   "source": [
    "| Column                | Non-null Count | Data Type | Description                                                                                                   |\n",
    "|-----------------------|----------------|-----------|---------------------------------------------------------------------------------------------------------------|\n",
    "| Rescue_ID             | 18062          | Object    | Non-numerical. Probably not needed.               |\n",
    "| Date_TimeCaught       | 18062          | Object    | Date time format. Changed to date format. No missing values. Skewed to the right. (Done)|\n",
    "| Researcher            | 18062          | Object    | Non-numerical. More than 20 researchers. Probably not needed.     |\n",
    "| CaptureSite           | 18062          | Object    | Categorical. Inbalanced. High correlation. Many from 'other values'. Probably drop 'other values'. Normalize |\n",
    "| ForagingGround        | 18062          | Object    | Categorical. High correlation. Inbalanced. Many more from Creek. Normalize   |\n",
    "| CaptureMethod         | 18062          | Object    | Categorical. Inbalanced. Many more from 'net'. Probably not needed.    |\n",
    "| Fisher                | 18062          | Object    | Categorical. Probably not needed.           |\n",
    "| LandingSite           | 18062          | Object    | Categorical. High correlation. Many more of '8469'. Inbalanced.  |\n",
    "| Species               | 18062          | Object    | Categorical. Inbalanced. More of type 5. Probably not needed.                                              |\n",
    "| Tag_1                 | 17937          | Object    | Non-numerical. Not needed.          |\n",
    "| Tag_2                 | 4911           | Object    | Categorical. Missing values.        |\n",
    "| Lost_Tags             | 925            | Object    | Non-numerical. Missing values (?)   |\n",
    "| T_Number              | 38             | Object    |         |\n",
    "| CCL_cm                | 18038          | Float64   |         |\n",
    "| CCW_cm                | 18035          | Float64   |         |\n",
    "| Weight_Kg             | 12653          | Float64   |         |\n",
    "| Sex                   | 13732          | Object    |         |\n",
    "| TurtleCharacteristics | 18010          | Object    |         |\n",
    "| Status                | 14429          | Object    |         |\n",
    "| ReleaseSite           | 17987          | Object    |         |\n",
    "| Date_TimeRelease      | 11954          | Object    |         |\n"
   ]
  },
  {
   "cell_type": "markdown",
   "metadata": {},
   "source": [
    "## Set-up and Import"
   ]
  },
  {
   "cell_type": "markdown",
   "metadata": {},
   "source": [
    "Terminal: \n",
    "'make setup'"
   ]
  },
  {
   "cell_type": "code",
   "execution_count": 503,
   "metadata": {},
   "outputs": [],
   "source": [
    "import pandas as pd\n",
    "import numpy as np\n",
    "import warnings\n",
    "warnings.filterwarnings('ignore')\n",
    "\n",
    "from ydata_profiling import ProfileReport\n",
    "\n",
    "import missingno as msno\n",
    "\n",
    "from datetime import datetime as dt\n",
    "\n",
    "import matplotlib.pyplot as plt\n",
    "\n",
    "\n"
   ]
  },
  {
   "cell_type": "code",
   "execution_count": 504,
   "metadata": {},
   "outputs": [],
   "source": [
    "# pip install missingno"
   ]
  },
  {
   "cell_type": "code",
   "execution_count": 505,
   "metadata": {},
   "outputs": [],
   "source": [
    "# pip install ydata-profiling --upgrade"
   ]
  },
  {
   "cell_type": "markdown",
   "metadata": {},
   "source": [
    "### Table 1"
   ]
  },
  {
   "cell_type": "markdown",
   "metadata": {},
   "source": [
    "Is the category of the capture site. Categories are defined by sites that are geographically near each other. Type is a masked characteristic of the capture site."
   ]
  },
  {
   "cell_type": "code",
   "execution_count": 506,
   "metadata": {},
   "outputs": [
    {
     "data": {
      "text/html": [
       "<div>\n",
       "<style scoped>\n",
       "    .dataframe tbody tr th:only-of-type {\n",
       "        vertical-align: middle;\n",
       "    }\n",
       "\n",
       "    .dataframe tbody tr th {\n",
       "        vertical-align: top;\n",
       "    }\n",
       "\n",
       "    .dataframe thead th {\n",
       "        text-align: right;\n",
       "    }\n",
       "</style>\n",
       "<table border=\"1\" class=\"dataframe\">\n",
       "  <thead>\n",
       "    <tr style=\"text-align: right;\">\n",
       "      <th></th>\n",
       "      <th>CaptureSite</th>\n",
       "      <th>CaptureSiteCategory</th>\n",
       "      <th>Type</th>\n",
       "    </tr>\n",
       "  </thead>\n",
       "  <tbody>\n",
       "    <tr>\n",
       "      <th>0</th>\n",
       "      <td>CaptureSite_0</td>\n",
       "      <td>CaptureSiteCategory_2</td>\n",
       "      <td>Type_1</td>\n",
       "    </tr>\n",
       "    <tr>\n",
       "      <th>1</th>\n",
       "      <td>CaptureSite_1</td>\n",
       "      <td>CaptureSiteCategory_2</td>\n",
       "      <td>Type_1</td>\n",
       "    </tr>\n",
       "    <tr>\n",
       "      <th>2</th>\n",
       "      <td>CaptureSite_10</td>\n",
       "      <td>CaptureSiteCategory_2</td>\n",
       "      <td>Type_1</td>\n",
       "    </tr>\n",
       "    <tr>\n",
       "      <th>3</th>\n",
       "      <td>CaptureSite_11</td>\n",
       "      <td>CaptureSiteCategory_0</td>\n",
       "      <td>Type_0</td>\n",
       "    </tr>\n",
       "    <tr>\n",
       "      <th>4</th>\n",
       "      <td>CaptureSite_12</td>\n",
       "      <td>CaptureSiteCategory_2</td>\n",
       "      <td>Type_1</td>\n",
       "    </tr>\n",
       "  </tbody>\n",
       "</table>\n",
       "</div>"
      ],
      "text/plain": [
       "      CaptureSite    CaptureSiteCategory    Type\n",
       "0   CaptureSite_0  CaptureSiteCategory_2  Type_1\n",
       "1   CaptureSite_1  CaptureSiteCategory_2  Type_1\n",
       "2  CaptureSite_10  CaptureSiteCategory_2  Type_1\n",
       "3  CaptureSite_11  CaptureSiteCategory_0  Type_0\n",
       "4  CaptureSite_12  CaptureSiteCategory_2  Type_1"
      ]
     },
     "execution_count": 506,
     "metadata": {},
     "output_type": "execute_result"
    }
   ],
   "source": [
    "# Turtles dataset - CaptureSite_category.csv\n",
    "df_capturesite_category = pd.read_csv('./data/CaptureSite_category.csv')\n",
    "df_capturesite_category.head()"
   ]
  },
  {
   "cell_type": "code",
   "execution_count": 507,
   "metadata": {},
   "outputs": [
    {
     "data": {
      "text/plain": [
       "array(['CaptureSite_0', 'CaptureSite_1', 'CaptureSite_10',\n",
       "       'CaptureSite_11', 'CaptureSite_12', 'CaptureSite_13',\n",
       "       'CaptureSite_14', 'CaptureSite_15', 'CaptureSite_16',\n",
       "       'CaptureSite_17', 'CaptureSite_18', 'CaptureSite_19',\n",
       "       'CaptureSite_2', 'CaptureSite_20', 'CaptureSite_21',\n",
       "       'CaptureSite_22', 'CaptureSite_23', 'CaptureSite_24',\n",
       "       'CaptureSite_25', 'CaptureSite_26', 'CaptureSite_27',\n",
       "       'CaptureSite_28', 'CaptureSite_3', 'CaptureSite_4',\n",
       "       'CaptureSite_5', 'CaptureSite_6', 'CaptureSite_7', 'CaptureSite_8',\n",
       "       'CaptureSite_9'], dtype=object)"
      ]
     },
     "execution_count": 507,
     "metadata": {},
     "output_type": "execute_result"
    }
   ],
   "source": [
    "# Different categories of CaptureSite\n",
    "df_capturesite_category['CaptureSite'].unique()\n"
   ]
  },
  {
   "cell_type": "code",
   "execution_count": 508,
   "metadata": {},
   "outputs": [
    {
     "name": "stdout",
     "output_type": "stream",
     "text": [
      "Classification of CaptureSite categories:  29\n"
     ]
    }
   ],
   "source": [
    "print('Classification of CaptureSite categories: ', len(df_capturesite_category['CaptureSite'].unique()))\n"
   ]
  },
  {
   "cell_type": "code",
   "execution_count": 509,
   "metadata": {},
   "outputs": [
    {
     "name": "stdout",
     "output_type": "stream",
     "text": [
      "<class 'pandas.core.frame.DataFrame'>\n",
      "RangeIndex: 29 entries, 0 to 28\n",
      "Data columns (total 3 columns):\n",
      " #   Column               Non-Null Count  Dtype \n",
      "---  ------               --------------  ----- \n",
      " 0   CaptureSite          29 non-null     object\n",
      " 1   CaptureSiteCategory  29 non-null     object\n",
      " 2   Type                 29 non-null     object\n",
      "dtypes: object(3)\n",
      "memory usage: 828.0+ bytes\n"
     ]
    }
   ],
   "source": [
    "df_capturesite_category.info()"
   ]
  },
  {
   "cell_type": "markdown",
   "metadata": {},
   "source": [
    "### Table 2"
   ]
  },
  {
   "cell_type": "markdown",
   "metadata": {},
   "source": [
    "Is an example of what your submission file should look like. The order of the rows does not matter, but the IDs must all be present and correctly formatted. The IDs are formatted as \"CaptureSite\"_<CaptureSite ID number>_<year><week number>, e.g. CaptureSite_0_201901 is the capture site with ID number 0 in the first week of 2019 (1-6 January 2019)."
   ]
  },
  {
   "cell_type": "code",
   "execution_count": 510,
   "metadata": {},
   "outputs": [
    {
     "data": {
      "text/html": [
       "<div>\n",
       "<style scoped>\n",
       "    .dataframe tbody tr th:only-of-type {\n",
       "        vertical-align: middle;\n",
       "    }\n",
       "\n",
       "    .dataframe tbody tr th {\n",
       "        vertical-align: top;\n",
       "    }\n",
       "\n",
       "    .dataframe thead th {\n",
       "        text-align: right;\n",
       "    }\n",
       "</style>\n",
       "<table border=\"1\" class=\"dataframe\">\n",
       "  <thead>\n",
       "    <tr style=\"text-align: right;\">\n",
       "      <th></th>\n",
       "      <th>ID</th>\n",
       "      <th>Capture_Number</th>\n",
       "    </tr>\n",
       "  </thead>\n",
       "  <tbody>\n",
       "    <tr>\n",
       "      <th>0</th>\n",
       "      <td>CaptureSite_0_201901</td>\n",
       "      <td>7</td>\n",
       "    </tr>\n",
       "    <tr>\n",
       "      <th>1</th>\n",
       "      <td>CaptureSite_0_201902</td>\n",
       "      <td>1</td>\n",
       "    </tr>\n",
       "    <tr>\n",
       "      <th>2</th>\n",
       "      <td>CaptureSite_0_201903</td>\n",
       "      <td>5</td>\n",
       "    </tr>\n",
       "    <tr>\n",
       "      <th>3</th>\n",
       "      <td>CaptureSite_0_201904</td>\n",
       "      <td>2</td>\n",
       "    </tr>\n",
       "    <tr>\n",
       "      <th>4</th>\n",
       "      <td>CaptureSite_0_201905</td>\n",
       "      <td>3</td>\n",
       "    </tr>\n",
       "  </tbody>\n",
       "</table>\n",
       "</div>"
      ],
      "text/plain": [
       "                     ID  Capture_Number\n",
       "0  CaptureSite_0_201901               7\n",
       "1  CaptureSite_0_201902               1\n",
       "2  CaptureSite_0_201903               5\n",
       "3  CaptureSite_0_201904               2\n",
       "4  CaptureSite_0_201905               3"
      ]
     },
     "execution_count": 510,
     "metadata": {},
     "output_type": "execute_result"
    }
   ],
   "source": [
    "# Turtles dataset - Sample_sub.csv\n",
    "df_sample_sub = pd.read_csv('./data/Sample_sub.csv')\n",
    "df_sample_sub.head()"
   ]
  },
  {
   "cell_type": "code",
   "execution_count": 511,
   "metadata": {},
   "outputs": [
    {
     "data": {
      "text/html": [
       "<div>\n",
       "<style scoped>\n",
       "    .dataframe tbody tr th:only-of-type {\n",
       "        vertical-align: middle;\n",
       "    }\n",
       "\n",
       "    .dataframe tbody tr th {\n",
       "        vertical-align: top;\n",
       "    }\n",
       "\n",
       "    .dataframe thead th {\n",
       "        text-align: right;\n",
       "    }\n",
       "</style>\n",
       "<table border=\"1\" class=\"dataframe\">\n",
       "  <thead>\n",
       "    <tr style=\"text-align: right;\">\n",
       "      <th></th>\n",
       "      <th>ID</th>\n",
       "      <th>Capture_Number</th>\n",
       "      <th>year_woy</th>\n",
       "      <th>CaptureSite</th>\n",
       "    </tr>\n",
       "  </thead>\n",
       "  <tbody>\n",
       "    <tr>\n",
       "      <th>0</th>\n",
       "      <td>CaptureSite_0_201901</td>\n",
       "      <td>7</td>\n",
       "      <td>201901</td>\n",
       "      <td>CaptureSite_0</td>\n",
       "    </tr>\n",
       "    <tr>\n",
       "      <th>1</th>\n",
       "      <td>CaptureSite_0_201902</td>\n",
       "      <td>1</td>\n",
       "      <td>201902</td>\n",
       "      <td>CaptureSite_0</td>\n",
       "    </tr>\n",
       "    <tr>\n",
       "      <th>2</th>\n",
       "      <td>CaptureSite_0_201903</td>\n",
       "      <td>5</td>\n",
       "      <td>201903</td>\n",
       "      <td>CaptureSite_0</td>\n",
       "    </tr>\n",
       "    <tr>\n",
       "      <th>3</th>\n",
       "      <td>CaptureSite_0_201904</td>\n",
       "      <td>2</td>\n",
       "      <td>201904</td>\n",
       "      <td>CaptureSite_0</td>\n",
       "    </tr>\n",
       "    <tr>\n",
       "      <th>4</th>\n",
       "      <td>CaptureSite_0_201905</td>\n",
       "      <td>3</td>\n",
       "      <td>201905</td>\n",
       "      <td>CaptureSite_0</td>\n",
       "    </tr>\n",
       "  </tbody>\n",
       "</table>\n",
       "</div>"
      ],
      "text/plain": [
       "                     ID  Capture_Number  year_woy    CaptureSite\n",
       "0  CaptureSite_0_201901               7    201901  CaptureSite_0\n",
       "1  CaptureSite_0_201902               1    201902  CaptureSite_0\n",
       "2  CaptureSite_0_201903               5    201903  CaptureSite_0\n",
       "3  CaptureSite_0_201904               2    201904  CaptureSite_0\n",
       "4  CaptureSite_0_201905               3    201905  CaptureSite_0"
      ]
     },
     "execution_count": 511,
     "metadata": {},
     "output_type": "execute_result"
    }
   ],
   "source": [
    "# Getting week of year  and captureSite from ID\n",
    "df_sample_sub[\"year_woy\"]=(df_sample_sub.ID.apply(lambda x: x.split(\"_\")[-1])).astype(int) # Extract year_woy from ID\n",
    "df_sample_sub[\"CaptureSite\"]=df_sample_sub.ID.apply(lambda x: (\"_\").join(x.split(\"_\")[0:-1]))\n",
    "df_sample_sub.head()"
   ]
  },
  {
   "cell_type": "code",
   "execution_count": 512,
   "metadata": {},
   "outputs": [
    {
     "name": "stdout",
     "output_type": "stream",
     "text": [
      "<class 'pandas.core.frame.DataFrame'>\n",
      "RangeIndex: 1276 entries, 0 to 1275\n",
      "Data columns (total 4 columns):\n",
      " #   Column          Non-Null Count  Dtype \n",
      "---  ------          --------------  ----- \n",
      " 0   ID              1276 non-null   object\n",
      " 1   Capture_Number  1276 non-null   int64 \n",
      " 2   year_woy        1276 non-null   int64 \n",
      " 3   CaptureSite     1276 non-null   object\n",
      "dtypes: int64(2), object(2)\n",
      "memory usage: 40.0+ KB\n"
     ]
    }
   ],
   "source": [
    "df_sample_sub.info()"
   ]
  },
  {
   "cell_type": "markdown",
   "metadata": {},
   "source": [
    "### Table 3"
   ]
  },
  {
   "cell_type": "markdown",
   "metadata": {},
   "source": [
    "Is the dataset that you will use to train your model. This provides the detail of every sea turtle rescue"
   ]
  },
  {
   "cell_type": "code",
   "execution_count": 513,
   "metadata": {},
   "outputs": [
    {
     "data": {
      "text/html": [
       "<div>\n",
       "<style scoped>\n",
       "    .dataframe tbody tr th:only-of-type {\n",
       "        vertical-align: middle;\n",
       "    }\n",
       "\n",
       "    .dataframe tbody tr th {\n",
       "        vertical-align: top;\n",
       "    }\n",
       "\n",
       "    .dataframe thead th {\n",
       "        text-align: right;\n",
       "    }\n",
       "</style>\n",
       "<table border=\"1\" class=\"dataframe\">\n",
       "  <thead>\n",
       "    <tr style=\"text-align: right;\">\n",
       "      <th></th>\n",
       "      <th>Rescue_ID</th>\n",
       "      <th>Date_TimeCaught</th>\n",
       "      <th>Researcher</th>\n",
       "      <th>CaptureSite</th>\n",
       "      <th>ForagingGround</th>\n",
       "      <th>CaptureMethod</th>\n",
       "      <th>Fisher</th>\n",
       "      <th>LandingSite</th>\n",
       "      <th>Species</th>\n",
       "      <th>Tag_1</th>\n",
       "      <th>...</th>\n",
       "      <th>Lost_Tags</th>\n",
       "      <th>T_Number</th>\n",
       "      <th>CCL_cm</th>\n",
       "      <th>CCW_cm</th>\n",
       "      <th>Weight_Kg</th>\n",
       "      <th>Sex</th>\n",
       "      <th>TurtleCharacteristics</th>\n",
       "      <th>Status</th>\n",
       "      <th>ReleaseSite</th>\n",
       "      <th>Date_TimeRelease</th>\n",
       "    </tr>\n",
       "  </thead>\n",
       "  <tbody>\n",
       "    <tr>\n",
       "      <th>0</th>\n",
       "      <td>2000_RE_0060</td>\n",
       "      <td>2000-12-22</td>\n",
       "      <td>Researcher_25</td>\n",
       "      <td>CaptureSite_0</td>\n",
       "      <td>Ocean</td>\n",
       "      <td>Net</td>\n",
       "      <td>Fisher_1072</td>\n",
       "      <td>LandingSite_CaptureSiteCategory_2</td>\n",
       "      <td>Species_6</td>\n",
       "      <td>CC00147</td>\n",
       "      <td>...</td>\n",
       "      <td>NaN</td>\n",
       "      <td>NaN</td>\n",
       "      <td>64.70</td>\n",
       "      <td>62.60</td>\n",
       "      <td>NaN</td>\n",
       "      <td>Unknown</td>\n",
       "      <td>algae at rear of shell</td>\n",
       "      <td>Released</td>\n",
       "      <td>ReleaseSite_50</td>\n",
       "      <td>22/12/00</td>\n",
       "    </tr>\n",
       "    <tr>\n",
       "      <th>1</th>\n",
       "      <td>2001_RE_0187</td>\n",
       "      <td>2001-10-28</td>\n",
       "      <td>Researcher_6</td>\n",
       "      <td>CaptureSite_0</td>\n",
       "      <td>Ocean</td>\n",
       "      <td>Net</td>\n",
       "      <td>Fisher_520</td>\n",
       "      <td>LandingSite_CaptureSiteCategory_2</td>\n",
       "      <td>Species_6</td>\n",
       "      <td>W442</td>\n",
       "      <td>...</td>\n",
       "      <td>NaN</td>\n",
       "      <td>NaN</td>\n",
       "      <td>35.85</td>\n",
       "      <td>31.35</td>\n",
       "      <td>NaN</td>\n",
       "      <td>Unknown</td>\n",
       "      <td>multiple b's on front flippers&amp;  a lot of alga...</td>\n",
       "      <td>Released</td>\n",
       "      <td>ReleaseSite_62</td>\n",
       "      <td>28/10/01</td>\n",
       "    </tr>\n",
       "    <tr>\n",
       "      <th>2</th>\n",
       "      <td>2001_RE_0197</td>\n",
       "      <td>2001-11-01</td>\n",
       "      <td>Researcher_6</td>\n",
       "      <td>CaptureSite_0</td>\n",
       "      <td>Ocean</td>\n",
       "      <td>Net</td>\n",
       "      <td>Fisher_1669</td>\n",
       "      <td>LandingSite_CaptureSiteCategory_2</td>\n",
       "      <td>Species_5</td>\n",
       "      <td>KE0376</td>\n",
       "      <td>...</td>\n",
       "      <td>NaN</td>\n",
       "      <td>NaN</td>\n",
       "      <td>51.80</td>\n",
       "      <td>49.20</td>\n",
       "      <td>NaN</td>\n",
       "      <td>Unknown</td>\n",
       "      <td>clean</td>\n",
       "      <td>Released</td>\n",
       "      <td>ReleaseSite_50</td>\n",
       "      <td>01/11/01</td>\n",
       "    </tr>\n",
       "    <tr>\n",
       "      <th>3</th>\n",
       "      <td>2002_RE_0031</td>\n",
       "      <td>2002-03-11</td>\n",
       "      <td>Researcher_32</td>\n",
       "      <td>CaptureSite_0</td>\n",
       "      <td>Ocean</td>\n",
       "      <td>Net</td>\n",
       "      <td>Fisher_1798</td>\n",
       "      <td>LandingSite_CaptureSiteCategory_2</td>\n",
       "      <td>Species_6</td>\n",
       "      <td>CC00302</td>\n",
       "      <td>...</td>\n",
       "      <td>NaN</td>\n",
       "      <td>NaN</td>\n",
       "      <td>60.50</td>\n",
       "      <td>59.00</td>\n",
       "      <td>NaN</td>\n",
       "      <td>Unknown</td>\n",
       "      <td>1 b 3 CS+ calcerous algae at rear end of shell...</td>\n",
       "      <td>Released</td>\n",
       "      <td>ReleaseSite_50</td>\n",
       "      <td>11/03/02</td>\n",
       "    </tr>\n",
       "    <tr>\n",
       "      <th>4</th>\n",
       "      <td>2002_RE_0118</td>\n",
       "      <td>2002-08-08</td>\n",
       "      <td>Researcher_25</td>\n",
       "      <td>CaptureSite_0</td>\n",
       "      <td>Ocean</td>\n",
       "      <td>Beached</td>\n",
       "      <td>Fisher_1918</td>\n",
       "      <td>LandingSite_CaptureSiteCategory_2</td>\n",
       "      <td>Species_5</td>\n",
       "      <td>NotTagged_0113</td>\n",
       "      <td>...</td>\n",
       "      <td>NaN</td>\n",
       "      <td>NaN</td>\n",
       "      <td>34.70</td>\n",
       "      <td>33.00</td>\n",
       "      <td>NaN</td>\n",
       "      <td>Unknown</td>\n",
       "      <td>very lively+ right eye is hanging out + swolle...</td>\n",
       "      <td>Released</td>\n",
       "      <td>ReleaseSite_62</td>\n",
       "      <td>08/08/02</td>\n",
       "    </tr>\n",
       "  </tbody>\n",
       "</table>\n",
       "<p>5 rows × 21 columns</p>\n",
       "</div>"
      ],
      "text/plain": [
       "      Rescue_ID Date_TimeCaught     Researcher    CaptureSite ForagingGround   \n",
       "0  2000_RE_0060      2000-12-22  Researcher_25  CaptureSite_0          Ocean  \\\n",
       "1  2001_RE_0187      2001-10-28   Researcher_6  CaptureSite_0          Ocean   \n",
       "2  2001_RE_0197      2001-11-01   Researcher_6  CaptureSite_0          Ocean   \n",
       "3  2002_RE_0031      2002-03-11  Researcher_32  CaptureSite_0          Ocean   \n",
       "4  2002_RE_0118      2002-08-08  Researcher_25  CaptureSite_0          Ocean   \n",
       "\n",
       "  CaptureMethod       Fisher                        LandingSite    Species   \n",
       "0           Net  Fisher_1072  LandingSite_CaptureSiteCategory_2  Species_6  \\\n",
       "1           Net   Fisher_520  LandingSite_CaptureSiteCategory_2  Species_6   \n",
       "2           Net  Fisher_1669  LandingSite_CaptureSiteCategory_2  Species_5   \n",
       "3           Net  Fisher_1798  LandingSite_CaptureSiteCategory_2  Species_6   \n",
       "4       Beached  Fisher_1918  LandingSite_CaptureSiteCategory_2  Species_5   \n",
       "\n",
       "            Tag_1  ... Lost_Tags T_Number CCL_cm  CCW_cm  Weight_Kg      Sex   \n",
       "0         CC00147  ...       NaN      NaN  64.70   62.60        NaN  Unknown  \\\n",
       "1            W442  ...       NaN      NaN  35.85   31.35        NaN  Unknown   \n",
       "2          KE0376  ...       NaN      NaN  51.80   49.20        NaN  Unknown   \n",
       "3         CC00302  ...       NaN      NaN  60.50   59.00        NaN  Unknown   \n",
       "4  NotTagged_0113  ...       NaN      NaN  34.70   33.00        NaN  Unknown   \n",
       "\n",
       "                               TurtleCharacteristics    Status   \n",
       "0                             algae at rear of shell  Released  \\\n",
       "1  multiple b's on front flippers&  a lot of alga...  Released   \n",
       "2                                              clean  Released   \n",
       "3  1 b 3 CS+ calcerous algae at rear end of shell...  Released   \n",
       "4  very lively+ right eye is hanging out + swolle...  Released   \n",
       "\n",
       "      ReleaseSite Date_TimeRelease  \n",
       "0  ReleaseSite_50         22/12/00  \n",
       "1  ReleaseSite_62         28/10/01  \n",
       "2  ReleaseSite_50         01/11/01  \n",
       "3  ReleaseSite_50         11/03/02  \n",
       "4  ReleaseSite_62         08/08/02  \n",
       "\n",
       "[5 rows x 21 columns]"
      ]
     },
     "execution_count": 513,
     "metadata": {},
     "output_type": "execute_result"
    }
   ],
   "source": [
    "# Turtles dataset - train.csv\n",
    "df_train = pd.read_csv('./data/train.csv')\n",
    "df_train.head()"
   ]
  },
  {
   "cell_type": "code",
   "execution_count": 514,
   "metadata": {},
   "outputs": [
    {
     "data": {
      "text/html": [
       "<div>\n",
       "<style scoped>\n",
       "    .dataframe tbody tr th:only-of-type {\n",
       "        vertical-align: middle;\n",
       "    }\n",
       "\n",
       "    .dataframe tbody tr th {\n",
       "        vertical-align: top;\n",
       "    }\n",
       "\n",
       "    .dataframe thead th {\n",
       "        text-align: right;\n",
       "    }\n",
       "</style>\n",
       "<table border=\"1\" class=\"dataframe\">\n",
       "  <thead>\n",
       "    <tr style=\"text-align: right;\">\n",
       "      <th></th>\n",
       "      <th>Rescue_ID</th>\n",
       "      <th>Date_TimeCaught</th>\n",
       "      <th>Researcher</th>\n",
       "      <th>CaptureSite</th>\n",
       "      <th>ForagingGround</th>\n",
       "      <th>CaptureMethod</th>\n",
       "      <th>Fisher</th>\n",
       "      <th>LandingSite</th>\n",
       "      <th>Species</th>\n",
       "      <th>Tag_1</th>\n",
       "      <th>...</th>\n",
       "      <th>Lost_Tags</th>\n",
       "      <th>T_Number</th>\n",
       "      <th>CCL_cm</th>\n",
       "      <th>CCW_cm</th>\n",
       "      <th>Weight_Kg</th>\n",
       "      <th>Sex</th>\n",
       "      <th>TurtleCharacteristics</th>\n",
       "      <th>Status</th>\n",
       "      <th>ReleaseSite</th>\n",
       "      <th>Date_TimeRelease</th>\n",
       "    </tr>\n",
       "  </thead>\n",
       "  <tbody>\n",
       "    <tr>\n",
       "      <th>18057</th>\n",
       "      <td>2018_RE_1511</td>\n",
       "      <td>2018-12-18</td>\n",
       "      <td>Researcher_30</td>\n",
       "      <td>CaptureSite_9</td>\n",
       "      <td>Ocean</td>\n",
       "      <td>Net</td>\n",
       "      <td>Fisher_569</td>\n",
       "      <td>LandingSite_CaptureSiteCategory_1</td>\n",
       "      <td>Species_5</td>\n",
       "      <td>KES1828</td>\n",
       "      <td>...</td>\n",
       "      <td>NaN</td>\n",
       "      <td>NaN</td>\n",
       "      <td>57.13</td>\n",
       "      <td>50.57</td>\n",
       "      <td>21.09</td>\n",
       "      <td>Unknown</td>\n",
       "      <td>White calcareous algae on carapace</td>\n",
       "      <td>Released</td>\n",
       "      <td>ReleaseSite_68</td>\n",
       "      <td>18/12/18</td>\n",
       "    </tr>\n",
       "    <tr>\n",
       "      <th>18058</th>\n",
       "      <td>2018_RE_1514</td>\n",
       "      <td>2018-12-18</td>\n",
       "      <td>Researcher_30</td>\n",
       "      <td>CaptureSite_9</td>\n",
       "      <td>Ocean</td>\n",
       "      <td>Net</td>\n",
       "      <td>Fisher_125</td>\n",
       "      <td>LandingSite_CaptureSiteCategory_1</td>\n",
       "      <td>Species_6</td>\n",
       "      <td>KES0563</td>\n",
       "      <td>...</td>\n",
       "      <td>KES0416</td>\n",
       "      <td>NaN</td>\n",
       "      <td>42.07</td>\n",
       "      <td>38.37</td>\n",
       "      <td>9.02</td>\n",
       "      <td>Unknown</td>\n",
       "      <td>Calcareous + green algae on carapace\\nBarnacle...</td>\n",
       "      <td>Released</td>\n",
       "      <td>ReleaseSite_68</td>\n",
       "      <td>18/12/18</td>\n",
       "    </tr>\n",
       "    <tr>\n",
       "      <th>18059</th>\n",
       "      <td>2018_RE_1532</td>\n",
       "      <td>2018-12-24</td>\n",
       "      <td>Researcher_30</td>\n",
       "      <td>CaptureSite_9</td>\n",
       "      <td>Ocean</td>\n",
       "      <td>Net</td>\n",
       "      <td>Fisher_1343</td>\n",
       "      <td>LandingSite_CaptureSiteCategory_1</td>\n",
       "      <td>Species_5</td>\n",
       "      <td>KES1833</td>\n",
       "      <td>...</td>\n",
       "      <td>NaN</td>\n",
       "      <td>NaN</td>\n",
       "      <td>57.20</td>\n",
       "      <td>52.30</td>\n",
       "      <td>NaN</td>\n",
       "      <td>Unknown</td>\n",
       "      <td>Clean turtle</td>\n",
       "      <td>Released</td>\n",
       "      <td>ReleaseSite_68</td>\n",
       "      <td>24/12/18</td>\n",
       "    </tr>\n",
       "    <tr>\n",
       "      <th>18060</th>\n",
       "      <td>2018_RE_1533</td>\n",
       "      <td>2018-12-24</td>\n",
       "      <td>Researcher_30</td>\n",
       "      <td>CaptureSite_9</td>\n",
       "      <td>Ocean</td>\n",
       "      <td>Net</td>\n",
       "      <td>Fisher_1551</td>\n",
       "      <td>LandingSite_CaptureSiteCategory_1</td>\n",
       "      <td>Species_5</td>\n",
       "      <td>KES1831</td>\n",
       "      <td>...</td>\n",
       "      <td>NaN</td>\n",
       "      <td>NaN</td>\n",
       "      <td>51.90</td>\n",
       "      <td>48.50</td>\n",
       "      <td>NaN</td>\n",
       "      <td>Unknown</td>\n",
       "      <td>Green algae on carapace\\ntip of left supra mis...</td>\n",
       "      <td>Released</td>\n",
       "      <td>ReleaseSite_68</td>\n",
       "      <td>24/12/18</td>\n",
       "    </tr>\n",
       "    <tr>\n",
       "      <th>18061</th>\n",
       "      <td>2018_RE_1550</td>\n",
       "      <td>2018-12-28</td>\n",
       "      <td>Researcher_30</td>\n",
       "      <td>CaptureSite_9</td>\n",
       "      <td>Ocean</td>\n",
       "      <td>Net</td>\n",
       "      <td>Fisher_1551</td>\n",
       "      <td>LandingSite_CaptureSiteCategory_1</td>\n",
       "      <td>Species_6</td>\n",
       "      <td>KES1432</td>\n",
       "      <td>...</td>\n",
       "      <td>NaN</td>\n",
       "      <td>NaN</td>\n",
       "      <td>34.60</td>\n",
       "      <td>31.20</td>\n",
       "      <td>4.29</td>\n",
       "      <td>Unknown</td>\n",
       "      <td>Thick pink patches of calcareous algae on cara...</td>\n",
       "      <td>Released</td>\n",
       "      <td>ReleaseSite_37</td>\n",
       "      <td>28/12/18</td>\n",
       "    </tr>\n",
       "  </tbody>\n",
       "</table>\n",
       "<p>5 rows × 21 columns</p>\n",
       "</div>"
      ],
      "text/plain": [
       "          Rescue_ID Date_TimeCaught     Researcher    CaptureSite   \n",
       "18057  2018_RE_1511      2018-12-18  Researcher_30  CaptureSite_9  \\\n",
       "18058  2018_RE_1514      2018-12-18  Researcher_30  CaptureSite_9   \n",
       "18059  2018_RE_1532      2018-12-24  Researcher_30  CaptureSite_9   \n",
       "18060  2018_RE_1533      2018-12-24  Researcher_30  CaptureSite_9   \n",
       "18061  2018_RE_1550      2018-12-28  Researcher_30  CaptureSite_9   \n",
       "\n",
       "      ForagingGround CaptureMethod       Fisher   \n",
       "18057          Ocean           Net   Fisher_569  \\\n",
       "18058          Ocean           Net   Fisher_125   \n",
       "18059          Ocean           Net  Fisher_1343   \n",
       "18060          Ocean           Net  Fisher_1551   \n",
       "18061          Ocean           Net  Fisher_1551   \n",
       "\n",
       "                             LandingSite    Species    Tag_1  ... Lost_Tags   \n",
       "18057  LandingSite_CaptureSiteCategory_1  Species_5  KES1828  ...       NaN  \\\n",
       "18058  LandingSite_CaptureSiteCategory_1  Species_6  KES0563  ...   KES0416   \n",
       "18059  LandingSite_CaptureSiteCategory_1  Species_5  KES1833  ...       NaN   \n",
       "18060  LandingSite_CaptureSiteCategory_1  Species_5  KES1831  ...       NaN   \n",
       "18061  LandingSite_CaptureSiteCategory_1  Species_6  KES1432  ...       NaN   \n",
       "\n",
       "      T_Number CCL_cm  CCW_cm  Weight_Kg      Sex   \n",
       "18057      NaN  57.13   50.57      21.09  Unknown  \\\n",
       "18058      NaN  42.07   38.37       9.02  Unknown   \n",
       "18059      NaN  57.20   52.30        NaN  Unknown   \n",
       "18060      NaN  51.90   48.50        NaN  Unknown   \n",
       "18061      NaN  34.60   31.20       4.29  Unknown   \n",
       "\n",
       "                                   TurtleCharacteristics    Status   \n",
       "18057                 White calcareous algae on carapace  Released  \\\n",
       "18058  Calcareous + green algae on carapace\\nBarnacle...  Released   \n",
       "18059                                       Clean turtle  Released   \n",
       "18060  Green algae on carapace\\ntip of left supra mis...  Released   \n",
       "18061  Thick pink patches of calcareous algae on cara...  Released   \n",
       "\n",
       "          ReleaseSite Date_TimeRelease  \n",
       "18057  ReleaseSite_68         18/12/18  \n",
       "18058  ReleaseSite_68         18/12/18  \n",
       "18059  ReleaseSite_68         24/12/18  \n",
       "18060  ReleaseSite_68         24/12/18  \n",
       "18061  ReleaseSite_37         28/12/18  \n",
       "\n",
       "[5 rows x 21 columns]"
      ]
     },
     "execution_count": 514,
     "metadata": {},
     "output_type": "execute_result"
    }
   ],
   "source": [
    "df_train.tail()"
   ]
  },
  {
   "cell_type": "markdown",
   "metadata": {},
   "source": [
    "## Preprocessing"
   ]
  },
  {
   "cell_type": "markdown",
   "metadata": {},
   "source": [
    "### Transform date and time"
   ]
  },
  {
   "cell_type": "code",
   "execution_count": 515,
   "metadata": {},
   "outputs": [],
   "source": [
    "# Create a copy of the original dataset\n",
    "df_train_date = df_train.copy()\n",
    "\n",
    "# Transform 'Date_TimeRelease' column to string format\n",
    "df_train_date['Date_TimeRelease'] = df_train_date['Date_TimeRelease'].astype(str)\n",
    "\n",
    "# Replace / on date columns \n",
    "df_train_date['Date_TimeRelease'] = df_train_date['Date_TimeRelease'].str.replace('/', '-')\n",
    "\n",
    "# Add '20' in years with 2 digits\n",
    "for i in range(len(df_train_date['Date_TimeRelease'])):\n",
    "    d = df_train_date['Date_TimeRelease'][i]\n",
    "    df_train_date['Date_TimeRelease'][i] = df_train_date['Date_TimeRelease'][i].replace(d, '20'+d)"
   ]
  },
  {
   "cell_type": "code",
   "execution_count": 516,
   "metadata": {},
   "outputs": [
    {
     "data": {
      "text/plain": [
       "0"
      ]
     },
     "execution_count": 516,
     "metadata": {},
     "output_type": "execute_result"
    }
   ],
   "source": [
    "df_train_date['Date_TimeRelease'].isnull().sum()"
   ]
  },
  {
   "cell_type": "code",
   "execution_count": 517,
   "metadata": {},
   "outputs": [
    {
     "data": {
      "text/html": [
       "<div>\n",
       "<style scoped>\n",
       "    .dataframe tbody tr th:only-of-type {\n",
       "        vertical-align: middle;\n",
       "    }\n",
       "\n",
       "    .dataframe tbody tr th {\n",
       "        vertical-align: top;\n",
       "    }\n",
       "\n",
       "    .dataframe thead th {\n",
       "        text-align: right;\n",
       "    }\n",
       "</style>\n",
       "<table border=\"1\" class=\"dataframe\">\n",
       "  <thead>\n",
       "    <tr style=\"text-align: right;\">\n",
       "      <th></th>\n",
       "      <th>Rescue_ID</th>\n",
       "      <th>Date_TimeCaught</th>\n",
       "      <th>Researcher</th>\n",
       "      <th>CaptureSite</th>\n",
       "      <th>ForagingGround</th>\n",
       "      <th>CaptureMethod</th>\n",
       "      <th>Fisher</th>\n",
       "      <th>LandingSite</th>\n",
       "      <th>Species</th>\n",
       "      <th>Tag_1</th>\n",
       "      <th>...</th>\n",
       "      <th>CCW_cm</th>\n",
       "      <th>Weight_Kg</th>\n",
       "      <th>Sex</th>\n",
       "      <th>TurtleCharacteristics</th>\n",
       "      <th>Status</th>\n",
       "      <th>ReleaseSite</th>\n",
       "      <th>Date_TimeRelease</th>\n",
       "      <th>year</th>\n",
       "      <th>week_of_year</th>\n",
       "      <th>year_woy</th>\n",
       "    </tr>\n",
       "  </thead>\n",
       "  <tbody>\n",
       "    <tr>\n",
       "      <th>0</th>\n",
       "      <td>2000_RE_0060</td>\n",
       "      <td>2000-12-22</td>\n",
       "      <td>Researcher_25</td>\n",
       "      <td>CaptureSite_0</td>\n",
       "      <td>Ocean</td>\n",
       "      <td>Net</td>\n",
       "      <td>Fisher_1072</td>\n",
       "      <td>LandingSite_CaptureSiteCategory_2</td>\n",
       "      <td>Species_6</td>\n",
       "      <td>CC00147</td>\n",
       "      <td>...</td>\n",
       "      <td>62.60</td>\n",
       "      <td>NaN</td>\n",
       "      <td>Unknown</td>\n",
       "      <td>algae at rear of shell</td>\n",
       "      <td>Released</td>\n",
       "      <td>ReleaseSite_50</td>\n",
       "      <td>2022-12-00</td>\n",
       "      <td>2000</td>\n",
       "      <td>51</td>\n",
       "      <td>200051</td>\n",
       "    </tr>\n",
       "    <tr>\n",
       "      <th>1</th>\n",
       "      <td>2001_RE_0187</td>\n",
       "      <td>2001-10-28</td>\n",
       "      <td>Researcher_6</td>\n",
       "      <td>CaptureSite_0</td>\n",
       "      <td>Ocean</td>\n",
       "      <td>Net</td>\n",
       "      <td>Fisher_520</td>\n",
       "      <td>LandingSite_CaptureSiteCategory_2</td>\n",
       "      <td>Species_6</td>\n",
       "      <td>W442</td>\n",
       "      <td>...</td>\n",
       "      <td>31.35</td>\n",
       "      <td>NaN</td>\n",
       "      <td>Unknown</td>\n",
       "      <td>multiple b's on front flippers&amp;  a lot of alga...</td>\n",
       "      <td>Released</td>\n",
       "      <td>ReleaseSite_62</td>\n",
       "      <td>2028-10-01</td>\n",
       "      <td>2001</td>\n",
       "      <td>43</td>\n",
       "      <td>200143</td>\n",
       "    </tr>\n",
       "    <tr>\n",
       "      <th>2</th>\n",
       "      <td>2001_RE_0197</td>\n",
       "      <td>2001-11-01</td>\n",
       "      <td>Researcher_6</td>\n",
       "      <td>CaptureSite_0</td>\n",
       "      <td>Ocean</td>\n",
       "      <td>Net</td>\n",
       "      <td>Fisher_1669</td>\n",
       "      <td>LandingSite_CaptureSiteCategory_2</td>\n",
       "      <td>Species_5</td>\n",
       "      <td>KE0376</td>\n",
       "      <td>...</td>\n",
       "      <td>49.20</td>\n",
       "      <td>NaN</td>\n",
       "      <td>Unknown</td>\n",
       "      <td>clean</td>\n",
       "      <td>Released</td>\n",
       "      <td>ReleaseSite_50</td>\n",
       "      <td>2001-11-01</td>\n",
       "      <td>2001</td>\n",
       "      <td>44</td>\n",
       "      <td>200144</td>\n",
       "    </tr>\n",
       "    <tr>\n",
       "      <th>3</th>\n",
       "      <td>2002_RE_0031</td>\n",
       "      <td>2002-03-11</td>\n",
       "      <td>Researcher_32</td>\n",
       "      <td>CaptureSite_0</td>\n",
       "      <td>Ocean</td>\n",
       "      <td>Net</td>\n",
       "      <td>Fisher_1798</td>\n",
       "      <td>LandingSite_CaptureSiteCategory_2</td>\n",
       "      <td>Species_6</td>\n",
       "      <td>CC00302</td>\n",
       "      <td>...</td>\n",
       "      <td>59.00</td>\n",
       "      <td>NaN</td>\n",
       "      <td>Unknown</td>\n",
       "      <td>1 b 3 CS+ calcerous algae at rear end of shell...</td>\n",
       "      <td>Released</td>\n",
       "      <td>ReleaseSite_50</td>\n",
       "      <td>2011-03-02</td>\n",
       "      <td>2002</td>\n",
       "      <td>11</td>\n",
       "      <td>200211</td>\n",
       "    </tr>\n",
       "    <tr>\n",
       "      <th>4</th>\n",
       "      <td>2002_RE_0118</td>\n",
       "      <td>2002-08-08</td>\n",
       "      <td>Researcher_25</td>\n",
       "      <td>CaptureSite_0</td>\n",
       "      <td>Ocean</td>\n",
       "      <td>Beached</td>\n",
       "      <td>Fisher_1918</td>\n",
       "      <td>LandingSite_CaptureSiteCategory_2</td>\n",
       "      <td>Species_5</td>\n",
       "      <td>NotTagged_0113</td>\n",
       "      <td>...</td>\n",
       "      <td>33.00</td>\n",
       "      <td>NaN</td>\n",
       "      <td>Unknown</td>\n",
       "      <td>very lively+ right eye is hanging out + swolle...</td>\n",
       "      <td>Released</td>\n",
       "      <td>ReleaseSite_62</td>\n",
       "      <td>2008-08-02</td>\n",
       "      <td>2002</td>\n",
       "      <td>32</td>\n",
       "      <td>200232</td>\n",
       "    </tr>\n",
       "  </tbody>\n",
       "</table>\n",
       "<p>5 rows × 24 columns</p>\n",
       "</div>"
      ],
      "text/plain": [
       "      Rescue_ID Date_TimeCaught     Researcher    CaptureSite ForagingGround   \n",
       "0  2000_RE_0060      2000-12-22  Researcher_25  CaptureSite_0          Ocean  \\\n",
       "1  2001_RE_0187      2001-10-28   Researcher_6  CaptureSite_0          Ocean   \n",
       "2  2001_RE_0197      2001-11-01   Researcher_6  CaptureSite_0          Ocean   \n",
       "3  2002_RE_0031      2002-03-11  Researcher_32  CaptureSite_0          Ocean   \n",
       "4  2002_RE_0118      2002-08-08  Researcher_25  CaptureSite_0          Ocean   \n",
       "\n",
       "  CaptureMethod       Fisher                        LandingSite    Species   \n",
       "0           Net  Fisher_1072  LandingSite_CaptureSiteCategory_2  Species_6  \\\n",
       "1           Net   Fisher_520  LandingSite_CaptureSiteCategory_2  Species_6   \n",
       "2           Net  Fisher_1669  LandingSite_CaptureSiteCategory_2  Species_5   \n",
       "3           Net  Fisher_1798  LandingSite_CaptureSiteCategory_2  Species_6   \n",
       "4       Beached  Fisher_1918  LandingSite_CaptureSiteCategory_2  Species_5   \n",
       "\n",
       "            Tag_1  ... CCW_cm Weight_Kg      Sex   \n",
       "0         CC00147  ...  62.60       NaN  Unknown  \\\n",
       "1            W442  ...  31.35       NaN  Unknown   \n",
       "2          KE0376  ...  49.20       NaN  Unknown   \n",
       "3         CC00302  ...  59.00       NaN  Unknown   \n",
       "4  NotTagged_0113  ...  33.00       NaN  Unknown   \n",
       "\n",
       "                               TurtleCharacteristics    Status   \n",
       "0                             algae at rear of shell  Released  \\\n",
       "1  multiple b's on front flippers&  a lot of alga...  Released   \n",
       "2                                              clean  Released   \n",
       "3  1 b 3 CS+ calcerous algae at rear end of shell...  Released   \n",
       "4  very lively+ right eye is hanging out + swolle...  Released   \n",
       "\n",
       "      ReleaseSite Date_TimeRelease  year week_of_year year_woy  \n",
       "0  ReleaseSite_50       2022-12-00  2000           51   200051  \n",
       "1  ReleaseSite_62       2028-10-01  2001           43   200143  \n",
       "2  ReleaseSite_50       2001-11-01  2001           44   200144  \n",
       "3  ReleaseSite_50       2011-03-02  2002           11   200211  \n",
       "4  ReleaseSite_62       2008-08-02  2002           32   200232  \n",
       "\n",
       "[5 rows x 24 columns]"
      ]
     },
     "execution_count": 517,
     "metadata": {},
     "output_type": "execute_result"
    }
   ],
   "source": [
    "# Transform 'Date_TimeCaught' column to datetime format\n",
    "df_train_date['Date_TimeCaught'] = pd.to_datetime(df_train_date['Date_TimeCaught'])\n",
    "df_train_date[\"year\"]=df_train_date.Date_TimeCaught.dt.year\n",
    "df_train_date[\"week_of_year\"] = df_train_date.Date_TimeCaught.dt.isocalendar().week # original changed to isocalendar\n",
    "df_train_date[\"year_woy\"]=df_train_date.year*100+df_train_date.week_of_year\n",
    "df_train_date.head()"
   ]
  },
  {
   "cell_type": "markdown",
   "metadata": {},
   "source": [
    "CHATGPT: The error you're encountering is due to the usage of the attribute weekofyear on the DatetimeProperties object. In newer versions of pandas (starting from version 1.1.0), the attribute name has been changed from weekofyear to week. \n",
    "It looks like the attribute name for extracting the week of the year is not week, and I made an incorrect suggestion. Instead, you should use dt.isocalendar().week to extract the week of the year. "
   ]
  },
  {
   "cell_type": "markdown",
   "metadata": {},
   "source": [
    "### Checking missing values "
   ]
  },
  {
   "cell_type": "code",
   "execution_count": 518,
   "metadata": {},
   "outputs": [
    {
     "name": "stdout",
     "output_type": "stream",
     "text": [
      "<class 'pandas.core.frame.DataFrame'>\n",
      "RangeIndex: 18062 entries, 0 to 18061\n",
      "Data columns (total 24 columns):\n",
      " #   Column                 Non-Null Count  Dtype         \n",
      "---  ------                 --------------  -----         \n",
      " 0   Rescue_ID              18062 non-null  object        \n",
      " 1   Date_TimeCaught        18062 non-null  datetime64[ns]\n",
      " 2   Researcher             18062 non-null  object        \n",
      " 3   CaptureSite            18062 non-null  object        \n",
      " 4   ForagingGround         18062 non-null  object        \n",
      " 5   CaptureMethod          18062 non-null  object        \n",
      " 6   Fisher                 18062 non-null  object        \n",
      " 7   LandingSite            18062 non-null  object        \n",
      " 8   Species                18062 non-null  object        \n",
      " 9   Tag_1                  17937 non-null  object        \n",
      " 10  Tag_2                  4911 non-null   object        \n",
      " 11  Lost_Tags              925 non-null    object        \n",
      " 12  T_Number               38 non-null     object        \n",
      " 13  CCL_cm                 18038 non-null  float64       \n",
      " 14  CCW_cm                 18035 non-null  float64       \n",
      " 15  Weight_Kg              12653 non-null  float64       \n",
      " 16  Sex                    13732 non-null  object        \n",
      " 17  TurtleCharacteristics  18010 non-null  object        \n",
      " 18  Status                 14429 non-null  object        \n",
      " 19  ReleaseSite            17987 non-null  object        \n",
      " 20  Date_TimeRelease       18062 non-null  object        \n",
      " 21  year                   18062 non-null  int32         \n",
      " 22  week_of_year           18062 non-null  UInt32        \n",
      " 23  year_woy               18062 non-null  Int64         \n",
      "dtypes: Int64(1), UInt32(1), datetime64[ns](1), float64(3), int32(1), object(17)\n",
      "memory usage: 3.2+ MB\n"
     ]
    }
   ],
   "source": [
    "df_train_date.info()"
   ]
  },
  {
   "cell_type": "code",
   "execution_count": 519,
   "metadata": {},
   "outputs": [
    {
     "data": {
      "text/plain": [
       "<Axes: >"
      ]
     },
     "execution_count": 519,
     "metadata": {},
     "output_type": "execute_result"
    },
    {
     "data": {
      "image/png": "[encoded data removed]",
      "text/plain": [
       "<Figure size 2500x1000 with 3 Axes>"
      ]
     },
     "metadata": {},
     "output_type": "display_data"
    }
   ],
   "source": [
    "# Plotting percentage of missing values per column\n",
    "msno.bar(df_train_date)"
   ]
  },
  {
   "cell_type": "code",
   "execution_count": 520,
   "metadata": {},
   "outputs": [
    {
     "data": {
      "text/plain": [
       "<Axes: >"
      ]
     },
     "execution_count": 520,
     "metadata": {},
     "output_type": "execute_result"
    },
    {
     "data": {
      "image/png": "[encoded data removed]",
      "text/plain": [
       "<Figure size 2500x1000 with 2 Axes>"
      ]
     },
     "metadata": {},
     "output_type": "display_data"
    }
   ],
   "source": [
    "msno.matrix(df_train_date)"
   ]
  },
  {
   "cell_type": "code",
   "execution_count": 521,
   "metadata": {},
   "outputs": [
    {
     "data": {
      "text/plain": [
       "Rescue_ID                    0\n",
       "Date_TimeCaught              0\n",
       "Researcher                   0\n",
       "CaptureSite                  0\n",
       "ForagingGround               0\n",
       "CaptureMethod                0\n",
       "Fisher                       0\n",
       "LandingSite                  0\n",
       "Species                      0\n",
       "Tag_1                      125\n",
       "Tag_2                    13151\n",
       "Lost_Tags                17137\n",
       "T_Number                 18024\n",
       "CCL_cm                      24\n",
       "CCW_cm                      27\n",
       "Weight_Kg                 5409\n",
       "Sex                       4330\n",
       "TurtleCharacteristics       52\n",
       "Status                    3633\n",
       "ReleaseSite                 75\n",
       "Date_TimeRelease             0\n",
       "year                         0\n",
       "week_of_year                 0\n",
       "year_woy                     0\n",
       "dtype: int64"
      ]
     },
     "execution_count": 521,
     "metadata": {},
     "output_type": "execute_result"
    }
   ],
   "source": [
    "df_train_date.isna().sum()"
   ]
  },
  {
   "cell_type": "markdown",
   "metadata": {},
   "source": [
    "### Check for duplicates"
   ]
  },
  {
   "cell_type": "code",
   "execution_count": 522,
   "metadata": {},
   "outputs": [
    {
     "data": {
      "text/plain": [
       "(False, False)"
      ]
     },
     "execution_count": 522,
     "metadata": {},
     "output_type": "execute_result"
    }
   ],
   "source": [
    "# Check for duplicates\n",
    "df_train_date.duplicated().any(), df_capturesite_category.duplicated().any()"
   ]
  },
  {
   "cell_type": "markdown",
   "metadata": {},
   "source": [
    "### Profile Report"
   ]
  },
  {
   "cell_type": "code",
   "execution_count": 523,
   "metadata": {},
   "outputs": [],
   "source": [
    "# make a profile report of all data\n",
    "#profile = ProfileReport(df_train, minimal=False)\n",
    "#profile.to_file(\"./data/output.html\")"
   ]
  },
  {
   "cell_type": "markdown",
   "metadata": {},
   "source": [
    "### Merging tables\n"
   ]
  },
  {
   "cell_type": "code",
   "execution_count": 524,
   "metadata": {},
   "outputs": [
    {
     "data": {
      "text/html": [
       "<div>\n",
       "<style scoped>\n",
       "    .dataframe tbody tr th:only-of-type {\n",
       "        vertical-align: middle;\n",
       "    }\n",
       "\n",
       "    .dataframe tbody tr th {\n",
       "        vertical-align: top;\n",
       "    }\n",
       "\n",
       "    .dataframe thead th {\n",
       "        text-align: right;\n",
       "    }\n",
       "</style>\n",
       "<table border=\"1\" class=\"dataframe\">\n",
       "  <thead>\n",
       "    <tr style=\"text-align: right;\">\n",
       "      <th></th>\n",
       "      <th>Rescue_ID</th>\n",
       "      <th>Date_TimeCaught</th>\n",
       "      <th>Researcher</th>\n",
       "      <th>CaptureSite</th>\n",
       "      <th>ForagingGround</th>\n",
       "      <th>CaptureMethod</th>\n",
       "      <th>Fisher</th>\n",
       "      <th>LandingSite</th>\n",
       "      <th>Species</th>\n",
       "      <th>Tag_1</th>\n",
       "      <th>...</th>\n",
       "      <th>CCW_cm</th>\n",
       "      <th>Weight_Kg</th>\n",
       "      <th>Sex</th>\n",
       "      <th>TurtleCharacteristics</th>\n",
       "      <th>Status</th>\n",
       "      <th>ReleaseSite</th>\n",
       "      <th>Date_TimeRelease</th>\n",
       "      <th>year</th>\n",
       "      <th>week_of_year</th>\n",
       "      <th>year_woy</th>\n",
       "    </tr>\n",
       "  </thead>\n",
       "  <tbody>\n",
       "    <tr>\n",
       "      <th>0</th>\n",
       "      <td>2000_RE_0060</td>\n",
       "      <td>2000-12-22</td>\n",
       "      <td>Researcher_25</td>\n",
       "      <td>CaptureSite_0</td>\n",
       "      <td>Ocean</td>\n",
       "      <td>Net</td>\n",
       "      <td>Fisher_1072</td>\n",
       "      <td>LandingSite_CaptureSiteCategory_2</td>\n",
       "      <td>Species_6</td>\n",
       "      <td>CC00147</td>\n",
       "      <td>...</td>\n",
       "      <td>62.60</td>\n",
       "      <td>NaN</td>\n",
       "      <td>Unknown</td>\n",
       "      <td>algae at rear of shell</td>\n",
       "      <td>Released</td>\n",
       "      <td>ReleaseSite_50</td>\n",
       "      <td>2022-12-00</td>\n",
       "      <td>2000</td>\n",
       "      <td>51</td>\n",
       "      <td>200051</td>\n",
       "    </tr>\n",
       "    <tr>\n",
       "      <th>1</th>\n",
       "      <td>2001_RE_0187</td>\n",
       "      <td>2001-10-28</td>\n",
       "      <td>Researcher_6</td>\n",
       "      <td>CaptureSite_0</td>\n",
       "      <td>Ocean</td>\n",
       "      <td>Net</td>\n",
       "      <td>Fisher_520</td>\n",
       "      <td>LandingSite_CaptureSiteCategory_2</td>\n",
       "      <td>Species_6</td>\n",
       "      <td>W442</td>\n",
       "      <td>...</td>\n",
       "      <td>31.35</td>\n",
       "      <td>NaN</td>\n",
       "      <td>Unknown</td>\n",
       "      <td>multiple b's on front flippers&amp;  a lot of alga...</td>\n",
       "      <td>Released</td>\n",
       "      <td>ReleaseSite_62</td>\n",
       "      <td>2028-10-01</td>\n",
       "      <td>2001</td>\n",
       "      <td>43</td>\n",
       "      <td>200143</td>\n",
       "    </tr>\n",
       "    <tr>\n",
       "      <th>2</th>\n",
       "      <td>2001_RE_0197</td>\n",
       "      <td>2001-11-01</td>\n",
       "      <td>Researcher_6</td>\n",
       "      <td>CaptureSite_0</td>\n",
       "      <td>Ocean</td>\n",
       "      <td>Net</td>\n",
       "      <td>Fisher_1669</td>\n",
       "      <td>LandingSite_CaptureSiteCategory_2</td>\n",
       "      <td>Species_5</td>\n",
       "      <td>KE0376</td>\n",
       "      <td>...</td>\n",
       "      <td>49.20</td>\n",
       "      <td>NaN</td>\n",
       "      <td>Unknown</td>\n",
       "      <td>clean</td>\n",
       "      <td>Released</td>\n",
       "      <td>ReleaseSite_50</td>\n",
       "      <td>2001-11-01</td>\n",
       "      <td>2001</td>\n",
       "      <td>44</td>\n",
       "      <td>200144</td>\n",
       "    </tr>\n",
       "    <tr>\n",
       "      <th>3</th>\n",
       "      <td>2002_RE_0031</td>\n",
       "      <td>2002-03-11</td>\n",
       "      <td>Researcher_32</td>\n",
       "      <td>CaptureSite_0</td>\n",
       "      <td>Ocean</td>\n",
       "      <td>Net</td>\n",
       "      <td>Fisher_1798</td>\n",
       "      <td>LandingSite_CaptureSiteCategory_2</td>\n",
       "      <td>Species_6</td>\n",
       "      <td>CC00302</td>\n",
       "      <td>...</td>\n",
       "      <td>59.00</td>\n",
       "      <td>NaN</td>\n",
       "      <td>Unknown</td>\n",
       "      <td>1 b 3 CS+ calcerous algae at rear end of shell...</td>\n",
       "      <td>Released</td>\n",
       "      <td>ReleaseSite_50</td>\n",
       "      <td>2011-03-02</td>\n",
       "      <td>2002</td>\n",
       "      <td>11</td>\n",
       "      <td>200211</td>\n",
       "    </tr>\n",
       "    <tr>\n",
       "      <th>4</th>\n",
       "      <td>2002_RE_0118</td>\n",
       "      <td>2002-08-08</td>\n",
       "      <td>Researcher_25</td>\n",
       "      <td>CaptureSite_0</td>\n",
       "      <td>Ocean</td>\n",
       "      <td>Beached</td>\n",
       "      <td>Fisher_1918</td>\n",
       "      <td>LandingSite_CaptureSiteCategory_2</td>\n",
       "      <td>Species_5</td>\n",
       "      <td>NotTagged_0113</td>\n",
       "      <td>...</td>\n",
       "      <td>33.00</td>\n",
       "      <td>NaN</td>\n",
       "      <td>Unknown</td>\n",
       "      <td>very lively+ right eye is hanging out + swolle...</td>\n",
       "      <td>Released</td>\n",
       "      <td>ReleaseSite_62</td>\n",
       "      <td>2008-08-02</td>\n",
       "      <td>2002</td>\n",
       "      <td>32</td>\n",
       "      <td>200232</td>\n",
       "    </tr>\n",
       "  </tbody>\n",
       "</table>\n",
       "<p>5 rows × 24 columns</p>\n",
       "</div>"
      ],
      "text/plain": [
       "      Rescue_ID Date_TimeCaught     Researcher    CaptureSite ForagingGround   \n",
       "0  2000_RE_0060      2000-12-22  Researcher_25  CaptureSite_0          Ocean  \\\n",
       "1  2001_RE_0187      2001-10-28   Researcher_6  CaptureSite_0          Ocean   \n",
       "2  2001_RE_0197      2001-11-01   Researcher_6  CaptureSite_0          Ocean   \n",
       "3  2002_RE_0031      2002-03-11  Researcher_32  CaptureSite_0          Ocean   \n",
       "4  2002_RE_0118      2002-08-08  Researcher_25  CaptureSite_0          Ocean   \n",
       "\n",
       "  CaptureMethod       Fisher                        LandingSite    Species   \n",
       "0           Net  Fisher_1072  LandingSite_CaptureSiteCategory_2  Species_6  \\\n",
       "1           Net   Fisher_520  LandingSite_CaptureSiteCategory_2  Species_6   \n",
       "2           Net  Fisher_1669  LandingSite_CaptureSiteCategory_2  Species_5   \n",
       "3           Net  Fisher_1798  LandingSite_CaptureSiteCategory_2  Species_6   \n",
       "4       Beached  Fisher_1918  LandingSite_CaptureSiteCategory_2  Species_5   \n",
       "\n",
       "            Tag_1  ... CCW_cm Weight_Kg      Sex   \n",
       "0         CC00147  ...  62.60       NaN  Unknown  \\\n",
       "1            W442  ...  31.35       NaN  Unknown   \n",
       "2          KE0376  ...  49.20       NaN  Unknown   \n",
       "3         CC00302  ...  59.00       NaN  Unknown   \n",
       "4  NotTagged_0113  ...  33.00       NaN  Unknown   \n",
       "\n",
       "                               TurtleCharacteristics    Status   \n",
       "0                             algae at rear of shell  Released  \\\n",
       "1  multiple b's on front flippers&  a lot of alga...  Released   \n",
       "2                                              clean  Released   \n",
       "3  1 b 3 CS+ calcerous algae at rear end of shell...  Released   \n",
       "4  very lively+ right eye is hanging out + swolle...  Released   \n",
       "\n",
       "      ReleaseSite Date_TimeRelease  year week_of_year year_woy  \n",
       "0  ReleaseSite_50       2022-12-00  2000           51   200051  \n",
       "1  ReleaseSite_62       2028-10-01  2001           43   200143  \n",
       "2  ReleaseSite_50       2001-11-01  2001           44   200144  \n",
       "3  ReleaseSite_50       2011-03-02  2002           11   200211  \n",
       "4  ReleaseSite_62       2008-08-02  2002           32   200232  \n",
       "\n",
       "[5 rows x 24 columns]"
      ]
     },
     "execution_count": 524,
     "metadata": {},
     "output_type": "execute_result"
    }
   ],
   "source": [
    "df_train_date.head()"
   ]
  },
  {
   "cell_type": "code",
   "execution_count": 525,
   "metadata": {},
   "outputs": [
    {
     "data": {
      "text/plain": [
       "(18062, 24)"
      ]
     },
     "execution_count": 525,
     "metadata": {},
     "output_type": "execute_result"
    }
   ],
   "source": [
    "df_train_date.shape"
   ]
  },
  {
   "cell_type": "code",
   "execution_count": 526,
   "metadata": {},
   "outputs": [
    {
     "data": {
      "text/html": [
       "<div>\n",
       "<style scoped>\n",
       "    .dataframe tbody tr th:only-of-type {\n",
       "        vertical-align: middle;\n",
       "    }\n",
       "\n",
       "    .dataframe tbody tr th {\n",
       "        vertical-align: top;\n",
       "    }\n",
       "\n",
       "    .dataframe thead th {\n",
       "        text-align: right;\n",
       "    }\n",
       "</style>\n",
       "<table border=\"1\" class=\"dataframe\">\n",
       "  <thead>\n",
       "    <tr style=\"text-align: right;\">\n",
       "      <th></th>\n",
       "      <th>CaptureSite</th>\n",
       "      <th>CaptureSiteCategory</th>\n",
       "      <th>Type</th>\n",
       "    </tr>\n",
       "  </thead>\n",
       "  <tbody>\n",
       "    <tr>\n",
       "      <th>0</th>\n",
       "      <td>CaptureSite_0</td>\n",
       "      <td>CaptureSiteCategory_2</td>\n",
       "      <td>Type_1</td>\n",
       "    </tr>\n",
       "    <tr>\n",
       "      <th>1</th>\n",
       "      <td>CaptureSite_1</td>\n",
       "      <td>CaptureSiteCategory_2</td>\n",
       "      <td>Type_1</td>\n",
       "    </tr>\n",
       "    <tr>\n",
       "      <th>2</th>\n",
       "      <td>CaptureSite_10</td>\n",
       "      <td>CaptureSiteCategory_2</td>\n",
       "      <td>Type_1</td>\n",
       "    </tr>\n",
       "    <tr>\n",
       "      <th>3</th>\n",
       "      <td>CaptureSite_11</td>\n",
       "      <td>CaptureSiteCategory_0</td>\n",
       "      <td>Type_0</td>\n",
       "    </tr>\n",
       "    <tr>\n",
       "      <th>4</th>\n",
       "      <td>CaptureSite_12</td>\n",
       "      <td>CaptureSiteCategory_2</td>\n",
       "      <td>Type_1</td>\n",
       "    </tr>\n",
       "  </tbody>\n",
       "</table>\n",
       "</div>"
      ],
      "text/plain": [
       "      CaptureSite    CaptureSiteCategory    Type\n",
       "0   CaptureSite_0  CaptureSiteCategory_2  Type_1\n",
       "1   CaptureSite_1  CaptureSiteCategory_2  Type_1\n",
       "2  CaptureSite_10  CaptureSiteCategory_2  Type_1\n",
       "3  CaptureSite_11  CaptureSiteCategory_0  Type_0\n",
       "4  CaptureSite_12  CaptureSiteCategory_2  Type_1"
      ]
     },
     "execution_count": 526,
     "metadata": {},
     "output_type": "execute_result"
    }
   ],
   "source": [
    "df_capturesite_category.head()"
   ]
  },
  {
   "cell_type": "code",
   "execution_count": 527,
   "metadata": {},
   "outputs": [
    {
     "data": {
      "text/plain": [
       "(29, 3)"
      ]
     },
     "execution_count": 527,
     "metadata": {},
     "output_type": "execute_result"
    }
   ],
   "source": [
    "df_capturesite_category.shape"
   ]
  },
  {
   "cell_type": "code",
   "execution_count": 528,
   "metadata": {},
   "outputs": [],
   "source": [
    "# See relationship between weeks of year and number of turtles captured"
   ]
  },
  {
   "cell_type": "code",
   "execution_count": 529,
   "metadata": {},
   "outputs": [
    {
     "data": {
      "text/plain": [
       "(18062, 24)"
      ]
     },
     "execution_count": 529,
     "metadata": {},
     "output_type": "execute_result"
    }
   ],
   "source": [
    "df_train_date.shape"
   ]
  },
  {
   "cell_type": "code",
   "execution_count": 530,
   "metadata": {},
   "outputs": [
    {
     "data": {
      "text/html": [
       "<div>\n",
       "<style scoped>\n",
       "    .dataframe tbody tr th:only-of-type {\n",
       "        vertical-align: middle;\n",
       "    }\n",
       "\n",
       "    .dataframe tbody tr th {\n",
       "        vertical-align: top;\n",
       "    }\n",
       "\n",
       "    .dataframe thead th {\n",
       "        text-align: right;\n",
       "    }\n",
       "</style>\n",
       "<table border=\"1\" class=\"dataframe\">\n",
       "  <thead>\n",
       "    <tr style=\"text-align: right;\">\n",
       "      <th></th>\n",
       "      <th>Rescue_ID</th>\n",
       "      <th>Date_TimeCaught</th>\n",
       "      <th>Researcher</th>\n",
       "      <th>CaptureSite</th>\n",
       "      <th>ForagingGround</th>\n",
       "      <th>CaptureMethod</th>\n",
       "      <th>Fisher</th>\n",
       "      <th>LandingSite</th>\n",
       "      <th>Species</th>\n",
       "      <th>Tag_1</th>\n",
       "      <th>...</th>\n",
       "      <th>CCW_cm</th>\n",
       "      <th>Weight_Kg</th>\n",
       "      <th>Sex</th>\n",
       "      <th>TurtleCharacteristics</th>\n",
       "      <th>Status</th>\n",
       "      <th>ReleaseSite</th>\n",
       "      <th>Date_TimeRelease</th>\n",
       "      <th>year</th>\n",
       "      <th>week_of_year</th>\n",
       "      <th>year_woy</th>\n",
       "    </tr>\n",
       "  </thead>\n",
       "  <tbody>\n",
       "    <tr>\n",
       "      <th>0</th>\n",
       "      <td>2000_RE_0060</td>\n",
       "      <td>2000-12-22</td>\n",
       "      <td>Researcher_25</td>\n",
       "      <td>CaptureSite_0</td>\n",
       "      <td>Ocean</td>\n",
       "      <td>Net</td>\n",
       "      <td>Fisher_1072</td>\n",
       "      <td>LandingSite_CaptureSiteCategory_2</td>\n",
       "      <td>Species_6</td>\n",
       "      <td>CC00147</td>\n",
       "      <td>...</td>\n",
       "      <td>62.60</td>\n",
       "      <td>NaN</td>\n",
       "      <td>Unknown</td>\n",
       "      <td>algae at rear of shell</td>\n",
       "      <td>Released</td>\n",
       "      <td>ReleaseSite_50</td>\n",
       "      <td>2022-12-00</td>\n",
       "      <td>2000</td>\n",
       "      <td>51</td>\n",
       "      <td>200051</td>\n",
       "    </tr>\n",
       "    <tr>\n",
       "      <th>1</th>\n",
       "      <td>2001_RE_0187</td>\n",
       "      <td>2001-10-28</td>\n",
       "      <td>Researcher_6</td>\n",
       "      <td>CaptureSite_0</td>\n",
       "      <td>Ocean</td>\n",
       "      <td>Net</td>\n",
       "      <td>Fisher_520</td>\n",
       "      <td>LandingSite_CaptureSiteCategory_2</td>\n",
       "      <td>Species_6</td>\n",
       "      <td>W442</td>\n",
       "      <td>...</td>\n",
       "      <td>31.35</td>\n",
       "      <td>NaN</td>\n",
       "      <td>Unknown</td>\n",
       "      <td>multiple b's on front flippers&amp;  a lot of alga...</td>\n",
       "      <td>Released</td>\n",
       "      <td>ReleaseSite_62</td>\n",
       "      <td>2028-10-01</td>\n",
       "      <td>2001</td>\n",
       "      <td>43</td>\n",
       "      <td>200143</td>\n",
       "    </tr>\n",
       "    <tr>\n",
       "      <th>2</th>\n",
       "      <td>2001_RE_0197</td>\n",
       "      <td>2001-11-01</td>\n",
       "      <td>Researcher_6</td>\n",
       "      <td>CaptureSite_0</td>\n",
       "      <td>Ocean</td>\n",
       "      <td>Net</td>\n",
       "      <td>Fisher_1669</td>\n",
       "      <td>LandingSite_CaptureSiteCategory_2</td>\n",
       "      <td>Species_5</td>\n",
       "      <td>KE0376</td>\n",
       "      <td>...</td>\n",
       "      <td>49.20</td>\n",
       "      <td>NaN</td>\n",
       "      <td>Unknown</td>\n",
       "      <td>clean</td>\n",
       "      <td>Released</td>\n",
       "      <td>ReleaseSite_50</td>\n",
       "      <td>2001-11-01</td>\n",
       "      <td>2001</td>\n",
       "      <td>44</td>\n",
       "      <td>200144</td>\n",
       "    </tr>\n",
       "    <tr>\n",
       "      <th>3</th>\n",
       "      <td>2002_RE_0031</td>\n",
       "      <td>2002-03-11</td>\n",
       "      <td>Researcher_32</td>\n",
       "      <td>CaptureSite_0</td>\n",
       "      <td>Ocean</td>\n",
       "      <td>Net</td>\n",
       "      <td>Fisher_1798</td>\n",
       "      <td>LandingSite_CaptureSiteCategory_2</td>\n",
       "      <td>Species_6</td>\n",
       "      <td>CC00302</td>\n",
       "      <td>...</td>\n",
       "      <td>59.00</td>\n",
       "      <td>NaN</td>\n",
       "      <td>Unknown</td>\n",
       "      <td>1 b 3 CS+ calcerous algae at rear end of shell...</td>\n",
       "      <td>Released</td>\n",
       "      <td>ReleaseSite_50</td>\n",
       "      <td>2011-03-02</td>\n",
       "      <td>2002</td>\n",
       "      <td>11</td>\n",
       "      <td>200211</td>\n",
       "    </tr>\n",
       "    <tr>\n",
       "      <th>4</th>\n",
       "      <td>2002_RE_0118</td>\n",
       "      <td>2002-08-08</td>\n",
       "      <td>Researcher_25</td>\n",
       "      <td>CaptureSite_0</td>\n",
       "      <td>Ocean</td>\n",
       "      <td>Beached</td>\n",
       "      <td>Fisher_1918</td>\n",
       "      <td>LandingSite_CaptureSiteCategory_2</td>\n",
       "      <td>Species_5</td>\n",
       "      <td>NotTagged_0113</td>\n",
       "      <td>...</td>\n",
       "      <td>33.00</td>\n",
       "      <td>NaN</td>\n",
       "      <td>Unknown</td>\n",
       "      <td>very lively+ right eye is hanging out + swolle...</td>\n",
       "      <td>Released</td>\n",
       "      <td>ReleaseSite_62</td>\n",
       "      <td>2008-08-02</td>\n",
       "      <td>2002</td>\n",
       "      <td>32</td>\n",
       "      <td>200232</td>\n",
       "    </tr>\n",
       "  </tbody>\n",
       "</table>\n",
       "<p>5 rows × 24 columns</p>\n",
       "</div>"
      ],
      "text/plain": [
       "      Rescue_ID Date_TimeCaught     Researcher    CaptureSite ForagingGround   \n",
       "0  2000_RE_0060      2000-12-22  Researcher_25  CaptureSite_0          Ocean  \\\n",
       "1  2001_RE_0187      2001-10-28   Researcher_6  CaptureSite_0          Ocean   \n",
       "2  2001_RE_0197      2001-11-01   Researcher_6  CaptureSite_0          Ocean   \n",
       "3  2002_RE_0031      2002-03-11  Researcher_32  CaptureSite_0          Ocean   \n",
       "4  2002_RE_0118      2002-08-08  Researcher_25  CaptureSite_0          Ocean   \n",
       "\n",
       "  CaptureMethod       Fisher                        LandingSite    Species   \n",
       "0           Net  Fisher_1072  LandingSite_CaptureSiteCategory_2  Species_6  \\\n",
       "1           Net   Fisher_520  LandingSite_CaptureSiteCategory_2  Species_6   \n",
       "2           Net  Fisher_1669  LandingSite_CaptureSiteCategory_2  Species_5   \n",
       "3           Net  Fisher_1798  LandingSite_CaptureSiteCategory_2  Species_6   \n",
       "4       Beached  Fisher_1918  LandingSite_CaptureSiteCategory_2  Species_5   \n",
       "\n",
       "            Tag_1  ... CCW_cm Weight_Kg      Sex   \n",
       "0         CC00147  ...  62.60       NaN  Unknown  \\\n",
       "1            W442  ...  31.35       NaN  Unknown   \n",
       "2          KE0376  ...  49.20       NaN  Unknown   \n",
       "3         CC00302  ...  59.00       NaN  Unknown   \n",
       "4  NotTagged_0113  ...  33.00       NaN  Unknown   \n",
       "\n",
       "                               TurtleCharacteristics    Status   \n",
       "0                             algae at rear of shell  Released  \\\n",
       "1  multiple b's on front flippers&  a lot of alga...  Released   \n",
       "2                                              clean  Released   \n",
       "3  1 b 3 CS+ calcerous algae at rear end of shell...  Released   \n",
       "4  very lively+ right eye is hanging out + swolle...  Released   \n",
       "\n",
       "      ReleaseSite Date_TimeRelease  year week_of_year year_woy  \n",
       "0  ReleaseSite_50       2022-12-00  2000           51   200051  \n",
       "1  ReleaseSite_62       2028-10-01  2001           43   200143  \n",
       "2  ReleaseSite_50       2001-11-01  2001           44   200144  \n",
       "3  ReleaseSite_50       2011-03-02  2002           11   200211  \n",
       "4  ReleaseSite_62       2008-08-02  2002           32   200232  \n",
       "\n",
       "[5 rows x 24 columns]"
      ]
     },
     "execution_count": 530,
     "metadata": {},
     "output_type": "execute_result"
    }
   ],
   "source": [
    "df_train_date.head()"
   ]
  },
  {
   "cell_type": "code",
   "execution_count": 531,
   "metadata": {},
   "outputs": [
    {
     "data": {
      "text/plain": [
       "(1276, 4)"
      ]
     },
     "execution_count": 531,
     "metadata": {},
     "output_type": "execute_result"
    }
   ],
   "source": [
    "df_sample_sub.shape"
   ]
  },
  {
   "cell_type": "code",
   "execution_count": 532,
   "metadata": {},
   "outputs": [
    {
     "data": {
      "text/html": [
       "<div>\n",
       "<style scoped>\n",
       "    .dataframe tbody tr th:only-of-type {\n",
       "        vertical-align: middle;\n",
       "    }\n",
       "\n",
       "    .dataframe tbody tr th {\n",
       "        vertical-align: top;\n",
       "    }\n",
       "\n",
       "    .dataframe thead th {\n",
       "        text-align: right;\n",
       "    }\n",
       "</style>\n",
       "<table border=\"1\" class=\"dataframe\">\n",
       "  <thead>\n",
       "    <tr style=\"text-align: right;\">\n",
       "      <th></th>\n",
       "      <th>ID</th>\n",
       "      <th>Capture_Number</th>\n",
       "      <th>year_woy</th>\n",
       "      <th>CaptureSite</th>\n",
       "    </tr>\n",
       "  </thead>\n",
       "  <tbody>\n",
       "    <tr>\n",
       "      <th>0</th>\n",
       "      <td>CaptureSite_0_201901</td>\n",
       "      <td>7</td>\n",
       "      <td>201901</td>\n",
       "      <td>CaptureSite_0</td>\n",
       "    </tr>\n",
       "    <tr>\n",
       "      <th>1</th>\n",
       "      <td>CaptureSite_0_201902</td>\n",
       "      <td>1</td>\n",
       "      <td>201902</td>\n",
       "      <td>CaptureSite_0</td>\n",
       "    </tr>\n",
       "    <tr>\n",
       "      <th>2</th>\n",
       "      <td>CaptureSite_0_201903</td>\n",
       "      <td>5</td>\n",
       "      <td>201903</td>\n",
       "      <td>CaptureSite_0</td>\n",
       "    </tr>\n",
       "    <tr>\n",
       "      <th>3</th>\n",
       "      <td>CaptureSite_0_201904</td>\n",
       "      <td>2</td>\n",
       "      <td>201904</td>\n",
       "      <td>CaptureSite_0</td>\n",
       "    </tr>\n",
       "    <tr>\n",
       "      <th>4</th>\n",
       "      <td>CaptureSite_0_201905</td>\n",
       "      <td>3</td>\n",
       "      <td>201905</td>\n",
       "      <td>CaptureSite_0</td>\n",
       "    </tr>\n",
       "  </tbody>\n",
       "</table>\n",
       "</div>"
      ],
      "text/plain": [
       "                     ID  Capture_Number  year_woy    CaptureSite\n",
       "0  CaptureSite_0_201901               7    201901  CaptureSite_0\n",
       "1  CaptureSite_0_201902               1    201902  CaptureSite_0\n",
       "2  CaptureSite_0_201903               5    201903  CaptureSite_0\n",
       "3  CaptureSite_0_201904               2    201904  CaptureSite_0\n",
       "4  CaptureSite_0_201905               3    201905  CaptureSite_0"
      ]
     },
     "execution_count": 532,
     "metadata": {},
     "output_type": "execute_result"
    }
   ],
   "source": [
    "df_sample_sub.head()"
   ]
  },
  {
   "cell_type": "code",
   "execution_count": 533,
   "metadata": {},
   "outputs": [
    {
     "data": {
      "text/plain": [
       "29"
      ]
     },
     "execution_count": 533,
     "metadata": {},
     "output_type": "execute_result"
    }
   ],
   "source": [
    "df_sample_sub['CaptureSite'].nunique()"
   ]
  },
  {
   "cell_type": "code",
   "execution_count": 534,
   "metadata": {},
   "outputs": [
    {
     "data": {
      "text/plain": [
       "(1276, 4)"
      ]
     },
     "execution_count": 534,
     "metadata": {},
     "output_type": "execute_result"
    }
   ],
   "source": [
    "df_sample_sub.shape"
   ]
  },
  {
   "cell_type": "code",
   "execution_count": 535,
   "metadata": {},
   "outputs": [
    {
     "data": {
      "text/html": [
       "<div>\n",
       "<style scoped>\n",
       "    .dataframe tbody tr th:only-of-type {\n",
       "        vertical-align: middle;\n",
       "    }\n",
       "\n",
       "    .dataframe tbody tr th {\n",
       "        vertical-align: top;\n",
       "    }\n",
       "\n",
       "    .dataframe thead th {\n",
       "        text-align: right;\n",
       "    }\n",
       "</style>\n",
       "<table border=\"1\" class=\"dataframe\">\n",
       "  <thead>\n",
       "    <tr style=\"text-align: right;\">\n",
       "      <th></th>\n",
       "      <th>CaptureSite</th>\n",
       "      <th>year_woy</th>\n",
       "    </tr>\n",
       "  </thead>\n",
       "  <tbody>\n",
       "    <tr>\n",
       "      <th>0</th>\n",
       "      <td>CaptureSite_0</td>\n",
       "      <td>200051</td>\n",
       "    </tr>\n",
       "    <tr>\n",
       "      <th>1</th>\n",
       "      <td>CaptureSite_1</td>\n",
       "      <td>200123</td>\n",
       "    </tr>\n",
       "    <tr>\n",
       "      <th>2</th>\n",
       "      <td>CaptureSite_10</td>\n",
       "      <td>200050</td>\n",
       "    </tr>\n",
       "    <tr>\n",
       "      <th>3</th>\n",
       "      <td>CaptureSite_11</td>\n",
       "      <td>199828</td>\n",
       "    </tr>\n",
       "    <tr>\n",
       "      <th>4</th>\n",
       "      <td>CaptureSite_12</td>\n",
       "      <td>200107</td>\n",
       "    </tr>\n",
       "  </tbody>\n",
       "</table>\n",
       "</div>"
      ],
      "text/plain": [
       "      CaptureSite  year_woy\n",
       "0   CaptureSite_0    200051\n",
       "1   CaptureSite_1    200123\n",
       "2  CaptureSite_10    200050\n",
       "3  CaptureSite_11    199828\n",
       "4  CaptureSite_12    200107"
      ]
     },
     "execution_count": 535,
     "metadata": {},
     "output_type": "execute_result"
    }
   ],
   "source": [
    "# Concatinating week oy year and capture site in the training dataset to the submission dataset\n",
    "# Grouping the data by capture site and taking the minimum week of year\n",
    "keys=pd.concat([df_train_date[[\"year_woy\",\"CaptureSite\"]],df_sample_sub[[\"year_woy\",\"CaptureSite\"]]]) # Concatenate the dataframes: df_sample_sub and df_train_date in the dataframe keys, which will be used to group the data by CaptureSite\n",
    "keys.sort_values([\"CaptureSite\",\"year_woy\"],inplace=True)\n",
    "CaptureSite_min_year_woy=keys.groupby(\"CaptureSite\").year_woy.min().rename(\"year_woy\").reset_index() # Group the data by CaptureSite and take the minimum year_woy, why minimum? because we want to predict the first week of the year for each CaptureSite\n",
    "CaptureSite_min_year_woy.head()\n",
    "\n",
    "# why the min? order of the weeks of the year is important"
   ]
  },
  {
   "cell_type": "code",
   "execution_count": 536,
   "metadata": {},
   "outputs": [
    {
     "data": {
      "text/plain": [
       "(29, 2)"
      ]
     },
     "execution_count": 536,
     "metadata": {},
     "output_type": "execute_result"
    }
   ],
   "source": [
    "CaptureSite_min_year_woy.shape"
   ]
  },
  {
   "cell_type": "code",
   "execution_count": 537,
   "metadata": {},
   "outputs": [
    {
     "data": {
      "text/plain": [
       "CaptureSite    0\n",
       "year_woy       0\n",
       "dtype: int64"
      ]
     },
     "execution_count": 537,
     "metadata": {},
     "output_type": "execute_result"
    }
   ],
   "source": [
    "CaptureSite_min_year_woy.isnull().sum()"
   ]
  },
  {
   "cell_type": "code",
   "execution_count": 538,
   "metadata": {},
   "outputs": [
    {
     "data": {
      "text/plain": [
       "<Axes: >"
      ]
     },
     "execution_count": 538,
     "metadata": {},
     "output_type": "execute_result"
    },
    {
     "data": {
      "image/png": "[encoded data removed]",
      "text/plain": [
       "<Figure size 2500x1000 with 2 Axes>"
      ]
     },
     "metadata": {},
     "output_type": "display_data"
    }
   ],
   "source": [
    "msno.matrix(df_train_date)"
   ]
  },
  {
   "cell_type": "code",
   "execution_count": 539,
   "metadata": {},
   "outputs": [
    {
     "data": {
      "text/plain": [
       "<Axes: >"
      ]
     },
     "execution_count": 539,
     "metadata": {},
     "output_type": "execute_result"
    },
    {
     "data": {
      "image/png": "[encoded data removed]",
      "text/plain": [
       "<Figure size 2500x1000 with 3 Axes>"
      ]
     },
     "metadata": {},
     "output_type": "display_data"
    }
   ],
   "source": [
    "msno.bar(CaptureSite_min_year_woy)\n"
   ]
  },
  {
   "cell_type": "code",
   "execution_count": 540,
   "metadata": {},
   "outputs": [
    {
     "data": {
      "text/plain": [
       "Timestamp('2018-12-31 00:00:00')"
      ]
     },
     "execution_count": 540,
     "metadata": {},
     "output_type": "execute_result"
    }
   ],
   "source": [
    "# Maximum of Date_TimeCaught\n",
    "df_train_date['Date_TimeCaught'].max()"
   ]
  },
  {
   "cell_type": "code",
   "execution_count": 541,
   "metadata": {},
   "outputs": [
    {
     "data": {
      "text/plain": [
       "Timestamp('1998-04-17 00:00:00')"
      ]
     },
     "execution_count": 541,
     "metadata": {},
     "output_type": "execute_result"
    }
   ],
   "source": [
    "# Minimum of Date_TimeCaught\n",
    "df_train_date['Date_TimeCaught'].min()"
   ]
  },
  {
   "cell_type": "code",
   "execution_count": 545,
   "metadata": {},
   "outputs": [
    {
     "data": {
      "text/plain": [
       "array([2000, 2001, 2002, 2003, 2004, 2008, 2009, 2010, 2011, 2012, 2014,\n",
       "       2015, 2016, 2017, 2018, 2006, 2013, 2005, 2007, 1998, 1999],\n",
       "      dtype=int32)"
      ]
     },
     "execution_count": 545,
     "metadata": {},
     "output_type": "execute_result"
    }
   ],
   "source": [
    "df_train_date.year.unique()"
   ]
  },
  {
   "cell_type": "code",
   "execution_count": 546,
   "metadata": {},
   "outputs": [
    {
     "data": {
      "text/plain": [
       "array([201901, 201902, 201903, 201904, 201905, 201906, 201907, 201908,\n",
       "       201909, 201910, 201911, 201912, 201913, 201914, 201915, 201916,\n",
       "       201917, 201918, 201919, 201920, 201921, 201922, 201923, 201924,\n",
       "       201925, 201926, 201927, 201928, 201929, 201930, 201931, 201932,\n",
       "       201933, 201934, 201935, 201936, 201937, 201938, 201939, 201940,\n",
       "       201941, 201942, 201943, 201944])"
      ]
     },
     "execution_count": 546,
     "metadata": {},
     "output_type": "execute_result"
    }
   ],
   "source": [
    "df_sample_sub.year_woy.unique()"
   ]
  },
  {
   "cell_type": "code",
   "execution_count": 543,
   "metadata": {},
   "outputs": [
    {
     "ename": "NameError",
     "evalue": "name 'train' is not defined",
     "output_type": "error",
     "traceback": [
      "\u001b[0;31m---------------------------------------------------------------------------\u001b[0m",
      "\u001b[0;31mNameError\u001b[0m                                 Traceback (most recent call last)",
      "Cell \u001b[0;32mIn[543], line 2\u001b[0m\n\u001b[1;32m      1\u001b[0m range_year_woy\u001b[39m=\u001b[39mpd\u001b[39m.\u001b[39mDataFrame()\n\u001b[0;32m----> 2\u001b[0m range_year_woy[\u001b[39m\"\u001b[39m\u001b[39mDate_TimeCaught\u001b[39m\u001b[39m\"\u001b[39m]\u001b[39m=\u001b[39mpd\u001b[39m.\u001b[39mdate_range(start\u001b[39m=\u001b[39mtrain\u001b[39m.\u001b[39mDate_TimeCaught\u001b[39m.\u001b[39mmin(),end\u001b[39m=\u001b[39mdt(\u001b[39m2019\u001b[39m,\u001b[39m10\u001b[39m,\u001b[39m31\u001b[39m))\n",
      "\u001b[0;31mNameError\u001b[0m: name 'train' is not defined"
     ]
    }
   ],
   "source": [
    "# Create a new dataframe with the range of Date_TimeCaught\n",
    "\n",
    "range_year_woy=pd.DataFrame()\n",
    "range_year_woy[\"Date_TimeCaught\"]=pd.date_range(start=df_train_date.Date_TimeCaught.min(),end=dt(2019,10,31))"
   ]
  },
  {
   "cell_type": "code",
   "execution_count": null,
   "metadata": {},
   "outputs": [],
   "source": []
  },
  {
   "cell_type": "code",
   "execution_count": null,
   "metadata": {},
   "outputs": [],
   "source": []
  },
  {
   "cell_type": "code",
   "execution_count": null,
   "metadata": {},
   "outputs": [],
   "source": []
  },
  {
   "cell_type": "code",
   "execution_count": null,
   "metadata": {},
   "outputs": [],
   "source": []
  },
  {
   "cell_type": "code",
   "execution_count": null,
   "metadata": {},
   "outputs": [
    {
     "data": {
      "text/html": [
       "<div>\n",
       "<style scoped>\n",
       "    .dataframe tbody tr th:only-of-type {\n",
       "        vertical-align: middle;\n",
       "    }\n",
       "\n",
       "    .dataframe tbody tr th {\n",
       "        vertical-align: top;\n",
       "    }\n",
       "\n",
       "    .dataframe thead th {\n",
       "        text-align: right;\n",
       "    }\n",
       "</style>\n",
       "<table border=\"1\" class=\"dataframe\">\n",
       "  <thead>\n",
       "    <tr style=\"text-align: right;\">\n",
       "      <th></th>\n",
       "      <th>Date_TimeCaught</th>\n",
       "    </tr>\n",
       "  </thead>\n",
       "  <tbody>\n",
       "    <tr>\n",
       "      <th>0</th>\n",
       "      <td>1998-04-17</td>\n",
       "    </tr>\n",
       "    <tr>\n",
       "      <th>1</th>\n",
       "      <td>1998-04-18</td>\n",
       "    </tr>\n",
       "    <tr>\n",
       "      <th>2</th>\n",
       "      <td>1998-04-19</td>\n",
       "    </tr>\n",
       "    <tr>\n",
       "      <th>3</th>\n",
       "      <td>1998-04-20</td>\n",
       "    </tr>\n",
       "    <tr>\n",
       "      <th>4</th>\n",
       "      <td>1998-04-21</td>\n",
       "    </tr>\n",
       "  </tbody>\n",
       "</table>\n",
       "</div>"
      ],
      "text/plain": [
       "  Date_TimeCaught\n",
       "0      1998-04-17\n",
       "1      1998-04-18\n",
       "2      1998-04-19\n",
       "3      1998-04-20\n",
       "4      1998-04-21"
      ]
     },
     "execution_count": 458,
     "metadata": {},
     "output_type": "execute_result"
    }
   ],
   "source": [
    "range_year_woy.head()"
   ]
  },
  {
   "cell_type": "code",
   "execution_count": null,
   "metadata": {},
   "outputs": [
    {
     "data": {
      "text/html": [
       "<div>\n",
       "<style scoped>\n",
       "    .dataframe tbody tr th:only-of-type {\n",
       "        vertical-align: middle;\n",
       "    }\n",
       "\n",
       "    .dataframe tbody tr th {\n",
       "        vertical-align: top;\n",
       "    }\n",
       "\n",
       "    .dataframe thead th {\n",
       "        text-align: right;\n",
       "    }\n",
       "</style>\n",
       "<table border=\"1\" class=\"dataframe\">\n",
       "  <thead>\n",
       "    <tr style=\"text-align: right;\">\n",
       "      <th></th>\n",
       "      <th>Date_TimeCaught</th>\n",
       "    </tr>\n",
       "  </thead>\n",
       "  <tbody>\n",
       "    <tr>\n",
       "      <th>9262</th>\n",
       "      <td>2023-08-26</td>\n",
       "    </tr>\n",
       "    <tr>\n",
       "      <th>9263</th>\n",
       "      <td>2023-08-27</td>\n",
       "    </tr>\n",
       "    <tr>\n",
       "      <th>9264</th>\n",
       "      <td>2023-08-28</td>\n",
       "    </tr>\n",
       "    <tr>\n",
       "      <th>9265</th>\n",
       "      <td>2023-08-29</td>\n",
       "    </tr>\n",
       "    <tr>\n",
       "      <th>9266</th>\n",
       "      <td>2023-08-30</td>\n",
       "    </tr>\n",
       "  </tbody>\n",
       "</table>\n",
       "</div>"
      ],
      "text/plain": [
       "     Date_TimeCaught\n",
       "9262      2023-08-26\n",
       "9263      2023-08-27\n",
       "9264      2023-08-28\n",
       "9265      2023-08-29\n",
       "9266      2023-08-30"
      ]
     },
     "execution_count": 459,
     "metadata": {},
     "output_type": "execute_result"
    }
   ],
   "source": [
    "range_year_woy.tail()"
   ]
  },
  {
   "cell_type": "code",
   "execution_count": null,
   "metadata": {},
   "outputs": [
    {
     "name": "stdout",
     "output_type": "stream",
     "text": [
      "<class 'pandas.core.frame.DataFrame'>\n",
      "RangeIndex: 9267 entries, 0 to 9266\n",
      "Data columns (total 1 columns):\n",
      " #   Column           Non-Null Count  Dtype         \n",
      "---  ------           --------------  -----         \n",
      " 0   Date_TimeCaught  9267 non-null   datetime64[ns]\n",
      "dtypes: datetime64[ns](1)\n",
      "memory usage: 72.5 KB\n"
     ]
    }
   ],
   "source": [
    "range_year_woy.info()"
   ]
  },
  {
   "cell_type": "code",
   "execution_count": null,
   "metadata": {},
   "outputs": [
    {
     "data": {
      "text/html": [
       "<div>\n",
       "<style scoped>\n",
       "    .dataframe tbody tr th:only-of-type {\n",
       "        vertical-align: middle;\n",
       "    }\n",
       "\n",
       "    .dataframe tbody tr th {\n",
       "        vertical-align: top;\n",
       "    }\n",
       "\n",
       "    .dataframe thead th {\n",
       "        text-align: right;\n",
       "    }\n",
       "</style>\n",
       "<table border=\"1\" class=\"dataframe\">\n",
       "  <thead>\n",
       "    <tr style=\"text-align: right;\">\n",
       "      <th></th>\n",
       "      <th>Date_TimeCaught</th>\n",
       "      <th>year</th>\n",
       "      <th>week_of_year</th>\n",
       "      <th>year_woy</th>\n",
       "    </tr>\n",
       "  </thead>\n",
       "  <tbody>\n",
       "    <tr>\n",
       "      <th>0</th>\n",
       "      <td>1998-04-17</td>\n",
       "      <td>1998</td>\n",
       "      <td>16</td>\n",
       "      <td>199816</td>\n",
       "    </tr>\n",
       "    <tr>\n",
       "      <th>3</th>\n",
       "      <td>1998-04-20</td>\n",
       "      <td>1998</td>\n",
       "      <td>17</td>\n",
       "      <td>199817</td>\n",
       "    </tr>\n",
       "    <tr>\n",
       "      <th>10</th>\n",
       "      <td>1998-04-27</td>\n",
       "      <td>1998</td>\n",
       "      <td>18</td>\n",
       "      <td>199818</td>\n",
       "    </tr>\n",
       "    <tr>\n",
       "      <th>17</th>\n",
       "      <td>1998-05-04</td>\n",
       "      <td>1998</td>\n",
       "      <td>19</td>\n",
       "      <td>199819</td>\n",
       "    </tr>\n",
       "    <tr>\n",
       "      <th>24</th>\n",
       "      <td>1998-05-11</td>\n",
       "      <td>1998</td>\n",
       "      <td>20</td>\n",
       "      <td>199820</td>\n",
       "    </tr>\n",
       "    <tr>\n",
       "      <th>...</th>\n",
       "      <td>...</td>\n",
       "      <td>...</td>\n",
       "      <td>...</td>\n",
       "      <td>...</td>\n",
       "    </tr>\n",
       "    <tr>\n",
       "      <th>9236</th>\n",
       "      <td>2023-07-31</td>\n",
       "      <td>2023</td>\n",
       "      <td>31</td>\n",
       "      <td>202331</td>\n",
       "    </tr>\n",
       "    <tr>\n",
       "      <th>9243</th>\n",
       "      <td>2023-08-07</td>\n",
       "      <td>2023</td>\n",
       "      <td>32</td>\n",
       "      <td>202332</td>\n",
       "    </tr>\n",
       "    <tr>\n",
       "      <th>9250</th>\n",
       "      <td>2023-08-14</td>\n",
       "      <td>2023</td>\n",
       "      <td>33</td>\n",
       "      <td>202333</td>\n",
       "    </tr>\n",
       "    <tr>\n",
       "      <th>9257</th>\n",
       "      <td>2023-08-21</td>\n",
       "      <td>2023</td>\n",
       "      <td>34</td>\n",
       "      <td>202334</td>\n",
       "    </tr>\n",
       "    <tr>\n",
       "      <th>9264</th>\n",
       "      <td>2023-08-28</td>\n",
       "      <td>2023</td>\n",
       "      <td>35</td>\n",
       "      <td>202335</td>\n",
       "    </tr>\n",
       "  </tbody>\n",
       "</table>\n",
       "<p>1331 rows × 4 columns</p>\n",
       "</div>"
      ],
      "text/plain": [
       "     Date_TimeCaught  year  week_of_year  year_woy\n",
       "0         1998-04-17  1998            16    199816\n",
       "3         1998-04-20  1998            17    199817\n",
       "10        1998-04-27  1998            18    199818\n",
       "17        1998-05-04  1998            19    199819\n",
       "24        1998-05-11  1998            20    199820\n",
       "...              ...   ...           ...       ...\n",
       "9236      2023-07-31  2023            31    202331\n",
       "9243      2023-08-07  2023            32    202332\n",
       "9250      2023-08-14  2023            33    202333\n",
       "9257      2023-08-21  2023            34    202334\n",
       "9264      2023-08-28  2023            35    202335\n",
       "\n",
       "[1331 rows x 4 columns]"
      ]
     },
     "execution_count": 461,
     "metadata": {},
     "output_type": "execute_result"
    }
   ],
   "source": [
    "# Add year, week of year and year_woy to the dataframe: range_year_woy\n",
    "range_year_woy[\"year\"]=range_year_woy.Date_TimeCaught.dt.year\n",
    "range_year_woy[\"week_of_year\"]=range_year_woy.Date_TimeCaught.dt.isocalendar().week\n",
    "range_year_woy[\"year_woy\"]=range_year_woy.year*100+range_year_woy.week_of_year\n",
    "range_year_woy.drop_duplicates([\"year_woy\"],inplace=True)\n",
    "range_year_woy"
   ]
  },
  {
   "cell_type": "code",
   "execution_count": null,
   "metadata": {},
   "outputs": [
    {
     "data": {
      "text/plain": [
       "33906"
      ]
     },
     "execution_count": 463,
     "metadata": {},
     "output_type": "execute_result"
    }
   ],
   "source": [
    "# Merge the dataframes: range_year_woy and CaptureSite_min_year_woy\n",
    "final_data=[]\n",
    "for site , year_woy in zip(CaptureSite_min_year_woy.CaptureSite.values,CaptureSite_min_year_woy.year_woy.values) :\n",
    "\n",
    "    one_site_df=range_year_woy[range_year_woy.year_woy>=year_woy] # what means range_year_woy.year_woy>=year_woy]?  # Select the rows in the dataframe: range_year_woy where year_woy is greater than or equal to year_woy\n",
    "    one_site_df[\"CaptureSite\"]=site # Add the column: CaptureSite to the dataframe: one_site_df\n",
    "    final_data.append(one_site_df) # Append the dataframe: one_site_df to the list: final_data\n",
    "final_data=pd.concat(final_data)\n",
    "len(final_data)"
   ]
  },
  {
   "cell_type": "code",
   "execution_count": null,
   "metadata": {},
   "outputs": [
    {
     "data": {
      "text/html": [
       "<div>\n",
       "<style scoped>\n",
       "    .dataframe tbody tr th:only-of-type {\n",
       "        vertical-align: middle;\n",
       "    }\n",
       "\n",
       "    .dataframe tbody tr th {\n",
       "        vertical-align: top;\n",
       "    }\n",
       "\n",
       "    .dataframe thead th {\n",
       "        text-align: right;\n",
       "    }\n",
       "</style>\n",
       "<table border=\"1\" class=\"dataframe\">\n",
       "  <thead>\n",
       "    <tr style=\"text-align: right;\">\n",
       "      <th></th>\n",
       "      <th>Date_TimeCaught</th>\n",
       "      <th>year</th>\n",
       "      <th>week_of_year</th>\n",
       "      <th>year_woy</th>\n",
       "      <th>CaptureSite</th>\n",
       "    </tr>\n",
       "  </thead>\n",
       "  <tbody>\n",
       "    <tr>\n",
       "      <th>624</th>\n",
       "      <td>2000-01-01</td>\n",
       "      <td>2000</td>\n",
       "      <td>52</td>\n",
       "      <td>200052</td>\n",
       "      <td>CaptureSite_0</td>\n",
       "    </tr>\n",
       "    <tr>\n",
       "      <th>976</th>\n",
       "      <td>2000-12-18</td>\n",
       "      <td>2000</td>\n",
       "      <td>51</td>\n",
       "      <td>200051</td>\n",
       "      <td>CaptureSite_0</td>\n",
       "    </tr>\n",
       "    <tr>\n",
       "      <th>990</th>\n",
       "      <td>2001-01-01</td>\n",
       "      <td>2001</td>\n",
       "      <td>1</td>\n",
       "      <td>200101</td>\n",
       "      <td>CaptureSite_0</td>\n",
       "    </tr>\n",
       "    <tr>\n",
       "      <th>997</th>\n",
       "      <td>2001-01-08</td>\n",
       "      <td>2001</td>\n",
       "      <td>2</td>\n",
       "      <td>200102</td>\n",
       "      <td>CaptureSite_0</td>\n",
       "    </tr>\n",
       "    <tr>\n",
       "      <th>1004</th>\n",
       "      <td>2001-01-15</td>\n",
       "      <td>2001</td>\n",
       "      <td>3</td>\n",
       "      <td>200103</td>\n",
       "      <td>CaptureSite_0</td>\n",
       "    </tr>\n",
       "  </tbody>\n",
       "</table>\n",
       "</div>"
      ],
      "text/plain": [
       "     Date_TimeCaught  year  week_of_year  year_woy    CaptureSite\n",
       "624       2000-01-01  2000            52    200052  CaptureSite_0\n",
       "976       2000-12-18  2000            51    200051  CaptureSite_0\n",
       "990       2001-01-01  2001             1    200101  CaptureSite_0\n",
       "997       2001-01-08  2001             2    200102  CaptureSite_0\n",
       "1004      2001-01-15  2001             3    200103  CaptureSite_0"
      ]
     },
     "execution_count": 464,
     "metadata": {},
     "output_type": "execute_result"
    }
   ],
   "source": [
    "final_data.head()"
   ]
  },
  {
   "cell_type": "code",
   "execution_count": null,
   "metadata": {},
   "outputs": [],
   "source": [
    "Target=df_train_date.groupby([\"year_woy\",\"CaptureSite\"]).CaptureSite.count().rename(\"Capture_Number\").reset_index()\n",
    "final_data=final_data.merge(Target,on=[\"year_woy\",\"CaptureSite\"],how=\"left\")"
   ]
  },
  {
   "cell_type": "code",
   "execution_count": null,
   "metadata": {},
   "outputs": [
    {
     "data": {
      "text/html": [
       "<div>\n",
       "<style scoped>\n",
       "    .dataframe tbody tr th:only-of-type {\n",
       "        vertical-align: middle;\n",
       "    }\n",
       "\n",
       "    .dataframe tbody tr th {\n",
       "        vertical-align: top;\n",
       "    }\n",
       "\n",
       "    .dataframe thead th {\n",
       "        text-align: right;\n",
       "    }\n",
       "</style>\n",
       "<table border=\"1\" class=\"dataframe\">\n",
       "  <thead>\n",
       "    <tr style=\"text-align: right;\">\n",
       "      <th></th>\n",
       "      <th>Date_TimeCaught</th>\n",
       "      <th>year</th>\n",
       "      <th>week_of_year</th>\n",
       "      <th>year_woy</th>\n",
       "      <th>CaptureSite</th>\n",
       "      <th>Capture_Number</th>\n",
       "    </tr>\n",
       "  </thead>\n",
       "  <tbody>\n",
       "    <tr>\n",
       "      <th>0</th>\n",
       "      <td>2000-01-01</td>\n",
       "      <td>2000</td>\n",
       "      <td>52</td>\n",
       "      <td>200052</td>\n",
       "      <td>CaptureSite_0</td>\n",
       "      <td>NaN</td>\n",
       "    </tr>\n",
       "    <tr>\n",
       "      <th>1</th>\n",
       "      <td>2000-12-18</td>\n",
       "      <td>2000</td>\n",
       "      <td>51</td>\n",
       "      <td>200051</td>\n",
       "      <td>CaptureSite_0</td>\n",
       "      <td>1.0</td>\n",
       "    </tr>\n",
       "    <tr>\n",
       "      <th>2</th>\n",
       "      <td>2001-01-01</td>\n",
       "      <td>2001</td>\n",
       "      <td>1</td>\n",
       "      <td>200101</td>\n",
       "      <td>CaptureSite_0</td>\n",
       "      <td>NaN</td>\n",
       "    </tr>\n",
       "    <tr>\n",
       "      <th>3</th>\n",
       "      <td>2001-01-08</td>\n",
       "      <td>2001</td>\n",
       "      <td>2</td>\n",
       "      <td>200102</td>\n",
       "      <td>CaptureSite_0</td>\n",
       "      <td>NaN</td>\n",
       "    </tr>\n",
       "    <tr>\n",
       "      <th>4</th>\n",
       "      <td>2001-01-15</td>\n",
       "      <td>2001</td>\n",
       "      <td>3</td>\n",
       "      <td>200103</td>\n",
       "      <td>CaptureSite_0</td>\n",
       "      <td>NaN</td>\n",
       "    </tr>\n",
       "  </tbody>\n",
       "</table>\n",
       "</div>"
      ],
      "text/plain": [
       "  Date_TimeCaught  year  week_of_year  year_woy    CaptureSite  Capture_Number\n",
       "0      2000-01-01  2000            52    200052  CaptureSite_0             NaN\n",
       "1      2000-12-18  2000            51    200051  CaptureSite_0             1.0\n",
       "2      2001-01-01  2001             1    200101  CaptureSite_0             NaN\n",
       "3      2001-01-08  2001             2    200102  CaptureSite_0             NaN\n",
       "4      2001-01-15  2001             3    200103  CaptureSite_0             NaN"
      ]
     },
     "execution_count": 466,
     "metadata": {},
     "output_type": "execute_result"
    }
   ],
   "source": [
    "final_data.head()"
   ]
  },
  {
   "cell_type": "code",
   "execution_count": null,
   "metadata": {},
   "outputs": [
    {
     "data": {
      "text/plain": [
       "<Axes: >"
      ]
     },
     "execution_count": 467,
     "metadata": {},
     "output_type": "execute_result"
    },
    {
     "data": {
      "image/png": "[encoded data removed]",
      "text/plain": [
       "<Figure size 2500x1000 with 3 Axes>"
      ]
     },
     "metadata": {},
     "output_type": "display_data"
    }
   ],
   "source": [
    "# Plotting percentage of missing values per column\n",
    "msno.bar(final_data)"
   ]
  },
  {
   "cell_type": "code",
   "execution_count": null,
   "metadata": {},
   "outputs": [],
   "source": [
    "final_data.Capture_Number.fillna(0,inplace=True)"
   ]
  },
  {
   "cell_type": "code",
   "execution_count": null,
   "metadata": {},
   "outputs": [
    {
     "data": {
      "text/html": [
       "<div>\n",
       "<style scoped>\n",
       "    .dataframe tbody tr th:only-of-type {\n",
       "        vertical-align: middle;\n",
       "    }\n",
       "\n",
       "    .dataframe tbody tr th {\n",
       "        vertical-align: top;\n",
       "    }\n",
       "\n",
       "    .dataframe thead th {\n",
       "        text-align: right;\n",
       "    }\n",
       "</style>\n",
       "<table border=\"1\" class=\"dataframe\">\n",
       "  <thead>\n",
       "    <tr style=\"text-align: right;\">\n",
       "      <th></th>\n",
       "      <th>Date_TimeCaught</th>\n",
       "      <th>year</th>\n",
       "      <th>week_of_year</th>\n",
       "      <th>year_woy</th>\n",
       "      <th>CaptureSite</th>\n",
       "      <th>Capture_Number</th>\n",
       "    </tr>\n",
       "  </thead>\n",
       "  <tbody>\n",
       "    <tr>\n",
       "      <th>368</th>\n",
       "      <td>2008-01-01</td>\n",
       "      <td>2008</td>\n",
       "      <td>1</td>\n",
       "      <td>200801</td>\n",
       "      <td>CaptureSite_0</td>\n",
       "      <td>0.0</td>\n",
       "    </tr>\n",
       "    <tr>\n",
       "      <th>369</th>\n",
       "      <td>2008-01-07</td>\n",
       "      <td>2008</td>\n",
       "      <td>2</td>\n",
       "      <td>200802</td>\n",
       "      <td>CaptureSite_0</td>\n",
       "      <td>0.0</td>\n",
       "    </tr>\n",
       "    <tr>\n",
       "      <th>370</th>\n",
       "      <td>2008-01-14</td>\n",
       "      <td>2008</td>\n",
       "      <td>3</td>\n",
       "      <td>200803</td>\n",
       "      <td>CaptureSite_0</td>\n",
       "      <td>0.0</td>\n",
       "    </tr>\n",
       "    <tr>\n",
       "      <th>371</th>\n",
       "      <td>2008-01-21</td>\n",
       "      <td>2008</td>\n",
       "      <td>4</td>\n",
       "      <td>200804</td>\n",
       "      <td>CaptureSite_0</td>\n",
       "      <td>1.0</td>\n",
       "    </tr>\n",
       "    <tr>\n",
       "      <th>372</th>\n",
       "      <td>2008-01-28</td>\n",
       "      <td>2008</td>\n",
       "      <td>5</td>\n",
       "      <td>200805</td>\n",
       "      <td>CaptureSite_0</td>\n",
       "      <td>0.0</td>\n",
       "    </tr>\n",
       "  </tbody>\n",
       "</table>\n",
       "</div>"
      ],
      "text/plain": [
       "    Date_TimeCaught  year  week_of_year  year_woy    CaptureSite   \n",
       "368      2008-01-01  2008             1    200801  CaptureSite_0  \\\n",
       "369      2008-01-07  2008             2    200802  CaptureSite_0   \n",
       "370      2008-01-14  2008             3    200803  CaptureSite_0   \n",
       "371      2008-01-21  2008             4    200804  CaptureSite_0   \n",
       "372      2008-01-28  2008             5    200805  CaptureSite_0   \n",
       "\n",
       "     Capture_Number  \n",
       "368             0.0  \n",
       "369             0.0  \n",
       "370             0.0  \n",
       "371             1.0  \n",
       "372             0.0  "
      ]
     },
     "execution_count": 469,
     "metadata": {},
     "output_type": "execute_result"
    }
   ],
   "source": [
    "final_data[(final_data.year==2008)|(final_data.year==2009)].head()"
   ]
  },
  {
   "cell_type": "code",
   "execution_count": null,
   "metadata": {},
   "outputs": [],
   "source": [
    "final_data.drop(final_data[(final_data.year==2008)|(final_data.year==2009)].index, inplace=True)"
   ]
  },
  {
   "cell_type": "code",
   "execution_count": null,
   "metadata": {},
   "outputs": [],
   "source": [
    "train=final_data[final_data.year<2019]\n",
    "test=final_data[final_data.year==2019]"
   ]
  },
  {
   "cell_type": "code",
   "execution_count": null,
   "metadata": {},
   "outputs": [
    {
     "data": {
      "text/plain": [
       "(1508, 6)"
      ]
     },
     "execution_count": 472,
     "metadata": {},
     "output_type": "execute_result"
    }
   ],
   "source": [
    "test.shape"
   ]
  },
  {
   "cell_type": "code",
   "execution_count": null,
   "metadata": {},
   "outputs": [
    {
     "data": {
      "text/plain": [
       "Capture_Number\n",
       "0.0     16535\n",
       "1.0      3714\n",
       "2.0      1501\n",
       "3.0       783\n",
       "4.0       410\n",
       "5.0       234\n",
       "6.0       157\n",
       "7.0       142\n",
       "8.0        69\n",
       "9.0        56\n",
       "10.0       43\n",
       "11.0       25\n",
       "14.0       14\n",
       "13.0       14\n",
       "12.0       14\n",
       "15.0        5\n",
       "16.0        5\n",
       "17.0        2\n",
       "20.0        1\n",
       "18.0        1\n",
       "19.0        1\n",
       "23.0        1\n",
       "Name: count, dtype: int64"
      ]
     },
     "execution_count": 473,
     "metadata": {},
     "output_type": "execute_result"
    }
   ],
   "source": [
    "train['Capture_Number'].value_counts()"
   ]
  },
  {
   "cell_type": "code",
   "execution_count": null,
   "metadata": {},
   "outputs": [],
   "source": [
    "train.to_csv(\"final_data.csv\",index=False)\n",
    "test.to_csv(\"submission_data.csv\",index=False)\n",
    "del train\n",
    "del test\n",
    "del final_data\n",
    "del Target"
   ]
  },
  {
   "cell_type": "markdown",
   "metadata": {},
   "source": [
    "### Joining data"
   ]
  },
  {
   "cell_type": "code",
   "execution_count": null,
   "metadata": {},
   "outputs": [
    {
     "data": {
      "text/html": [
       "<div>\n",
       "<style scoped>\n",
       "    .dataframe tbody tr th:only-of-type {\n",
       "        vertical-align: middle;\n",
       "    }\n",
       "\n",
       "    .dataframe tbody tr th {\n",
       "        vertical-align: top;\n",
       "    }\n",
       "\n",
       "    .dataframe thead th {\n",
       "        text-align: right;\n",
       "    }\n",
       "</style>\n",
       "<table border=\"1\" class=\"dataframe\">\n",
       "  <thead>\n",
       "    <tr style=\"text-align: right;\">\n",
       "      <th></th>\n",
       "      <th>Date_TimeCaught</th>\n",
       "      <th>year</th>\n",
       "      <th>week_of_year</th>\n",
       "      <th>year_woy</th>\n",
       "      <th>CaptureSite</th>\n",
       "      <th>Capture_Number</th>\n",
       "    </tr>\n",
       "  </thead>\n",
       "  <tbody>\n",
       "    <tr>\n",
       "      <th>0</th>\n",
       "      <td>2000-01-01</td>\n",
       "      <td>2000</td>\n",
       "      <td>52</td>\n",
       "      <td>200052</td>\n",
       "      <td>CaptureSite_0</td>\n",
       "      <td>0.0</td>\n",
       "    </tr>\n",
       "    <tr>\n",
       "      <th>1</th>\n",
       "      <td>2000-12-18</td>\n",
       "      <td>2000</td>\n",
       "      <td>51</td>\n",
       "      <td>200051</td>\n",
       "      <td>CaptureSite_0</td>\n",
       "      <td>1.0</td>\n",
       "    </tr>\n",
       "    <tr>\n",
       "      <th>2</th>\n",
       "      <td>2001-01-01</td>\n",
       "      <td>2001</td>\n",
       "      <td>1</td>\n",
       "      <td>200101</td>\n",
       "      <td>CaptureSite_0</td>\n",
       "      <td>0.0</td>\n",
       "    </tr>\n",
       "    <tr>\n",
       "      <th>3</th>\n",
       "      <td>2001-01-08</td>\n",
       "      <td>2001</td>\n",
       "      <td>2</td>\n",
       "      <td>200102</td>\n",
       "      <td>CaptureSite_0</td>\n",
       "      <td>0.0</td>\n",
       "    </tr>\n",
       "    <tr>\n",
       "      <th>4</th>\n",
       "      <td>2001-01-15</td>\n",
       "      <td>2001</td>\n",
       "      <td>3</td>\n",
       "      <td>200103</td>\n",
       "      <td>CaptureSite_0</td>\n",
       "      <td>0.0</td>\n",
       "    </tr>\n",
       "  </tbody>\n",
       "</table>\n",
       "</div>"
      ],
      "text/plain": [
       "  Date_TimeCaught  year  week_of_year  year_woy    CaptureSite  Capture_Number\n",
       "0      2000-01-01  2000            52    200052  CaptureSite_0             0.0\n",
       "1      2000-12-18  2000            51    200051  CaptureSite_0             1.0\n",
       "2      2001-01-01  2001             1    200101  CaptureSite_0             0.0\n",
       "3      2001-01-08  2001             2    200102  CaptureSite_0             0.0\n",
       "4      2001-01-15  2001             3    200103  CaptureSite_0             0.0"
      ]
     },
     "execution_count": 475,
     "metadata": {},
     "output_type": "execute_result"
    }
   ],
   "source": [
    "df_date = pd.read_csv('final_data.csv')\n",
    "df_date.head()"
   ]
  },
  {
   "cell_type": "code",
   "execution_count": null,
   "metadata": {},
   "outputs": [
    {
     "data": {
      "text/html": [
       "<div>\n",
       "<style scoped>\n",
       "    .dataframe tbody tr th:only-of-type {\n",
       "        vertical-align: middle;\n",
       "    }\n",
       "\n",
       "    .dataframe tbody tr th {\n",
       "        vertical-align: top;\n",
       "    }\n",
       "\n",
       "    .dataframe thead th {\n",
       "        text-align: right;\n",
       "    }\n",
       "</style>\n",
       "<table border=\"1\" class=\"dataframe\">\n",
       "  <thead>\n",
       "    <tr style=\"text-align: right;\">\n",
       "      <th></th>\n",
       "      <th>Date_TimeCaught</th>\n",
       "      <th>year</th>\n",
       "      <th>week_of_year</th>\n",
       "      <th>year_woy</th>\n",
       "      <th>CaptureSite</th>\n",
       "      <th>Capture_Number</th>\n",
       "    </tr>\n",
       "  </thead>\n",
       "  <tbody>\n",
       "    <tr>\n",
       "      <th>0</th>\n",
       "      <td>2019-01-01</td>\n",
       "      <td>2019</td>\n",
       "      <td>1</td>\n",
       "      <td>201901</td>\n",
       "      <td>CaptureSite_0</td>\n",
       "      <td>0.0</td>\n",
       "    </tr>\n",
       "    <tr>\n",
       "      <th>1</th>\n",
       "      <td>2019-01-07</td>\n",
       "      <td>2019</td>\n",
       "      <td>2</td>\n",
       "      <td>201902</td>\n",
       "      <td>CaptureSite_0</td>\n",
       "      <td>0.0</td>\n",
       "    </tr>\n",
       "    <tr>\n",
       "      <th>2</th>\n",
       "      <td>2019-01-14</td>\n",
       "      <td>2019</td>\n",
       "      <td>3</td>\n",
       "      <td>201903</td>\n",
       "      <td>CaptureSite_0</td>\n",
       "      <td>0.0</td>\n",
       "    </tr>\n",
       "    <tr>\n",
       "      <th>3</th>\n",
       "      <td>2019-01-21</td>\n",
       "      <td>2019</td>\n",
       "      <td>4</td>\n",
       "      <td>201904</td>\n",
       "      <td>CaptureSite_0</td>\n",
       "      <td>0.0</td>\n",
       "    </tr>\n",
       "    <tr>\n",
       "      <th>4</th>\n",
       "      <td>2019-01-28</td>\n",
       "      <td>2019</td>\n",
       "      <td>5</td>\n",
       "      <td>201905</td>\n",
       "      <td>CaptureSite_0</td>\n",
       "      <td>0.0</td>\n",
       "    </tr>\n",
       "  </tbody>\n",
       "</table>\n",
       "</div>"
      ],
      "text/plain": [
       "  Date_TimeCaught  year  week_of_year  year_woy    CaptureSite  Capture_Number\n",
       "0      2019-01-01  2019             1    201901  CaptureSite_0             0.0\n",
       "1      2019-01-07  2019             2    201902  CaptureSite_0             0.0\n",
       "2      2019-01-14  2019             3    201903  CaptureSite_0             0.0\n",
       "3      2019-01-21  2019             4    201904  CaptureSite_0             0.0\n",
       "4      2019-01-28  2019             5    201905  CaptureSite_0             0.0"
      ]
     },
     "execution_count": 476,
     "metadata": {},
     "output_type": "execute_result"
    }
   ],
   "source": [
    "df_sub = pd.read_csv('submission_data.csv')\n",
    "df_sub.head()\n"
   ]
  },
  {
   "cell_type": "code",
   "execution_count": null,
   "metadata": {},
   "outputs": [],
   "source": [
    "df_date['Date_TimeCaught'] = pd.to_datetime(df_date['Date_TimeCaught'], format='%Y-%m-%d')\n",
    "df_sub['Date_TimeCaught'] = pd.to_datetime(df_sub['Date_TimeCaught'], format='%Y-%m-%d')"
   ]
  },
  {
   "cell_type": "code",
   "execution_count": null,
   "metadata": {},
   "outputs": [],
   "source": [
    "df_date['day_of_year']= pd.DatetimeIndex(df_date['Date_TimeCaught']).dayofyear\n",
    "df_sub['day_of_year']= pd.DatetimeIndex(df_sub['Date_TimeCaught']).dayofyear\n",
    "df_date['month'] = df_date['Date_TimeCaught'].dt.month\n",
    "df_sub['month'] = df_sub['Date_TimeCaught'].dt.month\n",
    "df_date['day_of_week_caught'] = pd.DatetimeIndex(df_date['Date_TimeCaught']).dayofweek\n",
    "df_sub['day_of_week_caught'] = pd.DatetimeIndex(df_sub['Date_TimeCaught']).dayofweek"
   ]
  },
  {
   "cell_type": "code",
   "execution_count": null,
   "metadata": {},
   "outputs": [],
   "source": [
    "df_date['day_of_month'] = pd.DatetimeIndex(df_date['Date_TimeCaught']).day\n",
    "df_sub['day_of_month'] = pd.DatetimeIndex(df_sub['Date_TimeCaught']).day"
   ]
  },
  {
   "cell_type": "code",
   "execution_count": null,
   "metadata": {},
   "outputs": [
    {
     "data": {
      "text/html": [
       "<div>\n",
       "<style scoped>\n",
       "    .dataframe tbody tr th:only-of-type {\n",
       "        vertical-align: middle;\n",
       "    }\n",
       "\n",
       "    .dataframe tbody tr th {\n",
       "        vertical-align: top;\n",
       "    }\n",
       "\n",
       "    .dataframe thead th {\n",
       "        text-align: right;\n",
       "    }\n",
       "</style>\n",
       "<table border=\"1\" class=\"dataframe\">\n",
       "  <thead>\n",
       "    <tr style=\"text-align: right;\">\n",
       "      <th></th>\n",
       "      <th>Date_TimeCaught</th>\n",
       "      <th>year</th>\n",
       "      <th>week_of_year</th>\n",
       "      <th>year_woy</th>\n",
       "      <th>CaptureSite</th>\n",
       "      <th>Capture_Number</th>\n",
       "      <th>day_of_year</th>\n",
       "      <th>month</th>\n",
       "      <th>day_of_week_caught</th>\n",
       "      <th>day_of_month</th>\n",
       "    </tr>\n",
       "  </thead>\n",
       "  <tbody>\n",
       "    <tr>\n",
       "      <th>0</th>\n",
       "      <td>2000-01-01</td>\n",
       "      <td>2000</td>\n",
       "      <td>52</td>\n",
       "      <td>200052</td>\n",
       "      <td>CaptureSite_0</td>\n",
       "      <td>0.0</td>\n",
       "      <td>1</td>\n",
       "      <td>1</td>\n",
       "      <td>5</td>\n",
       "      <td>1</td>\n",
       "    </tr>\n",
       "    <tr>\n",
       "      <th>1</th>\n",
       "      <td>2000-12-18</td>\n",
       "      <td>2000</td>\n",
       "      <td>51</td>\n",
       "      <td>200051</td>\n",
       "      <td>CaptureSite_0</td>\n",
       "      <td>1.0</td>\n",
       "      <td>353</td>\n",
       "      <td>12</td>\n",
       "      <td>0</td>\n",
       "      <td>18</td>\n",
       "    </tr>\n",
       "    <tr>\n",
       "      <th>2</th>\n",
       "      <td>2001-01-01</td>\n",
       "      <td>2001</td>\n",
       "      <td>1</td>\n",
       "      <td>200101</td>\n",
       "      <td>CaptureSite_0</td>\n",
       "      <td>0.0</td>\n",
       "      <td>1</td>\n",
       "      <td>1</td>\n",
       "      <td>0</td>\n",
       "      <td>1</td>\n",
       "    </tr>\n",
       "    <tr>\n",
       "      <th>3</th>\n",
       "      <td>2001-01-08</td>\n",
       "      <td>2001</td>\n",
       "      <td>2</td>\n",
       "      <td>200102</td>\n",
       "      <td>CaptureSite_0</td>\n",
       "      <td>0.0</td>\n",
       "      <td>8</td>\n",
       "      <td>1</td>\n",
       "      <td>0</td>\n",
       "      <td>8</td>\n",
       "    </tr>\n",
       "    <tr>\n",
       "      <th>4</th>\n",
       "      <td>2001-01-15</td>\n",
       "      <td>2001</td>\n",
       "      <td>3</td>\n",
       "      <td>200103</td>\n",
       "      <td>CaptureSite_0</td>\n",
       "      <td>0.0</td>\n",
       "      <td>15</td>\n",
       "      <td>1</td>\n",
       "      <td>0</td>\n",
       "      <td>15</td>\n",
       "    </tr>\n",
       "  </tbody>\n",
       "</table>\n",
       "</div>"
      ],
      "text/plain": [
       "  Date_TimeCaught  year  week_of_year  year_woy    CaptureSite   \n",
       "0      2000-01-01  2000            52    200052  CaptureSite_0  \\\n",
       "1      2000-12-18  2000            51    200051  CaptureSite_0   \n",
       "2      2001-01-01  2001             1    200101  CaptureSite_0   \n",
       "3      2001-01-08  2001             2    200102  CaptureSite_0   \n",
       "4      2001-01-15  2001             3    200103  CaptureSite_0   \n",
       "\n",
       "   Capture_Number  day_of_year  month  day_of_week_caught  day_of_month  \n",
       "0             0.0            1      1                   5             1  \n",
       "1             1.0          353     12                   0            18  \n",
       "2             0.0            1      1                   0             1  \n",
       "3             0.0            8      1                   0             8  \n",
       "4             0.0           15      1                   0            15  "
      ]
     },
     "execution_count": 480,
     "metadata": {},
     "output_type": "execute_result"
    }
   ],
   "source": [
    "df_date.head()\n"
   ]
  },
  {
   "cell_type": "code",
   "execution_count": null,
   "metadata": {},
   "outputs": [
    {
     "data": {
      "text/html": [
       "<div>\n",
       "<style scoped>\n",
       "    .dataframe tbody tr th:only-of-type {\n",
       "        vertical-align: middle;\n",
       "    }\n",
       "\n",
       "    .dataframe tbody tr th {\n",
       "        vertical-align: top;\n",
       "    }\n",
       "\n",
       "    .dataframe thead th {\n",
       "        text-align: right;\n",
       "    }\n",
       "</style>\n",
       "<table border=\"1\" class=\"dataframe\">\n",
       "  <thead>\n",
       "    <tr style=\"text-align: right;\">\n",
       "      <th></th>\n",
       "      <th>CaptureSite</th>\n",
       "      <th>CaptureSiteCategory</th>\n",
       "      <th>Type</th>\n",
       "      <th>Date_TimeCaught</th>\n",
       "      <th>year</th>\n",
       "      <th>week_of_year</th>\n",
       "      <th>year_woy</th>\n",
       "      <th>Capture_Number</th>\n",
       "      <th>day_of_year</th>\n",
       "      <th>month</th>\n",
       "      <th>day_of_week_caught</th>\n",
       "      <th>day_of_month</th>\n",
       "    </tr>\n",
       "  </thead>\n",
       "  <tbody>\n",
       "    <tr>\n",
       "      <th>0</th>\n",
       "      <td>CaptureSite_0</td>\n",
       "      <td>CaptureSiteCategory_2</td>\n",
       "      <td>Type_1</td>\n",
       "      <td>2000-01-01</td>\n",
       "      <td>2000</td>\n",
       "      <td>52</td>\n",
       "      <td>200052</td>\n",
       "      <td>0.0</td>\n",
       "      <td>1</td>\n",
       "      <td>1</td>\n",
       "      <td>5</td>\n",
       "      <td>1</td>\n",
       "    </tr>\n",
       "    <tr>\n",
       "      <th>1</th>\n",
       "      <td>CaptureSite_0</td>\n",
       "      <td>CaptureSiteCategory_2</td>\n",
       "      <td>Type_1</td>\n",
       "      <td>2000-12-18</td>\n",
       "      <td>2000</td>\n",
       "      <td>51</td>\n",
       "      <td>200051</td>\n",
       "      <td>1.0</td>\n",
       "      <td>353</td>\n",
       "      <td>12</td>\n",
       "      <td>0</td>\n",
       "      <td>18</td>\n",
       "    </tr>\n",
       "    <tr>\n",
       "      <th>2</th>\n",
       "      <td>CaptureSite_0</td>\n",
       "      <td>CaptureSiteCategory_2</td>\n",
       "      <td>Type_1</td>\n",
       "      <td>2001-01-01</td>\n",
       "      <td>2001</td>\n",
       "      <td>1</td>\n",
       "      <td>200101</td>\n",
       "      <td>0.0</td>\n",
       "      <td>1</td>\n",
       "      <td>1</td>\n",
       "      <td>0</td>\n",
       "      <td>1</td>\n",
       "    </tr>\n",
       "    <tr>\n",
       "      <th>3</th>\n",
       "      <td>CaptureSite_0</td>\n",
       "      <td>CaptureSiteCategory_2</td>\n",
       "      <td>Type_1</td>\n",
       "      <td>2001-01-08</td>\n",
       "      <td>2001</td>\n",
       "      <td>2</td>\n",
       "      <td>200102</td>\n",
       "      <td>0.0</td>\n",
       "      <td>8</td>\n",
       "      <td>1</td>\n",
       "      <td>0</td>\n",
       "      <td>8</td>\n",
       "    </tr>\n",
       "    <tr>\n",
       "      <th>4</th>\n",
       "      <td>CaptureSite_0</td>\n",
       "      <td>CaptureSiteCategory_2</td>\n",
       "      <td>Type_1</td>\n",
       "      <td>2001-01-15</td>\n",
       "      <td>2001</td>\n",
       "      <td>3</td>\n",
       "      <td>200103</td>\n",
       "      <td>0.0</td>\n",
       "      <td>15</td>\n",
       "      <td>1</td>\n",
       "      <td>0</td>\n",
       "      <td>15</td>\n",
       "    </tr>\n",
       "  </tbody>\n",
       "</table>\n",
       "</div>"
      ],
      "text/plain": [
       "     CaptureSite    CaptureSiteCategory    Type Date_TimeCaught  year   \n",
       "0  CaptureSite_0  CaptureSiteCategory_2  Type_1      2000-01-01  2000  \\\n",
       "1  CaptureSite_0  CaptureSiteCategory_2  Type_1      2000-12-18  2000   \n",
       "2  CaptureSite_0  CaptureSiteCategory_2  Type_1      2001-01-01  2001   \n",
       "3  CaptureSite_0  CaptureSiteCategory_2  Type_1      2001-01-08  2001   \n",
       "4  CaptureSite_0  CaptureSiteCategory_2  Type_1      2001-01-15  2001   \n",
       "\n",
       "   week_of_year  year_woy  Capture_Number  day_of_year  month   \n",
       "0            52    200052             0.0            1      1  \\\n",
       "1            51    200051             1.0          353     12   \n",
       "2             1    200101             0.0            1      1   \n",
       "3             2    200102             0.0            8      1   \n",
       "4             3    200103             0.0           15      1   \n",
       "\n",
       "   day_of_week_caught  day_of_month  \n",
       "0                   5             1  \n",
       "1                   0            18  \n",
       "2                   0             1  \n",
       "3                   0             8  \n",
       "4                   0            15  "
      ]
     },
     "execution_count": 481,
     "metadata": {},
     "output_type": "execute_result"
    }
   ],
   "source": [
    "df_date = pd.merge(df_capturesite_category, df_date, on='CaptureSite')\n",
    "df_date.head()"
   ]
  },
  {
   "cell_type": "markdown",
   "metadata": {},
   "source": [
    " Problem with the index, should be 0"
   ]
  },
  {
   "cell_type": "code",
   "execution_count": null,
   "metadata": {},
   "outputs": [
    {
     "data": {
      "text/html": [
       "<div>\n",
       "<style scoped>\n",
       "    .dataframe tbody tr th:only-of-type {\n",
       "        vertical-align: middle;\n",
       "    }\n",
       "\n",
       "    .dataframe tbody tr th {\n",
       "        vertical-align: top;\n",
       "    }\n",
       "\n",
       "    .dataframe thead th {\n",
       "        text-align: right;\n",
       "    }\n",
       "</style>\n",
       "<table border=\"1\" class=\"dataframe\">\n",
       "  <thead>\n",
       "    <tr style=\"text-align: right;\">\n",
       "      <th></th>\n",
       "      <th>CaptureSite</th>\n",
       "      <th>CaptureSiteCategory</th>\n",
       "      <th>Type</th>\n",
       "      <th>Date_TimeCaught</th>\n",
       "      <th>year</th>\n",
       "      <th>week_of_year</th>\n",
       "      <th>year_woy</th>\n",
       "      <th>Capture_Number</th>\n",
       "      <th>day_of_year</th>\n",
       "      <th>month</th>\n",
       "      <th>day_of_week_caught</th>\n",
       "      <th>day_of_month</th>\n",
       "    </tr>\n",
       "  </thead>\n",
       "  <tbody>\n",
       "    <tr>\n",
       "      <th>0</th>\n",
       "      <td>CaptureSite_0</td>\n",
       "      <td>CaptureSiteCategory_2</td>\n",
       "      <td>Type_1</td>\n",
       "      <td>2019-01-01</td>\n",
       "      <td>2019</td>\n",
       "      <td>1</td>\n",
       "      <td>201901</td>\n",
       "      <td>0.0</td>\n",
       "      <td>1</td>\n",
       "      <td>1</td>\n",
       "      <td>1</td>\n",
       "      <td>1</td>\n",
       "    </tr>\n",
       "    <tr>\n",
       "      <th>1</th>\n",
       "      <td>CaptureSite_0</td>\n",
       "      <td>CaptureSiteCategory_2</td>\n",
       "      <td>Type_1</td>\n",
       "      <td>2019-01-07</td>\n",
       "      <td>2019</td>\n",
       "      <td>2</td>\n",
       "      <td>201902</td>\n",
       "      <td>0.0</td>\n",
       "      <td>7</td>\n",
       "      <td>1</td>\n",
       "      <td>0</td>\n",
       "      <td>7</td>\n",
       "    </tr>\n",
       "    <tr>\n",
       "      <th>2</th>\n",
       "      <td>CaptureSite_0</td>\n",
       "      <td>CaptureSiteCategory_2</td>\n",
       "      <td>Type_1</td>\n",
       "      <td>2019-01-14</td>\n",
       "      <td>2019</td>\n",
       "      <td>3</td>\n",
       "      <td>201903</td>\n",
       "      <td>0.0</td>\n",
       "      <td>14</td>\n",
       "      <td>1</td>\n",
       "      <td>0</td>\n",
       "      <td>14</td>\n",
       "    </tr>\n",
       "    <tr>\n",
       "      <th>3</th>\n",
       "      <td>CaptureSite_0</td>\n",
       "      <td>CaptureSiteCategory_2</td>\n",
       "      <td>Type_1</td>\n",
       "      <td>2019-01-21</td>\n",
       "      <td>2019</td>\n",
       "      <td>4</td>\n",
       "      <td>201904</td>\n",
       "      <td>0.0</td>\n",
       "      <td>21</td>\n",
       "      <td>1</td>\n",
       "      <td>0</td>\n",
       "      <td>21</td>\n",
       "    </tr>\n",
       "    <tr>\n",
       "      <th>4</th>\n",
       "      <td>CaptureSite_0</td>\n",
       "      <td>CaptureSiteCategory_2</td>\n",
       "      <td>Type_1</td>\n",
       "      <td>2019-01-28</td>\n",
       "      <td>2019</td>\n",
       "      <td>5</td>\n",
       "      <td>201905</td>\n",
       "      <td>0.0</td>\n",
       "      <td>28</td>\n",
       "      <td>1</td>\n",
       "      <td>0</td>\n",
       "      <td>28</td>\n",
       "    </tr>\n",
       "  </tbody>\n",
       "</table>\n",
       "</div>"
      ],
      "text/plain": [
       "     CaptureSite    CaptureSiteCategory    Type Date_TimeCaught  year   \n",
       "0  CaptureSite_0  CaptureSiteCategory_2  Type_1      2019-01-01  2019  \\\n",
       "1  CaptureSite_0  CaptureSiteCategory_2  Type_1      2019-01-07  2019   \n",
       "2  CaptureSite_0  CaptureSiteCategory_2  Type_1      2019-01-14  2019   \n",
       "3  CaptureSite_0  CaptureSiteCategory_2  Type_1      2019-01-21  2019   \n",
       "4  CaptureSite_0  CaptureSiteCategory_2  Type_1      2019-01-28  2019   \n",
       "\n",
       "   week_of_year  year_woy  Capture_Number  day_of_year  month   \n",
       "0             1    201901             0.0            1      1  \\\n",
       "1             2    201902             0.0            7      1   \n",
       "2             3    201903             0.0           14      1   \n",
       "3             4    201904             0.0           21      1   \n",
       "4             5    201905             0.0           28      1   \n",
       "\n",
       "   day_of_week_caught  day_of_month  \n",
       "0                   1             1  \n",
       "1                   0             7  \n",
       "2                   0            14  \n",
       "3                   0            21  \n",
       "4                   0            28  "
      ]
     },
     "execution_count": 482,
     "metadata": {},
     "output_type": "execute_result"
    }
   ],
   "source": [
    "df_sub = pd.merge(df_capturesite_category, df_sub, on='CaptureSite')\n",
    "df_sub.head()"
   ]
  },
  {
   "cell_type": "code",
   "execution_count": null,
   "metadata": {},
   "outputs": [],
   "source": [
    "# transform those categories and types to numerical values\n",
    "\n",
    "df_date[\"CaptureSiteCategory\"] = df_date[\"CaptureSiteCategory\"].str.split(pat = \"_\", expand=True)[1]\n",
    "df_date[\"Type\"] = df_date[\"Type\"].str.split(pat = \"_\", expand=True)[1]\n",
    "df_sub[\"CaptureSiteCategory\"] = df_sub[\"CaptureSiteCategory\"].str.split(pat = \"_\", expand=True)[1]\n",
    "df_sub[\"Type\"] = df_sub[\"Type\"].str.split(pat = \"_\", expand=True)[1]\n"
   ]
  },
  {
   "cell_type": "code",
   "execution_count": null,
   "metadata": {},
   "outputs": [],
   "source": [
    "df_date[\"CaptureSite_id\"] = df_date[\"CaptureSite\"].str.split(pat = \"_\", expand=True)[1]\n"
   ]
  },
  {
   "cell_type": "code",
   "execution_count": null,
   "metadata": {},
   "outputs": [],
   "source": [
    "df_sub[\"CaptureSite_id\"] = df_sub[\"CaptureSite\"].str.split(pat = \"_\", expand=True)[1]\n"
   ]
  },
  {
   "cell_type": "code",
   "execution_count": null,
   "metadata": {},
   "outputs": [
    {
     "data": {
      "text/html": [
       "<div>\n",
       "<style scoped>\n",
       "    .dataframe tbody tr th:only-of-type {\n",
       "        vertical-align: middle;\n",
       "    }\n",
       "\n",
       "    .dataframe tbody tr th {\n",
       "        vertical-align: top;\n",
       "    }\n",
       "\n",
       "    .dataframe thead th {\n",
       "        text-align: right;\n",
       "    }\n",
       "</style>\n",
       "<table border=\"1\" class=\"dataframe\">\n",
       "  <thead>\n",
       "    <tr style=\"text-align: right;\">\n",
       "      <th></th>\n",
       "      <th>CaptureSite</th>\n",
       "      <th>CaptureSiteCategory</th>\n",
       "      <th>Type</th>\n",
       "      <th>Date_TimeCaught</th>\n",
       "      <th>year</th>\n",
       "      <th>week_of_year</th>\n",
       "      <th>year_woy</th>\n",
       "      <th>Capture_Number</th>\n",
       "      <th>day_of_year</th>\n",
       "      <th>month</th>\n",
       "      <th>day_of_week_caught</th>\n",
       "      <th>day_of_month</th>\n",
       "      <th>CaptureSite_id</th>\n",
       "    </tr>\n",
       "  </thead>\n",
       "  <tbody>\n",
       "    <tr>\n",
       "      <th>0</th>\n",
       "      <td>CaptureSite_0</td>\n",
       "      <td>2</td>\n",
       "      <td>1</td>\n",
       "      <td>2019-01-01</td>\n",
       "      <td>2019</td>\n",
       "      <td>1</td>\n",
       "      <td>201901</td>\n",
       "      <td>0.0</td>\n",
       "      <td>1</td>\n",
       "      <td>1</td>\n",
       "      <td>1</td>\n",
       "      <td>1</td>\n",
       "      <td>0</td>\n",
       "    </tr>\n",
       "    <tr>\n",
       "      <th>1</th>\n",
       "      <td>CaptureSite_0</td>\n",
       "      <td>2</td>\n",
       "      <td>1</td>\n",
       "      <td>2019-01-07</td>\n",
       "      <td>2019</td>\n",
       "      <td>2</td>\n",
       "      <td>201902</td>\n",
       "      <td>0.0</td>\n",
       "      <td>7</td>\n",
       "      <td>1</td>\n",
       "      <td>0</td>\n",
       "      <td>7</td>\n",
       "      <td>0</td>\n",
       "    </tr>\n",
       "    <tr>\n",
       "      <th>2</th>\n",
       "      <td>CaptureSite_0</td>\n",
       "      <td>2</td>\n",
       "      <td>1</td>\n",
       "      <td>2019-01-14</td>\n",
       "      <td>2019</td>\n",
       "      <td>3</td>\n",
       "      <td>201903</td>\n",
       "      <td>0.0</td>\n",
       "      <td>14</td>\n",
       "      <td>1</td>\n",
       "      <td>0</td>\n",
       "      <td>14</td>\n",
       "      <td>0</td>\n",
       "    </tr>\n",
       "    <tr>\n",
       "      <th>3</th>\n",
       "      <td>CaptureSite_0</td>\n",
       "      <td>2</td>\n",
       "      <td>1</td>\n",
       "      <td>2019-01-21</td>\n",
       "      <td>2019</td>\n",
       "      <td>4</td>\n",
       "      <td>201904</td>\n",
       "      <td>0.0</td>\n",
       "      <td>21</td>\n",
       "      <td>1</td>\n",
       "      <td>0</td>\n",
       "      <td>21</td>\n",
       "      <td>0</td>\n",
       "    </tr>\n",
       "    <tr>\n",
       "      <th>4</th>\n",
       "      <td>CaptureSite_0</td>\n",
       "      <td>2</td>\n",
       "      <td>1</td>\n",
       "      <td>2019-01-28</td>\n",
       "      <td>2019</td>\n",
       "      <td>5</td>\n",
       "      <td>201905</td>\n",
       "      <td>0.0</td>\n",
       "      <td>28</td>\n",
       "      <td>1</td>\n",
       "      <td>0</td>\n",
       "      <td>28</td>\n",
       "      <td>0</td>\n",
       "    </tr>\n",
       "  </tbody>\n",
       "</table>\n",
       "</div>"
      ],
      "text/plain": [
       "     CaptureSite CaptureSiteCategory Type Date_TimeCaught  year  week_of_year   \n",
       "0  CaptureSite_0                   2    1      2019-01-01  2019             1  \\\n",
       "1  CaptureSite_0                   2    1      2019-01-07  2019             2   \n",
       "2  CaptureSite_0                   2    1      2019-01-14  2019             3   \n",
       "3  CaptureSite_0                   2    1      2019-01-21  2019             4   \n",
       "4  CaptureSite_0                   2    1      2019-01-28  2019             5   \n",
       "\n",
       "   year_woy  Capture_Number  day_of_year  month  day_of_week_caught   \n",
       "0    201901             0.0            1      1                   1  \\\n",
       "1    201902             0.0            7      1                   0   \n",
       "2    201903             0.0           14      1                   0   \n",
       "3    201904             0.0           21      1                   0   \n",
       "4    201905             0.0           28      1                   0   \n",
       "\n",
       "   day_of_month CaptureSite_id  \n",
       "0             1              0  \n",
       "1             7              0  \n",
       "2            14              0  \n",
       "3            21              0  \n",
       "4            28              0  "
      ]
     },
     "execution_count": 486,
     "metadata": {},
     "output_type": "execute_result"
    }
   ],
   "source": [
    "df_date.head()\n",
    "df_sub.head()\n"
   ]
  },
  {
   "cell_type": "code",
   "execution_count": null,
   "metadata": {},
   "outputs": [
    {
     "data": {
      "text/plain": [
       "Text(0.5, 0, 'number of captures')"
      ]
     },
     "execution_count": 487,
     "metadata": {},
     "output_type": "execute_result"
    },
    {
     "data": {
      "image/png": "[encoded data removed]",
      "text/plain": [
       "<Figure size 640x480 with 1 Axes>"
      ]
     },
     "metadata": {},
     "output_type": "display_data"
    }
   ],
   "source": [
    "ax = df_date['Capture_Number'].plot(kind='hist')\n",
    "plt.xlabel('number of captures')"
   ]
  },
  {
   "cell_type": "code",
   "execution_count": null,
   "metadata": {},
   "outputs": [
    {
     "ename": "ValueError",
     "evalue": "could not convert string to float: 'CaptureSite_0'",
     "output_type": "error",
     "traceback": [
      "\u001b[0;31m---------------------------------------------------------------------------\u001b[0m",
      "\u001b[0;31mValueError\u001b[0m                                Traceback (most recent call last)",
      "Cell \u001b[0;32mIn[488], line 1\u001b[0m\n\u001b[0;32m----> 1\u001b[0m df_date\u001b[39m.\u001b[39;49mcorr()[\u001b[39m'\u001b[39m\u001b[39mCapture_Number\u001b[39m\u001b[39m'\u001b[39m]\u001b[39m.\u001b[39msort_values(ascending\u001b[39m=\u001b[39m\u001b[39mFalse\u001b[39;00m)\n",
      "File \u001b[0;32m~/Git/neuefische/Ninja-Turtles/.venv/lib/python3.11/site-packages/pandas/core/frame.py:10059\u001b[0m, in \u001b[0;36mDataFrame.corr\u001b[0;34m(self, method, min_periods, numeric_only)\u001b[0m\n\u001b[1;32m  10057\u001b[0m cols \u001b[39m=\u001b[39m data\u001b[39m.\u001b[39mcolumns\n\u001b[1;32m  10058\u001b[0m idx \u001b[39m=\u001b[39m cols\u001b[39m.\u001b[39mcopy()\n\u001b[0;32m> 10059\u001b[0m mat \u001b[39m=\u001b[39m data\u001b[39m.\u001b[39;49mto_numpy(dtype\u001b[39m=\u001b[39;49m\u001b[39mfloat\u001b[39;49m, na_value\u001b[39m=\u001b[39;49mnp\u001b[39m.\u001b[39;49mnan, copy\u001b[39m=\u001b[39;49m\u001b[39mFalse\u001b[39;49;00m)\n\u001b[1;32m  10061\u001b[0m \u001b[39mif\u001b[39;00m method \u001b[39m==\u001b[39m \u001b[39m\"\u001b[39m\u001b[39mpearson\u001b[39m\u001b[39m\"\u001b[39m:\n\u001b[1;32m  10062\u001b[0m     correl \u001b[39m=\u001b[39m libalgos\u001b[39m.\u001b[39mnancorr(mat, minp\u001b[39m=\u001b[39mmin_periods)\n",
      "File \u001b[0;32m~/Git/neuefische/Ninja-Turtles/.venv/lib/python3.11/site-packages/pandas/core/frame.py:1838\u001b[0m, in \u001b[0;36mDataFrame.to_numpy\u001b[0;34m(self, dtype, copy, na_value)\u001b[0m\n\u001b[1;32m   1836\u001b[0m \u001b[39mif\u001b[39;00m dtype \u001b[39mis\u001b[39;00m \u001b[39mnot\u001b[39;00m \u001b[39mNone\u001b[39;00m:\n\u001b[1;32m   1837\u001b[0m     dtype \u001b[39m=\u001b[39m np\u001b[39m.\u001b[39mdtype(dtype)\n\u001b[0;32m-> 1838\u001b[0m result \u001b[39m=\u001b[39m \u001b[39mself\u001b[39;49m\u001b[39m.\u001b[39;49m_mgr\u001b[39m.\u001b[39;49mas_array(dtype\u001b[39m=\u001b[39;49mdtype, copy\u001b[39m=\u001b[39;49mcopy, na_value\u001b[39m=\u001b[39;49mna_value)\n\u001b[1;32m   1839\u001b[0m \u001b[39mif\u001b[39;00m result\u001b[39m.\u001b[39mdtype \u001b[39mis\u001b[39;00m \u001b[39mnot\u001b[39;00m dtype:\n\u001b[1;32m   1840\u001b[0m     result \u001b[39m=\u001b[39m np\u001b[39m.\u001b[39marray(result, dtype\u001b[39m=\u001b[39mdtype, copy\u001b[39m=\u001b[39m\u001b[39mFalse\u001b[39;00m)\n",
      "File \u001b[0;32m~/Git/neuefische/Ninja-Turtles/.venv/lib/python3.11/site-packages/pandas/core/internals/managers.py:1732\u001b[0m, in \u001b[0;36mBlockManager.as_array\u001b[0;34m(self, dtype, copy, na_value)\u001b[0m\n\u001b[1;32m   1730\u001b[0m         arr\u001b[39m.\u001b[39mflags\u001b[39m.\u001b[39mwriteable \u001b[39m=\u001b[39m \u001b[39mFalse\u001b[39;00m\n\u001b[1;32m   1731\u001b[0m \u001b[39melse\u001b[39;00m:\n\u001b[0;32m-> 1732\u001b[0m     arr \u001b[39m=\u001b[39m \u001b[39mself\u001b[39;49m\u001b[39m.\u001b[39;49m_interleave(dtype\u001b[39m=\u001b[39;49mdtype, na_value\u001b[39m=\u001b[39;49mna_value)\n\u001b[1;32m   1733\u001b[0m     \u001b[39m# The underlying data was copied within _interleave, so no need\u001b[39;00m\n\u001b[1;32m   1734\u001b[0m     \u001b[39m# to further copy if copy=True or setting na_value\u001b[39;00m\n\u001b[1;32m   1736\u001b[0m \u001b[39mif\u001b[39;00m na_value \u001b[39mis\u001b[39;00m \u001b[39mnot\u001b[39;00m lib\u001b[39m.\u001b[39mno_default:\n",
      "File \u001b[0;32m~/Git/neuefische/Ninja-Turtles/.venv/lib/python3.11/site-packages/pandas/core/internals/managers.py:1794\u001b[0m, in \u001b[0;36mBlockManager._interleave\u001b[0;34m(self, dtype, na_value)\u001b[0m\n\u001b[1;32m   1792\u001b[0m     \u001b[39melse\u001b[39;00m:\n\u001b[1;32m   1793\u001b[0m         arr \u001b[39m=\u001b[39m blk\u001b[39m.\u001b[39mget_values(dtype)\n\u001b[0;32m-> 1794\u001b[0m     result[rl\u001b[39m.\u001b[39;49mindexer] \u001b[39m=\u001b[39m arr\n\u001b[1;32m   1795\u001b[0m     itemmask[rl\u001b[39m.\u001b[39mindexer] \u001b[39m=\u001b[39m \u001b[39m1\u001b[39m\n\u001b[1;32m   1797\u001b[0m \u001b[39mif\u001b[39;00m \u001b[39mnot\u001b[39;00m itemmask\u001b[39m.\u001b[39mall():\n",
      "\u001b[0;31mValueError\u001b[0m: could not convert string to float: 'CaptureSite_0'"
     ]
    }
   ],
   "source": [
    "df_date.corr()['Capture_Number'].sort_values(ascending=False)\n"
   ]
  },
  {
   "cell_type": "code",
   "execution_count": null,
   "metadata": {},
   "outputs": [],
   "source": [
    "df_date.plot(x='year', y='Capture_Number', kind='scatter', alpha=0.3)\n"
   ]
  },
  {
   "cell_type": "code",
   "execution_count": null,
   "metadata": {},
   "outputs": [],
   "source": [
    "df_date.plot(x='year_woy', y='Capture_Number', kind='scatter', alpha=0.3)\n"
   ]
  },
  {
   "cell_type": "markdown",
   "metadata": {},
   "source": [
    "## Modeling"
   ]
  },
  {
   "cell_type": "code",
   "execution_count": null,
   "metadata": {},
   "outputs": [],
   "source": [
    "in_cols = df_date.drop(['Capture_Number','Date_TimeCaught', 'CaptureSite'], axis=1).columns\n",
    "in_cols\n"
   ]
  },
  {
   "cell_type": "code",
   "execution_count": null,
   "metadata": {},
   "outputs": [],
   "source": [
    "ycol = 'Capture_Number'\n"
   ]
  },
  {
   "cell_type": "code",
   "execution_count": null,
   "metadata": {},
   "outputs": [],
   "source": [
    "from sklearn.linear_model import LinearRegression\n",
    "lm = LinearRegression()\n",
    "lm.fit(df_date[in_cols], df_date[ycol])\n"
   ]
  },
  {
   "cell_type": "code",
   "execution_count": null,
   "metadata": {},
   "outputs": [],
   "source": [
    "from sklearn.metrics import mean_squared_error\n",
    "from math import sqrt\n",
    "\n",
    "print(\"RMSE:\", sqrt(mean_squared_error(df_date[ycol], lm.predict(df_date[in_cols]))))\n"
   ]
  },
  {
   "cell_type": "code",
   "execution_count": null,
   "metadata": {},
   "outputs": [],
   "source": [
    "plt.scatter(df_date[ycol], lm.predict(df_date[in_cols]), alpha=0.3)\n",
    "plt.plot(df_date[ycol], df_date[ycol]) # A straight line - we want to be close to this\n",
    "plt.xlabel('True Value')\n",
    "plt.ylabel('Predicted Value')"
   ]
  }
 ],
 "metadata": {
  "kernelspec": {
   "display_name": "Python 3",
   "language": "python",
   "name": "python3"
  },
  "language_info": {
   "codemirror_mode": {
    "name": "ipython",
    "version": 3
   },
   "file_extension": ".py",
   "mimetype": "text/x-python",
   "name": "python",
   "nbconvert_exporter": "python",
   "pygments_lexer": "ipython3",
   "version": "3.11.3"
  }
 },
 "nbformat": 4,
 "nbformat_minor": 4
}
